{
 "cells": [
  {
   "cell_type": "code",
   "execution_count": 1,
   "id": "2eebe073",
   "metadata": {},
   "outputs": [],
   "source": [
    "import psycopg2\n",
    "import psycopg2.extras\n",
    "import pandas as pd"
   ]
  },
  {
   "cell_type": "code",
   "execution_count": 2,
   "id": "6c2fe162",
   "metadata": {
    "scrolled": false
   },
   "outputs": [
    {
     "name": "stdout",
     "output_type": "stream",
     "text": [
      "Connection to DB established!\n"
     ]
    }
   ],
   "source": [
    "class PostgresConnection(object):\n",
    "    def __init__(self):\n",
    "        self.connection = psycopg2.connect(database = \"ecomdb\",\n",
    "                                          user = \"postgres\",\n",
    "                                          password = \"Fahim1810\",\n",
    "                                          host = \"localhost\",\n",
    "                                          port = \"5432\")\n",
    "    def getConnection(self):\n",
    "        print(\"Connection to DB established!\")\n",
    "        return self.connection\n",
    "con = PostgresConnection().getConnection()"
   ]
  },
  {
   "cell_type": "markdown",
   "id": "a3a3679c",
   "metadata": {},
   "source": [
    "# Q1: Find the division/district/year/month wise total_sale_price joining fact table and respective dimension table "
   ]
  },
  {
   "cell_type": "code",
   "execution_count": 3,
   "id": "17ec5d57",
   "metadata": {},
   "outputs": [
    {
     "data": {
      "text/plain": [
       "[('BARISAL                                           ', Decimal('638101.00')),\n",
       " ('CHITTAGONG                                        ', Decimal('1665138.00')),\n",
       " ('DHAKA                                             ', Decimal('3440676.25')),\n",
       " ('KHULNA                                            ', Decimal('952049.75')),\n",
       " ('RAJSHAHI                                          ', Decimal('1041201.25')),\n",
       " ('RANGPUR                                           ', Decimal('721057.50')),\n",
       " ('SYLHET                                            ', Decimal('465256.75')),\n",
       " (None, Decimal('8923480.50'))]"
      ]
     },
     "execution_count": 3,
     "metadata": {},
     "output_type": "execute_result"
    }
   ],
   "source": [
    "cur = con.cursor()\n",
    "s_statement = \"SELECT s.division, SUM(t.total_price) \" \\\n",
    "              \"FROM stars.fact_table t \" \\\n",
    "              \"JOIN stars.store_dim s on s.store_key=t.store_key \" \\\n",
    "                \"JOIN stars.time_dim tim on tim.time_key=t.time_key \" \\\n",
    "                \"WHERE tim.month=12 \" \\\n",
    "                \"GROUP BY CUBE (s.division) \"\\\n",
    "                \"ORDER BY s.division \"\n",
    "cur.execute(s_statement)\n",
    "q_div = cur.fetchall()\n",
    "q_div"
   ]
  },
  {
   "cell_type": "code",
   "execution_count": 4,
   "id": "890003fa",
   "metadata": {},
   "outputs": [],
   "source": [
    "df = pd.DataFrame(list(q_div), columns=['division', 'sales'])"
   ]
  },
  {
   "cell_type": "code",
   "execution_count": 5,
   "id": "0c25c2b4",
   "metadata": {},
   "outputs": [],
   "source": [
    "df['sales'] = df['sales'].astype('float64')"
   ]
  },
  {
   "cell_type": "code",
   "execution_count": 6,
   "id": "47109bef",
   "metadata": {},
   "outputs": [
    {
     "name": "stdout",
     "output_type": "stream",
     "text": [
      "Requirement already satisfied: matplotlib in m:\\anaconda\\lib\\site-packages (3.3.4)\n",
      "Requirement already satisfied: pyparsing!=2.0.4,!=2.1.2,!=2.1.6,>=2.0.3 in m:\\anaconda\\lib\\site-packages (from matplotlib) (2.4.7)\n",
      "Requirement already satisfied: kiwisolver>=1.0.1 in m:\\anaconda\\lib\\site-packages (from matplotlib) (1.3.1)\n",
      "Requirement already satisfied: python-dateutil>=2.1 in m:\\anaconda\\lib\\site-packages (from matplotlib) (2.8.1)\n",
      "Requirement already satisfied: numpy>=1.15 in m:\\anaconda\\lib\\site-packages (from matplotlib) (1.20.1)\n",
      "Requirement already satisfied: pillow>=6.2.0 in m:\\anaconda\\lib\\site-packages (from matplotlib) (8.2.0)\n",
      "Requirement already satisfied: cycler>=0.10 in m:\\anaconda\\lib\\site-packages (from matplotlib) (0.10.0)\n",
      "Requirement already satisfied: six in m:\\anaconda\\lib\\site-packages (from cycler>=0.10->matplotlib) (1.15.0)\n",
      "Note: you may need to restart the kernel to use updated packages.\n"
     ]
    }
   ],
   "source": [
    "pip install matplotlib\n"
   ]
  },
  {
   "cell_type": "code",
   "execution_count": 7,
   "id": "d1cb334c",
   "metadata": {},
   "outputs": [],
   "source": [
    "import matplotlib.pyplot as plt"
   ]
  },
  {
   "cell_type": "code",
   "execution_count": 8,
   "id": "3dbda4d3",
   "metadata": {},
   "outputs": [],
   "source": [
    "df1=df.drop([7])"
   ]
  },
  {
   "cell_type": "code",
   "execution_count": 9,
   "id": "7f40afac",
   "metadata": {},
   "outputs": [
    {
     "data": {
      "text/html": [
       "<div>\n",
       "<style scoped>\n",
       "    .dataframe tbody tr th:only-of-type {\n",
       "        vertical-align: middle;\n",
       "    }\n",
       "\n",
       "    .dataframe tbody tr th {\n",
       "        vertical-align: top;\n",
       "    }\n",
       "\n",
       "    .dataframe thead th {\n",
       "        text-align: right;\n",
       "    }\n",
       "</style>\n",
       "<table border=\"1\" class=\"dataframe\">\n",
       "  <thead>\n",
       "    <tr style=\"text-align: right;\">\n",
       "      <th></th>\n",
       "      <th>division</th>\n",
       "      <th>sales</th>\n",
       "    </tr>\n",
       "  </thead>\n",
       "  <tbody>\n",
       "    <tr>\n",
       "      <th>0</th>\n",
       "      <td>BARISAL                                       ...</td>\n",
       "      <td>638101.00</td>\n",
       "    </tr>\n",
       "    <tr>\n",
       "      <th>1</th>\n",
       "      <td>CHITTAGONG                                    ...</td>\n",
       "      <td>1665138.00</td>\n",
       "    </tr>\n",
       "    <tr>\n",
       "      <th>2</th>\n",
       "      <td>DHAKA                                         ...</td>\n",
       "      <td>3440676.25</td>\n",
       "    </tr>\n",
       "    <tr>\n",
       "      <th>3</th>\n",
       "      <td>KHULNA                                        ...</td>\n",
       "      <td>952049.75</td>\n",
       "    </tr>\n",
       "    <tr>\n",
       "      <th>4</th>\n",
       "      <td>RAJSHAHI                                      ...</td>\n",
       "      <td>1041201.25</td>\n",
       "    </tr>\n",
       "    <tr>\n",
       "      <th>5</th>\n",
       "      <td>RANGPUR                                       ...</td>\n",
       "      <td>721057.50</td>\n",
       "    </tr>\n",
       "    <tr>\n",
       "      <th>6</th>\n",
       "      <td>SYLHET                                        ...</td>\n",
       "      <td>465256.75</td>\n",
       "    </tr>\n",
       "  </tbody>\n",
       "</table>\n",
       "</div>"
      ],
      "text/plain": [
       "                                            division       sales\n",
       "0  BARISAL                                       ...   638101.00\n",
       "1  CHITTAGONG                                    ...  1665138.00\n",
       "2  DHAKA                                         ...  3440676.25\n",
       "3  KHULNA                                        ...   952049.75\n",
       "4  RAJSHAHI                                      ...  1041201.25\n",
       "5  RANGPUR                                       ...   721057.50\n",
       "6  SYLHET                                        ...   465256.75"
      ]
     },
     "execution_count": 9,
     "metadata": {},
     "output_type": "execute_result"
    }
   ],
   "source": [
    "df1"
   ]
  },
  {
   "cell_type": "code",
   "execution_count": 10,
   "id": "418e4567",
   "metadata": {},
   "outputs": [
    {
     "name": "stdout",
     "output_type": "stream",
     "text": [
      "Requirement already satisfied: numpy in m:\\anaconda\\lib\\site-packages (1.20.1)\n",
      "Note: you may need to restart the kernel to use updated packages.\n"
     ]
    }
   ],
   "source": [
    "pip install numpy"
   ]
  },
  {
   "cell_type": "code",
   "execution_count": 11,
   "id": "da540e8d",
   "metadata": {},
   "outputs": [],
   "source": [
    "import numpy as np\n"
   ]
  },
  {
   "cell_type": "code",
   "execution_count": 12,
   "id": "29cb2ad0",
   "metadata": {},
   "outputs": [
    {
     "data": {
      "text/html": [
       "<div>\n",
       "<style scoped>\n",
       "    .dataframe tbody tr th:only-of-type {\n",
       "        vertical-align: middle;\n",
       "    }\n",
       "\n",
       "    .dataframe tbody tr th {\n",
       "        vertical-align: top;\n",
       "    }\n",
       "\n",
       "    .dataframe thead th {\n",
       "        text-align: right;\n",
       "    }\n",
       "</style>\n",
       "<table border=\"1\" class=\"dataframe\">\n",
       "  <thead>\n",
       "    <tr style=\"text-align: right;\">\n",
       "      <th></th>\n",
       "      <th>division</th>\n",
       "      <th>sales</th>\n",
       "    </tr>\n",
       "  </thead>\n",
       "  <tbody>\n",
       "    <tr>\n",
       "      <th>0</th>\n",
       "      <td>BARISAL                                       ...</td>\n",
       "      <td>638101.00</td>\n",
       "    </tr>\n",
       "    <tr>\n",
       "      <th>1</th>\n",
       "      <td>CHITTAGONG                                    ...</td>\n",
       "      <td>1665138.00</td>\n",
       "    </tr>\n",
       "    <tr>\n",
       "      <th>2</th>\n",
       "      <td>DHAKA                                         ...</td>\n",
       "      <td>3440676.25</td>\n",
       "    </tr>\n",
       "    <tr>\n",
       "      <th>3</th>\n",
       "      <td>KHULNA                                        ...</td>\n",
       "      <td>952049.75</td>\n",
       "    </tr>\n",
       "    <tr>\n",
       "      <th>4</th>\n",
       "      <td>RAJSHAHI                                      ...</td>\n",
       "      <td>1041201.25</td>\n",
       "    </tr>\n",
       "    <tr>\n",
       "      <th>5</th>\n",
       "      <td>RANGPUR                                       ...</td>\n",
       "      <td>721057.50</td>\n",
       "    </tr>\n",
       "    <tr>\n",
       "      <th>6</th>\n",
       "      <td>SYLHET                                        ...</td>\n",
       "      <td>465256.75</td>\n",
       "    </tr>\n",
       "  </tbody>\n",
       "</table>\n",
       "</div>"
      ],
      "text/plain": [
       "                                            division       sales\n",
       "0  BARISAL                                       ...   638101.00\n",
       "1  CHITTAGONG                                    ...  1665138.00\n",
       "2  DHAKA                                         ...  3440676.25\n",
       "3  KHULNA                                        ...   952049.75\n",
       "4  RAJSHAHI                                      ...  1041201.25\n",
       "5  RANGPUR                                       ...   721057.50\n",
       "6  SYLHET                                        ...   465256.75"
      ]
     },
     "execution_count": 12,
     "metadata": {},
     "output_type": "execute_result"
    }
   ],
   "source": [
    "df1"
   ]
  },
  {
   "cell_type": "code",
   "execution_count": 13,
   "id": "c6bd7192",
   "metadata": {},
   "outputs": [
    {
     "data": {
      "image/png": "[encoded data removed]",
      "text/plain": [
       "<Figure size 432x288 with 1 Axes>"
      ]
     },
     "metadata": {},
     "output_type": "display_data"
    }
   ],
   "source": [
    "labels = df1['division']\n",
    "sizes = df1['sales']\n",
    "explode = (0,0.1, 0, 0,0,0,0)  # only \"explode\" the 2nd slice (i.e. 'Hogs')\n",
    "\n",
    "fig1, ax1 = plt.subplots()\n",
    "ax1.pie(sizes, explode=explode, labels=labels, autopct='%1.1f%%',\n",
    "        shadow=True, startangle=90)\n",
    "ax1.axis('equal')  # Equal aspect ratio ensures that pie is drawn as a circle.\n",
    "\n",
    "plt.show()"
   ]
  },
  {
   "cell_type": "code",
   "execution_count": 14,
   "id": "df2d73b3",
   "metadata": {},
   "outputs": [
    {
     "name": "stdout",
     "output_type": "stream",
     "text": [
      "Connection to DB established!\n"
     ]
    },
    {
     "data": {
      "text/plain": [
       "[('BAGERHAT                                          ', Decimal('1307651.00')),\n",
       " ('BANDARBAN                                         ', Decimal('995360.75')),\n",
       " ('BARGUNA                                           ', Decimal('869041.00')),\n",
       " ('BARISAL                                           ', Decimal('2897237.75')),\n",
       " ('BHOLA                                             ', Decimal('1012205.75')),\n",
       " ('BOGRA                                             ', Decimal('1716452.75')),\n",
       " ('BRAHMANBARIA                                      ', Decimal('1328234.25')),\n",
       " ('CHANDPUR                                          ', Decimal('1153276.75')),\n",
       " ('CHAPAI NABABGANJ                                  ', Decimal('739447.50')),\n",
       " ('CHITTAGONG                                        ', Decimal('7292985.50')),\n",
       " ('CHUADANGA                                         ', Decimal('563909.75')),\n",
       " ('COMILLA                                           ', Decimal('2286898.25')),\n",
       " (\"COX'S BAZAR                                       \", Decimal('1188128.75')),\n",
       " ('DHAKA                                             ',\n",
       "  Decimal('23597621.00')),\n",
       " ('DINAJPUR                                          ', Decimal('1871005.75')),\n",
       " ('FARIDPUR                                          ', Decimal('1287383.75')),\n",
       " ('FENI                                              ', Decimal('847873.50')),\n",
       " ('GAIBANDHA                                         ', Decimal('997077.75')),\n",
       " ('GAZIPUR                                           ', Decimal('722286.25')),\n",
       " ('GOPALGANJ                                         ', Decimal('731312.75')),\n",
       " ('HABIGANJ                                          ', Decimal('1153998.00')),\n",
       " ('JAMALPUR                                          ', Decimal('1009760.00')),\n",
       " ('JESSORE                                           ', Decimal('1132590.50')),\n",
       " ('JHALOKATI                                         ', Decimal('570807.25')),\n",
       " ('JHENAIDAH                                         ', Decimal('869991.25')),\n",
       " ('JOYPURHAT                                         ', Decimal('735378.50')),\n",
       " ('KHAGRACHHARI                                      ', Decimal('1161721.50')),\n",
       " ('KHULNA                                            ', Decimal('4081283.75')),\n",
       " ('KISHOREGONJ                                       ', Decimal('1895395.50')),\n",
       " ('KURIGRAM                                          ', Decimal('1327257.00')),\n",
       " ('KUSHTIA                                           ', Decimal('871240.50')),\n",
       " ('LAKSHMIPUR                                        ', Decimal('729909.25')),\n",
       " ('LALMONIRHAT                                       ', Decimal('732387.00')),\n",
       " ('MADARIPUR                                         ', Decimal('601530.50')),\n",
       " ('MAGURA                                            ', Decimal('577543.25')),\n",
       " ('MANIKGANJ                                         ', Decimal('997970.00')),\n",
       " ('MAULVIBAZAR                                       ', Decimal('1036745.00')),\n",
       " ('MEHERPUR                                          ', Decimal('436755.00')),\n",
       " ('MUNSHIGANJ                                        ', Decimal('866631.25')),\n",
       " ('MYMENSINGH                                        ', Decimal('1885230.50')),\n",
       " ('NAOGAON                                           ', Decimal('1565147.25')),\n",
       " ('NARAIL                                            ', Decimal('440698.75')),\n",
       " ('NARAYANGANJ                                       ', Decimal('733546.50')),\n",
       " ('NARSINGDI                                         ', Decimal('885864.75')),\n",
       " ('NATORE                                            ', Decimal('1004712.00')),\n",
       " ('NETRAKONA                                         ', Decimal('1449766.00')),\n",
       " ('NILPHAMARI                                        ', Decimal('862774.75')),\n",
       " ('NOAKHALI                                          ', Decimal('1321186.75')),\n",
       " ('PABNA                                             ', Decimal('1286502.75')),\n",
       " ('PANCHAGARH                                        ', Decimal('736777.25')),\n",
       " ('PATUAKHALI                                        ', Decimal('1152629.00')),\n",
       " ('PIROJPUR                                          ', Decimal('1018423.00')),\n",
       " ('RAJBARI                                           ', Decimal('736393.00')),\n",
       " ('RAJSHAHI                                          ', Decimal('3756454.50')),\n",
       " ('RANGAMATI                                         ', Decimal('1458019.75')),\n",
       " ('RANGPUR                                           ', Decimal('1172622.75')),\n",
       " ('SATKHIRA                                          ', Decimal('1029946.75')),\n",
       " ('SHARIATPUR                                        ', Decimal('855565.75')),\n",
       " ('SHERPUR                                           ', Decimal('733712.00')),\n",
       " ('SIRAJGANJ                                         ', Decimal('1295100.75')),\n",
       " ('SUNAMGANJ                                         ', Decimal('1593774.00')),\n",
       " ('SYLHET                                            ', Decimal('1727717.25')),\n",
       " ('TANGAIL                                           ', Decimal('1774650.25')),\n",
       " ('THAKURGAON                                        ', Decimal('729934.25')),\n",
       " (None, Decimal('105401435.75'))]"
      ]
     },
     "execution_count": 14,
     "metadata": {},
     "output_type": "execute_result"
    }
   ],
   "source": [
    "con = PostgresConnection().getConnection()\n",
    "s_statement = \"\"\"SELECT store_dim.district as \"District\", SUM(fact_table.total_price) \"Sales\" \n",
    "FROM stars.fact_table \n",
    "JOIN stars.store_dim ON\n",
    "store_dim.store_key = fact_table.store_key \n",
    "GROUP BY CUBE(store_dim.district) \n",
    "ORDER BY store_dim.district\"\"\"\n",
    "cur = con.cursor()\n",
    "# psycopg2.extras.execute_batch(cur, insert_stmt, fact_data.values)\n",
    "cur.execute(s_statement)\n",
    "q_dis = cur.fetchall()\n",
    "q_dis"
   ]
  },
  {
   "cell_type": "code",
   "execution_count": 15,
   "id": "747595ef",
   "metadata": {},
   "outputs": [],
   "source": [
    "df2 = pd.DataFrame(list(q_dis), columns=['district', 'Sales'])"
   ]
  },
  {
   "cell_type": "code",
   "execution_count": 16,
   "id": "4e0c8c3d",
   "metadata": {},
   "outputs": [],
   "source": [
    "df2['Sales'] = df2['Sales'].astype('float64')"
   ]
  },
  {
   "cell_type": "code",
   "execution_count": 17,
   "id": "98ac4367",
   "metadata": {},
   "outputs": [
    {
     "data": {
      "text/html": [
       "<div>\n",
       "<style scoped>\n",
       "    .dataframe tbody tr th:only-of-type {\n",
       "        vertical-align: middle;\n",
       "    }\n",
       "\n",
       "    .dataframe tbody tr th {\n",
       "        vertical-align: top;\n",
       "    }\n",
       "\n",
       "    .dataframe thead th {\n",
       "        text-align: right;\n",
       "    }\n",
       "</style>\n",
       "<table border=\"1\" class=\"dataframe\">\n",
       "  <thead>\n",
       "    <tr style=\"text-align: right;\">\n",
       "      <th></th>\n",
       "      <th>district</th>\n",
       "      <th>Sales</th>\n",
       "    </tr>\n",
       "  </thead>\n",
       "  <tbody>\n",
       "    <tr>\n",
       "      <th>0</th>\n",
       "      <td>BAGERHAT                                      ...</td>\n",
       "      <td>1.307651e+06</td>\n",
       "    </tr>\n",
       "    <tr>\n",
       "      <th>1</th>\n",
       "      <td>BANDARBAN                                     ...</td>\n",
       "      <td>9.953608e+05</td>\n",
       "    </tr>\n",
       "    <tr>\n",
       "      <th>2</th>\n",
       "      <td>BARGUNA                                       ...</td>\n",
       "      <td>8.690410e+05</td>\n",
       "    </tr>\n",
       "    <tr>\n",
       "      <th>3</th>\n",
       "      <td>BARISAL                                       ...</td>\n",
       "      <td>2.897238e+06</td>\n",
       "    </tr>\n",
       "    <tr>\n",
       "      <th>4</th>\n",
       "      <td>BHOLA                                         ...</td>\n",
       "      <td>1.012206e+06</td>\n",
       "    </tr>\n",
       "    <tr>\n",
       "      <th>...</th>\n",
       "      <td>...</td>\n",
       "      <td>...</td>\n",
       "    </tr>\n",
       "    <tr>\n",
       "      <th>60</th>\n",
       "      <td>SUNAMGANJ                                     ...</td>\n",
       "      <td>1.593774e+06</td>\n",
       "    </tr>\n",
       "    <tr>\n",
       "      <th>61</th>\n",
       "      <td>SYLHET                                        ...</td>\n",
       "      <td>1.727717e+06</td>\n",
       "    </tr>\n",
       "    <tr>\n",
       "      <th>62</th>\n",
       "      <td>TANGAIL                                       ...</td>\n",
       "      <td>1.774650e+06</td>\n",
       "    </tr>\n",
       "    <tr>\n",
       "      <th>63</th>\n",
       "      <td>THAKURGAON                                    ...</td>\n",
       "      <td>7.299342e+05</td>\n",
       "    </tr>\n",
       "    <tr>\n",
       "      <th>64</th>\n",
       "      <td>None</td>\n",
       "      <td>1.054014e+08</td>\n",
       "    </tr>\n",
       "  </tbody>\n",
       "</table>\n",
       "<p>65 rows × 2 columns</p>\n",
       "</div>"
      ],
      "text/plain": [
       "                                             district         Sales\n",
       "0   BAGERHAT                                      ...  1.307651e+06\n",
       "1   BANDARBAN                                     ...  9.953608e+05\n",
       "2   BARGUNA                                       ...  8.690410e+05\n",
       "3   BARISAL                                       ...  2.897238e+06\n",
       "4   BHOLA                                         ...  1.012206e+06\n",
       "..                                                ...           ...\n",
       "60  SUNAMGANJ                                     ...  1.593774e+06\n",
       "61  SYLHET                                        ...  1.727717e+06\n",
       "62  TANGAIL                                       ...  1.774650e+06\n",
       "63  THAKURGAON                                    ...  7.299342e+05\n",
       "64                                               None  1.054014e+08\n",
       "\n",
       "[65 rows x 2 columns]"
      ]
     },
     "execution_count": 17,
     "metadata": {},
     "output_type": "execute_result"
    }
   ],
   "source": [
    "df2"
   ]
  },
  {
   "cell_type": "code",
   "execution_count": 18,
   "id": "3756c489",
   "metadata": {},
   "outputs": [],
   "source": [
    "df2=df2.drop([64])"
   ]
  },
  {
   "cell_type": "code",
   "execution_count": 19,
   "id": "8da34b0d",
   "metadata": {},
   "outputs": [
    {
     "data": {
      "text/html": [
       "<div>\n",
       "<style scoped>\n",
       "    .dataframe tbody tr th:only-of-type {\n",
       "        vertical-align: middle;\n",
       "    }\n",
       "\n",
       "    .dataframe tbody tr th {\n",
       "        vertical-align: top;\n",
       "    }\n",
       "\n",
       "    .dataframe thead th {\n",
       "        text-align: right;\n",
       "    }\n",
       "</style>\n",
       "<table border=\"1\" class=\"dataframe\">\n",
       "  <thead>\n",
       "    <tr style=\"text-align: right;\">\n",
       "      <th></th>\n",
       "      <th>district</th>\n",
       "      <th>Sales</th>\n",
       "    </tr>\n",
       "  </thead>\n",
       "  <tbody>\n",
       "    <tr>\n",
       "      <th>0</th>\n",
       "      <td>BAGERHAT                                      ...</td>\n",
       "      <td>1307651.00</td>\n",
       "    </tr>\n",
       "    <tr>\n",
       "      <th>1</th>\n",
       "      <td>BANDARBAN                                     ...</td>\n",
       "      <td>995360.75</td>\n",
       "    </tr>\n",
       "    <tr>\n",
       "      <th>2</th>\n",
       "      <td>BARGUNA                                       ...</td>\n",
       "      <td>869041.00</td>\n",
       "    </tr>\n",
       "    <tr>\n",
       "      <th>3</th>\n",
       "      <td>BARISAL                                       ...</td>\n",
       "      <td>2897237.75</td>\n",
       "    </tr>\n",
       "    <tr>\n",
       "      <th>4</th>\n",
       "      <td>BHOLA                                         ...</td>\n",
       "      <td>1012205.75</td>\n",
       "    </tr>\n",
       "    <tr>\n",
       "      <th>...</th>\n",
       "      <td>...</td>\n",
       "      <td>...</td>\n",
       "    </tr>\n",
       "    <tr>\n",
       "      <th>59</th>\n",
       "      <td>SIRAJGANJ                                     ...</td>\n",
       "      <td>1295100.75</td>\n",
       "    </tr>\n",
       "    <tr>\n",
       "      <th>60</th>\n",
       "      <td>SUNAMGANJ                                     ...</td>\n",
       "      <td>1593774.00</td>\n",
       "    </tr>\n",
       "    <tr>\n",
       "      <th>61</th>\n",
       "      <td>SYLHET                                        ...</td>\n",
       "      <td>1727717.25</td>\n",
       "    </tr>\n",
       "    <tr>\n",
       "      <th>62</th>\n",
       "      <td>TANGAIL                                       ...</td>\n",
       "      <td>1774650.25</td>\n",
       "    </tr>\n",
       "    <tr>\n",
       "      <th>63</th>\n",
       "      <td>THAKURGAON                                    ...</td>\n",
       "      <td>729934.25</td>\n",
       "    </tr>\n",
       "  </tbody>\n",
       "</table>\n",
       "<p>64 rows × 2 columns</p>\n",
       "</div>"
      ],
      "text/plain": [
       "                                             district       Sales\n",
       "0   BAGERHAT                                      ...  1307651.00\n",
       "1   BANDARBAN                                     ...   995360.75\n",
       "2   BARGUNA                                       ...   869041.00\n",
       "3   BARISAL                                       ...  2897237.75\n",
       "4   BHOLA                                         ...  1012205.75\n",
       "..                                                ...         ...\n",
       "59  SIRAJGANJ                                     ...  1295100.75\n",
       "60  SUNAMGANJ                                     ...  1593774.00\n",
       "61  SYLHET                                        ...  1727717.25\n",
       "62  TANGAIL                                       ...  1774650.25\n",
       "63  THAKURGAON                                    ...   729934.25\n",
       "\n",
       "[64 rows x 2 columns]"
      ]
     },
     "execution_count": 19,
     "metadata": {},
     "output_type": "execute_result"
    }
   ],
   "source": [
    "df2"
   ]
  },
  {
   "cell_type": "code",
   "execution_count": 20,
   "id": "67d02a39",
   "metadata": {
    "scrolled": true
   },
   "outputs": [
    {
     "name": "stdout",
     "output_type": "stream",
     "text": [
      "Requirement already satisfied: seaborn in m:\\anaconda\\lib\\site-packages (0.11.1)\n",
      "Requirement already satisfied: matplotlib>=2.2 in m:\\anaconda\\lib\\site-packages (from seaborn) (3.3.4)\n",
      "Requirement already satisfied: scipy>=1.0 in m:\\anaconda\\lib\\site-packages (from seaborn) (1.6.2)\n",
      "Requirement already satisfied: numpy>=1.15 in m:\\anaconda\\lib\\site-packages (from seaborn) (1.20.1)\n",
      "Requirement already satisfied: pandas>=0.23 in m:\\anaconda\\lib\\site-packages (from seaborn) (1.2.4)\n",
      "Requirement already satisfied: pillow>=6.2.0 in m:\\anaconda\\lib\\site-packages (from matplotlib>=2.2->seaborn) (8.2.0)\n",
      "Requirement already satisfied: pyparsing!=2.0.4,!=2.1.2,!=2.1.6,>=2.0.3 in m:\\anaconda\\lib\\site-packages (from matplotlib>=2.2->seaborn) (2.4.7)\n",
      "Requirement already satisfied: kiwisolver>=1.0.1 in m:\\anaconda\\lib\\site-packages (from matplotlib>=2.2->seaborn) (1.3.1)\n",
      "Requirement already satisfied: cycler>=0.10 in m:\\anaconda\\lib\\site-packages (from matplotlib>=2.2->seaborn) (0.10.0)\n",
      "Requirement already satisfied: python-dateutil>=2.1 in m:\\anaconda\\lib\\site-packages (from matplotlib>=2.2->seaborn) (2.8.1)\n",
      "Requirement already satisfied: pytz>=2017.3 in m:\\anaconda\\lib\\site-packages (from pandas>=0.23->seaborn) (2021.1)\n",
      "Requirement already satisfied: six in m:\\anaconda\\lib\\site-packages (from cycler>=0.10->matplotlib>=2.2->seaborn) (1.15.0)\n",
      "Note: you may need to restart the kernel to use updated packages.\n"
     ]
    }
   ],
   "source": [
    "pip install seaborn"
   ]
  },
  {
   "cell_type": "code",
   "execution_count": 23,
   "id": "0382e2fc",
   "metadata": {},
   "outputs": [],
   "source": [
    "import seaborn as sns"
   ]
  },
  {
   "cell_type": "code",
   "execution_count": 24,
   "id": "72f26331",
   "metadata": {},
   "outputs": [
    {
     "data": {
      "image/png": "[encoded data removed]",
      "text/plain": [
       "<Figure size 1080x1800 with 1 Axes>"
      ]
     },
     "metadata": {
      "needs_background": "light"
     },
     "output_type": "display_data"
    }
   ],
   "source": [
    "district_order = df2['district']\n",
    "plt.figure(figsize=(15, 25))\n",
    "sns.barplot(data=df2,x='Sales',y='district',order=df2.sort_values('Sales',ascending = True).district)\n",
    "sns.color_palette(\"rocket\", as_cmap=True)\n",
    "plt.title('District wise sales')\n",
    "plt.xlabel('Sales')\n",
    "plt.ylabel('Districts');"
   ]
  },
  {
   "cell_type": "code",
   "execution_count": 25,
   "id": "95b7e201",
   "metadata": {},
   "outputs": [
    {
     "name": "stdout",
     "output_type": "stream",
     "text": [
      "Connection to DB established!\n"
     ]
    },
    {
     "data": {
      "text/plain": [
       "[(Decimal('2014'), Decimal('14334731.25')),\n",
       " (Decimal('2015'), Decimal('15095720.25')),\n",
       " (Decimal('2016'), Decimal('14976508.25')),\n",
       " (Decimal('2017'), Decimal('15015806.00')),\n",
       " (Decimal('2018'), Decimal('15108197.25')),\n",
       " (Decimal('2019'), Decimal('14949510.25')),\n",
       " (Decimal('2020'), Decimal('15037190.25')),\n",
       " (Decimal('2021'), Decimal('883772.25')),\n",
       " (None, Decimal('105401435.75'))]"
      ]
     },
     "execution_count": 25,
     "metadata": {},
     "output_type": "execute_result"
    }
   ],
   "source": [
    "con = PostgresConnection().getConnection()\n",
    "s_statement = \"\"\"SELECT time_dim.year as \"Year\", SUM(fact_table.total_price) \"Sales\" \n",
    "FROM stars.fact_table \n",
    "JOIN stars.time_dim ON\n",
    "time_dim.time_key = fact_table.time_key \n",
    "GROUP BY CUBE(time_dim.year)\n",
    "ORDER BY time_dim.year\"\"\"\n",
    "cur = con.cursor()\n",
    "# psycopg2.extras.execute_batch(cur, insert_stmt, fact_data.values)\n",
    "cur.execute(s_statement)\n",
    "q3 = cur.fetchall()\n",
    "q3"
   ]
  },
  {
   "cell_type": "code",
   "execution_count": 26,
   "id": "a30f96df",
   "metadata": {},
   "outputs": [],
   "source": [
    "df4=pd.DataFrame(list(q3),columns=(['year','sales']))"
   ]
  },
  {
   "cell_type": "code",
   "execution_count": 27,
   "id": "723e6d11",
   "metadata": {},
   "outputs": [
    {
     "data": {
      "text/html": [
       "<div>\n",
       "<style scoped>\n",
       "    .dataframe tbody tr th:only-of-type {\n",
       "        vertical-align: middle;\n",
       "    }\n",
       "\n",
       "    .dataframe tbody tr th {\n",
       "        vertical-align: top;\n",
       "    }\n",
       "\n",
       "    .dataframe thead th {\n",
       "        text-align: right;\n",
       "    }\n",
       "</style>\n",
       "<table border=\"1\" class=\"dataframe\">\n",
       "  <thead>\n",
       "    <tr style=\"text-align: right;\">\n",
       "      <th></th>\n",
       "      <th>year</th>\n",
       "      <th>sales</th>\n",
       "    </tr>\n",
       "  </thead>\n",
       "  <tbody>\n",
       "    <tr>\n",
       "      <th>0</th>\n",
       "      <td>2014</td>\n",
       "      <td>14334731.25</td>\n",
       "    </tr>\n",
       "    <tr>\n",
       "      <th>1</th>\n",
       "      <td>2015</td>\n",
       "      <td>15095720.25</td>\n",
       "    </tr>\n",
       "    <tr>\n",
       "      <th>2</th>\n",
       "      <td>2016</td>\n",
       "      <td>14976508.25</td>\n",
       "    </tr>\n",
       "    <tr>\n",
       "      <th>3</th>\n",
       "      <td>2017</td>\n",
       "      <td>15015806.00</td>\n",
       "    </tr>\n",
       "    <tr>\n",
       "      <th>4</th>\n",
       "      <td>2018</td>\n",
       "      <td>15108197.25</td>\n",
       "    </tr>\n",
       "    <tr>\n",
       "      <th>5</th>\n",
       "      <td>2019</td>\n",
       "      <td>14949510.25</td>\n",
       "    </tr>\n",
       "    <tr>\n",
       "      <th>6</th>\n",
       "      <td>2020</td>\n",
       "      <td>15037190.25</td>\n",
       "    </tr>\n",
       "    <tr>\n",
       "      <th>7</th>\n",
       "      <td>2021</td>\n",
       "      <td>883772.25</td>\n",
       "    </tr>\n",
       "    <tr>\n",
       "      <th>8</th>\n",
       "      <td>None</td>\n",
       "      <td>105401435.75</td>\n",
       "    </tr>\n",
       "  </tbody>\n",
       "</table>\n",
       "</div>"
      ],
      "text/plain": [
       "   year         sales\n",
       "0  2014   14334731.25\n",
       "1  2015   15095720.25\n",
       "2  2016   14976508.25\n",
       "3  2017   15015806.00\n",
       "4  2018   15108197.25\n",
       "5  2019   14949510.25\n",
       "6  2020   15037190.25\n",
       "7  2021     883772.25\n",
       "8  None  105401435.75"
      ]
     },
     "execution_count": 27,
     "metadata": {},
     "output_type": "execute_result"
    }
   ],
   "source": [
    "df4"
   ]
  },
  {
   "cell_type": "code",
   "execution_count": 28,
   "id": "b36e0b22",
   "metadata": {},
   "outputs": [],
   "source": [
    "df5=df4.drop([8])"
   ]
  },
  {
   "cell_type": "code",
   "execution_count": 29,
   "id": "118e5923",
   "metadata": {},
   "outputs": [],
   "source": [
    "df5['sales'] = df5['sales'].astype('float64')"
   ]
  },
  {
   "cell_type": "code",
   "execution_count": 30,
   "id": "8d79f85a",
   "metadata": {
    "scrolled": true
   },
   "outputs": [
    {
     "data": {
      "text/html": [
       "<div>\n",
       "<style scoped>\n",
       "    .dataframe tbody tr th:only-of-type {\n",
       "        vertical-align: middle;\n",
       "    }\n",
       "\n",
       "    .dataframe tbody tr th {\n",
       "        vertical-align: top;\n",
       "    }\n",
       "\n",
       "    .dataframe thead th {\n",
       "        text-align: right;\n",
       "    }\n",
       "</style>\n",
       "<table border=\"1\" class=\"dataframe\">\n",
       "  <thead>\n",
       "    <tr style=\"text-align: right;\">\n",
       "      <th></th>\n",
       "      <th>year</th>\n",
       "      <th>sales</th>\n",
       "    </tr>\n",
       "  </thead>\n",
       "  <tbody>\n",
       "    <tr>\n",
       "      <th>0</th>\n",
       "      <td>2014</td>\n",
       "      <td>14334731.25</td>\n",
       "    </tr>\n",
       "    <tr>\n",
       "      <th>1</th>\n",
       "      <td>2015</td>\n",
       "      <td>15095720.25</td>\n",
       "    </tr>\n",
       "    <tr>\n",
       "      <th>2</th>\n",
       "      <td>2016</td>\n",
       "      <td>14976508.25</td>\n",
       "    </tr>\n",
       "    <tr>\n",
       "      <th>3</th>\n",
       "      <td>2017</td>\n",
       "      <td>15015806.00</td>\n",
       "    </tr>\n",
       "    <tr>\n",
       "      <th>4</th>\n",
       "      <td>2018</td>\n",
       "      <td>15108197.25</td>\n",
       "    </tr>\n",
       "    <tr>\n",
       "      <th>5</th>\n",
       "      <td>2019</td>\n",
       "      <td>14949510.25</td>\n",
       "    </tr>\n",
       "    <tr>\n",
       "      <th>6</th>\n",
       "      <td>2020</td>\n",
       "      <td>15037190.25</td>\n",
       "    </tr>\n",
       "    <tr>\n",
       "      <th>7</th>\n",
       "      <td>2021</td>\n",
       "      <td>883772.25</td>\n",
       "    </tr>\n",
       "  </tbody>\n",
       "</table>\n",
       "</div>"
      ],
      "text/plain": [
       "   year        sales\n",
       "0  2014  14334731.25\n",
       "1  2015  15095720.25\n",
       "2  2016  14976508.25\n",
       "3  2017  15015806.00\n",
       "4  2018  15108197.25\n",
       "5  2019  14949510.25\n",
       "6  2020  15037190.25\n",
       "7  2021    883772.25"
      ]
     },
     "execution_count": 30,
     "metadata": {},
     "output_type": "execute_result"
    }
   ],
   "source": [
    "df5"
   ]
  },
  {
   "cell_type": "code",
   "execution_count": 31,
   "id": "34c0ff05",
   "metadata": {},
   "outputs": [
    {
     "name": "stdout",
     "output_type": "stream",
     "text": [
      "Requirement already satisfied: plotly in m:\\anaconda\\lib\\site-packages (5.10.0)\n",
      "Requirement already satisfied: tenacity>=6.2.0 in m:\\anaconda\\lib\\site-packages (from plotly) (8.0.1)\n",
      "Note: you may need to restart the kernel to use updated packages.\n"
     ]
    }
   ],
   "source": [
    "pip install plotly"
   ]
  },
  {
   "cell_type": "code",
   "execution_count": 91,
   "id": "989e42fa",
   "metadata": {},
   "outputs": [
    {
     "data": {
      "application/vnd.plotly.v1+json": {
       "config": {
        "plotlyServerURL": "https://plot.ly"
       },
       "data": [
        {
         "orientation": "h",
         "type": "bar",
         "x": [
          14334731.25,
          15095720.25,
          14976508.25,
          15015806,
          15108197.25,
          14949510.25,
          15037190.25,
          883772.25
         ],
         "y": [
          2014,
          2015,
          2016,
          2017,
          2018,
          2019,
          2020,
          2021
         ]
        }
       ],
       "layout": {
        "template": {
         "data": {
          "bar": [
           {
            "error_x": {
             "color": "#2a3f5f"
            },
            "error_y": {
             "color": "#2a3f5f"
            },
            "marker": {
             "line": {
              "color": "#E5ECF6",
              "width": 0.5
             },
             "pattern": {
              "fillmode": "overlay",
              "size": 10,
              "solidity": 0.2
             }
            },
            "type": "bar"
           }
          ],
          "barpolar": [
           {
            "marker": {
             "line": {
              "color": "#E5ECF6",
              "width": 0.5
             },
             "pattern": {
              "fillmode": "overlay",
              "size": 10,
              "solidity": 0.2
             }
            },
            "type": "barpolar"
           }
          ],
          "carpet": [
           {
            "aaxis": {
             "endlinecolor": "#2a3f5f",
             "gridcolor": "white",
             "linecolor": "white",
             "minorgridcolor": "white",
             "startlinecolor": "#2a3f5f"
            },
            "baxis": {
             "endlinecolor": "#2a3f5f",
             "gridcolor": "white",
             "linecolor": "white",
             "minorgridcolor": "white",
             "startlinecolor": "#2a3f5f"
            },
            "type": "carpet"
           }
          ],
          "choropleth": [
           {
            "colorbar": {
             "outlinewidth": 0,
             "ticks": ""
            },
            "type": "choropleth"
           }
          ],
          "contour": [
           {
            "colorbar": {
             "outlinewidth": 0,
             "ticks": ""
            },
            "colorscale": [
             [
              0,
              "#0d0887"
             ],
             [
              0.1111111111111111,
              "#46039f"
             ],
             [
              0.2222222222222222,
              "#7201a8"
             ],
             [
              0.3333333333333333,
              "#9c179e"
             ],
             [
              0.4444444444444444,
              "#bd3786"
             ],
             [
              0.5555555555555556,
              "#d8576b"
             ],
             [
              0.6666666666666666,
              "#ed7953"
             ],
             [
              0.7777777777777778,
              "#fb9f3a"
             ],
             [
              0.8888888888888888,
              "#fdca26"
             ],
             [
              1,
              "#f0f921"
             ]
            ],
            "type": "contour"
           }
          ],
          "contourcarpet": [
           {
            "colorbar": {
             "outlinewidth": 0,
             "ticks": ""
            },
            "type": "contourcarpet"
           }
          ],
          "heatmap": [
           {
            "colorbar": {
             "outlinewidth": 0,
             "ticks": ""
            },
            "colorscale": [
             [
              0,
              "#0d0887"
             ],
             [
              0.1111111111111111,
              "#46039f"
             ],
             [
              0.2222222222222222,
              "#7201a8"
             ],
             [
              0.3333333333333333,
              "#9c179e"
             ],
             [
              0.4444444444444444,
              "#bd3786"
             ],
             [
              0.5555555555555556,
              "#d8576b"
             ],
             [
              0.6666666666666666,
              "#ed7953"
             ],
             [
              0.7777777777777778,
              "#fb9f3a"
             ],
             [
              0.8888888888888888,
              "#fdca26"
             ],
             [
              1,
              "#f0f921"
             ]
            ],
            "type": "heatmap"
           }
          ],
          "heatmapgl": [
           {
            "colorbar": {
             "outlinewidth": 0,
             "ticks": ""
            },
            "colorscale": [
             [
              0,
              "#0d0887"
             ],
             [
              0.1111111111111111,
              "#46039f"
             ],
             [
              0.2222222222222222,
              "#7201a8"
             ],
             [
              0.3333333333333333,
              "#9c179e"
             ],
             [
              0.4444444444444444,
              "#bd3786"
             ],
             [
              0.5555555555555556,
              "#d8576b"
             ],
             [
              0.6666666666666666,
              "#ed7953"
             ],
             [
              0.7777777777777778,
              "#fb9f3a"
             ],
             [
              0.8888888888888888,
              "#fdca26"
             ],
             [
              1,
              "#f0f921"
             ]
            ],
            "type": "heatmapgl"
           }
          ],
          "histogram": [
           {
            "marker": {
             "pattern": {
              "fillmode": "overlay",
              "size": 10,
              "solidity": 0.2
             }
            },
            "type": "histogram"
           }
          ],
          "histogram2d": [
           {
            "colorbar": {
             "outlinewidth": 0,
             "ticks": ""
            },
            "colorscale": [
             [
              0,
              "#0d0887"
             ],
             [
              0.1111111111111111,
              "#46039f"
             ],
             [
              0.2222222222222222,
              "#7201a8"
             ],
             [
              0.3333333333333333,
              "#9c179e"
             ],
             [
              0.4444444444444444,
              "#bd3786"
             ],
             [
              0.5555555555555556,
              "#d8576b"
             ],
             [
              0.6666666666666666,
              "#ed7953"
             ],
             [
              0.7777777777777778,
              "#fb9f3a"
             ],
             [
              0.8888888888888888,
              "#fdca26"
             ],
             [
              1,
              "#f0f921"
             ]
            ],
            "type": "histogram2d"
           }
          ],
          "histogram2dcontour": [
           {
            "colorbar": {
             "outlinewidth": 0,
             "ticks": ""
            },
            "colorscale": [
             [
              0,
              "#0d0887"
             ],
             [
              0.1111111111111111,
              "#46039f"
             ],
             [
              0.2222222222222222,
              "#7201a8"
             ],
             [
              0.3333333333333333,
              "#9c179e"
             ],
             [
              0.4444444444444444,
              "#bd3786"
             ],
             [
              0.5555555555555556,
              "#d8576b"
             ],
             [
              0.6666666666666666,
              "#ed7953"
             ],
             [
              0.7777777777777778,
              "#fb9f3a"
             ],
             [
              0.8888888888888888,
              "#fdca26"
             ],
             [
              1,
              "#f0f921"
             ]
            ],
            "type": "histogram2dcontour"
           }
          ],
          "mesh3d": [
           {
            "colorbar": {
             "outlinewidth": 0,
             "ticks": ""
            },
            "type": "mesh3d"
           }
          ],
          "parcoords": [
           {
            "line": {
             "colorbar": {
              "outlinewidth": 0,
              "ticks": ""
             }
            },
            "type": "parcoords"
           }
          ],
          "pie": [
           {
            "automargin": true,
            "type": "pie"
           }
          ],
          "scatter": [
           {
            "fillpattern": {
             "fillmode": "overlay",
             "size": 10,
             "solidity": 0.2
            },
            "type": "scatter"
           }
          ],
          "scatter3d": [
           {
            "line": {
             "colorbar": {
              "outlinewidth": 0,
              "ticks": ""
             }
            },
            "marker": {
             "colorbar": {
              "outlinewidth": 0,
              "ticks": ""
             }
            },
            "type": "scatter3d"
           }
          ],
          "scattercarpet": [
           {
            "marker": {
             "colorbar": {
              "outlinewidth": 0,
              "ticks": ""
             }
            },
            "type": "scattercarpet"
           }
          ],
          "scattergeo": [
           {
            "marker": {
             "colorbar": {
              "outlinewidth": 0,
              "ticks": ""
             }
            },
            "type": "scattergeo"
           }
          ],
          "scattergl": [
           {
            "marker": {
             "colorbar": {
              "outlinewidth": 0,
              "ticks": ""
             }
            },
            "type": "scattergl"
           }
          ],
          "scattermapbox": [
           {
            "marker": {
             "colorbar": {
              "outlinewidth": 0,
              "ticks": ""
             }
            },
            "type": "scattermapbox"
           }
          ],
          "scatterpolar": [
           {
            "marker": {
             "colorbar": {
              "outlinewidth": 0,
              "ticks": ""
             }
            },
            "type": "scatterpolar"
           }
          ],
          "scatterpolargl": [
           {
            "marker": {
             "colorbar": {
              "outlinewidth": 0,
              "ticks": ""
             }
            },
            "type": "scatterpolargl"
           }
          ],
          "scatterternary": [
           {
            "marker": {
             "colorbar": {
              "outlinewidth": 0,
              "ticks": ""
             }
            },
            "type": "scatterternary"
           }
          ],
          "surface": [
           {
            "colorbar": {
             "outlinewidth": 0,
             "ticks": ""
            },
            "colorscale": [
             [
              0,
              "#0d0887"
             ],
             [
              0.1111111111111111,
              "#46039f"
             ],
             [
              0.2222222222222222,
              "#7201a8"
             ],
             [
              0.3333333333333333,
              "#9c179e"
             ],
             [
              0.4444444444444444,
              "#bd3786"
             ],
             [
              0.5555555555555556,
              "#d8576b"
             ],
             [
              0.6666666666666666,
              "#ed7953"
             ],
             [
              0.7777777777777778,
              "#fb9f3a"
             ],
             [
              0.8888888888888888,
              "#fdca26"
             ],
             [
              1,
              "#f0f921"
             ]
            ],
            "type": "surface"
           }
          ],
          "table": [
           {
            "cells": {
             "fill": {
              "color": "#EBF0F8"
             },
             "line": {
              "color": "white"
             }
            },
            "header": {
             "fill": {
              "color": "#C8D4E3"
             },
             "line": {
              "color": "white"
             }
            },
            "type": "table"
           }
          ]
         },
         "layout": {
          "annotationdefaults": {
           "arrowcolor": "#2a3f5f",
           "arrowhead": 0,
           "arrowwidth": 1
          },
          "autotypenumbers": "strict",
          "coloraxis": {
           "colorbar": {
            "outlinewidth": 0,
            "ticks": ""
           }
          },
          "colorscale": {
           "diverging": [
            [
             0,
             "#8e0152"
            ],
            [
             0.1,
             "#c51b7d"
            ],
            [
             0.2,
             "#de77ae"
            ],
            [
             0.3,
             "#f1b6da"
            ],
            [
             0.4,
             "#fde0ef"
            ],
            [
             0.5,
             "#f7f7f7"
            ],
            [
             0.6,
             "#e6f5d0"
            ],
            [
             0.7,
             "#b8e186"
            ],
            [
             0.8,
             "#7fbc41"
            ],
            [
             0.9,
             "#4d9221"
            ],
            [
             1,
             "#276419"
            ]
           ],
           "sequential": [
            [
             0,
             "#0d0887"
            ],
            [
             0.1111111111111111,
             "#46039f"
            ],
            [
             0.2222222222222222,
             "#7201a8"
            ],
            [
             0.3333333333333333,
             "#9c179e"
            ],
            [
             0.4444444444444444,
             "#bd3786"
            ],
            [
             0.5555555555555556,
             "#d8576b"
            ],
            [
             0.6666666666666666,
             "#ed7953"
            ],
            [
             0.7777777777777778,
             "#fb9f3a"
            ],
            [
             0.8888888888888888,
             "#fdca26"
            ],
            [
             1,
             "#f0f921"
            ]
           ],
           "sequentialminus": [
            [
             0,
             "#0d0887"
            ],
            [
             0.1111111111111111,
             "#46039f"
            ],
            [
             0.2222222222222222,
             "#7201a8"
            ],
            [
             0.3333333333333333,
             "#9c179e"
            ],
            [
             0.4444444444444444,
             "#bd3786"
            ],
            [
             0.5555555555555556,
             "#d8576b"
            ],
            [
             0.6666666666666666,
             "#ed7953"
            ],
            [
             0.7777777777777778,
             "#fb9f3a"
            ],
            [
             0.8888888888888888,
             "#fdca26"
            ],
            [
             1,
             "#f0f921"
            ]
           ]
          },
          "colorway": [
           "#636efa",
           "#EF553B",
           "#00cc96",
           "#ab63fa",
           "#FFA15A",
           "#19d3f3",
           "#FF6692",
           "#B6E880",
           "#FF97FF",
           "#FECB52"
          ],
          "font": {
           "color": "#2a3f5f"
          },
          "geo": {
           "bgcolor": "white",
           "lakecolor": "white",
           "landcolor": "#E5ECF6",
           "showlakes": true,
           "showland": true,
           "subunitcolor": "white"
          },
          "hoverlabel": {
           "align": "left"
          },
          "hovermode": "closest",
          "mapbox": {
           "style": "light"
          },
          "paper_bgcolor": "white",
          "plot_bgcolor": "#E5ECF6",
          "polar": {
           "angularaxis": {
            "gridcolor": "white",
            "linecolor": "white",
            "ticks": ""
           },
           "bgcolor": "#E5ECF6",
           "radialaxis": {
            "gridcolor": "white",
            "linecolor": "white",
            "ticks": ""
           }
          },
          "scene": {
           "xaxis": {
            "backgroundcolor": "#E5ECF6",
            "gridcolor": "white",
            "gridwidth": 2,
            "linecolor": "white",
            "showbackground": true,
            "ticks": "",
            "zerolinecolor": "white"
           },
           "yaxis": {
            "backgroundcolor": "#E5ECF6",
            "gridcolor": "white",
            "gridwidth": 2,
            "linecolor": "white",
            "showbackground": true,
            "ticks": "",
            "zerolinecolor": "white"
           },
           "zaxis": {
            "backgroundcolor": "#E5ECF6",
            "gridcolor": "white",
            "gridwidth": 2,
            "linecolor": "white",
            "showbackground": true,
            "ticks": "",
            "zerolinecolor": "white"
           }
          },
          "shapedefaults": {
           "line": {
            "color": "#2a3f5f"
           }
          },
          "ternary": {
           "aaxis": {
            "gridcolor": "white",
            "linecolor": "white",
            "ticks": ""
           },
           "baxis": {
            "gridcolor": "white",
            "linecolor": "white",
            "ticks": ""
           },
           "bgcolor": "#E5ECF6",
           "caxis": {
            "gridcolor": "white",
            "linecolor": "white",
            "ticks": ""
           }
          },
          "title": {
           "x": 0.05
          },
          "xaxis": {
           "automargin": true,
           "gridcolor": "white",
           "linecolor": "white",
           "ticks": "",
           "title": {
            "standoff": 15
           },
           "zerolinecolor": "white",
           "zerolinewidth": 2
          },
          "yaxis": {
           "automargin": true,
           "gridcolor": "white",
           "linecolor": "white",
           "ticks": "",
           "title": {
            "standoff": 15
           },
           "zerolinecolor": "white",
           "zerolinewidth": 2
          }
         }
        }
       }
      },
      "text/html": [
       "<div>                            <div id=\"3c45a306-0ec1-4a60-8fe0-0b74cd37b3f1\" class=\"plotly-graph-div\" style=\"height:525px; width:100%;\"></div>            <script type=\"text/javascript\">                require([\"plotly\"], function(Plotly) {                    window.PLOTLYENV=window.PLOTLYENV || {};                                    if (document.getElementById(\"3c45a306-0ec1-4a60-8fe0-0b74cd37b3f1\")) {                    Plotly.newPlot(                        \"3c45a306-0ec1-4a60-8fe0-0b74cd37b3f1\",                        [{\"orientation\":\"h\",\"x\":[14334731.25,15095720.25,14976508.25,15015806.0,15108197.25,14949510.25,15037190.25,883772.25],\"y\":[2014.0,2015.0,2016.0,2017.0,2018.0,2019.0,2020.0,2021.0],\"type\":\"bar\"}],                        {\"template\":{\"data\":{\"histogram2dcontour\":[{\"type\":\"histogram2dcontour\",\"colorbar\":{\"outlinewidth\":0,\"ticks\":\"\"},\"colorscale\":[[0.0,\"#0d0887\"],[0.1111111111111111,\"#46039f\"],[0.2222222222222222,\"#7201a8\"],[0.3333333333333333,\"#9c179e\"],[0.4444444444444444,\"#bd3786\"],[0.5555555555555556,\"#d8576b\"],[0.6666666666666666,\"#ed7953\"],[0.7777777777777778,\"#fb9f3a\"],[0.8888888888888888,\"#fdca26\"],[1.0,\"#f0f921\"]]}],\"choropleth\":[{\"type\":\"choropleth\",\"colorbar\":{\"outlinewidth\":0,\"ticks\":\"\"}}],\"histogram2d\":[{\"type\":\"histogram2d\",\"colorbar\":{\"outlinewidth\":0,\"ticks\":\"\"},\"colorscale\":[[0.0,\"#0d0887\"],[0.1111111111111111,\"#46039f\"],[0.2222222222222222,\"#7201a8\"],[0.3333333333333333,\"#9c179e\"],[0.4444444444444444,\"#bd3786\"],[0.5555555555555556,\"#d8576b\"],[0.6666666666666666,\"#ed7953\"],[0.7777777777777778,\"#fb9f3a\"],[0.8888888888888888,\"#fdca26\"],[1.0,\"#f0f921\"]]}],\"heatmap\":[{\"type\":\"heatmap\",\"colorbar\":{\"outlinewidth\":0,\"ticks\":\"\"},\"colorscale\":[[0.0,\"#0d0887\"],[0.1111111111111111,\"#46039f\"],[0.2222222222222222,\"#7201a8\"],[0.3333333333333333,\"#9c179e\"],[0.4444444444444444,\"#bd3786\"],[0.5555555555555556,\"#d8576b\"],[0.6666666666666666,\"#ed7953\"],[0.7777777777777778,\"#fb9f3a\"],[0.8888888888888888,\"#fdca26\"],[1.0,\"#f0f921\"]]}],\"heatmapgl\":[{\"type\":\"heatmapgl\",\"colorbar\":{\"outlinewidth\":0,\"ticks\":\"\"},\"colorscale\":[[0.0,\"#0d0887\"],[0.1111111111111111,\"#46039f\"],[0.2222222222222222,\"#7201a8\"],[0.3333333333333333,\"#9c179e\"],[0.4444444444444444,\"#bd3786\"],[0.5555555555555556,\"#d8576b\"],[0.6666666666666666,\"#ed7953\"],[0.7777777777777778,\"#fb9f3a\"],[0.8888888888888888,\"#fdca26\"],[1.0,\"#f0f921\"]]}],\"contourcarpet\":[{\"type\":\"contourcarpet\",\"colorbar\":{\"outlinewidth\":0,\"ticks\":\"\"}}],\"contour\":[{\"type\":\"contour\",\"colorbar\":{\"outlinewidth\":0,\"ticks\":\"\"},\"colorscale\":[[0.0,\"#0d0887\"],[0.1111111111111111,\"#46039f\"],[0.2222222222222222,\"#7201a8\"],[0.3333333333333333,\"#9c179e\"],[0.4444444444444444,\"#bd3786\"],[0.5555555555555556,\"#d8576b\"],[0.6666666666666666,\"#ed7953\"],[0.7777777777777778,\"#fb9f3a\"],[0.8888888888888888,\"#fdca26\"],[1.0,\"#f0f921\"]]}],\"surface\":[{\"type\":\"surface\",\"colorbar\":{\"outlinewidth\":0,\"ticks\":\"\"},\"colorscale\":[[0.0,\"#0d0887\"],[0.1111111111111111,\"#46039f\"],[0.2222222222222222,\"#7201a8\"],[0.3333333333333333,\"#9c179e\"],[0.4444444444444444,\"#bd3786\"],[0.5555555555555556,\"#d8576b\"],[0.6666666666666666,\"#ed7953\"],[0.7777777777777778,\"#fb9f3a\"],[0.8888888888888888,\"#fdca26\"],[1.0,\"#f0f921\"]]}],\"mesh3d\":[{\"type\":\"mesh3d\",\"colorbar\":{\"outlinewidth\":0,\"ticks\":\"\"}}],\"scatter\":[{\"fillpattern\":{\"fillmode\":\"overlay\",\"size\":10,\"solidity\":0.2},\"type\":\"scatter\"}],\"parcoords\":[{\"type\":\"parcoords\",\"line\":{\"colorbar\":{\"outlinewidth\":0,\"ticks\":\"\"}}}],\"scatterpolargl\":[{\"type\":\"scatterpolargl\",\"marker\":{\"colorbar\":{\"outlinewidth\":0,\"ticks\":\"\"}}}],\"bar\":[{\"error_x\":{\"color\":\"#2a3f5f\"},\"error_y\":{\"color\":\"#2a3f5f\"},\"marker\":{\"line\":{\"color\":\"#E5ECF6\",\"width\":0.5},\"pattern\":{\"fillmode\":\"overlay\",\"size\":10,\"solidity\":0.2}},\"type\":\"bar\"}],\"scattergeo\":[{\"type\":\"scattergeo\",\"marker\":{\"colorbar\":{\"outlinewidth\":0,\"ticks\":\"\"}}}],\"scatterpolar\":[{\"type\":\"scatterpolar\",\"marker\":{\"colorbar\":{\"outlinewidth\":0,\"ticks\":\"\"}}}],\"histogram\":[{\"marker\":{\"pattern\":{\"fillmode\":\"overlay\",\"size\":10,\"solidity\":0.2}},\"type\":\"histogram\"}],\"scattergl\":[{\"type\":\"scattergl\",\"marker\":{\"colorbar\":{\"outlinewidth\":0,\"ticks\":\"\"}}}],\"scatter3d\":[{\"type\":\"scatter3d\",\"line\":{\"colorbar\":{\"outlinewidth\":0,\"ticks\":\"\"}},\"marker\":{\"colorbar\":{\"outlinewidth\":0,\"ticks\":\"\"}}}],\"scattermapbox\":[{\"type\":\"scattermapbox\",\"marker\":{\"colorbar\":{\"outlinewidth\":0,\"ticks\":\"\"}}}],\"scatterternary\":[{\"type\":\"scatterternary\",\"marker\":{\"colorbar\":{\"outlinewidth\":0,\"ticks\":\"\"}}}],\"scattercarpet\":[{\"type\":\"scattercarpet\",\"marker\":{\"colorbar\":{\"outlinewidth\":0,\"ticks\":\"\"}}}],\"carpet\":[{\"aaxis\":{\"endlinecolor\":\"#2a3f5f\",\"gridcolor\":\"white\",\"linecolor\":\"white\",\"minorgridcolor\":\"white\",\"startlinecolor\":\"#2a3f5f\"},\"baxis\":{\"endlinecolor\":\"#2a3f5f\",\"gridcolor\":\"white\",\"linecolor\":\"white\",\"minorgridcolor\":\"white\",\"startlinecolor\":\"#2a3f5f\"},\"type\":\"carpet\"}],\"table\":[{\"cells\":{\"fill\":{\"color\":\"#EBF0F8\"},\"line\":{\"color\":\"white\"}},\"header\":{\"fill\":{\"color\":\"#C8D4E3\"},\"line\":{\"color\":\"white\"}},\"type\":\"table\"}],\"barpolar\":[{\"marker\":{\"line\":{\"color\":\"#E5ECF6\",\"width\":0.5},\"pattern\":{\"fillmode\":\"overlay\",\"size\":10,\"solidity\":0.2}},\"type\":\"barpolar\"}],\"pie\":[{\"automargin\":true,\"type\":\"pie\"}]},\"layout\":{\"autotypenumbers\":\"strict\",\"colorway\":[\"#636efa\",\"#EF553B\",\"#00cc96\",\"#ab63fa\",\"#FFA15A\",\"#19d3f3\",\"#FF6692\",\"#B6E880\",\"#FF97FF\",\"#FECB52\"],\"font\":{\"color\":\"#2a3f5f\"},\"hovermode\":\"closest\",\"hoverlabel\":{\"align\":\"left\"},\"paper_bgcolor\":\"white\",\"plot_bgcolor\":\"#E5ECF6\",\"polar\":{\"bgcolor\":\"#E5ECF6\",\"angularaxis\":{\"gridcolor\":\"white\",\"linecolor\":\"white\",\"ticks\":\"\"},\"radialaxis\":{\"gridcolor\":\"white\",\"linecolor\":\"white\",\"ticks\":\"\"}},\"ternary\":{\"bgcolor\":\"#E5ECF6\",\"aaxis\":{\"gridcolor\":\"white\",\"linecolor\":\"white\",\"ticks\":\"\"},\"baxis\":{\"gridcolor\":\"white\",\"linecolor\":\"white\",\"ticks\":\"\"},\"caxis\":{\"gridcolor\":\"white\",\"linecolor\":\"white\",\"ticks\":\"\"}},\"coloraxis\":{\"colorbar\":{\"outlinewidth\":0,\"ticks\":\"\"}},\"colorscale\":{\"sequential\":[[0.0,\"#0d0887\"],[0.1111111111111111,\"#46039f\"],[0.2222222222222222,\"#7201a8\"],[0.3333333333333333,\"#9c179e\"],[0.4444444444444444,\"#bd3786\"],[0.5555555555555556,\"#d8576b\"],[0.6666666666666666,\"#ed7953\"],[0.7777777777777778,\"#fb9f3a\"],[0.8888888888888888,\"#fdca26\"],[1.0,\"#f0f921\"]],\"sequentialminus\":[[0.0,\"#0d0887\"],[0.1111111111111111,\"#46039f\"],[0.2222222222222222,\"#7201a8\"],[0.3333333333333333,\"#9c179e\"],[0.4444444444444444,\"#bd3786\"],[0.5555555555555556,\"#d8576b\"],[0.6666666666666666,\"#ed7953\"],[0.7777777777777778,\"#fb9f3a\"],[0.8888888888888888,\"#fdca26\"],[1.0,\"#f0f921\"]],\"diverging\":[[0,\"#8e0152\"],[0.1,\"#c51b7d\"],[0.2,\"#de77ae\"],[0.3,\"#f1b6da\"],[0.4,\"#fde0ef\"],[0.5,\"#f7f7f7\"],[0.6,\"#e6f5d0\"],[0.7,\"#b8e186\"],[0.8,\"#7fbc41\"],[0.9,\"#4d9221\"],[1,\"#276419\"]]},\"xaxis\":{\"gridcolor\":\"white\",\"linecolor\":\"white\",\"ticks\":\"\",\"title\":{\"standoff\":15},\"zerolinecolor\":\"white\",\"automargin\":true,\"zerolinewidth\":2},\"yaxis\":{\"gridcolor\":\"white\",\"linecolor\":\"white\",\"ticks\":\"\",\"title\":{\"standoff\":15},\"zerolinecolor\":\"white\",\"automargin\":true,\"zerolinewidth\":2},\"scene\":{\"xaxis\":{\"backgroundcolor\":\"#E5ECF6\",\"gridcolor\":\"white\",\"linecolor\":\"white\",\"showbackground\":true,\"ticks\":\"\",\"zerolinecolor\":\"white\",\"gridwidth\":2},\"yaxis\":{\"backgroundcolor\":\"#E5ECF6\",\"gridcolor\":\"white\",\"linecolor\":\"white\",\"showbackground\":true,\"ticks\":\"\",\"zerolinecolor\":\"white\",\"gridwidth\":2},\"zaxis\":{\"backgroundcolor\":\"#E5ECF6\",\"gridcolor\":\"white\",\"linecolor\":\"white\",\"showbackground\":true,\"ticks\":\"\",\"zerolinecolor\":\"white\",\"gridwidth\":2}},\"shapedefaults\":{\"line\":{\"color\":\"#2a3f5f\"}},\"annotationdefaults\":{\"arrowcolor\":\"#2a3f5f\",\"arrowhead\":0,\"arrowwidth\":1},\"geo\":{\"bgcolor\":\"white\",\"landcolor\":\"#E5ECF6\",\"subunitcolor\":\"white\",\"showland\":true,\"showlakes\":true,\"lakecolor\":\"white\"},\"title\":{\"x\":0.05},\"mapbox\":{\"style\":\"light\"}}}},                        {\"responsive\": true}                    ).then(function(){\n",
       "                            \n",
       "var gd = document.getElementById('3c45a306-0ec1-4a60-8fe0-0b74cd37b3f1');\n",
       "var x = new MutationObserver(function (mutations, observer) {{\n",
       "        var display = window.getComputedStyle(gd).display;\n",
       "        if (!display || display === 'none') {{\n",
       "            console.log([gd, 'removed!']);\n",
       "            Plotly.purge(gd);\n",
       "            observer.disconnect();\n",
       "        }}\n",
       "}});\n",
       "\n",
       "// Listen for the removal of the full notebook cells\n",
       "var notebookContainer = gd.closest('#notebook-container');\n",
       "if (notebookContainer) {{\n",
       "    x.observe(notebookContainer, {childList: true});\n",
       "}}\n",
       "\n",
       "// Listen for the clearing of the current output cell\n",
       "var outputEl = gd.closest('.output');\n",
       "if (outputEl) {{\n",
       "    x.observe(outputEl, {childList: true});\n",
       "}}\n",
       "\n",
       "                        })                };                });            </script>        </div>"
      ]
     },
     "metadata": {},
     "output_type": "display_data"
    }
   ],
   "source": [
    "import plotly.graph_objects as go\n",
    "\n",
    "fig = go.Figure(go.Bar(\n",
    "            x=df5['sales'],\n",
    "            y=df5['year'],\n",
    "            orientation='h'))\n",
    "\n",
    "fig.show()"
   ]
  },
  {
   "cell_type": "code",
   "execution_count": 33,
   "id": "7523ee3c",
   "metadata": {},
   "outputs": [
    {
     "name": "stdout",
     "output_type": "stream",
     "text": [
      "Connection to DB established!\n"
     ]
    },
    {
     "data": {
      "text/plain": [
       "[(Decimal('1'), Decimal('9042244.00')),\n",
       " (Decimal('2'), Decimal('8073877.50')),\n",
       " (Decimal('3'), Decimal('8939152.00')),\n",
       " (Decimal('4'), Decimal('8504634.75')),\n",
       " (Decimal('5'), Decimal('9078002.50')),\n",
       " (Decimal('6'), Decimal('8556853.00')),\n",
       " (Decimal('7'), Decimal('9046580.00')),\n",
       " (Decimal('8'), Decimal('8929475.25')),\n",
       " (Decimal('9'), Decimal('8724326.50')),\n",
       " (Decimal('10'), Decimal('8902783.75')),\n",
       " (Decimal('11'), Decimal('8680026.00')),\n",
       " (Decimal('12'), Decimal('8923480.50')),\n",
       " (None, Decimal('105401435.75'))]"
      ]
     },
     "execution_count": 33,
     "metadata": {},
     "output_type": "execute_result"
    }
   ],
   "source": [
    "con = PostgresConnection().getConnection()\n",
    "inserted_stmt = \"\"\"SELECT time_dim.month as \"month\", SUM(fact_table.total_price) \"sales\" \n",
    "FROM stars.fact_table \n",
    "JOIN stars.time_dim ON\n",
    "time_dim.time_key = fact_table.time_key \n",
    "GROUP BY CUBE(time_dim.month)\n",
    "ORDER BY time_dim.month\"\"\"\n",
    "cur = con.cursor()\n",
    "# psycopg2.extras.execute_batch(cur, insert_stmt, fact_data.values)\n",
    "cur.execute(inserted_stmt)\n",
    "q_mon = cur.fetchall()\n",
    "q_mon\n"
   ]
  },
  {
   "cell_type": "code",
   "execution_count": 34,
   "id": "22cbe2b9",
   "metadata": {},
   "outputs": [],
   "source": [
    "df6=pd.DataFrame(list(q_mon), columns=['month','sales'])"
   ]
  },
  {
   "cell_type": "code",
   "execution_count": 35,
   "id": "afc41bfb",
   "metadata": {},
   "outputs": [
    {
     "data": {
      "text/html": [
       "<div>\n",
       "<style scoped>\n",
       "    .dataframe tbody tr th:only-of-type {\n",
       "        vertical-align: middle;\n",
       "    }\n",
       "\n",
       "    .dataframe tbody tr th {\n",
       "        vertical-align: top;\n",
       "    }\n",
       "\n",
       "    .dataframe thead th {\n",
       "        text-align: right;\n",
       "    }\n",
       "</style>\n",
       "<table border=\"1\" class=\"dataframe\">\n",
       "  <thead>\n",
       "    <tr style=\"text-align: right;\">\n",
       "      <th></th>\n",
       "      <th>month</th>\n",
       "      <th>sales</th>\n",
       "    </tr>\n",
       "  </thead>\n",
       "  <tbody>\n",
       "    <tr>\n",
       "      <th>0</th>\n",
       "      <td>1</td>\n",
       "      <td>9042244.00</td>\n",
       "    </tr>\n",
       "    <tr>\n",
       "      <th>1</th>\n",
       "      <td>2</td>\n",
       "      <td>8073877.50</td>\n",
       "    </tr>\n",
       "    <tr>\n",
       "      <th>2</th>\n",
       "      <td>3</td>\n",
       "      <td>8939152.00</td>\n",
       "    </tr>\n",
       "    <tr>\n",
       "      <th>3</th>\n",
       "      <td>4</td>\n",
       "      <td>8504634.75</td>\n",
       "    </tr>\n",
       "    <tr>\n",
       "      <th>4</th>\n",
       "      <td>5</td>\n",
       "      <td>9078002.50</td>\n",
       "    </tr>\n",
       "    <tr>\n",
       "      <th>5</th>\n",
       "      <td>6</td>\n",
       "      <td>8556853.00</td>\n",
       "    </tr>\n",
       "    <tr>\n",
       "      <th>6</th>\n",
       "      <td>7</td>\n",
       "      <td>9046580.00</td>\n",
       "    </tr>\n",
       "    <tr>\n",
       "      <th>7</th>\n",
       "      <td>8</td>\n",
       "      <td>8929475.25</td>\n",
       "    </tr>\n",
       "    <tr>\n",
       "      <th>8</th>\n",
       "      <td>9</td>\n",
       "      <td>8724326.50</td>\n",
       "    </tr>\n",
       "    <tr>\n",
       "      <th>9</th>\n",
       "      <td>10</td>\n",
       "      <td>8902783.75</td>\n",
       "    </tr>\n",
       "    <tr>\n",
       "      <th>10</th>\n",
       "      <td>11</td>\n",
       "      <td>8680026.00</td>\n",
       "    </tr>\n",
       "    <tr>\n",
       "      <th>11</th>\n",
       "      <td>12</td>\n",
       "      <td>8923480.50</td>\n",
       "    </tr>\n",
       "    <tr>\n",
       "      <th>12</th>\n",
       "      <td>None</td>\n",
       "      <td>105401435.75</td>\n",
       "    </tr>\n",
       "  </tbody>\n",
       "</table>\n",
       "</div>"
      ],
      "text/plain": [
       "   month         sales\n",
       "0      1    9042244.00\n",
       "1      2    8073877.50\n",
       "2      3    8939152.00\n",
       "3      4    8504634.75\n",
       "4      5    9078002.50\n",
       "5      6    8556853.00\n",
       "6      7    9046580.00\n",
       "7      8    8929475.25\n",
       "8      9    8724326.50\n",
       "9     10    8902783.75\n",
       "10    11    8680026.00\n",
       "11    12    8923480.50\n",
       "12  None  105401435.75"
      ]
     },
     "execution_count": 35,
     "metadata": {},
     "output_type": "execute_result"
    }
   ],
   "source": [
    "df6"
   ]
  },
  {
   "cell_type": "code",
   "execution_count": 36,
   "id": "9ea9bae9",
   "metadata": {},
   "outputs": [],
   "source": [
    "df6=df6.drop([12])"
   ]
  },
  {
   "cell_type": "code",
   "execution_count": 37,
   "id": "3567725d",
   "metadata": {},
   "outputs": [
    {
     "data": {
      "text/html": [
       "<div>\n",
       "<style scoped>\n",
       "    .dataframe tbody tr th:only-of-type {\n",
       "        vertical-align: middle;\n",
       "    }\n",
       "\n",
       "    .dataframe tbody tr th {\n",
       "        vertical-align: top;\n",
       "    }\n",
       "\n",
       "    .dataframe thead th {\n",
       "        text-align: right;\n",
       "    }\n",
       "</style>\n",
       "<table border=\"1\" class=\"dataframe\">\n",
       "  <thead>\n",
       "    <tr style=\"text-align: right;\">\n",
       "      <th></th>\n",
       "      <th>month</th>\n",
       "      <th>sales</th>\n",
       "    </tr>\n",
       "  </thead>\n",
       "  <tbody>\n",
       "    <tr>\n",
       "      <th>0</th>\n",
       "      <td>1</td>\n",
       "      <td>9042244.00</td>\n",
       "    </tr>\n",
       "    <tr>\n",
       "      <th>1</th>\n",
       "      <td>2</td>\n",
       "      <td>8073877.50</td>\n",
       "    </tr>\n",
       "    <tr>\n",
       "      <th>2</th>\n",
       "      <td>3</td>\n",
       "      <td>8939152.00</td>\n",
       "    </tr>\n",
       "    <tr>\n",
       "      <th>3</th>\n",
       "      <td>4</td>\n",
       "      <td>8504634.75</td>\n",
       "    </tr>\n",
       "    <tr>\n",
       "      <th>4</th>\n",
       "      <td>5</td>\n",
       "      <td>9078002.50</td>\n",
       "    </tr>\n",
       "    <tr>\n",
       "      <th>5</th>\n",
       "      <td>6</td>\n",
       "      <td>8556853.00</td>\n",
       "    </tr>\n",
       "    <tr>\n",
       "      <th>6</th>\n",
       "      <td>7</td>\n",
       "      <td>9046580.00</td>\n",
       "    </tr>\n",
       "    <tr>\n",
       "      <th>7</th>\n",
       "      <td>8</td>\n",
       "      <td>8929475.25</td>\n",
       "    </tr>\n",
       "    <tr>\n",
       "      <th>8</th>\n",
       "      <td>9</td>\n",
       "      <td>8724326.50</td>\n",
       "    </tr>\n",
       "    <tr>\n",
       "      <th>9</th>\n",
       "      <td>10</td>\n",
       "      <td>8902783.75</td>\n",
       "    </tr>\n",
       "    <tr>\n",
       "      <th>10</th>\n",
       "      <td>11</td>\n",
       "      <td>8680026.00</td>\n",
       "    </tr>\n",
       "    <tr>\n",
       "      <th>11</th>\n",
       "      <td>12</td>\n",
       "      <td>8923480.50</td>\n",
       "    </tr>\n",
       "  </tbody>\n",
       "</table>\n",
       "</div>"
      ],
      "text/plain": [
       "   month       sales\n",
       "0      1  9042244.00\n",
       "1      2  8073877.50\n",
       "2      3  8939152.00\n",
       "3      4  8504634.75\n",
       "4      5  9078002.50\n",
       "5      6  8556853.00\n",
       "6      7  9046580.00\n",
       "7      8  8929475.25\n",
       "8      9  8724326.50\n",
       "9     10  8902783.75\n",
       "10    11  8680026.00\n",
       "11    12  8923480.50"
      ]
     },
     "execution_count": 37,
     "metadata": {},
     "output_type": "execute_result"
    }
   ],
   "source": [
    "df6"
   ]
  },
  {
   "cell_type": "code",
   "execution_count": 38,
   "id": "f52369a4",
   "metadata": {},
   "outputs": [],
   "source": [
    "df6['sales'] = df6['sales'].astype('float64')"
   ]
  },
  {
   "cell_type": "code",
   "execution_count": 40,
   "id": "7db42b31",
   "metadata": {},
   "outputs": [
    {
     "data": {
      "application/vnd.plotly.v1+json": {
       "config": {
        "plotlyServerURL": "https://plot.ly"
       },
       "data": [
        {
         "marker": {
          "color": [
           3,
           2,
           1,
           5,
           4,
           6
          ],
          "colorbar": {
           "x": -0.15
          },
          "colorscale": [
           [
            0,
            "rgb(253, 237, 176)"
           ],
           [
            0.09090909090909091,
            "rgb(250, 205, 145)"
           ],
           [
            0.18181818181818182,
            "rgb(246, 173, 119)"
           ],
           [
            0.2727272727272727,
            "rgb(240, 142, 98)"
           ],
           [
            0.36363636363636365,
            "rgb(231, 109, 84)"
           ],
           [
            0.45454545454545453,
            "rgb(216, 80, 83)"
           ],
           [
            0.5454545454545454,
            "rgb(195, 56, 90)"
           ],
           [
            0.6363636363636364,
            "rgb(168, 40, 96)"
           ],
           [
            0.7272727272727273,
            "rgb(138, 29, 99)"
           ],
           [
            0.8181818181818182,
            "rgb(107, 24, 93)"
           ],
           [
            0.9090909090909091,
            "rgb(76, 21, 80)"
           ],
           [
            1,
            "rgb(47, 15, 61)"
           ]
          ]
         },
         "orientation": "h",
         "type": "bar",
         "x": [
          9042244,
          8073877.5,
          8939152,
          8504634.75,
          9078002.5,
          8556853,
          9046580,
          8929475.25,
          8724326.5,
          8902783.75,
          8680026,
          8923480.5
         ],
         "xaxis": "x",
         "y": [
          1,
          2,
          3,
          4,
          5,
          6,
          7,
          8,
          9,
          10,
          11,
          12
         ],
         "yaxis": "y2"
        }
       ],
       "layout": {
        "height": 500,
        "template": {
         "data": {
          "bar": [
           {
            "error_x": {
             "color": "#2a3f5f"
            },
            "error_y": {
             "color": "#2a3f5f"
            },
            "marker": {
             "line": {
              "color": "#E5ECF6",
              "width": 0.5
             },
             "pattern": {
              "fillmode": "overlay",
              "size": 10,
              "solidity": 0.2
             }
            },
            "type": "bar"
           }
          ],
          "barpolar": [
           {
            "marker": {
             "line": {
              "color": "#E5ECF6",
              "width": 0.5
             },
             "pattern": {
              "fillmode": "overlay",
              "size": 10,
              "solidity": 0.2
             }
            },
            "type": "barpolar"
           }
          ],
          "carpet": [
           {
            "aaxis": {
             "endlinecolor": "#2a3f5f",
             "gridcolor": "white",
             "linecolor": "white",
             "minorgridcolor": "white",
             "startlinecolor": "#2a3f5f"
            },
            "baxis": {
             "endlinecolor": "#2a3f5f",
             "gridcolor": "white",
             "linecolor": "white",
             "minorgridcolor": "white",
             "startlinecolor": "#2a3f5f"
            },
            "type": "carpet"
           }
          ],
          "choropleth": [
           {
            "colorbar": {
             "outlinewidth": 0,
             "ticks": ""
            },
            "type": "choropleth"
           }
          ],
          "contour": [
           {
            "colorbar": {
             "outlinewidth": 0,
             "ticks": ""
            },
            "colorscale": [
             [
              0,
              "#0d0887"
             ],
             [
              0.1111111111111111,
              "#46039f"
             ],
             [
              0.2222222222222222,
              "#7201a8"
             ],
             [
              0.3333333333333333,
              "#9c179e"
             ],
             [
              0.4444444444444444,
              "#bd3786"
             ],
             [
              0.5555555555555556,
              "#d8576b"
             ],
             [
              0.6666666666666666,
              "#ed7953"
             ],
             [
              0.7777777777777778,
              "#fb9f3a"
             ],
             [
              0.8888888888888888,
              "#fdca26"
             ],
             [
              1,
              "#f0f921"
             ]
            ],
            "type": "contour"
           }
          ],
          "contourcarpet": [
           {
            "colorbar": {
             "outlinewidth": 0,
             "ticks": ""
            },
            "type": "contourcarpet"
           }
          ],
          "heatmap": [
           {
            "colorbar": {
             "outlinewidth": 0,
             "ticks": ""
            },
            "colorscale": [
             [
              0,
              "#0d0887"
             ],
             [
              0.1111111111111111,
              "#46039f"
             ],
             [
              0.2222222222222222,
              "#7201a8"
             ],
             [
              0.3333333333333333,
              "#9c179e"
             ],
             [
              0.4444444444444444,
              "#bd3786"
             ],
             [
              0.5555555555555556,
              "#d8576b"
             ],
             [
              0.6666666666666666,
              "#ed7953"
             ],
             [
              0.7777777777777778,
              "#fb9f3a"
             ],
             [
              0.8888888888888888,
              "#fdca26"
             ],
             [
              1,
              "#f0f921"
             ]
            ],
            "type": "heatmap"
           }
          ],
          "heatmapgl": [
           {
            "colorbar": {
             "outlinewidth": 0,
             "ticks": ""
            },
            "colorscale": [
             [
              0,
              "#0d0887"
             ],
             [
              0.1111111111111111,
              "#46039f"
             ],
             [
              0.2222222222222222,
              "#7201a8"
             ],
             [
              0.3333333333333333,
              "#9c179e"
             ],
             [
              0.4444444444444444,
              "#bd3786"
             ],
             [
              0.5555555555555556,
              "#d8576b"
             ],
             [
              0.6666666666666666,
              "#ed7953"
             ],
             [
              0.7777777777777778,
              "#fb9f3a"
             ],
             [
              0.8888888888888888,
              "#fdca26"
             ],
             [
              1,
              "#f0f921"
             ]
            ],
            "type": "heatmapgl"
           }
          ],
          "histogram": [
           {
            "marker": {
             "pattern": {
              "fillmode": "overlay",
              "size": 10,
              "solidity": 0.2
             }
            },
            "type": "histogram"
           }
          ],
          "histogram2d": [
           {
            "colorbar": {
             "outlinewidth": 0,
             "ticks": ""
            },
            "colorscale": [
             [
              0,
              "#0d0887"
             ],
             [
              0.1111111111111111,
              "#46039f"
             ],
             [
              0.2222222222222222,
              "#7201a8"
             ],
             [
              0.3333333333333333,
              "#9c179e"
             ],
             [
              0.4444444444444444,
              "#bd3786"
             ],
             [
              0.5555555555555556,
              "#d8576b"
             ],
             [
              0.6666666666666666,
              "#ed7953"
             ],
             [
              0.7777777777777778,
              "#fb9f3a"
             ],
             [
              0.8888888888888888,
              "#fdca26"
             ],
             [
              1,
              "#f0f921"
             ]
            ],
            "type": "histogram2d"
           }
          ],
          "histogram2dcontour": [
           {
            "colorbar": {
             "outlinewidth": 0,
             "ticks": ""
            },
            "colorscale": [
             [
              0,
              "#0d0887"
             ],
             [
              0.1111111111111111,
              "#46039f"
             ],
             [
              0.2222222222222222,
              "#7201a8"
             ],
             [
              0.3333333333333333,
              "#9c179e"
             ],
             [
              0.4444444444444444,
              "#bd3786"
             ],
             [
              0.5555555555555556,
              "#d8576b"
             ],
             [
              0.6666666666666666,
              "#ed7953"
             ],
             [
              0.7777777777777778,
              "#fb9f3a"
             ],
             [
              0.8888888888888888,
              "#fdca26"
             ],
             [
              1,
              "#f0f921"
             ]
            ],
            "type": "histogram2dcontour"
           }
          ],
          "mesh3d": [
           {
            "colorbar": {
             "outlinewidth": 0,
             "ticks": ""
            },
            "type": "mesh3d"
           }
          ],
          "parcoords": [
           {
            "line": {
             "colorbar": {
              "outlinewidth": 0,
              "ticks": ""
             }
            },
            "type": "parcoords"
           }
          ],
          "pie": [
           {
            "automargin": true,
            "type": "pie"
           }
          ],
          "scatter": [
           {
            "fillpattern": {
             "fillmode": "overlay",
             "size": 10,
             "solidity": 0.2
            },
            "type": "scatter"
           }
          ],
          "scatter3d": [
           {
            "line": {
             "colorbar": {
              "outlinewidth": 0,
              "ticks": ""
             }
            },
            "marker": {
             "colorbar": {
              "outlinewidth": 0,
              "ticks": ""
             }
            },
            "type": "scatter3d"
           }
          ],
          "scattercarpet": [
           {
            "marker": {
             "colorbar": {
              "outlinewidth": 0,
              "ticks": ""
             }
            },
            "type": "scattercarpet"
           }
          ],
          "scattergeo": [
           {
            "marker": {
             "colorbar": {
              "outlinewidth": 0,
              "ticks": ""
             }
            },
            "type": "scattergeo"
           }
          ],
          "scattergl": [
           {
            "marker": {
             "colorbar": {
              "outlinewidth": 0,
              "ticks": ""
             }
            },
            "type": "scattergl"
           }
          ],
          "scattermapbox": [
           {
            "marker": {
             "colorbar": {
              "outlinewidth": 0,
              "ticks": ""
             }
            },
            "type": "scattermapbox"
           }
          ],
          "scatterpolar": [
           {
            "marker": {
             "colorbar": {
              "outlinewidth": 0,
              "ticks": ""
             }
            },
            "type": "scatterpolar"
           }
          ],
          "scatterpolargl": [
           {
            "marker": {
             "colorbar": {
              "outlinewidth": 0,
              "ticks": ""
             }
            },
            "type": "scatterpolargl"
           }
          ],
          "scatterternary": [
           {
            "marker": {
             "colorbar": {
              "outlinewidth": 0,
              "ticks": ""
             }
            },
            "type": "scatterternary"
           }
          ],
          "surface": [
           {
            "colorbar": {
             "outlinewidth": 0,
             "ticks": ""
            },
            "colorscale": [
             [
              0,
              "#0d0887"
             ],
             [
              0.1111111111111111,
              "#46039f"
             ],
             [
              0.2222222222222222,
              "#7201a8"
             ],
             [
              0.3333333333333333,
              "#9c179e"
             ],
             [
              0.4444444444444444,
              "#bd3786"
             ],
             [
              0.5555555555555556,
              "#d8576b"
             ],
             [
              0.6666666666666666,
              "#ed7953"
             ],
             [
              0.7777777777777778,
              "#fb9f3a"
             ],
             [
              0.8888888888888888,
              "#fdca26"
             ],
             [
              1,
              "#f0f921"
             ]
            ],
            "type": "surface"
           }
          ],
          "table": [
           {
            "cells": {
             "fill": {
              "color": "#EBF0F8"
             },
             "line": {
              "color": "white"
             }
            },
            "header": {
             "fill": {
              "color": "#C8D4E3"
             },
             "line": {
              "color": "white"
             }
            },
            "type": "table"
           }
          ]
         },
         "layout": {
          "annotationdefaults": {
           "arrowcolor": "#2a3f5f",
           "arrowhead": 0,
           "arrowwidth": 1
          },
          "autotypenumbers": "strict",
          "coloraxis": {
           "colorbar": {
            "outlinewidth": 0,
            "ticks": ""
           }
          },
          "colorscale": {
           "diverging": [
            [
             0,
             "#8e0152"
            ],
            [
             0.1,
             "#c51b7d"
            ],
            [
             0.2,
             "#de77ae"
            ],
            [
             0.3,
             "#f1b6da"
            ],
            [
             0.4,
             "#fde0ef"
            ],
            [
             0.5,
             "#f7f7f7"
            ],
            [
             0.6,
             "#e6f5d0"
            ],
            [
             0.7,
             "#b8e186"
            ],
            [
             0.8,
             "#7fbc41"
            ],
            [
             0.9,
             "#4d9221"
            ],
            [
             1,
             "#276419"
            ]
           ],
           "sequential": [
            [
             0,
             "#0d0887"
            ],
            [
             0.1111111111111111,
             "#46039f"
            ],
            [
             0.2222222222222222,
             "#7201a8"
            ],
            [
             0.3333333333333333,
             "#9c179e"
            ],
            [
             0.4444444444444444,
             "#bd3786"
            ],
            [
             0.5555555555555556,
             "#d8576b"
            ],
            [
             0.6666666666666666,
             "#ed7953"
            ],
            [
             0.7777777777777778,
             "#fb9f3a"
            ],
            [
             0.8888888888888888,
             "#fdca26"
            ],
            [
             1,
             "#f0f921"
            ]
           ],
           "sequentialminus": [
            [
             0,
             "#0d0887"
            ],
            [
             0.1111111111111111,
             "#46039f"
            ],
            [
             0.2222222222222222,
             "#7201a8"
            ],
            [
             0.3333333333333333,
             "#9c179e"
            ],
            [
             0.4444444444444444,
             "#bd3786"
            ],
            [
             0.5555555555555556,
             "#d8576b"
            ],
            [
             0.6666666666666666,
             "#ed7953"
            ],
            [
             0.7777777777777778,
             "#fb9f3a"
            ],
            [
             0.8888888888888888,
             "#fdca26"
            ],
            [
             1,
             "#f0f921"
            ]
           ]
          },
          "colorway": [
           "#636efa",
           "#EF553B",
           "#00cc96",
           "#ab63fa",
           "#FFA15A",
           "#19d3f3",
           "#FF6692",
           "#B6E880",
           "#FF97FF",
           "#FECB52"
          ],
          "font": {
           "color": "#2a3f5f"
          },
          "geo": {
           "bgcolor": "white",
           "lakecolor": "white",
           "landcolor": "#E5ECF6",
           "showlakes": true,
           "showland": true,
           "subunitcolor": "white"
          },
          "hoverlabel": {
           "align": "left"
          },
          "hovermode": "closest",
          "mapbox": {
           "style": "light"
          },
          "paper_bgcolor": "white",
          "plot_bgcolor": "#E5ECF6",
          "polar": {
           "angularaxis": {
            "gridcolor": "white",
            "linecolor": "white",
            "ticks": ""
           },
           "bgcolor": "#E5ECF6",
           "radialaxis": {
            "gridcolor": "white",
            "linecolor": "white",
            "ticks": ""
           }
          },
          "scene": {
           "xaxis": {
            "backgroundcolor": "#E5ECF6",
            "gridcolor": "white",
            "gridwidth": 2,
            "linecolor": "white",
            "showbackground": true,
            "ticks": "",
            "zerolinecolor": "white"
           },
           "yaxis": {
            "backgroundcolor": "#E5ECF6",
            "gridcolor": "white",
            "gridwidth": 2,
            "linecolor": "white",
            "showbackground": true,
            "ticks": "",
            "zerolinecolor": "white"
           },
           "zaxis": {
            "backgroundcolor": "#E5ECF6",
            "gridcolor": "white",
            "gridwidth": 2,
            "linecolor": "white",
            "showbackground": true,
            "ticks": "",
            "zerolinecolor": "white"
           }
          },
          "shapedefaults": {
           "line": {
            "color": "#2a3f5f"
           }
          },
          "ternary": {
           "aaxis": {
            "gridcolor": "white",
            "linecolor": "white",
            "ticks": ""
           },
           "baxis": {
            "gridcolor": "white",
            "linecolor": "white",
            "ticks": ""
           },
           "bgcolor": "#E5ECF6",
           "caxis": {
            "gridcolor": "white",
            "linecolor": "white",
            "ticks": ""
           }
          },
          "title": {
           "x": 0.05
          },
          "xaxis": {
           "automargin": true,
           "gridcolor": "white",
           "linecolor": "white",
           "ticks": "",
           "title": {
            "standoff": 15
           },
           "zerolinecolor": "white",
           "zerolinewidth": 2
          },
          "yaxis": {
           "automargin": true,
           "gridcolor": "white",
           "linecolor": "white",
           "ticks": "",
           "title": {
            "standoff": 15
           },
           "zerolinecolor": "white",
           "zerolinewidth": 2
          }
         }
        },
        "width": 600,
        "xaxis": {
         "anchor": "y",
         "autorange": "reversed",
         "domain": [
          0,
          0.94
         ]
        },
        "yaxis": {
         "anchor": "x",
         "domain": [
          0,
          1
         ]
        },
        "yaxis2": {
         "anchor": "x",
         "overlaying": "y",
         "side": "right"
        }
       }
      },
      "text/html": [
       "<div>                            <div id=\"7a389542-8827-4b8b-a16b-833c9ab6d7ae\" class=\"plotly-graph-div\" style=\"height:500px; width:600px;\"></div>            <script type=\"text/javascript\">                require([\"plotly\"], function(Plotly) {                    window.PLOTLYENV=window.PLOTLYENV || {};                                    if (document.getElementById(\"7a389542-8827-4b8b-a16b-833c9ab6d7ae\")) {                    Plotly.newPlot(                        \"7a389542-8827-4b8b-a16b-833c9ab6d7ae\",                        [{\"marker\":{\"color\":[3,2,1,5,4,6],\"colorbar\":{\"x\":-0.15},\"colorscale\":[[0.0,\"rgb(253, 237, 176)\"],[0.09090909090909091,\"rgb(250, 205, 145)\"],[0.18181818181818182,\"rgb(246, 173, 119)\"],[0.2727272727272727,\"rgb(240, 142, 98)\"],[0.36363636363636365,\"rgb(231, 109, 84)\"],[0.45454545454545453,\"rgb(216, 80, 83)\"],[0.5454545454545454,\"rgb(195, 56, 90)\"],[0.6363636363636364,\"rgb(168, 40, 96)\"],[0.7272727272727273,\"rgb(138, 29, 99)\"],[0.8181818181818182,\"rgb(107, 24, 93)\"],[0.9090909090909091,\"rgb(76, 21, 80)\"],[1.0,\"rgb(47, 15, 61)\"]]},\"orientation\":\"h\",\"x\":[9042244.0,8073877.5,8939152.0,8504634.75,9078002.5,8556853.0,9046580.0,8929475.25,8724326.5,8902783.75,8680026.0,8923480.5],\"y\":[1.0,2.0,3.0,4.0,5.0,6.0,7.0,8.0,9.0,10.0,11.0,12.0],\"type\":\"bar\",\"xaxis\":\"x\",\"yaxis\":\"y2\"}],                        {\"template\":{\"data\":{\"histogram2dcontour\":[{\"type\":\"histogram2dcontour\",\"colorbar\":{\"outlinewidth\":0,\"ticks\":\"\"},\"colorscale\":[[0.0,\"#0d0887\"],[0.1111111111111111,\"#46039f\"],[0.2222222222222222,\"#7201a8\"],[0.3333333333333333,\"#9c179e\"],[0.4444444444444444,\"#bd3786\"],[0.5555555555555556,\"#d8576b\"],[0.6666666666666666,\"#ed7953\"],[0.7777777777777778,\"#fb9f3a\"],[0.8888888888888888,\"#fdca26\"],[1.0,\"#f0f921\"]]}],\"choropleth\":[{\"type\":\"choropleth\",\"colorbar\":{\"outlinewidth\":0,\"ticks\":\"\"}}],\"histogram2d\":[{\"type\":\"histogram2d\",\"colorbar\":{\"outlinewidth\":0,\"ticks\":\"\"},\"colorscale\":[[0.0,\"#0d0887\"],[0.1111111111111111,\"#46039f\"],[0.2222222222222222,\"#7201a8\"],[0.3333333333333333,\"#9c179e\"],[0.4444444444444444,\"#bd3786\"],[0.5555555555555556,\"#d8576b\"],[0.6666666666666666,\"#ed7953\"],[0.7777777777777778,\"#fb9f3a\"],[0.8888888888888888,\"#fdca26\"],[1.0,\"#f0f921\"]]}],\"heatmap\":[{\"type\":\"heatmap\",\"colorbar\":{\"outlinewidth\":0,\"ticks\":\"\"},\"colorscale\":[[0.0,\"#0d0887\"],[0.1111111111111111,\"#46039f\"],[0.2222222222222222,\"#7201a8\"],[0.3333333333333333,\"#9c179e\"],[0.4444444444444444,\"#bd3786\"],[0.5555555555555556,\"#d8576b\"],[0.6666666666666666,\"#ed7953\"],[0.7777777777777778,\"#fb9f3a\"],[0.8888888888888888,\"#fdca26\"],[1.0,\"#f0f921\"]]}],\"heatmapgl\":[{\"type\":\"heatmapgl\",\"colorbar\":{\"outlinewidth\":0,\"ticks\":\"\"},\"colorscale\":[[0.0,\"#0d0887\"],[0.1111111111111111,\"#46039f\"],[0.2222222222222222,\"#7201a8\"],[0.3333333333333333,\"#9c179e\"],[0.4444444444444444,\"#bd3786\"],[0.5555555555555556,\"#d8576b\"],[0.6666666666666666,\"#ed7953\"],[0.7777777777777778,\"#fb9f3a\"],[0.8888888888888888,\"#fdca26\"],[1.0,\"#f0f921\"]]}],\"contourcarpet\":[{\"type\":\"contourcarpet\",\"colorbar\":{\"outlinewidth\":0,\"ticks\":\"\"}}],\"contour\":[{\"type\":\"contour\",\"colorbar\":{\"outlinewidth\":0,\"ticks\":\"\"},\"colorscale\":[[0.0,\"#0d0887\"],[0.1111111111111111,\"#46039f\"],[0.2222222222222222,\"#7201a8\"],[0.3333333333333333,\"#9c179e\"],[0.4444444444444444,\"#bd3786\"],[0.5555555555555556,\"#d8576b\"],[0.6666666666666666,\"#ed7953\"],[0.7777777777777778,\"#fb9f3a\"],[0.8888888888888888,\"#fdca26\"],[1.0,\"#f0f921\"]]}],\"surface\":[{\"type\":\"surface\",\"colorbar\":{\"outlinewidth\":0,\"ticks\":\"\"},\"colorscale\":[[0.0,\"#0d0887\"],[0.1111111111111111,\"#46039f\"],[0.2222222222222222,\"#7201a8\"],[0.3333333333333333,\"#9c179e\"],[0.4444444444444444,\"#bd3786\"],[0.5555555555555556,\"#d8576b\"],[0.6666666666666666,\"#ed7953\"],[0.7777777777777778,\"#fb9f3a\"],[0.8888888888888888,\"#fdca26\"],[1.0,\"#f0f921\"]]}],\"mesh3d\":[{\"type\":\"mesh3d\",\"colorbar\":{\"outlinewidth\":0,\"ticks\":\"\"}}],\"scatter\":[{\"fillpattern\":{\"fillmode\":\"overlay\",\"size\":10,\"solidity\":0.2},\"type\":\"scatter\"}],\"parcoords\":[{\"type\":\"parcoords\",\"line\":{\"colorbar\":{\"outlinewidth\":0,\"ticks\":\"\"}}}],\"scatterpolargl\":[{\"type\":\"scatterpolargl\",\"marker\":{\"colorbar\":{\"outlinewidth\":0,\"ticks\":\"\"}}}],\"bar\":[{\"error_x\":{\"color\":\"#2a3f5f\"},\"error_y\":{\"color\":\"#2a3f5f\"},\"marker\":{\"line\":{\"color\":\"#E5ECF6\",\"width\":0.5},\"pattern\":{\"fillmode\":\"overlay\",\"size\":10,\"solidity\":0.2}},\"type\":\"bar\"}],\"scattergeo\":[{\"type\":\"scattergeo\",\"marker\":{\"colorbar\":{\"outlinewidth\":0,\"ticks\":\"\"}}}],\"scatterpolar\":[{\"type\":\"scatterpolar\",\"marker\":{\"colorbar\":{\"outlinewidth\":0,\"ticks\":\"\"}}}],\"histogram\":[{\"marker\":{\"pattern\":{\"fillmode\":\"overlay\",\"size\":10,\"solidity\":0.2}},\"type\":\"histogram\"}],\"scattergl\":[{\"type\":\"scattergl\",\"marker\":{\"colorbar\":{\"outlinewidth\":0,\"ticks\":\"\"}}}],\"scatter3d\":[{\"type\":\"scatter3d\",\"line\":{\"colorbar\":{\"outlinewidth\":0,\"ticks\":\"\"}},\"marker\":{\"colorbar\":{\"outlinewidth\":0,\"ticks\":\"\"}}}],\"scattermapbox\":[{\"type\":\"scattermapbox\",\"marker\":{\"colorbar\":{\"outlinewidth\":0,\"ticks\":\"\"}}}],\"scatterternary\":[{\"type\":\"scatterternary\",\"marker\":{\"colorbar\":{\"outlinewidth\":0,\"ticks\":\"\"}}}],\"scattercarpet\":[{\"type\":\"scattercarpet\",\"marker\":{\"colorbar\":{\"outlinewidth\":0,\"ticks\":\"\"}}}],\"carpet\":[{\"aaxis\":{\"endlinecolor\":\"#2a3f5f\",\"gridcolor\":\"white\",\"linecolor\":\"white\",\"minorgridcolor\":\"white\",\"startlinecolor\":\"#2a3f5f\"},\"baxis\":{\"endlinecolor\":\"#2a3f5f\",\"gridcolor\":\"white\",\"linecolor\":\"white\",\"minorgridcolor\":\"white\",\"startlinecolor\":\"#2a3f5f\"},\"type\":\"carpet\"}],\"table\":[{\"cells\":{\"fill\":{\"color\":\"#EBF0F8\"},\"line\":{\"color\":\"white\"}},\"header\":{\"fill\":{\"color\":\"#C8D4E3\"},\"line\":{\"color\":\"white\"}},\"type\":\"table\"}],\"barpolar\":[{\"marker\":{\"line\":{\"color\":\"#E5ECF6\",\"width\":0.5},\"pattern\":{\"fillmode\":\"overlay\",\"size\":10,\"solidity\":0.2}},\"type\":\"barpolar\"}],\"pie\":[{\"automargin\":true,\"type\":\"pie\"}]},\"layout\":{\"autotypenumbers\":\"strict\",\"colorway\":[\"#636efa\",\"#EF553B\",\"#00cc96\",\"#ab63fa\",\"#FFA15A\",\"#19d3f3\",\"#FF6692\",\"#B6E880\",\"#FF97FF\",\"#FECB52\"],\"font\":{\"color\":\"#2a3f5f\"},\"hovermode\":\"closest\",\"hoverlabel\":{\"align\":\"left\"},\"paper_bgcolor\":\"white\",\"plot_bgcolor\":\"#E5ECF6\",\"polar\":{\"bgcolor\":\"#E5ECF6\",\"angularaxis\":{\"gridcolor\":\"white\",\"linecolor\":\"white\",\"ticks\":\"\"},\"radialaxis\":{\"gridcolor\":\"white\",\"linecolor\":\"white\",\"ticks\":\"\"}},\"ternary\":{\"bgcolor\":\"#E5ECF6\",\"aaxis\":{\"gridcolor\":\"white\",\"linecolor\":\"white\",\"ticks\":\"\"},\"baxis\":{\"gridcolor\":\"white\",\"linecolor\":\"white\",\"ticks\":\"\"},\"caxis\":{\"gridcolor\":\"white\",\"linecolor\":\"white\",\"ticks\":\"\"}},\"coloraxis\":{\"colorbar\":{\"outlinewidth\":0,\"ticks\":\"\"}},\"colorscale\":{\"sequential\":[[0.0,\"#0d0887\"],[0.1111111111111111,\"#46039f\"],[0.2222222222222222,\"#7201a8\"],[0.3333333333333333,\"#9c179e\"],[0.4444444444444444,\"#bd3786\"],[0.5555555555555556,\"#d8576b\"],[0.6666666666666666,\"#ed7953\"],[0.7777777777777778,\"#fb9f3a\"],[0.8888888888888888,\"#fdca26\"],[1.0,\"#f0f921\"]],\"sequentialminus\":[[0.0,\"#0d0887\"],[0.1111111111111111,\"#46039f\"],[0.2222222222222222,\"#7201a8\"],[0.3333333333333333,\"#9c179e\"],[0.4444444444444444,\"#bd3786\"],[0.5555555555555556,\"#d8576b\"],[0.6666666666666666,\"#ed7953\"],[0.7777777777777778,\"#fb9f3a\"],[0.8888888888888888,\"#fdca26\"],[1.0,\"#f0f921\"]],\"diverging\":[[0,\"#8e0152\"],[0.1,\"#c51b7d\"],[0.2,\"#de77ae\"],[0.3,\"#f1b6da\"],[0.4,\"#fde0ef\"],[0.5,\"#f7f7f7\"],[0.6,\"#e6f5d0\"],[0.7,\"#b8e186\"],[0.8,\"#7fbc41\"],[0.9,\"#4d9221\"],[1,\"#276419\"]]},\"xaxis\":{\"gridcolor\":\"white\",\"linecolor\":\"white\",\"ticks\":\"\",\"title\":{\"standoff\":15},\"zerolinecolor\":\"white\",\"automargin\":true,\"zerolinewidth\":2},\"yaxis\":{\"gridcolor\":\"white\",\"linecolor\":\"white\",\"ticks\":\"\",\"title\":{\"standoff\":15},\"zerolinecolor\":\"white\",\"automargin\":true,\"zerolinewidth\":2},\"scene\":{\"xaxis\":{\"backgroundcolor\":\"#E5ECF6\",\"gridcolor\":\"white\",\"linecolor\":\"white\",\"showbackground\":true,\"ticks\":\"\",\"zerolinecolor\":\"white\",\"gridwidth\":2},\"yaxis\":{\"backgroundcolor\":\"#E5ECF6\",\"gridcolor\":\"white\",\"linecolor\":\"white\",\"showbackground\":true,\"ticks\":\"\",\"zerolinecolor\":\"white\",\"gridwidth\":2},\"zaxis\":{\"backgroundcolor\":\"#E5ECF6\",\"gridcolor\":\"white\",\"linecolor\":\"white\",\"showbackground\":true,\"ticks\":\"\",\"zerolinecolor\":\"white\",\"gridwidth\":2}},\"shapedefaults\":{\"line\":{\"color\":\"#2a3f5f\"}},\"annotationdefaults\":{\"arrowcolor\":\"#2a3f5f\",\"arrowhead\":0,\"arrowwidth\":1},\"geo\":{\"bgcolor\":\"white\",\"landcolor\":\"#E5ECF6\",\"subunitcolor\":\"white\",\"showland\":true,\"showlakes\":true,\"lakecolor\":\"white\"},\"title\":{\"x\":0.05},\"mapbox\":{\"style\":\"light\"}}},\"xaxis\":{\"anchor\":\"y\",\"domain\":[0.0,0.94],\"autorange\":\"reversed\"},\"yaxis\":{\"anchor\":\"x\",\"domain\":[0.0,1.0]},\"yaxis2\":{\"anchor\":\"x\",\"overlaying\":\"y\",\"side\":\"right\"},\"width\":600,\"height\":500},                        {\"responsive\": true}                    ).then(function(){\n",
       "                            \n",
       "var gd = document.getElementById('7a389542-8827-4b8b-a16b-833c9ab6d7ae');\n",
       "var x = new MutationObserver(function (mutations, observer) {{\n",
       "        var display = window.getComputedStyle(gd).display;\n",
       "        if (!display || display === 'none') {{\n",
       "            console.log([gd, 'removed!']);\n",
       "            Plotly.purge(gd);\n",
       "            observer.disconnect();\n",
       "        }}\n",
       "}});\n",
       "\n",
       "// Listen for the removal of the full notebook cells\n",
       "var notebookContainer = gd.closest('#notebook-container');\n",
       "if (notebookContainer) {{\n",
       "    x.observe(notebookContainer, {childList: true});\n",
       "}}\n",
       "\n",
       "// Listen for the clearing of the current output cell\n",
       "var outputEl = gd.closest('.output');\n",
       "if (outputEl) {{\n",
       "    x.observe(outputEl, {childList: true});\n",
       "}}\n",
       "\n",
       "                        })                };                });            </script>        </div>"
      ]
     },
     "metadata": {},
     "output_type": "display_data"
    }
   ],
   "source": [
    "import plotly.graph_objects as go\n",
    "from plotly.subplots import make_subplots\n",
    "\n",
    "fig = make_subplots(specs=[[{\"secondary_y\": True}]])#secondary_y=True associates the right side yaxis\n",
    "fig.add_trace(go.Bar(x=df6['sales'], y= df6['month'], orientation='h',\n",
    "                     marker_color=[3,2,1,5,4,6], marker_colorscale='matter', \n",
    "                     marker_colorbar_x=-0.15), secondary_y=True)\n",
    "fig.update_xaxes(autorange='reversed')\n",
    "fig.update_layout(width=600, height=500)"
   ]
  },
  {
   "cell_type": "markdown",
   "id": "bdabfd6a",
   "metadata": {},
   "source": [
    "# Q2: Find the customer/bank/transaction(cash/online) wise total_sale_price joining fact table and respective dimension table "
   ]
  },
  {
   "cell_type": "code",
   "execution_count": 41,
   "id": "56e0b64c",
   "metadata": {},
   "outputs": [
    {
     "name": "stdout",
     "output_type": "stream",
     "text": [
      "Connection to DB established!\n"
     ]
    }
   ],
   "source": [
    "con=PostgresConnection().getConnection()"
   ]
  },
  {
   "cell_type": "code",
   "execution_count": 42,
   "id": "08913a9f",
   "metadata": {},
   "outputs": [
    {
     "data": {
      "text/plain": [
       "[('-                                                 ', Decimal('20643.50')),\n",
       " ('aafreen fatima                                    ', Decimal('11174.75')),\n",
       " ('aafrin                                            ', Decimal('22136.75')),\n",
       " ('aafrin @ dolly                                    ', Decimal('23529.75')),\n",
       " ('aaftaab husan                                     ', Decimal('9682.00')),\n",
       " ('aakanksha                                         ', Decimal('11469.00')),\n",
       " ('aaliya                                            ', Decimal('21663.25')),\n",
       " ('aamina                                            ', Decimal('12649.25')),\n",
       " ('aamir                                             ', Decimal('10134.00')),\n",
       " ('aamir hussain                                     ', Decimal('10892.50')),\n",
       " ('aamod & pramod                                    ', Decimal('12280.25')),\n",
       " ('aamrin jahan                                      ', Decimal('11622.00')),\n",
       " ('aanamika misra                                    ', Decimal('8929.25')),\n",
       " ('aanchal                                           ', Decimal('35703.50')),\n",
       " ('aanik with her son                                ', Decimal('8568.25')),\n",
       " ('aansi devi                                        ', Decimal('9909.00')),\n",
       " ('aanya @ china                                     ', Decimal('11443.50')),\n",
       " ('aaradhana @ priyanka                              ', Decimal('11469.25')),\n",
       " ('aarifa bano                                       ', Decimal('11295.75')),\n",
       " ('aarifun bivi                                      ', Decimal('13139.25')),\n",
       " ('aarti                                             ', Decimal('661675.25')),\n",
       " ('aarti @ kajal                                     ', Decimal('12108.50')),\n",
       " ('aarti @ noni                                      ', Decimal('12335.50')),\n",
       " ('aarti bunkar                                      ', Decimal('13661.75')),\n",
       " ('aarti devi                                        ', Decimal('26537.00')),\n",
       " ('aarti diwakar                                     ', Decimal('10892.00')),\n",
       " ('aarti pal                                         ', Decimal('8623.75')),\n",
       " ('aarti rajpoot                                     ', Decimal('12073.00')),\n",
       " ('aarti shaha                                       ', Decimal('8654.50')),\n",
       " ('aarti sharma                                      ', Decimal('12708.00')),\n",
       " ('aarti singh @ pooja                               ', Decimal('10977.75')),\n",
       " ('aasa devi                                         ', Decimal('12150.75')),\n",
       " ('aasha                                             ', Decimal('54875.75')),\n",
       " ('aasha devi                                        ', Decimal('12392.50')),\n",
       " ('aasha rani                                        ', Decimal('12823.25')),\n",
       " ('aashi                                             ', Decimal('10641.50')),\n",
       " ('aashiya                                           ', Decimal('25156.25')),\n",
       " ('aashma                                            ', Decimal('22078.75')),\n",
       " ('aashu                                             ', Decimal('13718.50')),\n",
       " ('aasish  kumar                                     ', Decimal('10054.00')),\n",
       " ('aasma                                             ', Decimal('20632.50')),\n",
       " ('aasmin                                            ', Decimal('33538.25')),\n",
       " ('aastha thakur                                     ', Decimal('12445.25')),\n",
       " ('aasto                                             ', Decimal('9838.75')),\n",
       " ('aasu                                              ', Decimal('11003.50')),\n",
       " ('aayana                                            ', Decimal('10980.75')),\n",
       " ('aayesha khatun                                    ', Decimal('11013.25')),\n",
       " ('aaysha                                            ', Decimal('35911.00')),\n",
       " ('aazadi@jully                                      ', Decimal('11713.75')),\n",
       " ('abbas                                             ', Decimal('13951.50')),\n",
       " ('abdul kadir                                       ', Decimal('11117.25')),\n",
       " ('abha kumari                                       ', Decimal('13553.25')),\n",
       " ('abhay                                             ', Decimal('10199.75')),\n",
       " ('abhijeet                                          ', Decimal('10775.50')),\n",
       " ('abhilasha                                         ', Decimal('8769.25')),\n",
       " ('abhimanyu                                         ', Decimal('12979.50')),\n",
       " ('abhinav chaudhary                                 ', Decimal('11791.00')),\n",
       " ('abhinav vashit                                    ', Decimal('10819.25')),\n",
       " ('abhishek                                          ', Decimal('11160.75')),\n",
       " ('abhishekh                                         ', Decimal('11776.00')),\n",
       " ('abida                                             ', Decimal('24704.75')),\n",
       " ('adersen                                           ', Decimal('11417.00')),\n",
       " ('aditi                                             ', Decimal('10204.25')),\n",
       " ('aditya negi                                       ', Decimal('12722.25')),\n",
       " ('aditya som                                        ', Decimal('10893.00')),\n",
       " ('adnan                                             ', Decimal('11681.75')),\n",
       " ('aesha                                             ', Decimal('12907.50')),\n",
       " ('afarin                                            ', Decimal('12181.75')),\n",
       " ('afridi                                            ', Decimal('11678.75')),\n",
       " ('afrin                                             ', Decimal('25317.25')),\n",
       " ('afrina                                            ', Decimal('10245.75')),\n",
       " ('afsana                                            ', Decimal('124420.00')),\n",
       " ('afsha                                             ', Decimal('9158.75')),\n",
       " ('afshana                                           ', Decimal('13123.50')),\n",
       " ('ahsamin @ juhi                                    ', Decimal('7554.25')),\n",
       " ('aishwarya                                         ', Decimal('9679.50')),\n",
       " ('ajahar                                            ', Decimal('11824.00')),\n",
       " ('ajay                                              ', Decimal('43418.25')),\n",
       " ('ajay haldar                                       ', Decimal('12397.25')),\n",
       " ('ajay kumar                                        ', Decimal('24325.75')),\n",
       " ('ajay narayan                                      ', Decimal('12187.00')),\n",
       " ('ajit                                              ', Decimal('10904.25')),\n",
       " ('ajju @ rubi                                       ', Decimal('13142.00')),\n",
       " ('ajmeri jaysmin                                    ', Decimal('14599.50')),\n",
       " ('ajnabi begum                                      ', Decimal('10437.75')),\n",
       " ('ajnoor baby                                       ', Decimal('12521.00')),\n",
       " ('ajra with child kadir                             ', Decimal('11609.25')),\n",
       " ('akansha                                           ', Decimal('76005.00')),\n",
       " ('akash                                             ', Decimal('20988.50')),\n",
       " ('akash gupta                                       ', Decimal('20230.25')),\n",
       " ('akash tomer                                       ', Decimal('10529.25')),\n",
       " ('akhil kumar                                       ', Decimal('12772.00')),\n",
       " ('akhilesh                                          ', Decimal('9714.00')),\n",
       " ('akhtari                                           ', Decimal('10526.75')),\n",
       " ('akhtari @ muskan                                  ', Decimal('13105.00')),\n",
       " ('akkash                                            ', Decimal('12313.00')),\n",
       " ('akram                                             ', Decimal('11058.25')),\n",
       " ('akshay kumar                                      ', Decimal('10350.75')),\n",
       " ('aktri aapa                                        ', Decimal('9842.25')),\n",
       " ('alahbasri                                         ', Decimal('10312.50')),\n",
       " ('alam aara                                         ', Decimal('10854.75')),\n",
       " ('alapna                                            ', Decimal('10224.50')),\n",
       " ('aleesha                                           ', Decimal('10920.75')),\n",
       " ('alema                                             ', Decimal('10680.25')),\n",
       " ('alima @ pinki                                     ', Decimal('11519.00')),\n",
       " ('alina                                             ', Decimal('11870.75')),\n",
       " ('alisha @ annu                                     ', Decimal('12164.50')),\n",
       " ('alisha jain                                       ', Decimal('11035.25')),\n",
       " ('alisha khan                                       ', Decimal('11872.50')),\n",
       " ('alisha loomba                                     ', Decimal('11646.75')),\n",
       " ('alita kujur                                       ', Decimal('10312.00')),\n",
       " ('aliya                                             ', Decimal('11760.00')),\n",
       " ('alka                                              ', Decimal('65765.25')),\n",
       " ('alka sharma                                       ', Decimal('13213.00')),\n",
       " ('almina                                            ', Decimal('11617.50')),\n",
       " ('alok tiwari                                       ', Decimal('11603.50')),\n",
       " ('alseepa                                           ', Decimal('12565.00')),\n",
       " ('aman                                              ', Decimal('11829.50')),\n",
       " ('aman dahiya                                       ', Decimal('12202.25')),\n",
       " ('aman deep kaur                                    ', Decimal('12430.50')),\n",
       " ('aman gill                                         ', Decimal('10729.50')),\n",
       " ('aman jeet                                         ', Decimal('13347.00')),\n",
       " ('aman kumar                                        ', Decimal('12210.50')),\n",
       " ('amandeep kaur                                     ', Decimal('21108.50')),\n",
       " ('amanjeet kour                                     ', Decimal('24521.75')),\n",
       " ('amar                                              ', Decimal('9741.00')),\n",
       " ('amar deep kaur                                    ', Decimal('10666.00')),\n",
       " ('amarapal                                          ', Decimal('10391.75')),\n",
       " ('amardeep                                          ', Decimal('12060.75')),\n",
       " ('amarin                                            ', Decimal('14262.00')),\n",
       " ('amarjeet                                          ', Decimal('20505.25')),\n",
       " ('amarjit kaur with a child keshav                  ', Decimal('12527.25')),\n",
       " ('amarmula                                          ', Decimal('12764.00')),\n",
       " ('amasi munda                                       ', Decimal('9715.75')),\n",
       " ('amba  balai                                       ', Decimal('12788.75')),\n",
       " ('ambika                                            ', Decimal('37588.50')),\n",
       " ('ambika gupta                                      ', Decimal('12369.25')),\n",
       " ('ambika panwan                                     ', Decimal('9903.75')),\n",
       " ('ambiya                                            ', Decimal('22999.25')),\n",
       " ('ameera lakra                                      ', Decimal('11900.25')),\n",
       " ('amida @ poonam                                    ', Decimal('12623.25')),\n",
       " ('amijan                                            ', Decimal('10420.00')),\n",
       " ('amina begam                                       ', Decimal('10911.75')),\n",
       " ('amiraka                                           ', Decimal('10471.00')),\n",
       " ('amirul nisha                                      ', Decimal('10628.00')),\n",
       " ('amisha                                            ', Decimal('24970.50')),\n",
       " ('amit                                              ', Decimal('45560.50')),\n",
       " ('amit kumar                                        ', Decimal('33324.75')),\n",
       " ('amit kumar shukla                                 ', Decimal('13678.75')),\n",
       " ('amit kumar yadav                                  ', Decimal('10304.25')),\n",
       " ('amreen                                            ', Decimal('14627.25')),\n",
       " ('amreeta                                           ', Decimal('12290.50')),\n",
       " ('amrik kaur                                        ', Decimal('12856.50')),\n",
       " ('amrit pal                                         ', Decimal('11543.25')),\n",
       " ('amrit patel                                       ', Decimal('10174.75')),\n",
       " ('amrita                                            ', Decimal('44548.25')),\n",
       " ('amrita @ashoda                                    ', Decimal('9248.25')),\n",
       " ('amrita kaur                                       ', Decimal('11478.50')),\n",
       " ('amritha                                           ', Decimal('11909.50')),\n",
       " ('amrudin                                           ', Decimal('10722.00')),\n",
       " ('amuda                                             ', Decimal('10147.25')),\n",
       " ('anam                                              ', Decimal('23256.50')),\n",
       " ('anamika                                           ', Decimal('32869.25')),\n",
       " ('anand                                             ', Decimal('8060.75')),\n",
       " ('anandi                                            ', Decimal('13223.50')),\n",
       " ('anandi bai                                        ', Decimal('11856.25')),\n",
       " ('anarkali                                          ', Decimal('9596.25')),\n",
       " ('anaro devi                                        ', Decimal('13439.75')),\n",
       " ('anayatha naidu                                    ', Decimal('12226.75')),\n",
       " ('anchal                                            ', Decimal('53373.00')),\n",
       " ('andhav                                            ', Decimal('13066.75')),\n",
       " ('aneeta                                            ', Decimal('25485.50')),\n",
       " ('anguri                                            ', Decimal('11653.50')),\n",
       " ('anguri bai                                        ', Decimal('10959.00')),\n",
       " ('anil kumar                                        ', Decimal('21880.00')),\n",
       " ('anil sharma                                       ', Decimal('11244.75')),\n",
       " ('anisha                                            ', Decimal('44584.75')),\n",
       " ('anisha jain                                       ', Decimal('12280.75')),\n",
       " ('anita                                             ', Decimal('585949.50')),\n",
       " ('anita @ manju                                     ', Decimal('11814.00')),\n",
       " ('anita alongwith her child prince                  ', Decimal('10686.75')),\n",
       " ('anita bai                                         ', Decimal('10971.50')),\n",
       " ('anita d/o ramewsh kumar                           ', Decimal('11840.50')),\n",
       " ('anita devi                                        ', Decimal('61957.00')),\n",
       " ('anita garg                                        ', Decimal('12016.25')),\n",
       " ('anita gop                                         ', Decimal('10086.75')),\n",
       " ('anita gupta                                       ', Decimal('13563.25')),\n",
       " ('anita kerketa                                     ', Decimal('12967.75')),\n",
       " ('anita kumari                                      ', Decimal('24574.50')),\n",
       " ('anita kunwar                                      ', Decimal('8793.75')),\n",
       " ('anita rajput                                      ', Decimal('9163.00')),\n",
       " ('anita sharma                                      ', Decimal('11697.25')),\n",
       " ('anita suthar                                      ', Decimal('11027.25')),\n",
       " ('anita vohra                                       ', Decimal('11785.75')),\n",
       " ('anita vyas                                        ', Decimal('10469.00')),\n",
       " ('anita w/o shimbhu                                 ', Decimal('11476.50')),\n",
       " ('anita with her 2 children namely ramesh and siraj ', Decimal('9814.50')),\n",
       " ('anjali                                            ', Decimal('435580.25')),\n",
       " ('anjali  @ nisha                                   ', Decimal('12269.00')),\n",
       " ('anjali @ babli                                    ', Decimal('9808.25')),\n",
       " ('anjali @ nanu                                     ', Decimal('9768.75')),\n",
       " ('anjali juneja                                     ', Decimal('10053.25')),\n",
       " ('anjali kiski                                      ', Decimal('9358.75')),\n",
       " ('anjali sangwar                                    ', Decimal('12467.00')),\n",
       " ('anjali sharma                                     ', Decimal('11315.50')),\n",
       " ('anjali@rinku                                      ', Decimal('9459.00')),\n",
       " ('anjana                                            ', Decimal('34288.25')),\n",
       " ('anjana kumari                                     ', Decimal('11217.00')),\n",
       " ('anjana mahajan                                    ', Decimal('13528.50')),\n",
       " ('anjani devi                                       ', Decimal('9365.00')),\n",
       " ('anjara @ vicky                                    ', Decimal('11636.50')),\n",
       " ('anjila                                            ', Decimal('12102.25')),\n",
       " ('anjli                                             ', Decimal('68601.50')),\n",
       " ('anjli @ arti                                      ', Decimal('11146.00')),\n",
       " ('anjna                                             ', Decimal('12250.75')),\n",
       " ('anju                                              ', Decimal('257998.00')),\n",
       " ('anju bala @ sunaina                               ', Decimal('13696.00')),\n",
       " ('anju devi                                         ', Decimal('82276.50')),\n",
       " ('anju goyal                                        ', Decimal('11946.75')),\n",
       " ('anju jain                                         ', Decimal('21292.25')),\n",
       " ('anju kumari                                       ', Decimal('45398.50')),\n",
       " ('anju naagar                                       ', Decimal('9001.75')),\n",
       " ('anju tomar                                        ', Decimal('11126.75')),\n",
       " ('anjum                                             ', Decimal('72581.75')),\n",
       " ('anjum devi                                        ', Decimal('12301.75')),\n",
       " ('ankit                                             ', Decimal('9462.75')),\n",
       " ('ankit goyel                                       ', Decimal('11565.75')),\n",
       " ('ankit tiwari                                      ', Decimal('11817.75')),\n",
       " ('ankita                                            ', Decimal('23757.25')),\n",
       " ('ankita @ mini                                     ', Decimal('8795.50')),\n",
       " ('ankita bagh                                       ', Decimal('12332.25')),\n",
       " ('ankita kanwar rathore                             ', Decimal('10905.25')),\n",
       " ('ankita negi                                       ', Decimal('12105.75')),\n",
       " ('ankita singh                                      ', Decimal('9222.50')),\n",
       " ('ankush                                            ', Decimal('13973.75')),\n",
       " ('ankush @ shera                                    ', Decimal('9424.75')),\n",
       " ('annavi begam                                      ', Decimal('10893.75')),\n",
       " ('anno@ mahrun                                      ', Decimal('13091.50')),\n",
       " ('annu                                              ', Decimal('83054.00')),\n",
       " ('annu @ anita                                      ', Decimal('10195.00')),\n",
       " ('annu devi                                         ', Decimal('10931.00')),\n",
       " ('annu kashyap                                      ', Decimal('11591.00')),\n",
       " ('annu kumari                                       ', Decimal('10811.00')),\n",
       " ('annu sharma                                       ', Decimal('26798.00')),\n",
       " ('annu soni                                         ', Decimal('10894.50')),\n",
       " ('anoopama                                          ', Decimal('8868.00')),\n",
       " ('anoura khatun                                     ', Decimal('12858.25')),\n",
       " ('anshika                                           ', Decimal('37625.75')),\n",
       " ('anshika kumari                                    ', Decimal('12048.00')),\n",
       " ('anshiya mehta                                     ', Decimal('10492.00')),\n",
       " ('anshu                                             ', Decimal('42646.00')),\n",
       " ('anshu d/o                                         ', Decimal('9878.00')),\n",
       " ('anshu gupta                                       ', Decimal('12187.25')),\n",
       " ('anshul                                            ', Decimal('10740.50')),\n",
       " ('ansu                                              ', Decimal('12382.25')),\n",
       " ('antim                                             ', Decimal('10247.50')),\n",
       " ('antima                                            ', Decimal('9426.75')),\n",
       " ('anu                                               ', Decimal('33346.75')),\n",
       " ('anu jain                                          ', Decimal('12266.25')),\n",
       " ('anu kumari                                        ', Decimal('23591.00')),\n",
       " ('anubhav shrivastab                                ', Decimal('12431.75')),\n",
       " ('anuj tiwari                                       ', Decimal('12594.00')),\n",
       " ('anupam                                            ', Decimal('12371.75')),\n",
       " ('anupama                                           ', Decimal('34830.50')),\n",
       " ('anuradha                                          ', Decimal('114487.00')),\n",
       " ('anuradha @ anu                                    ', Decimal('11305.75')),\n",
       " ('anushka                                           ', Decimal('11739.75')),\n",
       " ('anushka kanwar                                    ', Decimal('11869.50')),\n",
       " ('anushka sharma @ pooja                            ', Decimal('12582.00')),\n",
       " ('anusoya                                           ', Decimal('12535.25')),\n",
       " ('anuu                                              ', Decimal('12138.00')),\n",
       " ('anwar                                             ', Decimal('10323.75')),\n",
       " ('anwari                                            ', Decimal('10334.25')),\n",
       " ('any bobby                                         ', Decimal('11053.25')),\n",
       " ('aparna                                            ', Decimal('11133.50')),\n",
       " ('apsana                                            ', Decimal('14421.75')),\n",
       " ('araddhna                                          ', Decimal('11393.25')),\n",
       " ('aradhana @ radha                                  ', Decimal('14278.25')),\n",
       " ('arati                                             ', Decimal('20058.00')),\n",
       " ('arati kashyap                                     ', Decimal('11329.50')),\n",
       " ('archana                                           ', Decimal('146905.25')),\n",
       " ('archana singh                                     ', Decimal('12356.00')),\n",
       " ('archna                                            ', Decimal('53915.00')),\n",
       " ('archna marwha                                     ', Decimal('8420.50')),\n",
       " ('arjina                                            ', Decimal('10821.50')),\n",
       " ('arjun                                             ', Decimal('13550.00')),\n",
       " ('arjun singh                                       ', Decimal('12423.00')),\n",
       " ('arman ansari                                      ', Decimal('9396.00')),\n",
       " ('armita                                            ', Decimal('12846.00')),\n",
       " ('arshi                                             ', Decimal('23563.75')),\n",
       " ('arshi bisht                                       ', Decimal('22787.50')),\n",
       " ('arshla                                            ', Decimal('10131.75')),\n",
       " ('arsi                                              ', Decimal('38193.25')),\n",
       " ('arsi praveen                                      ', Decimal('13329.50')),\n",
       " ('arthi                                             ', Decimal('9264.00')),\n",
       " ('arti                                              ', Decimal('337684.25')),\n",
       " ('arti arora                                        ', Decimal('14520.25')),\n",
       " ('arti devi                                         ', Decimal('10874.00')),\n",
       " ('arti devi with two child dhanraj & anushka        ', Decimal('10879.75')),\n",
       " ('arti kumari                                       ', Decimal('10779.75')),\n",
       " ('arti kumari d/o sunil sadu                        ', Decimal('14581.75')),\n",
       " ('arti kumari sahu                                  ', Decimal('13110.75')),\n",
       " ('arti soni                                         ', Decimal('12356.75')),\n",
       " ('arun                                              ', Decimal('23006.00')),\n",
       " ('arun @ vicky                                      ', Decimal('11922.75')),\n",
       " ('arun kumar                                        ', Decimal('11789.00')),\n",
       " ('aruna                                             ', Decimal('22421.00')),\n",
       " ('aruna devi                                        ', Decimal('11168.75')),\n",
       " ('aruna with children                               ', Decimal('13666.75')),\n",
       " ('aruni                                             ', Decimal('11861.75')),\n",
       " ('arvind agarwal @ pinto                            ', Decimal('11405.25')),\n",
       " ('arzoo                                             ', Decimal('12408.50')),\n",
       " ('asana                                             ', Decimal('12178.75')),\n",
       " ('asgari bagam                                      ', Decimal('12602.00')),\n",
       " ('asha                                              ', Decimal('243533.00')),\n",
       " ('asha & harshita                                   ', Decimal('9951.50')),\n",
       " ('asha @ mamta                                      ', Decimal('11948.00')),\n",
       " ('asha devi                                         ', Decimal('92663.75')),\n",
       " ('asha devi wth a child                             ', Decimal('11207.50')),\n",
       " ('asha kashyap                                      ', Decimal('11779.25')),\n",
       " ('asha kumari                                       ', Decimal('23873.25')),\n",
       " ('asha naidu                                        ', Decimal('12977.50')),\n",
       " ('asha sharma                                       ', Decimal('9461.75')),\n",
       " ('ashanjali                                         ', Decimal('11819.00')),\n",
       " ('asharani                                          ', Decimal('11565.00')),\n",
       " ('ashfaq                                            ', Decimal('12617.75')),\n",
       " ('ashima khatoon                                    ', Decimal('12416.50')),\n",
       " ('ashish                                            ', Decimal('24448.50')),\n",
       " ('ashiya                                            ', Decimal('12299.00')),\n",
       " ('ashman praveen                                    ', Decimal('9919.75')),\n",
       " ('asho                                              ', Decimal('10923.00')),\n",
       " ('ashok kharkwal                                    ', Decimal('11980.00')),\n",
       " ('ashok kumar s/o                                   ', Decimal('10707.50')),\n",
       " ('ashok sharma                                      ', Decimal('12054.50')),\n",
       " ('ashra kaushar                                     ', Decimal('11782.50')),\n",
       " ('ashshwer parsad                                   ', Decimal('9645.50')),\n",
       " ('ashsish kumar                                     ', Decimal('11381.50')),\n",
       " ('ashtha                                            ', Decimal('10545.50')),\n",
       " ('ashu                                              ', Decimal('49442.75')),\n",
       " ('ashwani chhabra                                   ', Decimal('10751.75')),\n",
       " ('aslam allam                                       ', Decimal('8485.50')),\n",
       " ('asma khatun                                       ', Decimal('10885.50')),\n",
       " ('asman                                             ', Decimal('11547.25')),\n",
       " ('asmin                                             ', Decimal('10431.50')),\n",
       " ('asmit kaur                                        ', Decimal('12454.00')),\n",
       " ('asmita                                            ', Decimal('12143.00')),\n",
       " ('astha                                             ', Decimal('13235.50')),\n",
       " ('astha pareek                                      ', Decimal('10610.50')),\n",
       " ('atta                                              ', Decimal('9450.25')),\n",
       " ('attar kali                                        ', Decimal('10745.75')),\n",
       " ('avastha khatun                                    ', Decimal('11334.00')),\n",
       " ('avdhesh                                           ', Decimal('12922.25')),\n",
       " ('avinash                                           ', Decimal('11127.75')),\n",
       " ('avinsh                                            ', Decimal('11663.50')),\n",
       " ('axat                                              ', Decimal('12049.75')),\n",
       " ('aysha                                             ', Decimal('11956.50')),\n",
       " ('ayub khan                                         ', Decimal('11316.75')),\n",
       " ('ayush                                             ', Decimal('24444.50')),\n",
       " ('azaz                                              ', Decimal('10302.50')),\n",
       " ('azhar  ali                                        ', Decimal('15449.25')),\n",
       " ('azmira                                            ', Decimal('10917.25')),\n",
       " ('azruddin                                          ', Decimal('10852.00')),\n",
       " ('b vikjay kumar                                    ', Decimal('12484.00')),\n",
       " ('b. vinothini                                      ', Decimal('11346.50')),\n",
       " ('babali                                            ', Decimal('9727.50')),\n",
       " ('babalu sen                                        ', Decimal('9936.25')),\n",
       " ('baban @ suresh                                    ', Decimal('13480.75')),\n",
       " ('babbu singh                                       ', Decimal('10417.75')),\n",
       " ('babby                                             ', Decimal('12193.00')),\n",
       " ('babita                                            ', Decimal('428550.00')),\n",
       " ('babita @ binny                                    ', Decimal('10573.75')),\n",
       " ('babita bajali                                     ', Decimal('12676.25')),\n",
       " ('babita devi                                       ', Decimal('9593.75')),\n",
       " ('babita kaushik                                    ', Decimal('10361.25')),\n",
       " ('babita khatoon                                    ', Decimal('10791.50')),\n",
       " ('babita kumari                                     ', Decimal('11929.25')),\n",
       " ('babita negi                                       ', Decimal('10792.75')),\n",
       " ('babita pandey                                     ', Decimal('12493.50')),\n",
       " ('babita singh                                      ', Decimal('11023.00')),\n",
       " ('babli                                             ', Decimal('172509.75')),\n",
       " ('babli @ ritu                                      ', Decimal('12352.50')),\n",
       " ('babli d/o suresh                                  ', Decimal('11489.00')),\n",
       " ('babli kumari                                      ', Decimal('12161.00')),\n",
       " ('babli sharma                                      ', Decimal('9870.25')),\n",
       " ('babli sultana                                     ', Decimal('11925.25')),\n",
       " ('babloo                                            ', Decimal('11489.25')),\n",
       " ('bablu                                             ', Decimal('27433.00')),\n",
       " ('bablu regar                                       ', Decimal('9403.50')),\n",
       " ('baby                                              ', Decimal('97359.50')),\n",
       " ('baby chauhan w/o govind                           ', Decimal('9543.50')),\n",
       " ('baby devi                                         ', Decimal('11475.25')),\n",
       " ('baby shine                                        ', Decimal('9271.50')),\n",
       " ('badami                                            ', Decimal('10743.25')),\n",
       " ('badarjahan                                        ', Decimal('9461.00')),\n",
       " ('badru nisha                                       ', Decimal('12509.25')),\n",
       " ('badrunisha                                        ', Decimal('10710.25')),\n",
       " ('bahalen angriya                                   ', Decimal('14463.50')),\n",
       " ('bahwana                                           ', Decimal('7105.50')),\n",
       " ('baita                                             ', Decimal('11485.25')),\n",
       " ('bakhtvaar jahan                                   ', Decimal('10942.50')),\n",
       " ('bakila w/ o ankil                                 ', Decimal('10412.50')),\n",
       " ('bala                                              ', Decimal('34317.25')),\n",
       " ('bala devi                                         ', Decimal('33180.50')),\n",
       " ('balalia ngadong                                   ', Decimal('24723.50')),\n",
       " ('baljeet kaur                                      ', Decimal('25424.25')),\n",
       " ('balraj                                            ', Decimal('12382.50')),\n",
       " ('bandana                                           ', Decimal('11024.25')),\n",
       " ('bandani                                           ', Decimal('12923.25')),\n",
       " ('bantu devi                                        ', Decimal('10567.50')),\n",
       " ('barakha                                           ', Decimal('13930.25')),\n",
       " ('barkha                                            ', Decimal('104488.50')),\n",
       " ('barti                                             ', Decimal('9862.00')),\n",
       " ('basanti                                           ', Decimal('12710.00')),\n",
       " ('basiran                                           ', Decimal('10351.50')),\n",
       " ('basnti                                            ', Decimal('11668.50')),\n",
       " ('batasi                                            ', Decimal('11339.0')),\n",
       " ('batloon w/o garib ulla                            ', Decimal('12530.25')),\n",
       " ('beauty                                            ', Decimal('23789.75')),\n",
       " ('beauty dass                                       ', Decimal('21502.75')),\n",
       " ('beauty khatoon                                    ', Decimal('12159.25')),\n",
       " ('bebi                                              ', Decimal('11757.50')),\n",
       " ('beena                                             ', Decimal('76379.00')),\n",
       " ('beera                                             ', Decimal('11731.25')),\n",
       " ('beeru                                             ', Decimal('12798.50')),\n",
       " ('beeuty kumari                                     ', Decimal('12309.50')),\n",
       " ('begam d/o                                         ', Decimal('11754.25')),\n",
       " ('benjir heena mohd.                                ', Decimal('11999.75')),\n",
       " ('beti bai                                          ', Decimal('12345.50')),\n",
       " ('bhabhiya (with mother namely rakhi)               ', Decimal('9682.75')),\n",
       " ('bhag chand                                        ', Decimal('11530.50')),\n",
       " ('bhaggo devi                                       ', Decimal('10212.75')),\n",
       " ('bhagirathi                                        ', Decimal('12811.25')),\n",
       " ('bhagwanti                                         ', Decimal('11815.25')),\n",
       " ('bhagwati                                          ', Decimal('38709.25')),\n",
       " ('bhagwati @ bhagoti devi                           ', Decimal('11602.25')),\n",
       " ('bhagwati @bhoti                                   ', Decimal('12536.75')),\n",
       " ('bhagwati prasad                                   ', Decimal('13337.00')),\n",
       " ('bhagwati@shinnu                                   ', Decimal('23870.75')),\n",
       " ('bhagya shree                                      ', Decimal('12231.25')),\n",
       " ('bhanu                                             ', Decimal('11569.50')),\n",
       " ('bhanu priya                                       ', Decimal('11395.25')),\n",
       " ('bhanu sharma @ alish                              ', Decimal('11745.25')),\n",
       " ('bhanupriya                                        ', Decimal('10968.75')),\n",
       " ('bhanwar lal                                       ', Decimal('11807.25')),\n",
       " ('bhanwar singh                                     ', Decimal('13093.75')),\n",
       " ('bhanweri                                          ', Decimal('10805.50')),\n",
       " ('bharat                                            ', Decimal('10778.25')),\n",
       " ('bharati@ruchika                                   ', Decimal('11077.75')),\n",
       " ('bharkah                                           ', Decimal('13043.75')),\n",
       " ('bharkha                                           ', Decimal('12147.75')),\n",
       " ('bharti                                            ', Decimal('186075.00')),\n",
       " ('bharti devi                                       ', Decimal('22327.00')),\n",
       " ('bharti jain with her two son palak jain age 11 yrs', Decimal('13731.50')),\n",
       " ('bharti kumari                                     ', Decimal('11651.00')),\n",
       " ('bharti pasi                                       ', Decimal('11645.75')),\n",
       " ('bharti singh @ sona                               ', Decimal('21926.25')),\n",
       " ('bhatari                                           ', Decimal('11662.25')),\n",
       " ('bhateri @ bhawna                                  ', Decimal('9499.25')),\n",
       " ('bhatri                                            ', Decimal('12771.00')),\n",
       " ('bhavana                                           ', Decimal('23683.75')),\n",
       " ('bhavesh dass                                      ', Decimal('11235.75')),\n",
       " ('bhavna                                            ', Decimal('19563.00')),\n",
       " ('bhavna makwana                                    ', Decimal('11016.00')),\n",
       " ('bhavna oad                                        ', Decimal('12622.75')),\n",
       " ('bhavna suthar                                     ', Decimal('11127.75')),\n",
       " ('bhawana                                           ', Decimal('138088.00')),\n",
       " ('bhawana @ shannu                                  ', Decimal('14496.75')),\n",
       " ('bhawana jat                                       ', Decimal('11548.00')),\n",
       " ('bhawana kapoor                                    ', Decimal('9770.50')),\n",
       " ('bhawana sharma                                    ', Decimal('11998.00')),\n",
       " ('bhawna                                            ', Decimal('153902.50')),\n",
       " ('bhawna @ sonam                                    ', Decimal('9563.25')),\n",
       " ('bhawna sejwani                                    ', Decimal('13995.75')),\n",
       " ('bhola sarkar                                      ', Decimal('10300.75')),\n",
       " ('bhopal singh                                      ', Decimal('9491.50')),\n",
       " ('bhrat narayn                                      ', Decimal('12040.00')),\n",
       " ('bhudevi                                           ', Decimal('22475.00')),\n",
       " ('bhuli merutha                                     ', Decimal('10183.50')),\n",
       " ('bhumika                                           ', Decimal('12566.75')),\n",
       " ('bhumika chettri                                   ', Decimal('12929.25')),\n",
       " ('bhupender                                         ', Decimal('9974.00')),\n",
       " ('bhuri                                             ', Decimal('29052.00')),\n",
       " ('bhuri devi                                        ', Decimal('23566.75')),\n",
       " ('bhuri vishnaw                                     ', Decimal('11338.25')),\n",
       " ('bhushan sahay                                     ', Decimal('12523.50')),\n",
       " ('bigan mehto                                       ', Decimal('11393.25')),\n",
       " ('bilal malik                                       ', Decimal('9654.75')),\n",
       " ('bilke khatoon                                     ', Decimal('13460.75')),\n",
       " ('bilkis                                            ', Decimal('10117.25')),\n",
       " ('bima                                              ', Decimal('13813.75')),\n",
       " ('bimla                                             ', Decimal('61547.50')),\n",
       " ('bimla devi                                        ', Decimal('13009.00')),\n",
       " ('bimlesh                                           ', Decimal('20984.75')),\n",
       " ('bina                                              ', Decimal('12253.50')),\n",
       " ('bina bai                                          ', Decimal('11717.00')),\n",
       " ('bindi budra                                       ', Decimal('11696.50')),\n",
       " ('bindiya                                           ', Decimal('13803.00')),\n",
       " ('bindu                                             ', Decimal('44936.00')),\n",
       " ('bindu devi                                        ', Decimal('12766.50')),\n",
       " ('binita                                            ', Decimal('12706.25')),\n",
       " ('binnu                                             ', Decimal('9995.50')),\n",
       " ('birjesh                                           ', Decimal('11582.00')),\n",
       " ('birju                                             ', Decimal('13358.75')),\n",
       " ('birmadevi                                         ', Decimal('12583.75')),\n",
       " ('birmati                                           ', Decimal('10801.75')),\n",
       " ('birtha devi                                       ', Decimal('11268.25')),\n",
       " ('bishnu aale magar                                 ', Decimal('11424.50')),\n",
       " ('bishun                                            ', Decimal('9172.25')),\n",
       " ('bitoo devi                                        ', Decimal('12794.50')),\n",
       " ('bitto                                             ', Decimal('12655.00')),\n",
       " ('biwa kumari                                       ', Decimal('10478.25')),\n",
       " ('bobi                                              ', Decimal('11445.25')),\n",
       " ('bohati devi                                       ', Decimal('11692.25')),\n",
       " ('brahamprakash s/o meer singh                      ', Decimal('11549.50')),\n",
       " ('brij raj                                          ', Decimal('12662.00')),\n",
       " ('brinda                                            ', Decimal('11863.50')),\n",
       " ('brkha                                             ', Decimal('11502.25')),\n",
       " ('bsram devi                                        ', Decimal('13029.50')),\n",
       " ('buity                                             ', Decimal('10412.00')),\n",
       " ('bulbul                                            ', Decimal('10640.25')),\n",
       " ('bulbul  devi                                      ', Decimal('10483.25')),\n",
       " ('bunty                                             ', Decimal('9666.00')),\n",
       " ('busra @ muskan                                    ', Decimal('11317.00')),\n",
       " ('captain                                           ', Decimal('12672.00')),\n",
       " ('chahat                                            ', Decimal('37295.25')),\n",
       " ('chama ( with child dependeri age 2 years)         ', Decimal('9714.00')),\n",
       " ('chameli                                           ', Decimal('12286.25')),\n",
       " ('champa @ hema                                     ', Decimal('10592.00')),\n",
       " ('champa devi                                       ', Decimal('21878.00')),\n",
       " ('champa karketta                                   ', Decimal('11673.00')),\n",
       " ('chanab                                            ', Decimal('15862.00')),\n",
       " ('chanchal                                          ', Decimal('181575.25')),\n",
       " ('chanchal @ komal                                  ', Decimal('10648.75')),\n",
       " ('chanchal @ rubi                                   ', Decimal('23142.50')),\n",
       " ('chanchal kumari                                   ', Decimal('11504.25')),\n",
       " ('chanchal sharma                                   ', Decimal('10844.75')),\n",
       " ('chanchl $ ghuddi                                  ', Decimal('11673.75')),\n",
       " ('chand kunwar                                      ', Decimal('12332.00')),\n",
       " ('chand mundari@geeta                               ', Decimal('12830.50')),\n",
       " ('chand tara                                        ', Decimal('13161.75')),\n",
       " ('chanda                                            ', Decimal('35412.00')),\n",
       " ('chanda @bharti                                    ', Decimal('11937.50')),\n",
       " ('chanda devi                                       ', Decimal('20495.00')),\n",
       " ('chanda kumari                                     ', Decimal('34863.50')),\n",
       " ('chandabai                                         ', Decimal('11621.50')),\n",
       " ('chandani                                          ', Decimal('29307.75')),\n",
       " ('chandani urf chanda tara                          ', Decimal('14428.50')),\n",
       " ('chander prabha                                    ', Decimal('11546.75')),\n",
       " ('chander shaker                                    ', Decimal('10207.25')),\n",
       " ('chander shekhar                                   ', Decimal('11146.00')),\n",
       " ('chanderkala                                       ', Decimal('11895.75')),\n",
       " ('chanderkanta                                      ', Decimal('10222.00')),\n",
       " ('chanderwati                                       ', Decimal('13891.25')),\n",
       " ('chandini                                          ', Decimal('26224.00')),\n",
       " ('chandkor                                          ', Decimal('12051.75')),\n",
       " ('chandni                                           ', Decimal('188966.50')),\n",
       " ('chandni ( with two child vikash 3 yrs & sweta 8 yr', Decimal('14426.75')),\n",
       " ('chandni @ shabnam                                 ', Decimal('12880.75')),\n",
       " ('chando                                            ', Decimal('12885.50')),\n",
       " ('chandra                                           ', Decimal('11879.25')),\n",
       " ('chandra kala                                      ', Decimal('20311.00')),\n",
       " ('chandra kanta saini                               ', Decimal('11435.00')),\n",
       " ('chandra kanwar                                    ', Decimal('9347.50')),\n",
       " ('chandrakala                                       ', Decimal('11461.00')),\n",
       " ('chandrawati @ geeta                               ', Decimal('12926.75')),\n",
       " ('chandrika nagar                                   ', Decimal('11946.25')),\n",
       " ('chango uraon                                      ', Decimal('13139.75')),\n",
       " ('charan jeet singh                                 ', Decimal('10110.00')),\n",
       " ('charan singh                                      ', Decimal('10001.00')),\n",
       " ('charu                                             ', Decimal('12384.50')),\n",
       " ('chaya                                             ', Decimal('35145.00')),\n",
       " ('chetan                                            ', Decimal('12047.00')),\n",
       " ('chetana                                           ', Decimal('26162.25')),\n",
       " ('chetanya swaroop                                  ', Decimal('10293.75')),\n",
       " ('chhabi rani dass                                  ', Decimal('10927.50')),\n",
       " ('chhanya bai                                       ', Decimal('11676.50')),\n",
       " ('chhaterwati                                       ', Decimal('9817.75')),\n",
       " ('chhavi                                            ', Decimal('10500.50')),\n",
       " ('chhaya                                            ', Decimal('9300.00')),\n",
       " ('chhotelal                                         ', Decimal('9726.75')),\n",
       " ('chhoti devi                                       ', Decimal('9698.75')),\n",
       " ('chhotu harijan                                    ', Decimal('9804.00')),\n",
       " ('chhotudevi                                        ', Decimal('11283.75')),\n",
       " ('chinki kanwar                                     ', Decimal('8913.00')),\n",
       " ('chitra                                            ', Decimal('10890.50')),\n",
       " ('chnda mali                                        ', Decimal('12940.25')),\n",
       " ('chotti jha                                        ', Decimal('11839.75')),\n",
       " ('chottu shah                                       ', Decimal('12068.50')),\n",
       " ('chumki                                            ', Decimal('11050.75')),\n",
       " ('chuni devi                                        ', Decimal('13726.50')),\n",
       " ('chunni                                            ', Decimal('9685.25')),\n",
       " ('cosmic                                            ', Decimal('11730.00')),\n",
       " ('dali                                              ', Decimal('11993.25')),\n",
       " ('dali devi                                         ', Decimal('12644.25')),\n",
       " ('dalip shah                                        ', Decimal('10264.75')),\n",
       " ('damanjeet singh                                   ', Decimal('10177.50')),\n",
       " ('damini                                            ', Decimal('24598.50')),\n",
       " ('danista paveen                                    ', Decimal('8932.25')),\n",
       " ('danwati                                           ', Decimal('9842.75')),\n",
       " ('dariya                                            ', Decimal('9740.50')),\n",
       " ('dariya kanwar                                     ', Decimal('11165.50')),\n",
       " ('darkash                                           ', Decimal('10639.75')),\n",
       " ('darshna                                           ', Decimal('10286.00')),\n",
       " ('daulat banno                                      ', Decimal('12134.50')),\n",
       " ('dayawati                                          ', Decimal('20179.50')),\n",
       " ('deeksha                                           ', Decimal('12198.75')),\n",
       " ('deelip                                            ', Decimal('25606.75')),\n",
       " ('deep                                              ', Decimal('12199.00')),\n",
       " ('deep mala                                         ', Decimal('9367.25')),\n",
       " ('deepa                                             ', Decimal('342986.50')),\n",
       " ('deepa @ gudiya                                    ', Decimal('13971.50')),\n",
       " ('deepa bhatt                                       ', Decimal('12007.00')),\n",
       " ('deepa chauhan                                     ', Decimal('22152.00')),\n",
       " ('deepa kumari                                      ', Decimal('11101.25')),\n",
       " ('deepa saini                                       ', Decimal('11002.50')),\n",
       " ('deepa shersht                                     ', Decimal('11246.50')),\n",
       " ('deepa singh                                       ', Decimal('22525.25')),\n",
       " ('deepak                                            ', Decimal('81766.75')),\n",
       " ('deepak goyal                                      ', Decimal('9193.00')),\n",
       " ('deepak rana                                       ', Decimal('13329.75')),\n",
       " ('deepak verma                                      ', Decimal('11754.25')),\n",
       " ('deepali                                           ', Decimal('43284.00')),\n",
       " ('deepali arora                                     ', Decimal('11111.00')),\n",
       " ('deepali singh                                     ', Decimal('12561.75')),\n",
       " ('deepanshi                                         ', Decimal('11820.00')),\n",
       " ('deepanshi jain                                    ', Decimal('12840.25')),\n",
       " ('deepika                                           ', Decimal('90179.50')),\n",
       " ('deepika age 18                                    ', Decimal('10584.00')),\n",
       " ('deepika burt                                      ', Decimal('12099.25')),\n",
       " ('deepika jain                                      ', Decimal('12170.25')),\n",
       " ('deepika kumari                                    ', Decimal('9878.00')),\n",
       " ('deepika sharma                                    ', Decimal('12652.50')),\n",
       " ('deepika tomar                                     ', Decimal('13406.75')),\n",
       " ('deepti                                            ', Decimal('33855.75')),\n",
       " ('deepti @ meenu                                    ', Decimal('10771.25')),\n",
       " ('deepti bhargav                                    ', Decimal('12483.00')),\n",
       " ('deepti shekhawat                                  ', Decimal('11742.00')),\n",
       " ('deeya kumari                                      ', Decimal('9080.50')),\n",
       " ('dev kanwar                                        ', Decimal('10702.25')),\n",
       " ('devender                                          ', Decimal('24729.00')),\n",
       " ('devender kaur                                     ', Decimal('13407.50')),\n",
       " ('devender singh s/o shrinath r/o kh. no. 72/1, utsa', Decimal('13334.50')),\n",
       " ('devendri                                          ', Decimal('12391.75')),\n",
       " ('devi                                              ', Decimal('9456.50')),\n",
       " ('devi d/o kailash                                  ', Decimal('11807.25')),\n",
       " ('devi jana                                         ', Decimal('11912.25')),\n",
       " ('devi kanwar                                       ', Decimal('12801.75')),\n",
       " ('devi saraswati @ sapna                            ', Decimal('11061.00')),\n",
       " ('devi sharma                                       ', Decimal('10158.75')),\n",
       " ('devideen                                          ', Decimal('12580.75')),\n",
       " ('devika                                            ', Decimal('12610.25')),\n",
       " ('devika goyal                                      ', Decimal('11475.75')),\n",
       " ('devkali                                           ', Decimal('11854.50')),\n",
       " ('devki                                             ', Decimal('46284.00')),\n",
       " ('devki @ devkumari                                 ', Decimal('11613.25')),\n",
       " ('devli                                             ', Decimal('10455.75')),\n",
       " ('devya soni @ poonam                               ', Decimal('10391.75')),\n",
       " ('devyani                                           ', Decimal('9178.25')),\n",
       " ('dhakhadevi                                        ', Decimal('11610.75')),\n",
       " ('dhamini                                           ', Decimal('12196.75')),\n",
       " ('dhana devi                                        ', Decimal('13092.00')),\n",
       " ('dhaneswar dass                                    ', Decimal('13084.50')),\n",
       " ('dhanni devi                                       ', Decimal('11243.50')),\n",
       " ('dhansinghpuri                                     ', Decimal('11724.25')),\n",
       " ('dhanwanti  devi                                   ', Decimal('11366.00')),\n",
       " ('dhapu                                             ', Decimal('10937.00')),\n",
       " ('dhapu bai                                         ', Decimal('22626.25')),\n",
       " ('dharma devi                                       ', Decimal('13768.50')),\n",
       " ('dharmbir                                          ', Decimal('11080.00')),\n",
       " ('dharmender                                        ', Decimal('20574.00')),\n",
       " ('dharmshila                                        ', Decimal('12297.00')),\n",
       " ('dhola bai                                         ', Decimal('11643.00')),\n",
       " ('dholi bai                                         ', Decimal('12184.00')),\n",
       " ('dholi devi                                        ', Decimal('12906.25')),\n",
       " ('dibya prakash gupta                               ', Decimal('12042.25')),\n",
       " ('diksha                                            ', Decimal('33496.00')),\n",
       " ('diksha @ billa                                    ', Decimal('11754.00')),\n",
       " ('diksha chaudhary                                  ', Decimal('10372.00')),\n",
       " ('diksha gupta                                      ', Decimal('12830.25')),\n",
       " ('diksha or beby                                    ', Decimal('12087.50')),\n",
       " ('diksha rana                                       ', Decimal('11810.75')),\n",
       " ('diksha rani                                       ', Decimal('13541.25')),\n",
       " ('diksha soni                                       ', Decimal('12496.50')),\n",
       " ('diksha vashist                                    ', Decimal('13220.50')),\n",
       " ('dilawar                                           ', Decimal('14049.50')),\n",
       " ('dilkhush                                          ', Decimal('12187.25')),\n",
       " ('dimpal                                            ', Decimal('19254.25')),\n",
       " ('dimpal @doli                                      ', Decimal('11281.00')),\n",
       " ('dimple                                            ', Decimal('25323.25')),\n",
       " ('dinesh                                            ', Decimal('44380.50')),\n",
       " ('dinesh kumar                                      ', Decimal('10621.25')),\n",
       " ('dinesh kumari                                     ', Decimal('12354.25')),\n",
       " ('dinesh singh                                      ', Decimal('24320.25')),\n",
       " ('dinesh singh rana                                 ', Decimal('10701.25')),\n",
       " ('dipa bai                                          ', Decimal('12146.75')),\n",
       " ('dipali                                            ', Decimal('23966.75')),\n",
       " ('dipanshi                                          ', Decimal('11932.25')),\n",
       " ('dipeeka                                           ', Decimal('13293.25')),\n",
       " ('dipendra kumar                                    ', Decimal('11760.50')),\n",
       " ('dipika                                            ', Decimal('31129.75')),\n",
       " ('dipika chaturvedi                                 ', Decimal('12265.75')),\n",
       " ('dipti                                             ', Decimal('10249.00')),\n",
       " ('disha                                             ', Decimal('25542.50')),\n",
       " ('disha parmar                                      ', Decimal('12096.00')),\n",
       " ('disi nang @ manju                                 ', Decimal('10642.00')),\n",
       " ('diti sharma                                       ', Decimal('13625.75')),\n",
       " ('divaraj                                           ', Decimal('11427.50')),\n",
       " ('divy puri                                         ', Decimal('12331.75')),\n",
       " ('divya                                             ', Decimal('141108.25')),\n",
       " ('divya bharti                                      ', Decimal('11491.50')),\n",
       " ('divya kapoor                                      ', Decimal('10509.75')),\n",
       " ('divya kawar                                       ', Decimal('11582.25')),\n",
       " ('divya kor                                         ', Decimal('11305.25')),\n",
       " ('divya mishra                                      ', Decimal('12174.00')),\n",
       " ('divya rani                                        ', Decimal('13202.75')),\n",
       " ('divya sharma                                      ', Decimal('21080.00')),\n",
       " ('divya sharma d/o om prakash sharma                ', Decimal('12248.25')),\n",
       " ('dixya kanwar                                      ', Decimal('11989.50')),\n",
       " ('diya mandal                                       ', Decimal('11648.50')),\n",
       " ('diya sharma                                       ', Decimal('13052.00')),\n",
       " ('dolat bano                                        ', Decimal('11219.75')),\n",
       " ('doli                                              ', Decimal('97844.00')),\n",
       " ('doli with two child adtiya & golu                 ', Decimal('9991.50')),\n",
       " ('dolley                                            ', Decimal('12147.25')),\n",
       " ('dolly                                             ', Decimal('33684.50')),\n",
       " ('dolly @ rekha w/o monto shah                      ', Decimal('9400.25')),\n",
       " ('dolly khatik                                      ', Decimal('12248.00')),\n",
       " ('doly                                              ', Decimal('9010.50')),\n",
       " ('doodhnath pandit                                  ', Decimal('12475.50')),\n",
       " ('dropti raiger                                     ', Decimal('8138.50')),\n",
       " ('dulari                                            ', Decimal('40367.00')),\n",
       " ('dumani munda                                      ', Decimal('11758.00')),\n",
       " ('durga                                             ', Decimal('98570.75')),\n",
       " ('durga  with her son aayush                        ', Decimal('10829.75')),\n",
       " ('durga bai                                         ', Decimal('25753.00')),\n",
       " ('durga devi                                        ', Decimal('24379.25')),\n",
       " ('durga kumari                                      ', Decimal('23915.75')),\n",
       " ('durga pathik                                      ', Decimal('12817.25')),\n",
       " ('durgabai                                          ', Decimal('11321.25')),\n",
       " ('durgash urf mahi                                  ', Decimal('10737.75')),\n",
       " ('durgesh                                           ', Decimal('9984.00')),\n",
       " ('durgesh bai                                       ', Decimal('12263.75')),\n",
       " ('durgesh suman                                     ', Decimal('13047.50')),\n",
       " ('dvndavva s basava prabhu                          ', Decimal('11036.75')),\n",
       " ('dwarika gurjar                                    ', Decimal('12331.25')),\n",
       " ('ekamjeet                                          ', Decimal('12122.75')),\n",
       " ('ekta                                              ', Decimal('44851.25')),\n",
       " ('ekta balai                                        ', Decimal('12292.00')),\n",
       " ('ekta chauhan                                      ', Decimal('9839.25')),\n",
       " ('ekta hans                                         ', Decimal('11375.50')),\n",
       " ('ekta sharma                                       ', Decimal('11251.50')),\n",
       " ('eshavarya @ prachi                                ', Decimal('11022.25')),\n",
       " ('esrail khan                                       ', Decimal('12349.25')),\n",
       " ('faaija                                            ', Decimal('12254.50')),\n",
       " ('fahija                                            ', Decimal('9051.50')),\n",
       " ('faijina                                           ', Decimal('11253.25')),\n",
       " ('faimuddin                                         ', Decimal('9758.75')),\n",
       " ('fakiha                                            ', Decimal('14436.00')),\n",
       " ('fakiri                                            ', Decimal('10785.50')),\n",
       " ('farah                                             ', Decimal('23357.25')),\n",
       " ('farah khan                                        ', Decimal('11539.25')),\n",
       " ('fareem                                            ', Decimal('11494.50')),\n",
       " ('fareen                                            ', Decimal('11087.75')),\n",
       " ('fareena                                           ', Decimal('10914.00')),\n",
       " ('farha                                             ', Decimal('25024.25')),\n",
       " ('farha  khan                                       ', Decimal('11081.25')),\n",
       " ('farha parvin                                      ', Decimal('10123.50')),\n",
       " ('farhana                                           ', Decimal('22852.25')),\n",
       " ('farheen                                           ', Decimal('8201.00')),\n",
       " ('farhib                                            ', Decimal('11099.50')),\n",
       " ('farid                                             ', Decimal('11913.50')),\n",
       " ('farida                                            ', Decimal('18309.75')),\n",
       " ('farida begam                                      ', Decimal('10058.75')),\n",
       " ('farida khan                                       ', Decimal('10999.00')),\n",
       " ('farina                                            ', Decimal('12224.25')),\n",
       " ('farjana                                           ', Decimal('46404.75')),\n",
       " ('farjana bano                                      ', Decimal('13354.00')),\n",
       " ('farjana banu                                      ', Decimal('9955.25')),\n",
       " ('farjana siddaqi                                   ', Decimal('8053.00')),\n",
       " ('farjanul nisha                                    ', Decimal('11399.75')),\n",
       " ('farmaan khan                                      ', Decimal('11067.00')),\n",
       " ('farzana                                           ', Decimal('42738.25')),\n",
       " ('farzana khatoon                                   ', Decimal('10784.50')),\n",
       " ('fasrun nisha                                      ', Decimal('10006.00')),\n",
       " ('fatima                                            ', Decimal('24269.75')),\n",
       " ('fatima khatton alongwith her child                ', Decimal('10405.25')),\n",
       " ('fatma                                             ', Decimal('22569.50')),\n",
       " ('fauina                                            ', Decimal('13267.00')),\n",
       " ('fazia                                             ', Decimal('11084.75')),\n",
       " ('felicia sequeira                                  ', Decimal('11385.50')),\n",
       " ('firakat ali                                       ', Decimal('10927.50')),\n",
       " ('firdosh bano @ asha                               ', Decimal('10714.00')),\n",
       " ('firdous                                           ', Decimal('10703.00')),\n",
       " ('firida                                            ', Decimal('11915.50')),\n",
       " ('fitrat                                            ', Decimal('11570.50')),\n",
       " ('fiza khan                                         ', Decimal('11444.00')),\n",
       " ('fiza parveen                                      ', Decimal('12680.00')),\n",
       " ('fool kunwar                                       ', Decimal('11217.50')),\n",
       " ('fooljhnah                                         ', Decimal('12580.25')),\n",
       " ('foranta                                           ', Decimal('12537.00')),\n",
       " ('foranti                                           ', Decimal('11203.25')),\n",
       " ('fornta                                            ', Decimal('10753.25')),\n",
       " ('fozia                                             ', Decimal('11617.50')),\n",
       " ('frra                                              ', Decimal('9592.25')),\n",
       " ('fuli paagdiya                                     ', Decimal('10206.25')),\n",
       " ('fuljhadi & rubby                                  ', Decimal('10027.50')),\n",
       " ('gagan @ mamta                                     ', Decimal('13455.25')),\n",
       " ('gajala                                            ', Decimal('11849.00')),\n",
       " ('gajala parveen                                    ', Decimal('10025.75')),\n",
       " ('gajana devi                                       ', Decimal('11368.50')),\n",
       " ('gajender kumar                                    ', Decimal('11107.00')),\n",
       " ('gajwanti @ manju                                  ', Decimal('10651.75')),\n",
       " ('gali no 5/4 samta vihar m. pur part ii delhi      ', Decimal('12527.75')),\n",
       " ('ganesi devi                                       ', Decimal('11581.00')),\n",
       " ('ganga                                             ', Decimal('33213.25')),\n",
       " ('ganga devi                                        ', Decimal('46814.00')),\n",
       " ('ganga ram                                         ', Decimal('10658.50')),\n",
       " ('gangajali devi                                    ', Decimal('12920.25')),\n",
       " ('gango devi                                        ', Decimal('13316.50')),\n",
       " ('gappu                                             ', Decimal('12042.25')),\n",
       " ('garima                                            ', Decimal('45531.25')),\n",
       " ('garima  bhardwaj                                  ', Decimal('12226.75')),\n",
       " ('garima sharma                                     ', Decimal('10079.25')),\n",
       " ('gaura kuletha                                     ', Decimal('9569.75')),\n",
       " ('gaurav                                            ', Decimal('10642.50')),\n",
       " ('gaurav kumar                                      ', Decimal('12561.00')),\n",
       " ('gaurav sethi                                      ', Decimal('10467.25')),\n",
       " ('gaurav shankar                                    ', Decimal('11810.75')),\n",
       " ('gauri                                             ', Decimal('48079.25')),\n",
       " ('gauri rana                                        ', Decimal('8809.00')),\n",
       " ('gautam                                            ', Decimal('9362.25')),\n",
       " ('gautam kumar                                      ', Decimal('9927.50')),\n",
       " ('gayatri                                           ', Decimal('69534.75')),\n",
       " ('gayatri @ babli                                   ', Decimal('11113.75')),\n",
       " ('gayatri @ rani                                    ', Decimal('11565.75')),\n",
       " ('gayatri devi                                      ', Decimal('23804.50')),\n",
       " ('gaytri                                            ', Decimal('45658.00')),\n",
       " ('gaytri bai                                        ', Decimal('22826.00')),\n",
       " ('gaytri devi                                       ', Decimal('10303.50')),\n",
       " ('geet                                              ', Decimal('27550.25')),\n",
       " ('geeta                                             ', Decimal('423557.75')),\n",
       " ('geeta @ kamla                                     ', Decimal('11507.00')),\n",
       " ('geeta @ komal                                     ', Decimal('11407.50')),\n",
       " ('geeta @ nazma                                     ', Decimal('9989.75')),\n",
       " ('geeta d/o raj kumar                               ', Decimal('10126.00')),\n",
       " ('geeta devi                                        ', Decimal('164917.75')),\n",
       " ('geeta kumari                                      ', Decimal('13106.00')),\n",
       " ('geeta oram                                        ', Decimal('10080.50')),\n",
       " ('geeta rani                                        ', Decimal('9073.75')),\n",
       " ('geeta rani barman                                 ', Decimal('9932.25')),\n",
       " ('geeta saini                                       ', Decimal('10089.75')),\n",
       " ('geetanjali                                        ', Decimal('13483.75')),\n",
       " ('geetu                                             ', Decimal('10233.75')),\n",
       " ('genda                                             ', Decimal('10587.75')),\n",
       " ('gendi                                             ', Decimal('10741.75')),\n",
       " ('gendi bai                                         ', Decimal('10077.25')),\n",
       " ('gendu kunar                                       ', Decimal('11366.50')),\n",
       " ('gila bai                                          ', Decimal('10587.25')),\n",
       " ('gilbahar                                          ', Decimal('10984.75')),\n",
       " ('girija                                            ', Decimal('12381.25')),\n",
       " ('girishchandra                                     ', Decimal('11208.25')),\n",
       " ('girishi chand                                     ', Decimal('9791.25')),\n",
       " ('girja                                             ', Decimal('12508.75')),\n",
       " ('gita                                              ', Decimal('22957.25')),\n",
       " ('gita pokharial                                    ', Decimal('10582.50')),\n",
       " ('gitika                                            ', Decimal('35018.25')),\n",
       " ('godambari devi                                    ', Decimal('11944.50')),\n",
       " ('goldan kumari                                     ', Decimal('13650.50')),\n",
       " ('goldy                                             ', Decimal('25528.00')),\n",
       " ('golu                                              ', Decimal('12429.75')),\n",
       " ('gona bai                                          ', Decimal('12139.25')),\n",
       " ('gopal                                             ', Decimal('9644.75')),\n",
       " ('gopal sharma                                      ', Decimal('12722.75')),\n",
       " ('gopi                                              ', Decimal('13104.50')),\n",
       " ('gopi devi                                         ', Decimal('10453.75')),\n",
       " ('gora                                              ', Decimal('10742.00')),\n",
       " ('gorav                                             ', Decimal('11792.00')),\n",
       " ('gori                                              ', Decimal('22718.75')),\n",
       " ('gori nandy                                        ', Decimal('13155.25')),\n",
       " ('gotiya gurjar                                     ', Decimal('8906.50')),\n",
       " ('gourav                                            ', Decimal('11478.00')),\n",
       " ('gouri mailwad                                     ', Decimal('10518.25')),\n",
       " ('govind                                            ', Decimal('10229.50')),\n",
       " ('govind kunwar                                     ', Decimal('11261.50')),\n",
       " ('grace p.a.                                        ', Decimal('13627.50')),\n",
       " ('groti @ rati                                      ', Decimal('11285.25')),\n",
       " ('guddi                                             ', Decimal('46789.00')),\n",
       " ('guddi bai                                         ', Decimal('20373.50')),\n",
       " ('guddi with 02 children                            ', Decimal('10706.00')),\n",
       " ('guddi with her son  anand                         ', Decimal('12245.50')),\n",
       " ('guddibai                                          ', Decimal('11635.25')),\n",
       " ('guddiya @ gita                                    ', Decimal('11660.25')),\n",
       " ('guddu                                             ', Decimal('24079.50')),\n",
       " ('guddu rai                                         ', Decimal('12566.25')),\n",
       " ('gudia                                             ', Decimal('24341.00')),\n",
       " ('gudiya                                            ', Decimal('139304.00')),\n",
       " ('gudiya kumari                                     ', Decimal('34948.75')),\n",
       " ('gudya singh                                       ', Decimal('11366.75')),\n",
       " ('gul afshan                                        ', Decimal('9806.50')),\n",
       " ('gulab bano                                        ', Decimal('18959.50')),\n",
       " ('gulafsa                                           ', Decimal('11415.75')),\n",
       " ('gulafsa khatun                                    ', Decimal('13236.50')),\n",
       " ('gulafsha                                          ', Decimal('12589.00')),\n",
       " ('gulafshan                                         ', Decimal('13178.00')),\n",
       " ('gulam rashul                                      ', Decimal('10011.25')),\n",
       " ('gulbasha                                          ', Decimal('11970.00')),\n",
       " ('gulesta                                           ', Decimal('11406.00')),\n",
       " ('gulfam                                            ', Decimal('11991.25')),\n",
       " ('gulfara                                           ', Decimal('10582.25')),\n",
       " ('gulfasa                                           ', Decimal('11563.50')),\n",
       " ('gulfasha                                          ', Decimal('12635.00')),\n",
       " ('gulfsa                                            ', Decimal('22685.75')),\n",
       " ('gulfsal s/o rasid                                 ', Decimal('11674.25')),\n",
       " ('gulista                                           ', Decimal('20016.50')),\n",
       " ('guljan                                            ', Decimal('11040.75')),\n",
       " ('gulnaaz                                           ', Decimal('10912.75')),\n",
       " ('gulnaj                                            ', Decimal('20692.50')),\n",
       " ('gulnanj                                           ', Decimal('10098.75')),\n",
       " ('gulnaz                                            ', Decimal('11423.75')),\n",
       " ('gulran                                            ', Decimal('12038.25')),\n",
       " ('gulsan khatoon                                    ', Decimal('13730.00')),\n",
       " ('gulsana                                           ', Decimal('13818.75')),\n",
       " ('gulsha @ seema                                    ', Decimal('10210.50')),\n",
       " ('gulshafa                                          ', Decimal('11759.50')),\n",
       " ('gulshan                                           ', Decimal('97987.75')),\n",
       " ('gulshan jha                                       ', Decimal('9827.75')),\n",
       " ('gulshana                                          ', Decimal('10753.00')),\n",
       " ('gulshtab                                          ', Decimal('9871.25')),\n",
       " ('guman singh basyal                                ', Decimal('12038.00')),\n",
       " ('gungun                                            ', Decimal('12225.75')),\n",
       " ('guni divy                                         ', Decimal('12856.75')),\n",
       " ('gunja devi                                        ', Decimal('9667.00')),\n",
       " ('gunjan                                            ', Decimal('23831.50')),\n",
       " ('gunjan @ guddu                                    ', Decimal('12058.25')),\n",
       " ('gunjan devi                                       ', Decimal('8512.25')),\n",
       " ('gunjan verna                                      ', Decimal('9190.00')),\n",
       " ('gurdeep kaur                                      ', Decimal('9643.50')),\n",
       " ('gurmeet                                           ', Decimal('12843.75')),\n",
       " ('gurmel kour                                       ', Decimal('10472.75')),\n",
       " ('gurmit kaur                                       ', Decimal('25743.50')),\n",
       " ('gurmit sharma                                     ', Decimal('11346.25')),\n",
       " ('gurpreet                                          ', Decimal('10934.75')),\n",
       " ('gurpreet kaur                                     ', Decimal('22819.75')),\n",
       " ('gutam                                             ', Decimal('10257.75')),\n",
       " ('gyaan kanwar                                      ', Decimal('9320.25')),\n",
       " ('gyan devi @ biba                                  ', Decimal('10441.00')),\n",
       " ('gyarsi                                            ', Decimal('14085.75')),\n",
       " ('gyarsi devi                                       ', Decimal('12375.25')),\n",
       " ('gyatri                                            ', Decimal('25833.00')),\n",
       " ('gyatri devi                                       ', Decimal('21824.25')),\n",
       " ('gytri  garg                                       ', Decimal('11298.50')),\n",
       " ('habiba                                            ', Decimal('11839.25')),\n",
       " ('hadisha                                           ', Decimal('9764.75')),\n",
       " ('hafsa draboo                                      ', Decimal('11691.25')),\n",
       " ('hailena                                           ', Decimal('11818.00')),\n",
       " ('hamida khatun                                     ', Decimal('12149.25')),\n",
       " ('hamim                                             ', Decimal('13988.50')),\n",
       " ('hamsiran                                          ', Decimal('10155.75')),\n",
       " ('hansa                                             ', Decimal('12577.50')),\n",
       " ('hansa dave                                        ', Decimal('13122.50')),\n",
       " ('harbai                                            ', Decimal('12208.25')),\n",
       " ('harbir  singh                                     ', Decimal('12573.00')),\n",
       " ('hardeep @ hunny                                   ', Decimal('9583.00')),\n",
       " ('hari ram                                          ', Decimal('22131.50')),\n",
       " ('harinder kaur                                     ', Decimal('12303.75')),\n",
       " ('harish chand                                      ', Decimal('24751.50')),\n",
       " ('harishankar verma                                 ', Decimal('11801.50')),\n",
       " ('harman singh                                      ', Decimal('11065.50')),\n",
       " ('harmeet kaur                                      ', Decimal('12347.25')),\n",
       " ('harmit kor                                        ', Decimal('12101.50')),\n",
       " ('harneet kaur                                      ', Decimal('22258.25')),\n",
       " ('harprasad sahu                                    ', Decimal('12964.00')),\n",
       " ('harpreet gil                                      ', Decimal('11644.00')),\n",
       " ('harpreet kaur                                     ', Decimal('21119.75')),\n",
       " ('harpreet kaur @ geetanjli                         ', Decimal('16288.75')),\n",
       " ('harpreet kaur w/o                                 ', Decimal('10581.25')),\n",
       " ('harprit                                           ', Decimal('12396.00')),\n",
       " ('harsh dagar                                       ', Decimal('12331.50')),\n",
       " ('harsha                                            ', Decimal('20380.75')),\n",
       " ('harshi                                            ', Decimal('9173.25')),\n",
       " ('harshita chobe                                    ', Decimal('12613.50')),\n",
       " ('harshita poswal                                   ', Decimal('14319.50')),\n",
       " ('harvindra singh                                   ', Decimal('11988.50')),\n",
       " ('haseen ahmed                                      ', Decimal('10995.00')),\n",
       " ('haseena                                           ', Decimal('35770.50')),\n",
       " ('hasina                                            ', Decimal('20230.25')),\n",
       " ('hasina bano                                       ', Decimal('10703.50')),\n",
       " ('hazra                                             ', Decimal('10743.25')),\n",
       " ('hazu roat                                         ', Decimal('10605.25')),\n",
       " ('heena                                             ', Decimal('254551.00')),\n",
       " ('heena @ huma                                      ', Decimal('12480.00')),\n",
       " ('heena d/o zamil akhtar                            ', Decimal('12306.00')),\n",
       " ('heena parveen                                     ', Decimal('11864.00')),\n",
       " ('heena praveen                                     ', Decimal('12351.75')),\n",
       " ('heera kumari                                      ', Decimal('9120.75')),\n",
       " ('heera lal @ sunil kanojia                         ', Decimal('10708.50')),\n",
       " ('hema                                              ', Decimal('80527.50')),\n",
       " ('hema aikka                                        ', Decimal('12811.00')),\n",
       " ('hema devi                                         ', Decimal('10223.50')),\n",
       " ('hema devi with with his daughter nalini age 4yrs  ', Decimal('12525.25')),\n",
       " ...]"
      ]
     },
     "execution_count": 42,
     "metadata": {},
     "output_type": "execute_result"
    }
   ],
   "source": [
    "statement=\"\"\"SELECT customer_dim.name as \"name\", SUM(fact_table.total_price) \"sales\"\n",
    "FROM stars.fact_table\n",
    "JOIN stars.customer_dim ON\n",
    "customer_dim.customer_key = fact_table.customer_key\n",
    "GROUP BY CUBE(customer_dim.name)\n",
    "ORDER BY customer_dim.name\"\"\"\n",
    "\n",
    "cur = con.cursor()\n",
    "# psycopg2.extras.execute_batch(cur, insert_stmt, fact_data.values)\n",
    "cur.execute(statement)\n",
    "q_name = cur.fetchall()\n",
    "q_name"
   ]
  },
  {
   "cell_type": "code",
   "execution_count": 43,
   "id": "8647e79c",
   "metadata": {},
   "outputs": [
    {
     "data": {
      "text/plain": [
       "[('AB Bank Limited', Decimal('2728515.50')),\n",
       " ('Bangladesh Commerce Bank Limited', Decimal('2730999.25')),\n",
       " ('Bank Asia Limited', Decimal('2687142.75')),\n",
       " ('Bengal Commercial Bank Ltd', Decimal('2704554.25')),\n",
       " ('Bkash', Decimal('2689352.50')),\n",
       " ('BRAC Bank Limited', Decimal('2705795.75')),\n",
       " ('Citizens Bank Limited', Decimal('2723215.25')),\n",
       " ('City Bank Limited', Decimal('2713952.50')),\n",
       " ('Community Bank Bangladesh Limited', Decimal('2685751.50')),\n",
       " ('Dhaka Bank Limited', Decimal('2728366.00')),\n",
       " ('Dutch-Bangla Bank Limited', Decimal('2692435.25')),\n",
       " ('Eastern Bank Limited', Decimal('2687182.25')),\n",
       " ('IFIC Bank Limited', Decimal('2699759.75')),\n",
       " ('Jamuna Bank Limited', Decimal('2689886.50')),\n",
       " ('Meghna Bank Limited', Decimal('2700528.50')),\n",
       " ('Mercantile Bank Limited', Decimal('2676578.50')),\n",
       " ('Midland Bank Limited', Decimal('2688430.25')),\n",
       " ('Modhumoti Bank Limited', Decimal('2715279.00')),\n",
       " ('Mutual Trust Bank Limited', Decimal('2670030.50')),\n",
       " ('Nagad', Decimal('2699554.50')),\n",
       " ('National Bank Limited', Decimal('2697294.25')),\n",
       " ('National Credit & Commerce Bank Limited', Decimal('2723363.00')),\n",
       " ('None', Decimal('2708515.75')),\n",
       " ('NRB Bank Limited', Decimal('2711595.25')),\n",
       " ('NRB Commercial Bank Ltd', Decimal('2692016.25')),\n",
       " ('NRB Global Bank Ltd', Decimal('2700088.00')),\n",
       " ('One Bank Limited', Decimal('2692043.25')),\n",
       " ('Padma Bank Limited', Decimal('2708084.25')),\n",
       " ('Premier Bank Limited', Decimal('2690828.00')),\n",
       " ('Prime Bank Limited', Decimal('2698896.50')),\n",
       " ('Pubali Bank Limited', Decimal('2682787.50')),\n",
       " ('Rocket', Decimal('2720974.50')),\n",
       " ('Shimanto Bank Ltd', Decimal('2685805.25')),\n",
       " ('South Bangla Agriculture and Commerce Bank Limited', Decimal('2728115.25')),\n",
       " ('Southeast Bank Limited', Decimal('2691275.75')),\n",
       " ('Standard Bank Limited', Decimal('2727661.00')),\n",
       " ('Trust Bank Limited', Decimal('2720807.00')),\n",
       " ('United Commercial Bank Ltd', Decimal('2696854.75')),\n",
       " ('Uttara Bank Limited', Decimal('2707120.00')),\n",
       " (None, Decimal('105401435.75'))]"
      ]
     },
     "execution_count": 43,
     "metadata": {},
     "output_type": "execute_result"
    }
   ],
   "source": [
    "statement=\"\"\"SELECT Trans_dim.bank_name as \"bank\", SUM(fact_table.total_price) \"sales\"\n",
    "FROM stars.fact_table\n",
    "JOIN stars.Trans_dim ON\n",
    "Trans_dim.payment_key = fact_table.payment_key\n",
    "GROUP BY CUBE(Trans_dim.bank_name)\n",
    "ORDER BY Trans_dim.bank_name\"\"\"\n",
    "\n",
    "cur = con.cursor()\n",
    "# psycopg2.extras.execute_batch(cur, insert_stmt, fact_data.values)\n",
    "cur.execute(statement)\n",
    "q_bank = cur.fetchall()\n",
    "q_bank"
   ]
  },
  {
   "cell_type": "code",
   "execution_count": 44,
   "id": "27aafb2e",
   "metadata": {},
   "outputs": [],
   "source": [
    "df8=pd.DataFrame(list(q_bank), columns=(['bank','sales']))"
   ]
  },
  {
   "cell_type": "code",
   "execution_count": 45,
   "id": "3c12d659",
   "metadata": {},
   "outputs": [
    {
     "data": {
      "text/html": [
       "<div>\n",
       "<style scoped>\n",
       "    .dataframe tbody tr th:only-of-type {\n",
       "        vertical-align: middle;\n",
       "    }\n",
       "\n",
       "    .dataframe tbody tr th {\n",
       "        vertical-align: top;\n",
       "    }\n",
       "\n",
       "    .dataframe thead th {\n",
       "        text-align: right;\n",
       "    }\n",
       "</style>\n",
       "<table border=\"1\" class=\"dataframe\">\n",
       "  <thead>\n",
       "    <tr style=\"text-align: right;\">\n",
       "      <th></th>\n",
       "      <th>bank</th>\n",
       "      <th>sales</th>\n",
       "    </tr>\n",
       "  </thead>\n",
       "  <tbody>\n",
       "    <tr>\n",
       "      <th>0</th>\n",
       "      <td>AB Bank Limited</td>\n",
       "      <td>2728515.50</td>\n",
       "    </tr>\n",
       "    <tr>\n",
       "      <th>1</th>\n",
       "      <td>Bangladesh Commerce Bank Limited</td>\n",
       "      <td>2730999.25</td>\n",
       "    </tr>\n",
       "    <tr>\n",
       "      <th>2</th>\n",
       "      <td>Bank Asia Limited</td>\n",
       "      <td>2687142.75</td>\n",
       "    </tr>\n",
       "    <tr>\n",
       "      <th>3</th>\n",
       "      <td>Bengal Commercial Bank Ltd</td>\n",
       "      <td>2704554.25</td>\n",
       "    </tr>\n",
       "    <tr>\n",
       "      <th>4</th>\n",
       "      <td>Bkash</td>\n",
       "      <td>2689352.50</td>\n",
       "    </tr>\n",
       "    <tr>\n",
       "      <th>5</th>\n",
       "      <td>BRAC Bank Limited</td>\n",
       "      <td>2705795.75</td>\n",
       "    </tr>\n",
       "    <tr>\n",
       "      <th>6</th>\n",
       "      <td>Citizens Bank Limited</td>\n",
       "      <td>2723215.25</td>\n",
       "    </tr>\n",
       "    <tr>\n",
       "      <th>7</th>\n",
       "      <td>City Bank Limited</td>\n",
       "      <td>2713952.50</td>\n",
       "    </tr>\n",
       "    <tr>\n",
       "      <th>8</th>\n",
       "      <td>Community Bank Bangladesh Limited</td>\n",
       "      <td>2685751.50</td>\n",
       "    </tr>\n",
       "    <tr>\n",
       "      <th>9</th>\n",
       "      <td>Dhaka Bank Limited</td>\n",
       "      <td>2728366.00</td>\n",
       "    </tr>\n",
       "    <tr>\n",
       "      <th>10</th>\n",
       "      <td>Dutch-Bangla Bank Limited</td>\n",
       "      <td>2692435.25</td>\n",
       "    </tr>\n",
       "    <tr>\n",
       "      <th>11</th>\n",
       "      <td>Eastern Bank Limited</td>\n",
       "      <td>2687182.25</td>\n",
       "    </tr>\n",
       "    <tr>\n",
       "      <th>12</th>\n",
       "      <td>IFIC Bank Limited</td>\n",
       "      <td>2699759.75</td>\n",
       "    </tr>\n",
       "    <tr>\n",
       "      <th>13</th>\n",
       "      <td>Jamuna Bank Limited</td>\n",
       "      <td>2689886.50</td>\n",
       "    </tr>\n",
       "    <tr>\n",
       "      <th>14</th>\n",
       "      <td>Meghna Bank Limited</td>\n",
       "      <td>2700528.50</td>\n",
       "    </tr>\n",
       "    <tr>\n",
       "      <th>15</th>\n",
       "      <td>Mercantile Bank Limited</td>\n",
       "      <td>2676578.50</td>\n",
       "    </tr>\n",
       "    <tr>\n",
       "      <th>16</th>\n",
       "      <td>Midland Bank Limited</td>\n",
       "      <td>2688430.25</td>\n",
       "    </tr>\n",
       "    <tr>\n",
       "      <th>17</th>\n",
       "      <td>Modhumoti Bank Limited</td>\n",
       "      <td>2715279.00</td>\n",
       "    </tr>\n",
       "    <tr>\n",
       "      <th>18</th>\n",
       "      <td>Mutual Trust Bank Limited</td>\n",
       "      <td>2670030.50</td>\n",
       "    </tr>\n",
       "    <tr>\n",
       "      <th>19</th>\n",
       "      <td>Nagad</td>\n",
       "      <td>2699554.50</td>\n",
       "    </tr>\n",
       "    <tr>\n",
       "      <th>20</th>\n",
       "      <td>National Bank Limited</td>\n",
       "      <td>2697294.25</td>\n",
       "    </tr>\n",
       "    <tr>\n",
       "      <th>21</th>\n",
       "      <td>National Credit &amp; Commerce Bank Limited</td>\n",
       "      <td>2723363.00</td>\n",
       "    </tr>\n",
       "    <tr>\n",
       "      <th>22</th>\n",
       "      <td>None</td>\n",
       "      <td>2708515.75</td>\n",
       "    </tr>\n",
       "    <tr>\n",
       "      <th>23</th>\n",
       "      <td>NRB Bank Limited</td>\n",
       "      <td>2711595.25</td>\n",
       "    </tr>\n",
       "    <tr>\n",
       "      <th>24</th>\n",
       "      <td>NRB Commercial Bank Ltd</td>\n",
       "      <td>2692016.25</td>\n",
       "    </tr>\n",
       "    <tr>\n",
       "      <th>25</th>\n",
       "      <td>NRB Global Bank Ltd</td>\n",
       "      <td>2700088.00</td>\n",
       "    </tr>\n",
       "    <tr>\n",
       "      <th>26</th>\n",
       "      <td>One Bank Limited</td>\n",
       "      <td>2692043.25</td>\n",
       "    </tr>\n",
       "    <tr>\n",
       "      <th>27</th>\n",
       "      <td>Padma Bank Limited</td>\n",
       "      <td>2708084.25</td>\n",
       "    </tr>\n",
       "    <tr>\n",
       "      <th>28</th>\n",
       "      <td>Premier Bank Limited</td>\n",
       "      <td>2690828.00</td>\n",
       "    </tr>\n",
       "    <tr>\n",
       "      <th>29</th>\n",
       "      <td>Prime Bank Limited</td>\n",
       "      <td>2698896.50</td>\n",
       "    </tr>\n",
       "    <tr>\n",
       "      <th>30</th>\n",
       "      <td>Pubali Bank Limited</td>\n",
       "      <td>2682787.50</td>\n",
       "    </tr>\n",
       "    <tr>\n",
       "      <th>31</th>\n",
       "      <td>Rocket</td>\n",
       "      <td>2720974.50</td>\n",
       "    </tr>\n",
       "    <tr>\n",
       "      <th>32</th>\n",
       "      <td>Shimanto Bank Ltd</td>\n",
       "      <td>2685805.25</td>\n",
       "    </tr>\n",
       "    <tr>\n",
       "      <th>33</th>\n",
       "      <td>South Bangla Agriculture and Commerce Bank Lim...</td>\n",
       "      <td>2728115.25</td>\n",
       "    </tr>\n",
       "    <tr>\n",
       "      <th>34</th>\n",
       "      <td>Southeast Bank Limited</td>\n",
       "      <td>2691275.75</td>\n",
       "    </tr>\n",
       "    <tr>\n",
       "      <th>35</th>\n",
       "      <td>Standard Bank Limited</td>\n",
       "      <td>2727661.00</td>\n",
       "    </tr>\n",
       "    <tr>\n",
       "      <th>36</th>\n",
       "      <td>Trust Bank Limited</td>\n",
       "      <td>2720807.00</td>\n",
       "    </tr>\n",
       "    <tr>\n",
       "      <th>37</th>\n",
       "      <td>United Commercial Bank Ltd</td>\n",
       "      <td>2696854.75</td>\n",
       "    </tr>\n",
       "    <tr>\n",
       "      <th>38</th>\n",
       "      <td>Uttara Bank Limited</td>\n",
       "      <td>2707120.00</td>\n",
       "    </tr>\n",
       "    <tr>\n",
       "      <th>39</th>\n",
       "      <td>None</td>\n",
       "      <td>105401435.75</td>\n",
       "    </tr>\n",
       "  </tbody>\n",
       "</table>\n",
       "</div>"
      ],
      "text/plain": [
       "                                                 bank         sales\n",
       "0                                     AB Bank Limited    2728515.50\n",
       "1                    Bangladesh Commerce Bank Limited    2730999.25\n",
       "2                                   Bank Asia Limited    2687142.75\n",
       "3                          Bengal Commercial Bank Ltd    2704554.25\n",
       "4                                               Bkash    2689352.50\n",
       "5                                   BRAC Bank Limited    2705795.75\n",
       "6                               Citizens Bank Limited    2723215.25\n",
       "7                                   City Bank Limited    2713952.50\n",
       "8                   Community Bank Bangladesh Limited    2685751.50\n",
       "9                                  Dhaka Bank Limited    2728366.00\n",
       "10                          Dutch-Bangla Bank Limited    2692435.25\n",
       "11                               Eastern Bank Limited    2687182.25\n",
       "12                                  IFIC Bank Limited    2699759.75\n",
       "13                                Jamuna Bank Limited    2689886.50\n",
       "14                                Meghna Bank Limited    2700528.50\n",
       "15                            Mercantile Bank Limited    2676578.50\n",
       "16                               Midland Bank Limited    2688430.25\n",
       "17                             Modhumoti Bank Limited    2715279.00\n",
       "18                          Mutual Trust Bank Limited    2670030.50\n",
       "19                                              Nagad    2699554.50\n",
       "20                              National Bank Limited    2697294.25\n",
       "21            National Credit & Commerce Bank Limited    2723363.00\n",
       "22                                               None    2708515.75\n",
       "23                                   NRB Bank Limited    2711595.25\n",
       "24                            NRB Commercial Bank Ltd    2692016.25\n",
       "25                                NRB Global Bank Ltd    2700088.00\n",
       "26                                   One Bank Limited    2692043.25\n",
       "27                                 Padma Bank Limited    2708084.25\n",
       "28                               Premier Bank Limited    2690828.00\n",
       "29                                 Prime Bank Limited    2698896.50\n",
       "30                                Pubali Bank Limited    2682787.50\n",
       "31                                             Rocket    2720974.50\n",
       "32                                  Shimanto Bank Ltd    2685805.25\n",
       "33  South Bangla Agriculture and Commerce Bank Lim...    2728115.25\n",
       "34                             Southeast Bank Limited    2691275.75\n",
       "35                              Standard Bank Limited    2727661.00\n",
       "36                                 Trust Bank Limited    2720807.00\n",
       "37                         United Commercial Bank Ltd    2696854.75\n",
       "38                                Uttara Bank Limited    2707120.00\n",
       "39                                               None  105401435.75"
      ]
     },
     "execution_count": 45,
     "metadata": {},
     "output_type": "execute_result"
    }
   ],
   "source": [
    "df8"
   ]
  },
  {
   "cell_type": "code",
   "execution_count": 46,
   "id": "4093250d",
   "metadata": {},
   "outputs": [],
   "source": [
    "df8=df8.drop([39])"
   ]
  },
  {
   "cell_type": "code",
   "execution_count": 47,
   "id": "9fcdd91b",
   "metadata": {},
   "outputs": [],
   "source": [
    "df8['sales']=df8['sales'].astype('float64')"
   ]
  },
  {
   "cell_type": "code",
   "execution_count": 48,
   "id": "502318e0",
   "metadata": {},
   "outputs": [
    {
     "data": {
      "application/vnd.plotly.v1+json": {
       "config": {
        "plotlyServerURL": "https://plot.ly"
       },
       "data": [
        {
         "alignmentgroup": "True",
         "hovertemplate": "sales=%{x}<br>bank=%{y}<br>index=%{marker.color}<extra></extra>",
         "legendgroup": "",
         "marker": {
          "color": [
           0,
           1,
           2,
           3,
           4,
           5,
           6,
           7,
           8,
           9,
           10,
           11,
           12,
           13,
           14,
           15,
           16,
           17,
           18,
           19,
           20,
           21,
           22,
           23,
           24,
           25,
           26,
           27,
           28,
           29,
           30,
           31,
           32,
           33,
           34,
           35,
           36,
           37,
           38
          ],
          "coloraxis": "coloraxis",
          "pattern": {
           "shape": ""
          }
         },
         "name": "",
         "offsetgroup": "",
         "orientation": "h",
         "showlegend": false,
         "textposition": "auto",
         "type": "bar",
         "x": [
          2728515.5,
          2730999.25,
          2687142.75,
          2704554.25,
          2689352.5,
          2705795.75,
          2723215.25,
          2713952.5,
          2685751.5,
          2728366,
          2692435.25,
          2687182.25,
          2699759.75,
          2689886.5,
          2700528.5,
          2676578.5,
          2688430.25,
          2715279,
          2670030.5,
          2699554.5,
          2697294.25,
          2723363,
          2708515.75,
          2711595.25,
          2692016.25,
          2700088,
          2692043.25,
          2708084.25,
          2690828,
          2698896.5,
          2682787.5,
          2720974.5,
          2685805.25,
          2728115.25,
          2691275.75,
          2727661,
          2720807,
          2696854.75,
          2707120
         ],
         "xaxis": "x",
         "y": [
          "AB Bank Limited",
          "Bangladesh Commerce Bank Limited",
          "Bank Asia Limited",
          "Bengal Commercial Bank Ltd",
          "Bkash",
          "BRAC Bank Limited",
          "Citizens Bank Limited",
          "City Bank Limited",
          "Community Bank Bangladesh Limited",
          "Dhaka Bank Limited",
          "Dutch-Bangla Bank Limited",
          "Eastern Bank Limited",
          "IFIC Bank Limited",
          "Jamuna Bank Limited",
          "Meghna Bank Limited",
          "Mercantile Bank Limited",
          "Midland Bank Limited",
          "Modhumoti Bank Limited",
          "Mutual Trust Bank Limited",
          "Nagad",
          "National Bank Limited",
          "National Credit & Commerce Bank Limited",
          "None",
          "NRB Bank Limited",
          "NRB Commercial Bank Ltd",
          "NRB Global Bank Ltd",
          "One Bank Limited",
          "Padma Bank Limited",
          "Premier Bank Limited",
          "Prime Bank Limited",
          "Pubali Bank Limited",
          "Rocket",
          "Shimanto Bank Ltd",
          "South Bangla Agriculture and Commerce Bank Limited",
          "Southeast Bank Limited",
          "Standard Bank Limited",
          "Trust Bank Limited",
          "United Commercial Bank Ltd",
          "Uttara Bank Limited"
         ],
         "yaxis": "y"
        }
       ],
       "layout": {
        "barmode": "relative",
        "coloraxis": {
         "colorbar": {
          "title": {
           "text": "index"
          }
         },
         "colorscale": [
          [
           0,
           "#0d0887"
          ],
          [
           0.1111111111111111,
           "#46039f"
          ],
          [
           0.2222222222222222,
           "#7201a8"
          ],
          [
           0.3333333333333333,
           "#9c179e"
          ],
          [
           0.4444444444444444,
           "#bd3786"
          ],
          [
           0.5555555555555556,
           "#d8576b"
          ],
          [
           0.6666666666666666,
           "#ed7953"
          ],
          [
           0.7777777777777778,
           "#fb9f3a"
          ],
          [
           0.8888888888888888,
           "#fdca26"
          ],
          [
           1,
           "#f0f921"
          ]
         ]
        },
        "legend": {
         "tracegroupgap": 0
        },
        "margin": {
         "t": 60
        },
        "template": {
         "data": {
          "bar": [
           {
            "error_x": {
             "color": "#2a3f5f"
            },
            "error_y": {
             "color": "#2a3f5f"
            },
            "marker": {
             "line": {
              "color": "#E5ECF6",
              "width": 0.5
             },
             "pattern": {
              "fillmode": "overlay",
              "size": 10,
              "solidity": 0.2
             }
            },
            "type": "bar"
           }
          ],
          "barpolar": [
           {
            "marker": {
             "line": {
              "color": "#E5ECF6",
              "width": 0.5
             },
             "pattern": {
              "fillmode": "overlay",
              "size": 10,
              "solidity": 0.2
             }
            },
            "type": "barpolar"
           }
          ],
          "carpet": [
           {
            "aaxis": {
             "endlinecolor": "#2a3f5f",
             "gridcolor": "white",
             "linecolor": "white",
             "minorgridcolor": "white",
             "startlinecolor": "#2a3f5f"
            },
            "baxis": {
             "endlinecolor": "#2a3f5f",
             "gridcolor": "white",
             "linecolor": "white",
             "minorgridcolor": "white",
             "startlinecolor": "#2a3f5f"
            },
            "type": "carpet"
           }
          ],
          "choropleth": [
           {
            "colorbar": {
             "outlinewidth": 0,
             "ticks": ""
            },
            "type": "choropleth"
           }
          ],
          "contour": [
           {
            "colorbar": {
             "outlinewidth": 0,
             "ticks": ""
            },
            "colorscale": [
             [
              0,
              "#0d0887"
             ],
             [
              0.1111111111111111,
              "#46039f"
             ],
             [
              0.2222222222222222,
              "#7201a8"
             ],
             [
              0.3333333333333333,
              "#9c179e"
             ],
             [
              0.4444444444444444,
              "#bd3786"
             ],
             [
              0.5555555555555556,
              "#d8576b"
             ],
             [
              0.6666666666666666,
              "#ed7953"
             ],
             [
              0.7777777777777778,
              "#fb9f3a"
             ],
             [
              0.8888888888888888,
              "#fdca26"
             ],
             [
              1,
              "#f0f921"
             ]
            ],
            "type": "contour"
           }
          ],
          "contourcarpet": [
           {
            "colorbar": {
             "outlinewidth": 0,
             "ticks": ""
            },
            "type": "contourcarpet"
           }
          ],
          "heatmap": [
           {
            "colorbar": {
             "outlinewidth": 0,
             "ticks": ""
            },
            "colorscale": [
             [
              0,
              "#0d0887"
             ],
             [
              0.1111111111111111,
              "#46039f"
             ],
             [
              0.2222222222222222,
              "#7201a8"
             ],
             [
              0.3333333333333333,
              "#9c179e"
             ],
             [
              0.4444444444444444,
              "#bd3786"
             ],
             [
              0.5555555555555556,
              "#d8576b"
             ],
             [
              0.6666666666666666,
              "#ed7953"
             ],
             [
              0.7777777777777778,
              "#fb9f3a"
             ],
             [
              0.8888888888888888,
              "#fdca26"
             ],
             [
              1,
              "#f0f921"
             ]
            ],
            "type": "heatmap"
           }
          ],
          "heatmapgl": [
           {
            "colorbar": {
             "outlinewidth": 0,
             "ticks": ""
            },
            "colorscale": [
             [
              0,
              "#0d0887"
             ],
             [
              0.1111111111111111,
              "#46039f"
             ],
             [
              0.2222222222222222,
              "#7201a8"
             ],
             [
              0.3333333333333333,
              "#9c179e"
             ],
             [
              0.4444444444444444,
              "#bd3786"
             ],
             [
              0.5555555555555556,
              "#d8576b"
             ],
             [
              0.6666666666666666,
              "#ed7953"
             ],
             [
              0.7777777777777778,
              "#fb9f3a"
             ],
             [
              0.8888888888888888,
              "#fdca26"
             ],
             [
              1,
              "#f0f921"
             ]
            ],
            "type": "heatmapgl"
           }
          ],
          "histogram": [
           {
            "marker": {
             "pattern": {
              "fillmode": "overlay",
              "size": 10,
              "solidity": 0.2
             }
            },
            "type": "histogram"
           }
          ],
          "histogram2d": [
           {
            "colorbar": {
             "outlinewidth": 0,
             "ticks": ""
            },
            "colorscale": [
             [
              0,
              "#0d0887"
             ],
             [
              0.1111111111111111,
              "#46039f"
             ],
             [
              0.2222222222222222,
              "#7201a8"
             ],
             [
              0.3333333333333333,
              "#9c179e"
             ],
             [
              0.4444444444444444,
              "#bd3786"
             ],
             [
              0.5555555555555556,
              "#d8576b"
             ],
             [
              0.6666666666666666,
              "#ed7953"
             ],
             [
              0.7777777777777778,
              "#fb9f3a"
             ],
             [
              0.8888888888888888,
              "#fdca26"
             ],
             [
              1,
              "#f0f921"
             ]
            ],
            "type": "histogram2d"
           }
          ],
          "histogram2dcontour": [
           {
            "colorbar": {
             "outlinewidth": 0,
             "ticks": ""
            },
            "colorscale": [
             [
              0,
              "#0d0887"
             ],
             [
              0.1111111111111111,
              "#46039f"
             ],
             [
              0.2222222222222222,
              "#7201a8"
             ],
             [
              0.3333333333333333,
              "#9c179e"
             ],
             [
              0.4444444444444444,
              "#bd3786"
             ],
             [
              0.5555555555555556,
              "#d8576b"
             ],
             [
              0.6666666666666666,
              "#ed7953"
             ],
             [
              0.7777777777777778,
              "#fb9f3a"
             ],
             [
              0.8888888888888888,
              "#fdca26"
             ],
             [
              1,
              "#f0f921"
             ]
            ],
            "type": "histogram2dcontour"
           }
          ],
          "mesh3d": [
           {
            "colorbar": {
             "outlinewidth": 0,
             "ticks": ""
            },
            "type": "mesh3d"
           }
          ],
          "parcoords": [
           {
            "line": {
             "colorbar": {
              "outlinewidth": 0,
              "ticks": ""
             }
            },
            "type": "parcoords"
           }
          ],
          "pie": [
           {
            "automargin": true,
            "type": "pie"
           }
          ],
          "scatter": [
           {
            "fillpattern": {
             "fillmode": "overlay",
             "size": 10,
             "solidity": 0.2
            },
            "type": "scatter"
           }
          ],
          "scatter3d": [
           {
            "line": {
             "colorbar": {
              "outlinewidth": 0,
              "ticks": ""
             }
            },
            "marker": {
             "colorbar": {
              "outlinewidth": 0,
              "ticks": ""
             }
            },
            "type": "scatter3d"
           }
          ],
          "scattercarpet": [
           {
            "marker": {
             "colorbar": {
              "outlinewidth": 0,
              "ticks": ""
             }
            },
            "type": "scattercarpet"
           }
          ],
          "scattergeo": [
           {
            "marker": {
             "colorbar": {
              "outlinewidth": 0,
              "ticks": ""
             }
            },
            "type": "scattergeo"
           }
          ],
          "scattergl": [
           {
            "marker": {
             "colorbar": {
              "outlinewidth": 0,
              "ticks": ""
             }
            },
            "type": "scattergl"
           }
          ],
          "scattermapbox": [
           {
            "marker": {
             "colorbar": {
              "outlinewidth": 0,
              "ticks": ""
             }
            },
            "type": "scattermapbox"
           }
          ],
          "scatterpolar": [
           {
            "marker": {
             "colorbar": {
              "outlinewidth": 0,
              "ticks": ""
             }
            },
            "type": "scatterpolar"
           }
          ],
          "scatterpolargl": [
           {
            "marker": {
             "colorbar": {
              "outlinewidth": 0,
              "ticks": ""
             }
            },
            "type": "scatterpolargl"
           }
          ],
          "scatterternary": [
           {
            "marker": {
             "colorbar": {
              "outlinewidth": 0,
              "ticks": ""
             }
            },
            "type": "scatterternary"
           }
          ],
          "surface": [
           {
            "colorbar": {
             "outlinewidth": 0,
             "ticks": ""
            },
            "colorscale": [
             [
              0,
              "#0d0887"
             ],
             [
              0.1111111111111111,
              "#46039f"
             ],
             [
              0.2222222222222222,
              "#7201a8"
             ],
             [
              0.3333333333333333,
              "#9c179e"
             ],
             [
              0.4444444444444444,
              "#bd3786"
             ],
             [
              0.5555555555555556,
              "#d8576b"
             ],
             [
              0.6666666666666666,
              "#ed7953"
             ],
             [
              0.7777777777777778,
              "#fb9f3a"
             ],
             [
              0.8888888888888888,
              "#fdca26"
             ],
             [
              1,
              "#f0f921"
             ]
            ],
            "type": "surface"
           }
          ],
          "table": [
           {
            "cells": {
             "fill": {
              "color": "#EBF0F8"
             },
             "line": {
              "color": "white"
             }
            },
            "header": {
             "fill": {
              "color": "#C8D4E3"
             },
             "line": {
              "color": "white"
             }
            },
            "type": "table"
           }
          ]
         },
         "layout": {
          "annotationdefaults": {
           "arrowcolor": "#2a3f5f",
           "arrowhead": 0,
           "arrowwidth": 1
          },
          "autotypenumbers": "strict",
          "coloraxis": {
           "colorbar": {
            "outlinewidth": 0,
            "ticks": ""
           }
          },
          "colorscale": {
           "diverging": [
            [
             0,
             "#8e0152"
            ],
            [
             0.1,
             "#c51b7d"
            ],
            [
             0.2,
             "#de77ae"
            ],
            [
             0.3,
             "#f1b6da"
            ],
            [
             0.4,
             "#fde0ef"
            ],
            [
             0.5,
             "#f7f7f7"
            ],
            [
             0.6,
             "#e6f5d0"
            ],
            [
             0.7,
             "#b8e186"
            ],
            [
             0.8,
             "#7fbc41"
            ],
            [
             0.9,
             "#4d9221"
            ],
            [
             1,
             "#276419"
            ]
           ],
           "sequential": [
            [
             0,
             "#0d0887"
            ],
            [
             0.1111111111111111,
             "#46039f"
            ],
            [
             0.2222222222222222,
             "#7201a8"
            ],
            [
             0.3333333333333333,
             "#9c179e"
            ],
            [
             0.4444444444444444,
             "#bd3786"
            ],
            [
             0.5555555555555556,
             "#d8576b"
            ],
            [
             0.6666666666666666,
             "#ed7953"
            ],
            [
             0.7777777777777778,
             "#fb9f3a"
            ],
            [
             0.8888888888888888,
             "#fdca26"
            ],
            [
             1,
             "#f0f921"
            ]
           ],
           "sequentialminus": [
            [
             0,
             "#0d0887"
            ],
            [
             0.1111111111111111,
             "#46039f"
            ],
            [
             0.2222222222222222,
             "#7201a8"
            ],
            [
             0.3333333333333333,
             "#9c179e"
            ],
            [
             0.4444444444444444,
             "#bd3786"
            ],
            [
             0.5555555555555556,
             "#d8576b"
            ],
            [
             0.6666666666666666,
             "#ed7953"
            ],
            [
             0.7777777777777778,
             "#fb9f3a"
            ],
            [
             0.8888888888888888,
             "#fdca26"
            ],
            [
             1,
             "#f0f921"
            ]
           ]
          },
          "colorway": [
           "#636efa",
           "#EF553B",
           "#00cc96",
           "#ab63fa",
           "#FFA15A",
           "#19d3f3",
           "#FF6692",
           "#B6E880",
           "#FF97FF",
           "#FECB52"
          ],
          "font": {
           "color": "#2a3f5f"
          },
          "geo": {
           "bgcolor": "white",
           "lakecolor": "white",
           "landcolor": "#E5ECF6",
           "showlakes": true,
           "showland": true,
           "subunitcolor": "white"
          },
          "hoverlabel": {
           "align": "left"
          },
          "hovermode": "closest",
          "mapbox": {
           "style": "light"
          },
          "paper_bgcolor": "white",
          "plot_bgcolor": "#E5ECF6",
          "polar": {
           "angularaxis": {
            "gridcolor": "white",
            "linecolor": "white",
            "ticks": ""
           },
           "bgcolor": "#E5ECF6",
           "radialaxis": {
            "gridcolor": "white",
            "linecolor": "white",
            "ticks": ""
           }
          },
          "scene": {
           "xaxis": {
            "backgroundcolor": "#E5ECF6",
            "gridcolor": "white",
            "gridwidth": 2,
            "linecolor": "white",
            "showbackground": true,
            "ticks": "",
            "zerolinecolor": "white"
           },
           "yaxis": {
            "backgroundcolor": "#E5ECF6",
            "gridcolor": "white",
            "gridwidth": 2,
            "linecolor": "white",
            "showbackground": true,
            "ticks": "",
            "zerolinecolor": "white"
           },
           "zaxis": {
            "backgroundcolor": "#E5ECF6",
            "gridcolor": "white",
            "gridwidth": 2,
            "linecolor": "white",
            "showbackground": true,
            "ticks": "",
            "zerolinecolor": "white"
           }
          },
          "shapedefaults": {
           "line": {
            "color": "#2a3f5f"
           }
          },
          "ternary": {
           "aaxis": {
            "gridcolor": "white",
            "linecolor": "white",
            "ticks": ""
           },
           "baxis": {
            "gridcolor": "white",
            "linecolor": "white",
            "ticks": ""
           },
           "bgcolor": "#E5ECF6",
           "caxis": {
            "gridcolor": "white",
            "linecolor": "white",
            "ticks": ""
           }
          },
          "title": {
           "x": 0.05
          },
          "xaxis": {
           "automargin": true,
           "gridcolor": "white",
           "linecolor": "white",
           "ticks": "",
           "title": {
            "standoff": 15
           },
           "zerolinecolor": "white",
           "zerolinewidth": 2
          },
          "yaxis": {
           "automargin": true,
           "gridcolor": "white",
           "linecolor": "white",
           "ticks": "",
           "title": {
            "standoff": 15
           },
           "zerolinecolor": "white",
           "zerolinewidth": 2
          }
         }
        },
        "xaxis": {
         "anchor": "y",
         "domain": [
          0,
          1
         ],
         "title": {
          "text": "sales"
         }
        },
        "yaxis": {
         "anchor": "x",
         "domain": [
          0,
          1
         ],
         "title": {
          "text": "bank"
         }
        }
       }
      },
      "text/html": [
       "<div>                            <div id=\"2b74543c-a42d-4007-8e5d-4863379dffc2\" class=\"plotly-graph-div\" style=\"height:525px; width:100%;\"></div>            <script type=\"text/javascript\">                require([\"plotly\"], function(Plotly) {                    window.PLOTLYENV=window.PLOTLYENV || {};                                    if (document.getElementById(\"2b74543c-a42d-4007-8e5d-4863379dffc2\")) {                    Plotly.newPlot(                        \"2b74543c-a42d-4007-8e5d-4863379dffc2\",                        [{\"alignmentgroup\":\"True\",\"hovertemplate\":\"sales=%{x}<br>bank=%{y}<br>index=%{marker.color}<extra></extra>\",\"legendgroup\":\"\",\"marker\":{\"color\":[0,1,2,3,4,5,6,7,8,9,10,11,12,13,14,15,16,17,18,19,20,21,22,23,24,25,26,27,28,29,30,31,32,33,34,35,36,37,38],\"coloraxis\":\"coloraxis\",\"pattern\":{\"shape\":\"\"}},\"name\":\"\",\"offsetgroup\":\"\",\"orientation\":\"h\",\"showlegend\":false,\"textposition\":\"auto\",\"x\":[2728515.5,2730999.25,2687142.75,2704554.25,2689352.5,2705795.75,2723215.25,2713952.5,2685751.5,2728366.0,2692435.25,2687182.25,2699759.75,2689886.5,2700528.5,2676578.5,2688430.25,2715279.0,2670030.5,2699554.5,2697294.25,2723363.0,2708515.75,2711595.25,2692016.25,2700088.0,2692043.25,2708084.25,2690828.0,2698896.5,2682787.5,2720974.5,2685805.25,2728115.25,2691275.75,2727661.0,2720807.0,2696854.75,2707120.0],\"xaxis\":\"x\",\"y\":[\"AB Bank Limited\",\"Bangladesh Commerce Bank Limited\",\"Bank Asia Limited\",\"Bengal Commercial Bank Ltd\",\"Bkash\",\"BRAC Bank Limited\",\"Citizens Bank Limited\",\"City Bank Limited\",\"Community Bank Bangladesh Limited\",\"Dhaka Bank Limited\",\"Dutch-Bangla Bank Limited\",\"Eastern Bank Limited\",\"IFIC Bank Limited\",\"Jamuna Bank Limited\",\"Meghna Bank Limited\",\"Mercantile Bank Limited\",\"Midland Bank Limited\",\"Modhumoti Bank Limited\",\"Mutual Trust Bank Limited\",\"Nagad\",\"National Bank Limited\",\"National Credit & Commerce Bank Limited\",\"None\",\"NRB Bank Limited\",\"NRB Commercial Bank Ltd\",\"NRB Global Bank Ltd\",\"One Bank Limited\",\"Padma Bank Limited\",\"Premier Bank Limited\",\"Prime Bank Limited\",\"Pubali Bank Limited\",\"Rocket\",\"Shimanto Bank Ltd\",\"South Bangla Agriculture and Commerce Bank Limited\",\"Southeast Bank Limited\",\"Standard Bank Limited\",\"Trust Bank Limited\",\"United Commercial Bank Ltd\",\"Uttara Bank Limited\"],\"yaxis\":\"y\",\"type\":\"bar\"}],                        {\"template\":{\"data\":{\"histogram2dcontour\":[{\"type\":\"histogram2dcontour\",\"colorbar\":{\"outlinewidth\":0,\"ticks\":\"\"},\"colorscale\":[[0.0,\"#0d0887\"],[0.1111111111111111,\"#46039f\"],[0.2222222222222222,\"#7201a8\"],[0.3333333333333333,\"#9c179e\"],[0.4444444444444444,\"#bd3786\"],[0.5555555555555556,\"#d8576b\"],[0.6666666666666666,\"#ed7953\"],[0.7777777777777778,\"#fb9f3a\"],[0.8888888888888888,\"#fdca26\"],[1.0,\"#f0f921\"]]}],\"choropleth\":[{\"type\":\"choropleth\",\"colorbar\":{\"outlinewidth\":0,\"ticks\":\"\"}}],\"histogram2d\":[{\"type\":\"histogram2d\",\"colorbar\":{\"outlinewidth\":0,\"ticks\":\"\"},\"colorscale\":[[0.0,\"#0d0887\"],[0.1111111111111111,\"#46039f\"],[0.2222222222222222,\"#7201a8\"],[0.3333333333333333,\"#9c179e\"],[0.4444444444444444,\"#bd3786\"],[0.5555555555555556,\"#d8576b\"],[0.6666666666666666,\"#ed7953\"],[0.7777777777777778,\"#fb9f3a\"],[0.8888888888888888,\"#fdca26\"],[1.0,\"#f0f921\"]]}],\"heatmap\":[{\"type\":\"heatmap\",\"colorbar\":{\"outlinewidth\":0,\"ticks\":\"\"},\"colorscale\":[[0.0,\"#0d0887\"],[0.1111111111111111,\"#46039f\"],[0.2222222222222222,\"#7201a8\"],[0.3333333333333333,\"#9c179e\"],[0.4444444444444444,\"#bd3786\"],[0.5555555555555556,\"#d8576b\"],[0.6666666666666666,\"#ed7953\"],[0.7777777777777778,\"#fb9f3a\"],[0.8888888888888888,\"#fdca26\"],[1.0,\"#f0f921\"]]}],\"heatmapgl\":[{\"type\":\"heatmapgl\",\"colorbar\":{\"outlinewidth\":0,\"ticks\":\"\"},\"colorscale\":[[0.0,\"#0d0887\"],[0.1111111111111111,\"#46039f\"],[0.2222222222222222,\"#7201a8\"],[0.3333333333333333,\"#9c179e\"],[0.4444444444444444,\"#bd3786\"],[0.5555555555555556,\"#d8576b\"],[0.6666666666666666,\"#ed7953\"],[0.7777777777777778,\"#fb9f3a\"],[0.8888888888888888,\"#fdca26\"],[1.0,\"#f0f921\"]]}],\"contourcarpet\":[{\"type\":\"contourcarpet\",\"colorbar\":{\"outlinewidth\":0,\"ticks\":\"\"}}],\"contour\":[{\"type\":\"contour\",\"colorbar\":{\"outlinewidth\":0,\"ticks\":\"\"},\"colorscale\":[[0.0,\"#0d0887\"],[0.1111111111111111,\"#46039f\"],[0.2222222222222222,\"#7201a8\"],[0.3333333333333333,\"#9c179e\"],[0.4444444444444444,\"#bd3786\"],[0.5555555555555556,\"#d8576b\"],[0.6666666666666666,\"#ed7953\"],[0.7777777777777778,\"#fb9f3a\"],[0.8888888888888888,\"#fdca26\"],[1.0,\"#f0f921\"]]}],\"surface\":[{\"type\":\"surface\",\"colorbar\":{\"outlinewidth\":0,\"ticks\":\"\"},\"colorscale\":[[0.0,\"#0d0887\"],[0.1111111111111111,\"#46039f\"],[0.2222222222222222,\"#7201a8\"],[0.3333333333333333,\"#9c179e\"],[0.4444444444444444,\"#bd3786\"],[0.5555555555555556,\"#d8576b\"],[0.6666666666666666,\"#ed7953\"],[0.7777777777777778,\"#fb9f3a\"],[0.8888888888888888,\"#fdca26\"],[1.0,\"#f0f921\"]]}],\"mesh3d\":[{\"type\":\"mesh3d\",\"colorbar\":{\"outlinewidth\":0,\"ticks\":\"\"}}],\"scatter\":[{\"fillpattern\":{\"fillmode\":\"overlay\",\"size\":10,\"solidity\":0.2},\"type\":\"scatter\"}],\"parcoords\":[{\"type\":\"parcoords\",\"line\":{\"colorbar\":{\"outlinewidth\":0,\"ticks\":\"\"}}}],\"scatterpolargl\":[{\"type\":\"scatterpolargl\",\"marker\":{\"colorbar\":{\"outlinewidth\":0,\"ticks\":\"\"}}}],\"bar\":[{\"error_x\":{\"color\":\"#2a3f5f\"},\"error_y\":{\"color\":\"#2a3f5f\"},\"marker\":{\"line\":{\"color\":\"#E5ECF6\",\"width\":0.5},\"pattern\":{\"fillmode\":\"overlay\",\"size\":10,\"solidity\":0.2}},\"type\":\"bar\"}],\"scattergeo\":[{\"type\":\"scattergeo\",\"marker\":{\"colorbar\":{\"outlinewidth\":0,\"ticks\":\"\"}}}],\"scatterpolar\":[{\"type\":\"scatterpolar\",\"marker\":{\"colorbar\":{\"outlinewidth\":0,\"ticks\":\"\"}}}],\"histogram\":[{\"marker\":{\"pattern\":{\"fillmode\":\"overlay\",\"size\":10,\"solidity\":0.2}},\"type\":\"histogram\"}],\"scattergl\":[{\"type\":\"scattergl\",\"marker\":{\"colorbar\":{\"outlinewidth\":0,\"ticks\":\"\"}}}],\"scatter3d\":[{\"type\":\"scatter3d\",\"line\":{\"colorbar\":{\"outlinewidth\":0,\"ticks\":\"\"}},\"marker\":{\"colorbar\":{\"outlinewidth\":0,\"ticks\":\"\"}}}],\"scattermapbox\":[{\"type\":\"scattermapbox\",\"marker\":{\"colorbar\":{\"outlinewidth\":0,\"ticks\":\"\"}}}],\"scatterternary\":[{\"type\":\"scatterternary\",\"marker\":{\"colorbar\":{\"outlinewidth\":0,\"ticks\":\"\"}}}],\"scattercarpet\":[{\"type\":\"scattercarpet\",\"marker\":{\"colorbar\":{\"outlinewidth\":0,\"ticks\":\"\"}}}],\"carpet\":[{\"aaxis\":{\"endlinecolor\":\"#2a3f5f\",\"gridcolor\":\"white\",\"linecolor\":\"white\",\"minorgridcolor\":\"white\",\"startlinecolor\":\"#2a3f5f\"},\"baxis\":{\"endlinecolor\":\"#2a3f5f\",\"gridcolor\":\"white\",\"linecolor\":\"white\",\"minorgridcolor\":\"white\",\"startlinecolor\":\"#2a3f5f\"},\"type\":\"carpet\"}],\"table\":[{\"cells\":{\"fill\":{\"color\":\"#EBF0F8\"},\"line\":{\"color\":\"white\"}},\"header\":{\"fill\":{\"color\":\"#C8D4E3\"},\"line\":{\"color\":\"white\"}},\"type\":\"table\"}],\"barpolar\":[{\"marker\":{\"line\":{\"color\":\"#E5ECF6\",\"width\":0.5},\"pattern\":{\"fillmode\":\"overlay\",\"size\":10,\"solidity\":0.2}},\"type\":\"barpolar\"}],\"pie\":[{\"automargin\":true,\"type\":\"pie\"}]},\"layout\":{\"autotypenumbers\":\"strict\",\"colorway\":[\"#636efa\",\"#EF553B\",\"#00cc96\",\"#ab63fa\",\"#FFA15A\",\"#19d3f3\",\"#FF6692\",\"#B6E880\",\"#FF97FF\",\"#FECB52\"],\"font\":{\"color\":\"#2a3f5f\"},\"hovermode\":\"closest\",\"hoverlabel\":{\"align\":\"left\"},\"paper_bgcolor\":\"white\",\"plot_bgcolor\":\"#E5ECF6\",\"polar\":{\"bgcolor\":\"#E5ECF6\",\"angularaxis\":{\"gridcolor\":\"white\",\"linecolor\":\"white\",\"ticks\":\"\"},\"radialaxis\":{\"gridcolor\":\"white\",\"linecolor\":\"white\",\"ticks\":\"\"}},\"ternary\":{\"bgcolor\":\"#E5ECF6\",\"aaxis\":{\"gridcolor\":\"white\",\"linecolor\":\"white\",\"ticks\":\"\"},\"baxis\":{\"gridcolor\":\"white\",\"linecolor\":\"white\",\"ticks\":\"\"},\"caxis\":{\"gridcolor\":\"white\",\"linecolor\":\"white\",\"ticks\":\"\"}},\"coloraxis\":{\"colorbar\":{\"outlinewidth\":0,\"ticks\":\"\"}},\"colorscale\":{\"sequential\":[[0.0,\"#0d0887\"],[0.1111111111111111,\"#46039f\"],[0.2222222222222222,\"#7201a8\"],[0.3333333333333333,\"#9c179e\"],[0.4444444444444444,\"#bd3786\"],[0.5555555555555556,\"#d8576b\"],[0.6666666666666666,\"#ed7953\"],[0.7777777777777778,\"#fb9f3a\"],[0.8888888888888888,\"#fdca26\"],[1.0,\"#f0f921\"]],\"sequentialminus\":[[0.0,\"#0d0887\"],[0.1111111111111111,\"#46039f\"],[0.2222222222222222,\"#7201a8\"],[0.3333333333333333,\"#9c179e\"],[0.4444444444444444,\"#bd3786\"],[0.5555555555555556,\"#d8576b\"],[0.6666666666666666,\"#ed7953\"],[0.7777777777777778,\"#fb9f3a\"],[0.8888888888888888,\"#fdca26\"],[1.0,\"#f0f921\"]],\"diverging\":[[0,\"#8e0152\"],[0.1,\"#c51b7d\"],[0.2,\"#de77ae\"],[0.3,\"#f1b6da\"],[0.4,\"#fde0ef\"],[0.5,\"#f7f7f7\"],[0.6,\"#e6f5d0\"],[0.7,\"#b8e186\"],[0.8,\"#7fbc41\"],[0.9,\"#4d9221\"],[1,\"#276419\"]]},\"xaxis\":{\"gridcolor\":\"white\",\"linecolor\":\"white\",\"ticks\":\"\",\"title\":{\"standoff\":15},\"zerolinecolor\":\"white\",\"automargin\":true,\"zerolinewidth\":2},\"yaxis\":{\"gridcolor\":\"white\",\"linecolor\":\"white\",\"ticks\":\"\",\"title\":{\"standoff\":15},\"zerolinecolor\":\"white\",\"automargin\":true,\"zerolinewidth\":2},\"scene\":{\"xaxis\":{\"backgroundcolor\":\"#E5ECF6\",\"gridcolor\":\"white\",\"linecolor\":\"white\",\"showbackground\":true,\"ticks\":\"\",\"zerolinecolor\":\"white\",\"gridwidth\":2},\"yaxis\":{\"backgroundcolor\":\"#E5ECF6\",\"gridcolor\":\"white\",\"linecolor\":\"white\",\"showbackground\":true,\"ticks\":\"\",\"zerolinecolor\":\"white\",\"gridwidth\":2},\"zaxis\":{\"backgroundcolor\":\"#E5ECF6\",\"gridcolor\":\"white\",\"linecolor\":\"white\",\"showbackground\":true,\"ticks\":\"\",\"zerolinecolor\":\"white\",\"gridwidth\":2}},\"shapedefaults\":{\"line\":{\"color\":\"#2a3f5f\"}},\"annotationdefaults\":{\"arrowcolor\":\"#2a3f5f\",\"arrowhead\":0,\"arrowwidth\":1},\"geo\":{\"bgcolor\":\"white\",\"landcolor\":\"#E5ECF6\",\"subunitcolor\":\"white\",\"showland\":true,\"showlakes\":true,\"lakecolor\":\"white\"},\"title\":{\"x\":0.05},\"mapbox\":{\"style\":\"light\"}}},\"xaxis\":{\"anchor\":\"y\",\"domain\":[0.0,1.0],\"title\":{\"text\":\"sales\"}},\"yaxis\":{\"anchor\":\"x\",\"domain\":[0.0,1.0],\"title\":{\"text\":\"bank\"}},\"coloraxis\":{\"colorbar\":{\"title\":{\"text\":\"index\"}},\"colorscale\":[[0.0,\"#0d0887\"],[0.1111111111111111,\"#46039f\"],[0.2222222222222222,\"#7201a8\"],[0.3333333333333333,\"#9c179e\"],[0.4444444444444444,\"#bd3786\"],[0.5555555555555556,\"#d8576b\"],[0.6666666666666666,\"#ed7953\"],[0.7777777777777778,\"#fb9f3a\"],[0.8888888888888888,\"#fdca26\"],[1.0,\"#f0f921\"]]},\"legend\":{\"tracegroupgap\":0},\"margin\":{\"t\":60},\"barmode\":\"relative\"},                        {\"responsive\": true}                    ).then(function(){\n",
       "                            \n",
       "var gd = document.getElementById('2b74543c-a42d-4007-8e5d-4863379dffc2');\n",
       "var x = new MutationObserver(function (mutations, observer) {{\n",
       "        var display = window.getComputedStyle(gd).display;\n",
       "        if (!display || display === 'none') {{\n",
       "            console.log([gd, 'removed!']);\n",
       "            Plotly.purge(gd);\n",
       "            observer.disconnect();\n",
       "        }}\n",
       "}});\n",
       "\n",
       "// Listen for the removal of the full notebook cells\n",
       "var notebookContainer = gd.closest('#notebook-container');\n",
       "if (notebookContainer) {{\n",
       "    x.observe(notebookContainer, {childList: true});\n",
       "}}\n",
       "\n",
       "// Listen for the clearing of the current output cell\n",
       "var outputEl = gd.closest('.output');\n",
       "if (outputEl) {{\n",
       "    x.observe(outputEl, {childList: true});\n",
       "}}\n",
       "\n",
       "                        })                };                });            </script>        </div>"
      ]
     },
     "metadata": {},
     "output_type": "display_data"
    }
   ],
   "source": [
    "import plotly.express as px\n",
    "\n",
    "grafico_dose1 = px.bar(df8, x=df8['sales'], y=df8['bank'], color=df8.index)\n",
    "grafico_dose1.show()"
   ]
  },
  {
   "cell_type": "code",
   "execution_count": 49,
   "id": "e5054025",
   "metadata": {},
   "outputs": [
    {
     "data": {
      "text/plain": [
       "[('card', Decimal('94583038.50')),\n",
       " ('cash', Decimal('2708515.75')),\n",
       " ('mobile', Decimal('8109881.50'))]"
      ]
     },
     "execution_count": 49,
     "metadata": {},
     "output_type": "execute_result"
    }
   ],
   "source": [
    "statement=\"\"\"SELECT Trans_dim.trans_type as \"transaction_type\", SUM(fact_table.total_price) \"sales\"\n",
    "FROM stars.fact_table\n",
    "JOIN stars.Trans_dim ON\n",
    "Trans_dim.payment_key = fact_table.payment_key\n",
    "GROUP BY Trans_dim.trans_type\n",
    "ORDER BY Trans_dim.trans_type\"\"\"\n",
    "\n",
    "cur = con.cursor()\n",
    "# psycopg2.extras.execute_batch(cur, insert_stmt, fact_data.values)\n",
    "cur.execute(statement)\n",
    "q_trans = cur.fetchall()\n",
    "q_trans"
   ]
  },
  {
   "cell_type": "code",
   "execution_count": 50,
   "id": "4fd8debc",
   "metadata": {},
   "outputs": [],
   "source": [
    "df9=pd.DataFrame(list(q_trans), columns=['transaction_type','sales'])"
   ]
  },
  {
   "cell_type": "code",
   "execution_count": 51,
   "id": "348effc4",
   "metadata": {},
   "outputs": [
    {
     "data": {
      "text/html": [
       "<div>\n",
       "<style scoped>\n",
       "    .dataframe tbody tr th:only-of-type {\n",
       "        vertical-align: middle;\n",
       "    }\n",
       "\n",
       "    .dataframe tbody tr th {\n",
       "        vertical-align: top;\n",
       "    }\n",
       "\n",
       "    .dataframe thead th {\n",
       "        text-align: right;\n",
       "    }\n",
       "</style>\n",
       "<table border=\"1\" class=\"dataframe\">\n",
       "  <thead>\n",
       "    <tr style=\"text-align: right;\">\n",
       "      <th></th>\n",
       "      <th>transaction_type</th>\n",
       "      <th>sales</th>\n",
       "    </tr>\n",
       "  </thead>\n",
       "  <tbody>\n",
       "    <tr>\n",
       "      <th>0</th>\n",
       "      <td>card</td>\n",
       "      <td>94583038.50</td>\n",
       "    </tr>\n",
       "    <tr>\n",
       "      <th>1</th>\n",
       "      <td>cash</td>\n",
       "      <td>2708515.75</td>\n",
       "    </tr>\n",
       "    <tr>\n",
       "      <th>2</th>\n",
       "      <td>mobile</td>\n",
       "      <td>8109881.50</td>\n",
       "    </tr>\n",
       "  </tbody>\n",
       "</table>\n",
       "</div>"
      ],
      "text/plain": [
       "  transaction_type        sales\n",
       "0             card  94583038.50\n",
       "1             cash   2708515.75\n",
       "2           mobile   8109881.50"
      ]
     },
     "execution_count": 51,
     "metadata": {},
     "output_type": "execute_result"
    }
   ],
   "source": [
    "df9"
   ]
  },
  {
   "cell_type": "code",
   "execution_count": 52,
   "id": "46d1b174",
   "metadata": {},
   "outputs": [],
   "source": [
    "df9['sales']=df9['sales'].astype('float64')"
   ]
  },
  {
   "cell_type": "code",
   "execution_count": 54,
   "id": "74093012",
   "metadata": {},
   "outputs": [
    {
     "data": {
      "image/png": "[encoded data removed]",
      "text/plain": [
       "<Figure size 960x560 with 1 Axes>"
      ]
     },
     "metadata": {},
     "output_type": "display_data"
    }
   ],
   "source": [
    "fig, ax = plt.subplots(figsize=(12, 7), subplot_kw=dict(aspect=\"equal\"), dpi= 80)\n",
    "\n",
    "data = df9['sales']\n",
    "categories = df9['transaction_type']\n",
    "explode = [0.09,0,0]\n",
    "\n",
    "def func(pct, allvals):\n",
    "    absolute = int(pct/100.*np.sum(allvals))\n",
    "    return \"{:.1f}% ({:d} )\".format(pct, absolute)\n",
    "\n",
    "wedges, texts, autotexts = ax.pie(data, \n",
    "                                  autopct=lambda pct: func(pct, data),\n",
    "                                  textprops=dict(color=\"black\"), \n",
    "                                  colors=plt.cm.Dark2.colors,\n",
    "                                 startangle=140,\n",
    "                                 explode=explode)\n",
    "\n",
    "# Decoration\n",
    "ax.legend(wedges, categories, title=\"\", loc=\"center left\", bbox_to_anchor=(1, 0, 0.5, 1))\n",
    "plt.setp(autotexts, size=7, weight=700)\n",
    "ax.set_title(\"sales price based on payment method\")\n",
    "plt.show()"
   ]
  },
  {
   "cell_type": "markdown",
   "id": "e01ddf50",
   "metadata": {},
   "source": [
    "# Q3: Total sales in Barisal"
   ]
  },
  {
   "cell_type": "code",
   "execution_count": 55,
   "id": "c04de5b0",
   "metadata": {},
   "outputs": [
    {
     "data": {
      "text/plain": [
       "[('BARISAL                                           ', Decimal('2897237.75'))]"
      ]
     },
     "execution_count": 55,
     "metadata": {},
     "output_type": "execute_result"
    }
   ],
   "source": [
    "statements=\"\"\"SELECT store_dim.district as \"district\", SUM(fact_table.total_price) \"sales\"\n",
    "FROM stars.fact_table\n",
    "JOIN stars.store_dim ON\n",
    "store_dim.store_key = fact_table.store_key\n",
    "WHERE store_dim.district='BARISAL'\n",
    "GROUP BY store_dim.district\n",
    "\"\"\"\n",
    "\n",
    "cur = con.cursor()\n",
    "# psycopg2.extras.execute_batch(cur, insert_stmt, fact_data.values)\n",
    "cur.execute(statements)\n",
    "q9 = cur.fetchall()\n",
    "q9"
   ]
  },
  {
   "cell_type": "markdown",
   "id": "812b32e7",
   "metadata": {},
   "source": [
    "# Q4: Total sales in 2015"
   ]
  },
  {
   "cell_type": "code",
   "execution_count": 56,
   "id": "df167054",
   "metadata": {},
   "outputs": [
    {
     "data": {
      "text/plain": [
       "[(Decimal('2015'), Decimal('15095720.25'))]"
      ]
     },
     "execution_count": 56,
     "metadata": {},
     "output_type": "execute_result"
    }
   ],
   "source": [
    "statements=\"\"\"SELECT time_dim.year as \"year\", SUM(fact_table.total_price) \"sales\"\n",
    "FROM stars.fact_table\n",
    "JOIN stars.time_dim ON\n",
    "time_dim.time_key = fact_table.time_key\n",
    "WHERE time_dim.year='2015'\n",
    "GROUP BY time_dim.year\n",
    "\"\"\"\n",
    "\n",
    "cur = con.cursor()\n",
    "# psycopg2.extras.execute_batch(cur, insert_stmt, fact_data.values)\n",
    "cur.execute(statements)\n",
    "q9 = cur.fetchall()\n",
    "q9"
   ]
  },
  {
   "cell_type": "markdown",
   "id": "f94bc281",
   "metadata": {},
   "source": [
    "# Q5: Total sales of Barisal in 2015"
   ]
  },
  {
   "cell_type": "code",
   "execution_count": 57,
   "id": "5c03af3b",
   "metadata": {},
   "outputs": [],
   "source": [
    "statements=\"\"\"SELECT store_dim.district as \"district\",time_dim.year,SUM(fact_table.total_price) \"sales\"\n",
    "FROM stars.fact_table\n",
    "JOIN stars.store_dim ON\n",
    "store_dim.store_key=fact_table.store_key\n",
    "JOIN stars.time_dim ON\n",
    "time_dim.time_key=fact_table.time_key\n",
    "WHERE store_dim.district='BARISAL'AND\n",
    "time_dim.year='2015'\n",
    "GROUP BY time_dim.year,store_dim.district\n",
    "\"\"\"\n",
    "cur = con.cursor()\n",
    "# psycopg2.extras.execute_batch(cur, insert_stmt, fact_data.values)\n",
    "total_sales_in_2015_and_barisal = pd.read_sql_query(statements, con)\n",
    "con.commit()\n",
    "cur.close()"
   ]
  },
  {
   "cell_type": "code",
   "execution_count": 58,
   "id": "6c6926db",
   "metadata": {},
   "outputs": [
    {
     "data": {
      "text/html": [
       "<div>\n",
       "<style scoped>\n",
       "    .dataframe tbody tr th:only-of-type {\n",
       "        vertical-align: middle;\n",
       "    }\n",
       "\n",
       "    .dataframe tbody tr th {\n",
       "        vertical-align: top;\n",
       "    }\n",
       "\n",
       "    .dataframe thead th {\n",
       "        text-align: right;\n",
       "    }\n",
       "</style>\n",
       "<table border=\"1\" class=\"dataframe\">\n",
       "  <thead>\n",
       "    <tr style=\"text-align: right;\">\n",
       "      <th></th>\n",
       "      <th>district</th>\n",
       "      <th>year</th>\n",
       "      <th>sales</th>\n",
       "    </tr>\n",
       "  </thead>\n",
       "  <tbody>\n",
       "    <tr>\n",
       "      <th>0</th>\n",
       "      <td>BARISAL                                       ...</td>\n",
       "      <td>2015.0</td>\n",
       "      <td>415748.75</td>\n",
       "    </tr>\n",
       "  </tbody>\n",
       "</table>\n",
       "</div>"
      ],
      "text/plain": [
       "                                            district    year      sales\n",
       "0  BARISAL                                       ...  2015.0  415748.75"
      ]
     },
     "execution_count": 58,
     "metadata": {},
     "output_type": "execute_result"
    }
   ],
   "source": [
    "total_sales_in_2015_and_barisal"
   ]
  },
  {
   "cell_type": "markdown",
   "id": "099e4996",
   "metadata": {},
   "source": [
    "# Q6: For each store(item supplier), what are the top three products offered that are most often purchased?"
   ]
  },
  {
   "cell_type": "code",
   "execution_count": 59,
   "id": "77dd90b2",
   "metadata": {},
   "outputs": [
    {
     "name": "stdout",
     "output_type": "stream",
     "text": [
      "Connection to DB established!\n"
     ]
    },
    {
     "data": {
      "text/plain": [
       "[('S0001', None, Decimal('8169')),\n",
       " ('S0001', 'Pepsi - 12 oz cans', Decimal('92')),\n",
       " ('S0001', 'Muscle Milk Protein Shake Van. 11oz', Decimal('90')),\n",
       " ('S0001', 'Hefty Supreme Foam Plates 6 inch', Decimal('78')),\n",
       " ('S0001', 'Waterloo Sparkling Lime 12oz', Decimal('70')),\n",
       " ('S0001', 'Njoy Sugar Canister 22 oz', Decimal('69')),\n",
       " ('S0001', 'Vita Coconut Water 10oz ', Decimal('68')),\n",
       " ('S0001', 'Muscle Milk Protein Shake Strbry. 11oz', Decimal('67')),\n",
       " ('S0001', 'Sprite - 12 oz cans', Decimal('64')),\n",
       " ('S0001', 'Cheez It White Cheddar 1.5 oz', Decimal('63')),\n",
       " ('S0001', 'Sargento Bal. Breaks (fruit, nut, cheese)', Decimal('62')),\n",
       " ('S0001', 'Dixie Perfecttouch Paper Cups 12oz', Decimal('61')),\n",
       " ('S0001', 'Hershey Chocoalte Minatures Assort.', Decimal('60')),\n",
       " ('S0001', 'A&W Root Beer - 12 oz cans', Decimal('60')),\n",
       " ('S0001', 'Dark Chocolate Mint Patties', Decimal('60')),\n",
       " ('S0001', 'Large Trash Bags Black 33 gal', Decimal('59')),\n",
       " ('S0001', 'Nature Valley Sweet/Salty Almond Bars      ', Decimal('59')),\n",
       " ('S0001', 'Kellogg Fun Mix Cheez it, Prngls, Fam Amos', Decimal('58')),\n",
       " ('S0001', 'Quaker Instant Oatmeal Maple Brn Sugar', Decimal('57')),\n",
       " ('S0001', 'Frito Bold Flavors Variety', Decimal('56')),\n",
       " ('S0001', 'Keebler Cookie & Cracker Variety', Decimal('55')),\n",
       " ('S0001', 'Flamin Hot Chip Mix 1oz', Decimal('54')),\n",
       " ('S0001', 'K Cups Daily Chef Columbian Supremo', Decimal('54')),\n",
       " ('S0001', 'Cherry Coke 12oz', Decimal('54')),\n",
       " ('S0001', 'Frito BOLD Flavors Variety Pack', Decimal('54')),\n",
       " ('S0001', 'Frito Big Grab Variety 1.5-2.0 oz', Decimal('53')),\n",
       " ('S0001', 'Wint O Green LifeSavers Sugar Free', Decimal('52')),\n",
       " ('S0001', 'Nestle Purelife 16oz ', Decimal('52')),\n",
       " ('S0001', 'Diet Coke Caffeine Free 12oz cans', Decimal('51')),\n",
       " ('S0001', \"Reese's Pieces Peanutbutter Candy\", Decimal('51')),\n",
       " ('S0001', 'Go-Gurt Low Fat Yogurt, Strwbry & Berry ', Decimal('51')),\n",
       " ('S0001', 'Muscle Milk Protein Shake Choc. 11oz', Decimal('50')),\n",
       " ('S0001', 'Ocean Spray Cranberry Juice Cocktail 15oz ', Decimal('50')),\n",
       " ('S0001', 'Quaker Instant Oatmeal Variety ', Decimal('50')),\n",
       " ('S0001', 'Dial Anti-bacterial  Foam 7.5oz', Decimal('50')),\n",
       " ('S0001', 'Belvita Protein Oats Soft Biscuit', Decimal('50')),\n",
       " ('S0001', 'Baked Chips Variety Mix Frito', Decimal('50')),\n",
       " ('S0001', 'Crunchy Granola Bars Oats & Honey', Decimal('50')),\n",
       " ('S0001', 'Kleenex Tissue Square Boxes 75/box', Decimal('49')),\n",
       " ('S0001', 'Red Bull 16oz', Decimal('49')),\n",
       " ('S0001', 'Hershey Nuggets', Decimal('48')),\n",
       " ('S0001', 'Folgers 100% Colombian Coffee', Decimal('48')),\n",
       " ('S0001', 'Hawaiian Punch - 12 oz cans', Decimal('48')),\n",
       " ('S0001', 'Paper Plates 7 inch  Ultra Strong', Decimal('48')),\n",
       " ('S0001', 'La Croix Sparkling Berry 12 ozv', Decimal('47')),\n",
       " ('S0001', 'La Croix Sparkling Lime 12 oz', Decimal('47')),\n",
       " ('S0001', 'Coffee-Mate French Vanilla Cold', Decimal('47')),\n",
       " ('S0001', 'French Vanilla International Delight', Decimal('47')),\n",
       " ('S0001', 'Coke Zero Sugar 12 oz cans', Decimal('47')),\n",
       " ('S0001', 'Ozarka Spring Water 20 oz', Decimal('46')),\n",
       " ('S0001', 'Lunchables Variety Pack Oscar Meyer', Decimal('46')),\n",
       " ('S0001', 'All Purpose Cleaner 409 Spray', Decimal('46')),\n",
       " ('S0001', 'Coke Classic 12 oz cans', Decimal('46')),\n",
       " ('S0001', 'M&M Peanut Candy 1.7 oz', Decimal('45')),\n",
       " ('S0001', 'V8 100% Vegetable Juice 11oz cans', Decimal('45')),\n",
       " ('S0001', 'Cheese and Peanut Butter Crackers', Decimal('45')),\n",
       " ('S0001', 'Diet Dr. Pepper - 12 oz cans', Decimal('45')),\n",
       " ('S0001', 'Propel Zero Variety 20 oz', Decimal('44')),\n",
       " ('S0001', 'Waterloo Sparkling Original 12oz', Decimal('44')),\n",
       " ('S0001', 'Clorox Disinfecting Wipes ', Decimal('44')),\n",
       " ('S0001', 'Coffee-Mate Original Flavor Cold', Decimal('44')),\n",
       " ('S0001', 'La Croix Sparkling Grapefruit 12 oz', Decimal('44')),\n",
       " ('S0001', \"Barq's Root Beer - 12 oz cans\", Decimal('43')),\n",
       " ('S0001', \"Welch's 100% Juice Variety10 oz\", Decimal('43')),\n",
       " ('S0001', 'La Croix Sparkling Coconut 12 oz', Decimal('43')),\n",
       " ('S0001', 'Mars Chocolate Favorites', Decimal('42')),\n",
       " ('S0001', 'Jolly Ranchers Variety Hard Candy', Decimal('42')),\n",
       " ('S0001', 'K Cups Hot Cocoa', Decimal('42')),\n",
       " ('S0001', 'Perrier Sparkling Water plastic 16.9oz', Decimal('42')),\n",
       " ('S0001', 'Planters Nut-trition 1.5 oz ', Decimal('42')),\n",
       " ('S0001', 'Folgers Classic Roast Coffee', Decimal('42')),\n",
       " ('S0001', 'Sobe Zero Lifewater Variety 20 oz', Decimal('41')),\n",
       " ('S0001', 'Chobani Greek Yogurt Variety Pack ', Decimal('41')),\n",
       " ('S0001', 'Frito Fiesta Flavors Variety', Decimal('41')),\n",
       " ('S0001', 'Cliff Builders Protein Bar Variety Pack', Decimal('40')),\n",
       " ('S0001', 'Diet Coke - 12 oz cans', Decimal('40')),\n",
       " ('S0001', 'Diet Gingerale 12 oz cans', Decimal('40')),\n",
       " ('S0001', 'Mountain Dew - 12 oz cans', Decimal('40')),\n",
       " ('S0001', 'Dr. Pepper - 12 oz cans', Decimal('39')),\n",
       " ('S0001', 'Nature Valley Sweet/Salty Peanut Bars      ', Decimal('39')),\n",
       " ('S0001', 'Foam Coffee Cups - 08 ounce', Decimal('39')),\n",
       " ('S0001', 'Clear Plastic Cups 9oz', Decimal('39')),\n",
       " ('S0001', 'AquaFina Purified Drinking Water 16oz', Decimal('39')),\n",
       " ('S0001', 'K Cups Original Donut Shop Med. Roast', Decimal('39')),\n",
       " ('S0001', 'Chex Mix Original', Decimal('38')),\n",
       " ('S0001', 'Hefty Supreme Foam Bowls 12oz', Decimal('38')),\n",
       " ('S0001', 'Honey Packets  ', Decimal('38')),\n",
       " ('S0001', 'Red Bull 8.4 oz', Decimal('38')),\n",
       " ('S0001', 'Lysol Wipes 100 ct', Decimal('38')),\n",
       " ('S0001', 'Trident Original Flavor 18/pk', Decimal('37')),\n",
       " ('S0001', 'Lance Variety Cracker Packs ', Decimal('37')),\n",
       " ('S0001', 'Monster Lo-Carb 16 oz', Decimal('37')),\n",
       " ('S0001', 'Waterloo Sparkling Grapefruit 12oz', Decimal('37')),\n",
       " ('S0001', 'Apple Sauce Variety GoGO Squeeze 3.2oz', Decimal('37')),\n",
       " ('S0001', 'Njoy Creamer Canister 16 oz', Decimal('37')),\n",
       " ('S0001', 'Paper Plate 10 inch Ultra Strong', Decimal('37')),\n",
       " ('S0001', 'Pringles Snak Stacks Variety', Decimal('36')),\n",
       " ('S0001', 'Swiss Miss Hot Cocoa Mix 1 oz', Decimal('36')),\n",
       " ('S0001', 'Gatorade Liberty Variety 20 oz ', Decimal('36')),\n",
       " ('S0001', 'Sargento String Cheese 0.75oz', Decimal('35')),\n",
       " ('S0001', 'Clear Plastic 12 oz Cups', Decimal('35')),\n",
       " ('S0001', 'Foam Coffee Cups - 20 ounce', Decimal('35')),\n",
       " ('S0001', 'Nat.Valley PeanutButter Protein Bars', Decimal('35')),\n",
       " ('S0001', 'Nature Valley Biscuit Sandwich Variety Pack ', Decimal('35')),\n",
       " ('S0001', 'Sugar in the Raw Packets', Decimal('35')),\n",
       " ('S0001', 'K Cups - McCafe Premium Roast', Decimal('34')),\n",
       " ('S0001', 'Dole Fruit in Gel Cups 4.3 oz', Decimal('34')),\n",
       " ('S0001', 'Gatorade Frost Variety 20 oz ', Decimal('34')),\n",
       " ('S0001', 'Gatorade Lemon Lime 12oz', Decimal('34')),\n",
       " ('S0001', 'Ice Breaker Mints Sugar Free ', Decimal('34')),\n",
       " ('S0001', 'Pop-Tarts, Brown Sugar Cinnamon ', Decimal('34')),\n",
       " ('S0001', 'Pop Chips Variety bags', Decimal('34')),\n",
       " ('S0001', 'Seven Up - 12 oz cans', Decimal('34')),\n",
       " ('S0001', 'Red Bull Sugar Free 8.4 oz', Decimal('33')),\n",
       " ('S0001', 'Strong Everyday Napkins', Decimal('33')),\n",
       " ('S0001', 'Cascade Gel Packs Dishwasher', Decimal('33')),\n",
       " ('S0001', 'La Croix Sparkling Orange 12 oz', Decimal('33')),\n",
       " ('S0001', 'Snyders Pretzels Minis', Decimal('32')),\n",
       " ('S0001', \"Half & Half -Land o Lakes Mini Moo's\", Decimal('32')),\n",
       " ('S0001', 'Peanutbutter Filled Pretzels', Decimal('32')),\n",
       " ('S0001', 'Double Bubble Variety Tub', Decimal('32')),\n",
       " ('S0001', 'Famous Amos Cookies ', Decimal('32')),\n",
       " ('S0001', 'La Croix Sparkling Pure 12 oz', Decimal('31')),\n",
       " ('S0001', \"Hefty Cmprtmnt Plates Foam 10'\", Decimal('31')),\n",
       " ('S0001', 'Ginger Ale - 12 oz cans', Decimal('31')),\n",
       " ('S0001', 'Perrier Sparkling Water glass 11oz', Decimal('31')),\n",
       " ('S0001', 'Gatorade Frost Variety 12 oz', Decimal('30')),\n",
       " ('S0001', 'Brisk Lemon Iced Tea - 12 oz cans', Decimal('30')),\n",
       " ('S0001', 'Gardettos Snacks', Decimal('30')),\n",
       " ('S0001', 'Cheez It Original Crackers 1.5oz', Decimal('30')),\n",
       " ('S0001', 'Yoplait Original Yogurt Variety Pack ', Decimal('30')),\n",
       " ('S0001', 'Zoo Animal Cookies/Crackers', Decimal('29')),\n",
       " ('S0001', 'K Cups Dunkin Donuts Medium Roast', Decimal('29')),\n",
       " ('S0001', 'Plastic Spoons White  Heavyweight', Decimal('29')),\n",
       " ('S0001', 'Dunkin Donuts Original Blend', Decimal('29')),\n",
       " ('S0001', 'Sun Chips Variety Pack', Decimal('29')),\n",
       " ('S0001', 'Doritos Nacho Cheese 1 oz', Decimal('29')),\n",
       " ('S0001', 'Veggie Chips 1oz ', Decimal('29')),\n",
       " ('S0001', 'Hazelnut International Delight', Decimal('29')),\n",
       " ('S0001', 'Unsalted Premium Blend Nuts', Decimal('28')),\n",
       " ('S0001', 'Advil 2 pill packets', Decimal('28')),\n",
       " ('S0001', 'Tootsie Roll Midgets', Decimal('28')),\n",
       " ('S0001', 'Chewy Granola Variety Bars Quaker', Decimal('28')),\n",
       " ('S0001', 'Pure Leaf Sweet Tea 8.5oz', Decimal('28')),\n",
       " ('S0001', 'K Cups - Green Tea', Decimal('28')),\n",
       " ('S0001', 'Breath Savers Peppermints 12/roll ', Decimal('28')),\n",
       " ('S0001', 'V-8 Splash Variety 20 oz', Decimal('27')),\n",
       " ('S0001', 'La Croix Sparkling Lemon 12 oz', Decimal('27')),\n",
       " ('S0001', 'Splenda Sweetener', Decimal('27')),\n",
       " ('S0001', 'Nabisco Cookie Variety Pk Oreo/ChocChip', Decimal('26')),\n",
       " ('S0001', 'Pop-Tarts, Frosted Strawberry', Decimal('26')),\n",
       " ('S0001', 'Coffee-mate Original Powdered Creamer', Decimal('26')),\n",
       " ('S0001', 'Fresca Black Cherry - 12 oz cans', Decimal('26')),\n",
       " ('S0001', 'Monster Zero Ultra Variety 16 oz', Decimal('26')),\n",
       " ('S0001', 'Fiber One Bars Oats and Chocolate', Decimal('26')),\n",
       " ('S0001', 'Sprite Zero - 12 pack', Decimal('26')),\n",
       " ('S0001', 'Ozarka Spring Water 16.9 oz bottles', Decimal('26')),\n",
       " ('S0001', 'Paper Plates 8.5 inch Ultra Strong', Decimal('26')),\n",
       " ('S0001', 'Tropicana Orange Juice 10 oz 100% ', Decimal('25')),\n",
       " ('S0001', 'Nature Valley Chewy Trail Mix Bars', Decimal('25')),\n",
       " ('S0001', 'Foam Coffee Cups - 12 ounce', Decimal('25')),\n",
       " ('S0001', 'Charmin Ultra Bath Tissue', Decimal('25')),\n",
       " ('S0001', 'Snapple Variety Pack 20oz', Decimal('25')),\n",
       " ('S0001', 'Foam Coffee Cups - 16 ounce', Decimal('24')),\n",
       " ('S0001', 'Fresca Original - 12 oz cans', Decimal('24')),\n",
       " ('S0001', 'Tylenol Extra Strength 2 pill packets', Decimal('24')),\n",
       " ('S0001', 'Belvita Hard Biscuits Cinnamon', Decimal('24')),\n",
       " ('S0001', 'Diet Mountain Dew 12oz cans', Decimal('24')),\n",
       " ('S0001', 'Kind  Bars Mini Variety Pack 0.7 oz ', Decimal('24')),\n",
       " ('S0001', 'POM 2 ply paper towels', Decimal('23')),\n",
       " ('S0001', 'Paper Bowls 20 oz Ultra Strong', Decimal('23')),\n",
       " ('S0001', 'Plastic Forks White Heavyweight', Decimal('23')),\n",
       " ('S0001', \"K Cups – Starbuck's Pike Place\", Decimal('23')),\n",
       " ('S0001', 'Austin Toasty Crackers w/ PBtr', Decimal('22')),\n",
       " ('S0001', 'Monster Java 15 oz', Decimal('22')),\n",
       " ('S0001', 'Cascade Gel w/ Dawn Dishwasher', Decimal('22')),\n",
       " ('S0001', 'Mars Mini Mix', Decimal('21')),\n",
       " ('S0001', 'G2 Lo Calorie Variety 20 oz', Decimal('21')),\n",
       " ('S0001', 'Hershey Factory Favorites Mix', Decimal('21')),\n",
       " ('S0001', 'Diet Fuze Iced Tea', Decimal('21')),\n",
       " ('S0001', 'Red Plastic Cups 18oz', Decimal('21')),\n",
       " ('S0001', \"Kellogg's Cereals Assortment Pack \", Decimal('21')),\n",
       " ('S0001', 'Nature Valley Soft Oatmeal Squares   ', Decimal('21')),\n",
       " ('S0001', 'Frito Classic Mix Variety', Decimal('21')),\n",
       " ('S0001', \"Kellogg's Fruity Snacks\", Decimal('20')),\n",
       " ('S0001', 'M&M Variety Full Size Bags', Decimal('20')),\n",
       " ('S0001', 'Goldfish Variety Bags, cheddar, pretzels', Decimal('20')),\n",
       " ('S0001', 'Dasani Bottled Water 16.9 oz', Decimal('20')),\n",
       " ('S0001', 'Plastic Knives White  Heavyweight', Decimal('20')),\n",
       " ('S0001', 'Waterloo Sparkling Mango 12oz', Decimal('20')),\n",
       " ('S0001', 'K Cups Folgers Lively Columbian', Decimal('20')),\n",
       " ('S0001', 'Tropicana Apple Juice 10 oz 100% ', Decimal('20')),\n",
       " ('S0001', 'Planters Nut Variety Packs', Decimal('19')),\n",
       " ('S0001', 'Gatorade Zero Variety 20 oz', Decimal('19')),\n",
       " ('S0001', 'ForceFlex Trash Bags 13 Gal ', Decimal('19')),\n",
       " ('S0001', 'Fiber One 90 Calorie Fudge Brownies', Decimal('19')),\n",
       " ('S0001', 'Cherry Coke Zero 12 pack', Decimal('19')),\n",
       " ('S0001', 'Detour Lower Sugar Protein Bar', Decimal('18')),\n",
       " ('S0001', 'Gatorade Liberty Variety 12 oz', Decimal('18')),\n",
       " ('S0001', 'Gatorade Original Variety 12 oz', Decimal('18')),\n",
       " ('S0001', 'Chinet Comfort Hot Cups with Lids 16oz', Decimal('18')),\n",
       " ('S0001', 'Red Bull 12oz', Decimal('18')),\n",
       " ('S0001', 'Sunkist Orange - 12 oz cans', Decimal('18')),\n",
       " ('S0001', 'Hershey Kisses ', Decimal('18')),\n",
       " ('S0001', 'Spunkmeyer Muffin Variety', Decimal('17')),\n",
       " ('S0001', 'Fuze Iced Tea', Decimal('17')),\n",
       " ('S0001', 'Miss Vickies Chips', Decimal('17')),\n",
       " ('S0001', 'Premier Protein Shake Choc. 11oz', Decimal('17')),\n",
       " ('S0001', 'Community Coffee Dark Roast', Decimal('17')),\n",
       " ('S0001', 'Waterloo Sparkling Lemon 12oz', Decimal('17')),\n",
       " ('S0001', 'Monster Original Green 16 oz', Decimal('17')),\n",
       " ('S0001', 'Cliff Energy Bars Variety Pack', Decimal('17')),\n",
       " ('S0001', 'Stirrers Coffee Stirs 7inch', Decimal('17')),\n",
       " ('S0001', 'Topo Chico 12 oz glass', Decimal('16')),\n",
       " ('S0001', 'Pure White Sugar Packets', Decimal('16')),\n",
       " ('S0001', 'Bounty Paper Towels Select a Size ', Decimal('16')),\n",
       " ('S0001', 'Snickers Bars 1.8oz', Decimal('15')),\n",
       " ('S0001', 'Equal Sweetener', Decimal('15')),\n",
       " ('S0001', 'Peppermints Hard Candy', Decimal('15')),\n",
       " ('S0001', \"Starbuck's Pike Place\", Decimal('15')),\n",
       " ('S0001', 'Hefty Supreme Foam Plates 9 inch', Decimal('15')),\n",
       " ('S0001', 'Topo Chico 20oz plastic', Decimal('15')),\n",
       " ('S0001', 'Pure Leaf Unsweetened Tea 18.5oz', Decimal('15')),\n",
       " ('S0001', 'Truvia Natural Sweetener', Decimal('15')),\n",
       " ('S0001', 'Gatorade Variety 20 oz ', Decimal('14')),\n",
       " ('S0001', 'Napkins Square Lunch', Decimal('14')),\n",
       " ('S0001', 'Blue Diamond Almonds Rstd, Sltd', Decimal('13')),\n",
       " ('S0001', 'Altoids Small Packs Variety', Decimal('13')),\n",
       " ('S0001', 'San Pelligrino 16oz Plastic ', Decimal('13')),\n",
       " ('S0001', 'Deluxe Mixed Nuts with Seasalt', Decimal('13')),\n",
       " ('S0001', 'Waterloo Sparkling Watermelon 12oz', Decimal('13')),\n",
       " ('S0001', 'Hand Sanitizer Refill Pump', Decimal('12')),\n",
       " ('S0001', 'Sweet N Low Sweetener', Decimal('12')),\n",
       " ('S0001', 'La Croix Sparkling Cran-Raspberry 12 oz', Decimal('12')),\n",
       " ('S0001', 'Lysol Disinfectant Spray 19 oz', Decimal('12')),\n",
       " ('S0001', 'Belvita Hard Biscuits Blueberry', Decimal('11')),\n",
       " ('S0001', 'Austin Cookie Cracker Variety', Decimal('10')),\n",
       " ('S0001', \"Cheetos Flamin' Hot 1 oz\", Decimal('10')),\n",
       " ('S0001', 'Njoy Creamer Packs', Decimal('10')),\n",
       " ('S0001', 'Goldfish Pepperidge Farm Cheddar 1.5oz ', Decimal('10')),\n",
       " ('S0001', '100% Juice Box Variety 6.75 oz ', Decimal('10')),\n",
       " ('S0001', 'Gatorade X-Factor Fierce Variety 20 oz', Decimal('10')),\n",
       " ('S0001', 'Waterloo Sparkling Blackcherry 12oz', Decimal('10')),\n",
       " ('S0001', 'Kind  Bars Variety Pack 1.4 oz ', Decimal('10')),\n",
       " ('S0001', 'Wonderful Pistachios (in shell)', Decimal('9')),\n",
       " ('S0001', 'Ozarka Spring Water Mini 8oz', Decimal('9')),\n",
       " ('S0001', 'Diet Pepsi - 12 oz cans', Decimal('9')),\n",
       " ('S0001', 'M&M Peanut Butter 1.6 oz', Decimal('9')),\n",
       " ('S0001', 'Kleenex Tissue Rectangle Boxes 160/box', Decimal('9')),\n",
       " ('S0001', 'A&W Root Beer Diet - 12 oz cans', Decimal('8')),\n",
       " ('S0001', 'Extra Variety Packs Sugar Free', Decimal('8')),\n",
       " ('S0001', 'Nabisco Classic Mix ccooki, cracker', Decimal('8')),\n",
       " ('S0001', 'Monster Zero Ultra 16 oz', Decimal('7')),\n",
       " ('S0001', 'Dawn Ultra Dish Detergent, Original Scent ', Decimal('6')),\n",
       " ('S0001', 'Fresca Peach Citrus - 12 oz cans', Decimal('6')),\n",
       " ('S0001', 'Perrier Flavors Sparkling Water 16.9oz', Decimal('5')),\n",
       " ('S0001', \"Reese's Peanutbutter Cups 2/pk\", Decimal('4')),\n",
       " ('S0001', 'Tejava Unsweetened Black Tea 16.9oz', Decimal('4')),\n",
       " ('S0002', None, Decimal('8415')),\n",
       " ('S0002', 'Planters Nut-trition 1.5 oz ', Decimal('83')),\n",
       " ('S0002', 'Altoids Small Packs Variety', Decimal('80')),\n",
       " ('S0002', 'Hefty Supreme Foam Bowls 12oz', Decimal('78')),\n",
       " ('S0002', 'AquaFina Purified Drinking Water 16oz', Decimal('78')),\n",
       " ('S0002', 'Muscle Milk Protein Shake Van. 11oz', Decimal('78')),\n",
       " ('S0002', 'Nat.Valley PeanutButter Protein Bars', Decimal('76')),\n",
       " ('S0002', 'K Cups Hot Cocoa', Decimal('75')),\n",
       " ('S0002', 'Sobe Zero Lifewater Variety 20 oz', Decimal('72')),\n",
       " ('S0002', 'Fresca Black Cherry - 12 oz cans', Decimal('71')),\n",
       " ('S0002', 'San Pelligrino 16oz Plastic ', Decimal('70')),\n",
       " ('S0002', 'M&M Peanut Candy 1.7 oz', Decimal('69')),\n",
       " ('S0002', 'Belvita Protein Oats Soft Biscuit', Decimal('67')),\n",
       " ('S0002', 'Coke Classic 12 oz cans', Decimal('66')),\n",
       " ('S0002', 'Pepsi - 12 oz cans', Decimal('64')),\n",
       " ('S0002', 'Red Bull Sugar Free 8.4 oz', Decimal('62')),\n",
       " ('S0002', 'Sprite Zero - 12 pack', Decimal('60')),\n",
       " ('S0002', 'Cliff Energy Bars Variety Pack', Decimal('59')),\n",
       " ('S0002', 'Gatorade Frost Variety 20 oz ', Decimal('58')),\n",
       " ('S0002', 'Cheez It Original Crackers 1.5oz', Decimal('58')),\n",
       " ('S0002', 'Coke Zero Sugar 12 oz cans', Decimal('57')),\n",
       " ('S0002', 'Crunchy Granola Bars Oats & Honey', Decimal('57')),\n",
       " ('S0002', 'Waterloo Sparkling Lemon 12oz', Decimal('57')),\n",
       " ('S0002', 'Premier Protein Shake Choc. 11oz', Decimal('57')),\n",
       " ('S0002', 'Ocean Spray Cranberry Juice Cocktail 15oz ', Decimal('57')),\n",
       " ('S0002', 'Dawn Ultra Dish Detergent, Original Scent ', Decimal('56')),\n",
       " ('S0002', 'Njoy Creamer Packs', Decimal('56')),\n",
       " ('S0002', 'Mountain Dew - 12 oz cans', Decimal('56')),\n",
       " ('S0002', 'Mars Chocolate Favorites', Decimal('56')),\n",
       " ('S0002', 'Goldfish Pepperidge Farm Cheddar 1.5oz ', Decimal('55')),\n",
       " ('S0002', 'Belvita Hard Biscuits Cinnamon', Decimal('55')),\n",
       " ('S0002', 'Advil 2 pill packets', Decimal('55')),\n",
       " ('S0002', 'Blue Diamond Almonds Rstd, Sltd', Decimal('54')),\n",
       " ('S0002', 'Diet Coke Caffeine Free 12oz cans', Decimal('53')),\n",
       " ('S0002', 'Perrier Sparkling Water plastic 16.9oz', Decimal('53')),\n",
       " ('S0002', \"Welch's 100% Juice Variety10 oz\", Decimal('53')),\n",
       " ('S0002', 'Community Coffee Dark Roast', Decimal('53')),\n",
       " ('S0002', 'Monster Java 15 oz', Decimal('52')),\n",
       " ('S0002', 'Gatorade Variety 20 oz ', Decimal('52')),\n",
       " ('S0002', 'Tootsie Roll Midgets', Decimal('52')),\n",
       " ('S0002', 'Nature Valley Soft Oatmeal Squares   ', Decimal('52')),\n",
       " ('S0002', 'Coffee-Mate French Vanilla Cold', Decimal('51')),\n",
       " ('S0002', 'Lysol Disinfectant Spray 19 oz', Decimal('51')),\n",
       " ('S0002', 'K Cups - Green Tea', Decimal('50')),\n",
       " ('S0002', 'Peppermints Hard Candy', Decimal('50')),\n",
       " ('S0002', 'Extra Variety Packs Sugar Free', Decimal('49')),\n",
       " ('S0002', 'Kleenex Tissue Rectangle Boxes 160/box', Decimal('48')),\n",
       " ('S0002', 'Chewy Granola Variety Bars Quaker', Decimal('48')),\n",
       " ('S0002', \"Reese's Pieces Peanutbutter Candy\", Decimal('48')),\n",
       " ('S0002', 'Frito Classic Mix Variety', Decimal('48')),\n",
       " ('S0002', 'Tylenol Extra Strength 2 pill packets', Decimal('48')),\n",
       " ('S0002', 'Charmin Ultra Bath Tissue', Decimal('48')),\n",
       " ('S0002', 'Dr. Pepper - 12 oz cans', Decimal('48')),\n",
       " ('S0002', 'Belvita Hard Biscuits Blueberry', Decimal('47')),\n",
       " ('S0002', 'Coffee-Mate Original Flavor Cold', Decimal('47')),\n",
       " ('S0002', 'Gardettos Snacks', Decimal('47')),\n",
       " ('S0002', 'Spunkmeyer Muffin Variety', Decimal('47')),\n",
       " ('S0002', 'Sprite - 12 oz cans', Decimal('46')),\n",
       " ('S0002', 'Chinet Comfort Hot Cups with Lids 16oz', Decimal('46')),\n",
       " ('S0002', 'Kind  Bars Mini Variety Pack 0.7 oz ', Decimal('45')),\n",
       " ('S0002', 'A&W Root Beer - 12 oz cans', Decimal('45')),\n",
       " ('S0002', 'Foam Coffee Cups - 16 ounce', Decimal('45')),\n",
       " ('S0002', 'Dial Anti-bacterial  Foam 7.5oz', Decimal('44')),\n",
       " ('S0002', 'Fuze Iced Tea', Decimal('44')),\n",
       " ('S0002', 'Tropicana Apple Juice 10 oz 100% ', Decimal('44')),\n",
       " ('S0002', 'Sweet N Low Sweetener', Decimal('44')),\n",
       " ('S0002', 'Swiss Miss Hot Cocoa Mix 1 oz', Decimal('43')),\n",
       " ('S0002', 'Splenda Sweetener', Decimal('43')),\n",
       " ('S0002', 'Famous Amos Cookies ', Decimal('43')),\n",
       " ('S0002', 'Yoplait Original Yogurt Variety Pack ', Decimal('43')),\n",
       " ('S0002', 'Peanutbutter Filled Pretzels', Decimal('43')),\n",
       " ('S0002', 'Clear Plastic 12 oz Cups', Decimal('42')),\n",
       " ('S0002', 'Plastic Forks White Heavyweight', Decimal('42')),\n",
       " ('S0002', 'Kleenex Tissue Square Boxes 75/box', Decimal('42')),\n",
       " ('S0002', 'Topo Chico 12 oz glass', Decimal('42')),\n",
       " ('S0002', 'Hershey Factory Favorites Mix', Decimal('42')),\n",
       " ('S0002', 'Cliff Builders Protein Bar Variety Pack', Decimal('42')),\n",
       " ('S0002', 'Hershey Nuggets', Decimal('41')),\n",
       " ('S0002', 'Frito BOLD Flavors Variety Pack', Decimal('41')),\n",
       " ('S0002', 'Diet Coke - 12 oz cans', Decimal('41')),\n",
       " ('S0002', 'Fiber One 90 Calorie Fudge Brownies', Decimal('40')),\n",
       " ('S0002', 'Foam Coffee Cups - 20 ounce', Decimal('39')),\n",
       " ('S0002', 'Monster Zero Ultra Variety 16 oz', Decimal('39')),\n",
       " ('S0002', 'Muscle Milk Protein Shake Choc. 11oz', Decimal('39')),\n",
       " ('S0002', 'Dixie Perfecttouch Paper Cups 12oz', Decimal('38')),\n",
       " ('S0002', 'Veggie Chips 1oz ', Decimal('38')),\n",
       " ('S0002', 'Truvia Natural Sweetener', Decimal('38')),\n",
       " ('S0002', 'Gatorade Zero Variety 20 oz', Decimal('38')),\n",
       " ('S0002', 'Sargento String Cheese 0.75oz', Decimal('38')),\n",
       " ('S0002', 'K Cups –Organic Breakfast Blend', Decimal('38')),\n",
       " ('S0002', 'Foam Coffee Cups - 08 ounce', Decimal('37')),\n",
       " ('S0002', 'Quaker Instant Oatmeal Variety ', Decimal('37')),\n",
       " ('S0002', 'Quaker Instant Oatmeal Maple Brn Sugar', Decimal('37')),\n",
       " ('S0002', 'Pop Chips Variety bags', Decimal('37')),\n",
       " ('S0002', 'Jolly Ranchers Variety Hard Candy', Decimal('37')),\n",
       " ('S0002', 'Lunchables Variety Pack Oscar Meyer', Decimal('37')),\n",
       " ('S0002', 'Foam Coffee Cups - 12 ounce', Decimal('36')),\n",
       " ('S0002', 'Gatorade Liberty Variety 20 oz ', Decimal('36')),\n",
       " ('S0002', 'Mars Mini Mix', Decimal('36')),\n",
       " ('S0002', 'Plastic Knives White  Heavyweight', Decimal('36')),\n",
       " ('S0002', 'K Cups Folgers Lively Columbian', Decimal('36')),\n",
       " ('S0002', 'Seven Up - 12 oz cans', Decimal('36')),\n",
       " ('S0002', 'K Cups Dunkin Donuts Medium Roast', Decimal('36')),\n",
       " ('S0002', 'Apple Sauce Variety GoGO Squeeze 3.2oz', Decimal('36')),\n",
       " ('S0002', 'Zoo Animal Cookies/Crackers', Decimal('36')),\n",
       " ('S0002', 'Hefty Supreme Foam Plates 6 inch', Decimal('35')),\n",
       " ('S0002', 'Red Plastic Cups 18oz', Decimal('35')),\n",
       " ('S0002', 'All Purpose Cleaner 409 Spray', Decimal('35')),\n",
       " ('S0002', 'Bounty Paper Towels Select a Size ', Decimal('35')),\n",
       " ('S0002', 'Sargento Bal. Breaks (fruit, nut, cheese)', Decimal('35')),\n",
       " ('S0002', 'Brisk Lemon Iced Tea - 12 oz cans', Decimal('35')),\n",
       " ('S0002', 'Pure Leaf Sweet Tea 8.5oz', Decimal('34')),\n",
       " ('S0002', 'Monster Original Green 16 oz', Decimal('34')),\n",
       " ('S0002', 'Frito Big Grab Variety 1.5-2.0 oz', Decimal('34')),\n",
       " ('S0002', 'Hazelnut International Delight', Decimal('34')),\n",
       " ('S0002', \"Kellogg's Cereals Assortment Pack \", Decimal('34')),\n",
       " ('S0002', 'Cascade Gel Packs Dishwasher', Decimal('34')),\n",
       " ('S0002', 'Ozarka Spring Water 16.9 oz bottles', Decimal('34')),\n",
       " ('S0002', 'Nabisco Cookie Variety Pk Oreo/ChocChip', Decimal('33')),\n",
       " ('S0002', 'Vita Coconut Water 10oz ', Decimal('33')),\n",
       " ('S0002', 'Kind  Bars Variety Pack 1.4 oz ', Decimal('33')),\n",
       " ('S0002', 'Wint O Green LifeSavers Sugar Free', Decimal('32')),\n",
       " ('S0002', 'Hershey Chocoalte Minatures Assort.', Decimal('32')),\n",
       " ('S0002', 'Gatorade X-Factor Fierce Variety 20 oz', Decimal('32')),\n",
       " ('S0002', 'Fiber One Bars Oats and Chocolate', Decimal('32')),\n",
       " ('S0002', 'La Croix Sparkling Grapefruit 12 oz', Decimal('32')),\n",
       " ('S0002', 'Nature Valley Sweet/Salty Peanut Bars      ', Decimal('31')),\n",
       " ('S0002', 'Njoy Sugar Canister 22 oz', Decimal('31')),\n",
       " ('S0002', 'Breath Savers Peppermints 12/roll ', Decimal('31')),\n",
       " ('S0002', \"Starbuck's Pike Place\", Decimal('31')),\n",
       " ('S0002', 'Coffee-mate Original Powdered Creamer', Decimal('31')),\n",
       " ('S0002', 'Dark Chocolate Mint Patties', Decimal('31')),\n",
       " ('S0002', 'Topo Chico 20oz plastic', Decimal('31')),\n",
       " ('S0002', 'POM 2 ply paper towels', Decimal('30')),\n",
       " ('S0002', 'ForceFlex Trash Bags 13 Gal ', Decimal('30')),\n",
       " ('S0002', 'Hawaiian Punch - 12 oz cans', Decimal('30')),\n",
       " ('S0002', 'French Vanilla International Delight', Decimal('29')),\n",
       " ('S0002', 'Austin Cookie Cracker Variety', Decimal('29')),\n",
       " ('S0002', 'Keebler Cookie & Cracker Variety', Decimal('29')),\n",
       " ('S0002', 'La Croix Sparkling Coconut 12 oz', Decimal('28')),\n",
       " ('S0002', 'M&M Variety Full Size Bags', Decimal('28')),\n",
       " ('S0002', 'Paper Bowls 20 oz Ultra Strong', Decimal('27')),\n",
       " ('S0002', 'Pringles Snak Stacks Variety', Decimal('27')),\n",
       " ('S0002', 'Tropicana Orange Juice 10 oz 100% ', Decimal('27')),\n",
       " ('S0002', 'Snyders Pretzels Minis', Decimal('27')),\n",
       " ('S0002', 'Dasani Bottled Water 16.9 oz', Decimal('27')),\n",
       " ('S0002', 'K Cups Daily Chef Columbian Supremo', Decimal('27')),\n",
       " ('S0002', 'Lance Variety Cracker Packs ', Decimal('26')),\n",
       " ('S0002', 'Perrier Flavors Sparkling Water 16.9oz', Decimal('26')),\n",
       " ('S0002', 'Waterloo Sparkling Blackcherry 12oz', Decimal('26')),\n",
       " ('S0002', 'Waterloo Sparkling Grapefruit 12oz', Decimal('26')),\n",
       " ('S0002', \"Cheetos Flamin' Hot 1 oz\", Decimal('26')),\n",
       " ('S0002', 'Frito Fiesta Flavors Variety', Decimal('25')),\n",
       " ('S0002', 'Dunkin Donuts Original Blend', Decimal('25')),\n",
       " ('S0002', 'G2 Lo Calorie Variety 20 oz', Decimal('25')),\n",
       " ('S0002', 'Clorox Bleach Large Jugs', Decimal('25')),\n",
       " ('S0002', 'La Croix Sparkling Pure 12 oz', Decimal('25')),\n",
       " ('S0002', 'Monster Zero Ultra 16 oz', Decimal('25')),\n",
       " ('S0002', 'Nestle Purelife 16oz ', Decimal('25')),\n",
       " ('S0002', 'Cheese and Peanut Butter Crackers', Decimal('25')),\n",
       " ('S0002', 'Diet Gingerale 12 oz cans', Decimal('25')),\n",
       " ('S0002', 'Paper Plate 10 inch Ultra Strong', Decimal('24')),\n",
       " ('S0002', 'Large Trash Bags Black 33 gal', Decimal('24')),\n",
       " ('S0002', 'K Cups Original Donut Shop Med. Roast', Decimal('24')),\n",
       " ('S0002', 'Perrier Sparkling Water glass 11oz', Decimal('24')),\n",
       " ('S0002', 'La Croix Sparkling Lemon 12 oz', Decimal('24')),\n",
       " ('S0002', 'Ozarka Spring Water Mini 8oz', Decimal('24')),\n",
       " ('S0002', 'Diet Pepsi - 12 oz cans', Decimal('24')),\n",
       " ('S0002', 'Sun Chips Variety Pack', Decimal('24')),\n",
       " ('S0002', 'Gatorade Original Variety 12 oz', Decimal('24')),\n",
       " ('S0002', 'Pop-Tarts, Frosted Strawberry', Decimal('24')),\n",
       " ('S0002', '100% Juice Box Variety 6.75 oz ', Decimal('23')),\n",
       " ('S0002', 'Waterloo Sparkling Watermelon 12oz', Decimal('23')),\n",
       " ('S0002', 'Unsalted Premium Blend Nuts', Decimal('23')),\n",
       " ('S0002', 'Sunkist Orange - 12 oz cans', Decimal('23')),\n",
       " ('S0002', 'Chex Mix Original', Decimal('22')),\n",
       " ('S0002', 'Miss Vickies Chips', Decimal('22')),\n",
       " ('S0002', 'Honey Packets  ', Decimal('22')),\n",
       " ('S0002', 'Snickers Bars 1.8oz', Decimal('22')),\n",
       " ('S0002', 'Austin Toasty Crackers w/ PBtr', Decimal('22')),\n",
       " ('S0002', 'Waterloo Sparkling Lime 12oz', Decimal('22')),\n",
       " ('S0002', 'Muscle Milk Protein Shake Strbry. 11oz', Decimal('22')),\n",
       " ('S0002', 'Sugar in the Raw Packets', Decimal('21')),\n",
       " ('S0002', 'Napkins Square Lunch', Decimal('21')),\n",
       " ('S0002', 'Hand Sanitizer Refill Pump', Decimal('21')),\n",
       " ('S0002', 'Nabisco Classic Mix ccooki, cracker', Decimal('20')),\n",
       " ('S0002', 'Plastic Spoons White  Heavyweight', Decimal('20')),\n",
       " ('S0002', 'Double Bubble Variety Tub', Decimal('20')),\n",
       " ('S0002', 'Goldfish Variety Bags, cheddar, pretzels', Decimal('19')),\n",
       " ('S0002', \"Half & Half -Land o Lakes Mini Moo's\", Decimal('19')),\n",
       " ('S0002', 'Waterloo Sparkling Original 12oz', Decimal('19')),\n",
       " ('S0002', 'Baked Chips Variety Mix Frito', Decimal('19')),\n",
       " ('S0002', \"Kellogg's Fruity Snacks\", Decimal('19')),\n",
       " ('S0002', 'Folgers Classic Roast Coffee', Decimal('19')),\n",
       " ('S0002', 'Gatorade Lemon Lime 12oz', Decimal('19')),\n",
       " ('S0002', 'Equal Sweetener', Decimal('19')),\n",
       " ('S0002', 'Cheez It White Cheddar 1.5 oz', Decimal('19')),\n",
       " ('S0002', 'La Croix Sparkling Orange 12 oz', Decimal('19')),\n",
       " ('S0002', 'Nature Valley Sweet/Salty Almond Bars      ', Decimal('18')),\n",
       " ('S0002', 'Diet Mountain Dew 12oz cans', Decimal('18')),\n",
       " ('S0002', 'Propel Zero Variety 20 oz', Decimal('18')),\n",
       " ('S0002', 'Folgers 100% Colombian Coffee', Decimal('18')),\n",
       " ('S0002', 'Cherry Coke Zero 12 pack', Decimal('18')),\n",
       " ('S0002', 'Dole Fruit in Gel Cups 4.3 oz', Decimal('17')),\n",
       " ('S0002', \"Barq's Root Beer - 12 oz cans\", Decimal('17')),\n",
       " ('S0002', 'Diet Dr. Pepper - 12 oz cans', Decimal('17')),\n",
       " ('S0002', 'Lysol Wipes 100 ct', Decimal('17')),\n",
       " ('S0002', 'Ice Breaker Mints Sugar Free ', Decimal('17')),\n",
       " ('S0002', 'Red Bull 8.4 oz', Decimal('17')),\n",
       " ('S0002', 'V8 100% Vegetable Juice 11oz cans', Decimal('17')),\n",
       " ('S0002', 'Monster Lo-Carb 16 oz', Decimal('17')),\n",
       " ('S0002', 'Snapple Variety Pack 20oz', Decimal('17')),\n",
       " ('S0002', 'Pure White Sugar Packets', Decimal('16')),\n",
       " ('S0002', 'Red Bull 12oz', Decimal('16')),\n",
       " ('S0002', 'Clear Plastic Cups 9oz', Decimal('16')),\n",
       " ('S0002', 'Kellogg Fun Mix Cheez it, Prngls, Fam Amos', Decimal('16')),\n",
       " ('S0002', 'La Croix Sparkling Berry 12 ozv', Decimal('15')),\n",
       " ('S0002', 'Trident Original Flavor 18/pk', Decimal('15')),\n",
       " ('S0002', 'La Croix Sparkling Lime 12 oz', Decimal('15')),\n",
       " ('S0002', 'Cascade Gel w/ Dawn Dishwasher', Decimal('15')),\n",
       " ('S0002', 'Paper Plates 8.5 inch Ultra Strong', Decimal('14')),\n",
       " ('S0002', 'Hershey Kisses ', Decimal('14')),\n",
       " ('S0002', 'Nature Valley Chewy Trail Mix Bars', Decimal('14')),\n",
       " ('S0002', 'Tejava Unsweetened Black Tea 16.9oz', Decimal('14')),\n",
       " ('S0002', 'Nature Valley Biscuit Sandwich Variety Pack ', Decimal('14')),\n",
       " ('S0002', 'Ozarka Spring Water 20 oz', Decimal('14')),\n",
       " ('S0002', 'Hefty Supreme Foam Plates 9 inch', Decimal('13')),\n",
       " ('S0002', 'V-8 Splash Variety 20 oz', Decimal('13')),\n",
       " ('S0002', 'Go-Gurt Low Fat Yogurt, Strwbry & Berry ', Decimal('13')),\n",
       " ('S0002', 'Cherry Coke 12oz', Decimal('13')),\n",
       " ('S0002', 'Ginger Ale - 12 oz cans', Decimal('13')),\n",
       " ('S0002', 'M&M Peanut Butter 1.6 oz', Decimal('13')),\n",
       " ('S0002', 'Fresca Original - 12 oz cans', Decimal('13')),\n",
       " ('S0002', 'Doritos Nacho Cheese 1 oz', Decimal('12')),\n",
       " ('S0002', 'Detour Lower Sugar Protein Bar', Decimal('12')),\n",
       " ('S0002', \"Reese's Peanutbutter Cups 2/pk\", Decimal('12')),\n",
       " ('S0002', 'Clorox Disinfecting Wipes ', Decimal('12')),\n",
       " ('S0002', 'Gatorade Liberty Variety 12 oz', Decimal('12')),\n",
       " ('S0002', 'Pop-Tarts, Brown Sugar Cinnamon ', Decimal('12')),\n",
       " ('S0002', 'K Cups - McCafe Premium Roast', Decimal('11')),\n",
       " ('S0002', 'Strong Everyday Napkins', Decimal('11')),\n",
       " ('S0002', 'Chobani Greek Yogurt Variety Pack ', Decimal('11')),\n",
       " ('S0002', 'Frito Bold Flavors Variety', Decimal('10')),\n",
       " ('S0002', 'Fresca Peach Citrus - 12 oz cans', Decimal('10')),\n",
       " ('S0002', 'Flamin Hot Chip Mix 1oz', Decimal('10')),\n",
       " ('S0002', 'Paper Plates 7 inch  Ultra Strong', Decimal('9')),\n",
       " ('S0002', 'Deluxe Mixed Nuts with Seasalt', Decimal('9')),\n",
       " ('S0002', 'Gatorade Frost Variety 12 oz', Decimal('9')),\n",
       " ('S0002', 'Planters Nut Variety Packs', Decimal('9')),\n",
       " ('S0002', 'La Croix Sparkling Cran-Raspberry 12 oz', Decimal('9')),\n",
       " ('S0002', 'Stirrers Coffee Stirs 7inch', Decimal('8')),\n",
       " ('S0002', 'Wonderful Pistachios (in shell)', Decimal('8')),\n",
       " ('S0002', 'Njoy Creamer Canister 16 oz', Decimal('8')),\n",
       " ('S0002', 'Diet Fuze Iced Tea', Decimal('7')),\n",
       " ('S0002', 'Red Bull 16oz', Decimal('6')),\n",
       " ('S0002', \"K Cups – Starbuck's Pike Place\", Decimal('4')),\n",
       " ('S0002', 'Pure Leaf Unsweetened Tea 18.5oz', Decimal('4')),\n",
       " ('S0002', 'A&W Root Beer Diet - 12 oz cans', Decimal('2')),\n",
       " ('S0002', \"Hefty Cmprtmnt Plates Foam 10'\", Decimal('2')),\n",
       " ('S0003', None, Decimal('8299')),\n",
       " ('S0003', 'Sprite - 12 oz cans', Decimal('122')),\n",
       " ('S0003', 'Diet Coke - 12 oz cans', Decimal('109')),\n",
       " ('S0003', 'Muscle Milk Protein Shake Van. 11oz', Decimal('76')),\n",
       " ('S0003', 'Fresca Original - 12 oz cans', Decimal('74')),\n",
       " ('S0003', 'Pepsi - 12 oz cans', Decimal('73')),\n",
       " ('S0003', 'Deluxe Mixed Nuts with Seasalt', Decimal('71')),\n",
       " ('S0003', 'Pop-Tarts, Frosted Strawberry', Decimal('70')),\n",
       " ('S0003', 'Coke Classic 12 oz cans', Decimal('70')),\n",
       " ('S0003', 'Breath Savers Peppermints 12/roll ', Decimal('68')),\n",
       " ('S0003', 'ForceFlex Trash Bags 13 Gal ', Decimal('65')),\n",
       " ('S0003', 'Premier Protein Shake Choc. 11oz', Decimal('64')),\n",
       " ('S0003', 'Frito BOLD Flavors Variety Pack', Decimal('63')),\n",
       " ('S0003', 'Hefty Supreme Foam Plates 6 inch', Decimal('63')),\n",
       " ('S0003', 'Tropicana Orange Juice 10 oz 100% ', Decimal('59')),\n",
       " ('S0003', 'Belvita Hard Biscuits Cinnamon', Decimal('59')),\n",
       " ('S0003', 'Lunchables Variety Pack Oscar Meyer', Decimal('58')),\n",
       " ('S0003', 'Honey Packets  ', Decimal('58')),\n",
       " ('S0003', 'Njoy Creamer Canister 16 oz', Decimal('57')),\n",
       " ('S0003', 'Ozarka Spring Water Mini 8oz', Decimal('56')),\n",
       " ('S0003', 'Keebler Cookie & Cracker Variety', Decimal('55')),\n",
       " ('S0003', 'Frito Fiesta Flavors Variety', Decimal('55')),\n",
       " ('S0003', 'Waterloo Sparkling Mango 12oz', Decimal('54')),\n",
       " ('S0003', 'La Croix Sparkling Coconut 12 oz', Decimal('54')),\n",
       " ('S0003', 'Chex Mix Original', Decimal('53')),\n",
       " ('S0003', 'K Cups Dunkin Donuts Medium Roast', Decimal('52')),\n",
       " ('S0003', 'Red Bull Sugar Free 8.4 oz', Decimal('52')),\n",
       " ('S0003', 'Altoids Small Packs Variety', Decimal('52')),\n",
       " ('S0003', 'Nature Valley Soft Oatmeal Squares   ', Decimal('51')),\n",
       " ('S0003', 'La Croix Sparkling Berry 12 ozv', Decimal('51')),\n",
       " ('S0003', 'Blue Diamond Almonds Rstd, Sltd', Decimal('51')),\n",
       " ('S0003', 'K Cups - Green Tea', Decimal('51')),\n",
       " ('S0003', 'Lance Variety Cracker Packs ', Decimal('51')),\n",
       " ('S0003', 'La Croix Sparkling Lemon 12 oz', Decimal('50')),\n",
       " ('S0003', 'Monster Original Green 16 oz', Decimal('49')),\n",
       " ('S0003', 'Kellogg Fun Mix Cheez it, Prngls, Fam Amos', Decimal('49')),\n",
       " ('S0003', 'La Croix Sparkling Pure 12 oz', Decimal('49')),\n",
       " ('S0003', 'Lysol Disinfectant Spray 19 oz', Decimal('49')),\n",
       " ('S0003', 'Dr. Pepper - 12 oz cans', Decimal('49')),\n",
       " ('S0003', 'Coffee-Mate Original Flavor Cold', Decimal('49')),\n",
       " ('S0003', 'Nat.Valley PeanutButter Protein Bars', Decimal('49')),\n",
       " ('S0003', 'Cheez It Original Crackers 1.5oz', Decimal('48')),\n",
       " ('S0003', 'Chinet Comfort Hot Cups with Lids 16oz', Decimal('48')),\n",
       " ('S0003', 'Doritos Nacho Cheese 1 oz', Decimal('48')),\n",
       " ('S0003', 'Yoplait Original Yogurt Variety Pack ', Decimal('48')),\n",
       " ('S0003', 'Wint O Green LifeSavers Sugar Free', Decimal('48')),\n",
       " ('S0003', 'Cherry Coke 12oz', Decimal('47')),\n",
       " ('S0003', 'Famous Amos Cookies ', Decimal('47')),\n",
       " ('S0003', 'Vita Coconut Water 10oz ', Decimal('47')),\n",
       " ('S0003', 'Diet Fuze Iced Tea', Decimal('47')),\n",
       " ('S0003', 'Sobe Zero Lifewater Variety 20 oz', Decimal('47')),\n",
       " ('S0003', '100% Juice Box Variety 6.75 oz ', Decimal('46')),\n",
       " ('S0003', 'K Cups Original Donut Shop Med. Roast', Decimal('46')),\n",
       " ('S0003', 'Paper Plates 7 inch  Ultra Strong', Decimal('46')),\n",
       " ('S0003', 'Ginger Ale - 12 oz cans', Decimal('46')),\n",
       " ('S0003', 'Muscle Milk Protein Shake Strbry. 11oz', Decimal('46')),\n",
       " ('S0003', 'Brisk Lemon Iced Tea - 12 oz cans', Decimal('45')),\n",
       " ('S0003', 'Extra Variety Packs Sugar Free', Decimal('45')),\n",
       " ('S0003', 'Waterloo Sparkling Watermelon 12oz', Decimal('45')),\n",
       " ('S0003', 'Dark Chocolate Mint Patties', Decimal('45')),\n",
       " ('S0003', 'Unsalted Premium Blend Nuts', Decimal('45')),\n",
       " ('S0003', 'Sweet N Low Sweetener', Decimal('43')),\n",
       " ('S0003', 'M&M Peanut Candy 1.7 oz', Decimal('43')),\n",
       " ('S0003', 'K Cups Daily Chef Columbian Supremo', Decimal('43')),\n",
       " ('S0003', 'Miss Vickies Chips', Decimal('42')),\n",
       " ('S0003', 'Hershey Kisses ', Decimal('42')),\n",
       " ('S0003', 'Nabisco Cookie Variety Pk Oreo/ChocChip', Decimal('42')),\n",
       " ('S0003', \"Kellogg's Fruity Snacks\", Decimal('42')),\n",
       " ('S0003', 'Mars Chocolate Favorites', Decimal('42')),\n",
       " ('S0003', 'Hawaiian Punch - 12 oz cans', Decimal('41')),\n",
       " ('S0003', 'Tejava Unsweetened Black Tea 16.9oz', Decimal('41')),\n",
       " ('S0003', 'Foam Coffee Cups - 16 ounce', Decimal('41')),\n",
       " ('S0003', 'Hefty Supreme Foam Bowls 12oz', Decimal('41')),\n",
       " ('S0003', 'Planters Nut-trition 1.5 oz ', Decimal('40')),\n",
       " ('S0003', 'Gatorade Original Variety 12 oz', Decimal('40')),\n",
       " ('S0003', 'Fiber One 90 Calorie Fudge Brownies', Decimal('40')),\n",
       " ('S0003', 'Zoo Animal Cookies/Crackers', Decimal('40')),\n",
       " ('S0003', 'Cheez It White Cheddar 1.5 oz', Decimal('39')),\n",
       " ('S0003', 'Austin Cookie Cracker Variety', Decimal('39')),\n",
       " ('S0003', 'Coffee-Mate French Vanilla Cold', Decimal('39')),\n",
       " ('S0003', 'Dixie Perfecttouch Paper Cups 12oz', Decimal('39')),\n",
       " ('S0003', 'Folgers 100% Colombian Coffee', Decimal('39')),\n",
       " ('S0003', 'Wonderful Pistachios (in shell)', Decimal('39')),\n",
       " ('S0003', 'Diet Pepsi - 12 oz cans', Decimal('39')),\n",
       " ('S0003', 'Trident Original Flavor 18/pk', Decimal('38')),\n",
       " ('S0003', 'Kind  Bars Variety Pack 1.4 oz ', Decimal('38')),\n",
       " ('S0003', 'M&M Peanut Butter 1.6 oz', Decimal('37')),\n",
       " ('S0003', 'Veggie Chips 1oz ', Decimal('37')),\n",
       " ('S0003', 'Jolly Ranchers Variety Hard Candy', Decimal('36')),\n",
       " ('S0003', \"Half & Half -Land o Lakes Mini Moo's\", Decimal('36')),\n",
       " ('S0003', 'Waterloo Sparkling Grapefruit 12oz', Decimal('36')),\n",
       " ('S0003', 'Red Bull 8.4 oz', Decimal('36')),\n",
       " ('S0003', 'Clorox Bleach Large Jugs', Decimal('36')),\n",
       " ('S0003', 'Hazelnut International Delight', Decimal('36')),\n",
       " ('S0003', 'Lysol Wipes 100 ct', Decimal('36')),\n",
       " ('S0003', 'Tropicana Apple Juice 10 oz 100% ', Decimal('35')),\n",
       " ('S0003', 'Dasani Bottled Water 16.9 oz', Decimal('35')),\n",
       " ('S0003', 'Hershey Factory Favorites Mix', Decimal('35')),\n",
       " ('S0003', 'Apple Sauce Variety GoGO Squeeze 3.2oz', Decimal('35')),\n",
       " ('S0003', 'Pure Leaf Unsweetened Tea 18.5oz', Decimal('35')),\n",
       " ('S0003', 'Quaker Instant Oatmeal Variety ', Decimal('35')),\n",
       " ('S0003', 'Snickers Bars 1.8oz', Decimal('34')),\n",
       " ('S0003', 'Sargento String Cheese 0.75oz', Decimal('34')),\n",
       " ('S0003', 'Goldfish Pepperidge Farm Cheddar 1.5oz ', Decimal('34')),\n",
       " ('S0003', 'Belvita Hard Biscuits Blueberry', Decimal('34')),\n",
       " ('S0003', 'Large Trash Bags Black 33 gal', Decimal('34')),\n",
       " ('S0003', 'Foam Coffee Cups - 20 ounce', Decimal('33')),\n",
       " ('S0003', \"Barq's Root Beer - 12 oz cans\", Decimal('33')),\n",
       " ('S0003', 'Pure Leaf Sweet Tea 8.5oz', Decimal('33')),\n",
       " ('S0003', 'Pringles Snak Stacks Variety', Decimal('33')),\n",
       " ('S0003', 'Perrier Flavors Sparkling Water 16.9oz', Decimal('33')),\n",
       " ('S0003', 'Dial Anti-bacterial  Foam 7.5oz', Decimal('33')),\n",
       " ('S0003', 'Nabisco Classic Mix ccooki, cracker', Decimal('33')),\n",
       " ('S0003', 'Ozarka Spring Water 20 oz', Decimal('32')),\n",
       " ('S0003', 'Fresca Peach Citrus - 12 oz cans', Decimal('32')),\n",
       " ('S0003', \"Welch's 100% Juice Variety10 oz\", Decimal('32')),\n",
       " ('S0003', 'Gatorade Frost Variety 12 oz', Decimal('32')),\n",
       " ('S0003', 'Foam Coffee Cups - 08 ounce', Decimal('32')),\n",
       " ('S0003', 'Topo Chico 12 oz glass', Decimal('32')),\n",
       " ('S0003', 'Red Bull 12oz', Decimal('32')),\n",
       " ('S0003', 'Planters Nut Variety Packs', Decimal('32')),\n",
       " ('S0003', 'G2 Lo Calorie Variety 20 oz', Decimal('31')),\n",
       " ('S0003', 'Napkins Square Lunch', Decimal('31')),\n",
       " ('S0003', 'Community Coffee Dark Roast', Decimal('31')),\n",
       " ('S0003', 'Dunkin Donuts Original Blend', Decimal('31')),\n",
       " ('S0003', 'Waterloo Sparkling Lemon 12oz', Decimal('31')),\n",
       " ('S0003', 'Fiber One Bars Oats and Chocolate', Decimal('30')),\n",
       " ('S0003', 'Gatorade Zero Variety 20 oz', Decimal('30')),\n",
       " ('S0003', 'Spunkmeyer Muffin Variety', Decimal('30')),\n",
       " ('S0003', \"Hefty Cmprtmnt Plates Foam 10'\", Decimal('30')),\n",
       " ('S0003', 'K Cups Folgers Lively Columbian', Decimal('30')),\n",
       " ('S0003', 'A&W Root Beer - 12 oz cans', Decimal('30')),\n",
       " ('S0003', 'Waterloo Sparkling Original 12oz', Decimal('30')),\n",
       " ('S0003', 'La Croix Sparkling Grapefruit 12 oz', Decimal('30')),\n",
       " ('S0003', 'Monster Lo-Carb 16 oz', Decimal('29')),\n",
       " ('S0003', 'K Cups –Organic Breakfast Blend', Decimal('29')),\n",
       " ('S0003', 'Equal Sweetener', Decimal('29')),\n",
       " ('S0003', 'Go-Gurt Low Fat Yogurt, Strwbry & Berry ', Decimal('29')),\n",
       " ('S0003', 'Diet Gingerale 12 oz cans', Decimal('29')),\n",
       " ('S0003', 'Truvia Natural Sweetener', Decimal('28')),\n",
       " ('S0003', 'Stirrers Coffee Stirs 7inch', Decimal('28')),\n",
       " ('S0003', 'Hershey Nuggets', Decimal('28')),\n",
       " ('S0003', 'Double Bubble Variety Tub', Decimal('28')),\n",
       " ('S0003', 'Diet Coke Caffeine Free 12oz cans', Decimal('28')),\n",
       " ('S0003', 'Njoy Sugar Canister 22 oz', Decimal('28')),\n",
       " ('S0003', 'Dawn Ultra Dish Detergent, Original Scent ', Decimal('28')),\n",
       " ('S0003', 'Peppermints Hard Candy', Decimal('28')),\n",
       " ('S0003', 'Cliff Energy Bars Variety Pack', Decimal('28')),\n",
       " ('S0003', 'Clear Plastic Cups 9oz', Decimal('28')),\n",
       " ('S0003', 'Snyders Pretzels Minis', Decimal('28')),\n",
       " ('S0003', 'Sprite Zero - 12 pack', Decimal('28')),\n",
       " ('S0003', \"Kellogg's Cereals Assortment Pack \", Decimal('27')),\n",
       " ('S0003', 'Pop-Tarts, Brown Sugar Cinnamon ', Decimal('27')),\n",
       " ('S0003', 'Paper Plates 8.5 inch Ultra Strong', Decimal('27')),\n",
       " ('S0003', 'Sun Chips Variety Pack', Decimal('27')),\n",
       " ('S0003', 'Red Bull 16oz', Decimal('26')),\n",
       " ('S0003', 'Nature Valley Sweet/Salty Peanut Bars      ', Decimal('26')),\n",
       " ('S0003', 'Flamin Hot Chip Mix 1oz', Decimal('26')),\n",
       " ('S0003', 'Swiss Miss Hot Cocoa Mix 1 oz', Decimal('26')),\n",
       " ('S0003', 'Baked Chips Variety Mix Frito', Decimal('26')),\n",
       " ('S0003', 'Hand Sanitizer Refill Pump', Decimal('26')),\n",
       " ('S0003', 'A&W Root Beer Diet - 12 oz cans', Decimal('26')),\n",
       " ('S0003', 'Mountain Dew - 12 oz cans', Decimal('26')),\n",
       " ('S0003', 'AquaFina Purified Drinking Water 16oz', Decimal('25')),\n",
       " ('S0003', 'K Cups - McCafe Premium Roast', Decimal('25')),\n",
       " ('S0003', 'Cliff Builders Protein Bar Variety Pack', Decimal('25')),\n",
       " ('S0003', \"Reese's Peanutbutter Cups 2/pk\", Decimal('25')),\n",
       " ('S0003', 'La Croix Sparkling Lime 12 oz', Decimal('25')),\n",
       " ('S0003', 'K Cups Hot Cocoa', Decimal('24')),\n",
       " ('S0003', 'Dole Fruit in Gel Cups 4.3 oz', Decimal('24')),\n",
       " ('S0003', 'Chobani Greek Yogurt Variety Pack ', Decimal('24')),\n",
       " ('S0003', 'Kleenex Tissue Rectangle Boxes 160/box', Decimal('24')),\n",
       " ('S0003', 'Nature Valley Sweet/Salty Almond Bars      ', Decimal('24')),\n",
       " ('S0003', 'Sugar in the Raw Packets', Decimal('24')),\n",
       " ('S0003', 'Gatorade X-Factor Fierce Variety 20 oz', Decimal('23')),\n",
       " ('S0003', 'Gardettos Snacks', Decimal('23')),\n",
       " ('S0003', 'Splenda Sweetener', Decimal('23')),\n",
       " ('S0003', 'Perrier Sparkling Water glass 11oz', Decimal('23')),\n",
       " ('S0003', 'Mars Mini Mix', Decimal('22')),\n",
       " ('S0003', 'Monster Zero Ultra Variety 16 oz', Decimal('22')),\n",
       " ('S0003', \"Cheetos Flamin' Hot 1 oz\", Decimal('22')),\n",
       " ('S0003', \"K Cups – Starbuck's Pike Place\", Decimal('22')),\n",
       " ('S0003', 'Strong Everyday Napkins', Decimal('22')),\n",
       " ('S0003', 'Goldfish Variety Bags, cheddar, pretzels', Decimal('22')),\n",
       " ('S0003', 'Clear Plastic 12 oz Cups', Decimal('22')),\n",
       " ('S0003', 'Red Plastic Cups 18oz', Decimal('22')),\n",
       " ('S0003', 'Gatorade Frost Variety 20 oz ', Decimal('22')),\n",
       " ('S0003', 'Coffee-mate Original Powdered Creamer', Decimal('21')),\n",
       " ('S0003', 'Cherry Coke Zero 12 pack', Decimal('21')),\n",
       " ('S0003', 'Paper Bowls 20 oz Ultra Strong', Decimal('21')),\n",
       " ('S0003', 'Austin Toasty Crackers w/ PBtr', Decimal('20')),\n",
       " ('S0003', 'La Croix Sparkling Orange 12 oz', Decimal('20')),\n",
       " ('S0003', 'Sargento Bal. Breaks (fruit, nut, cheese)', Decimal('20')),\n",
       " ('S0003', 'Frito Classic Mix Variety', Decimal('20')),\n",
       " ('S0003', 'Advil 2 pill packets', Decimal('19')),\n",
       " ('S0003', 'French Vanilla International Delight', Decimal('19')),\n",
       " ('S0003', 'Diet Mountain Dew 12oz cans', Decimal('19')),\n",
       " ('S0003', 'Plastic Forks White Heavyweight', Decimal('19')),\n",
       " ('S0003', 'Topo Chico 20oz plastic', Decimal('19')),\n",
       " ('S0003', 'Charmin Ultra Bath Tissue', Decimal('19')),\n",
       " ('S0003', 'San Pelligrino 16oz Plastic ', Decimal('19')),\n",
       " ('S0003', 'Gatorade Liberty Variety 12 oz', Decimal('19')),\n",
       " ('S0003', 'Coke Zero Sugar 12 oz cans', Decimal('18')),\n",
       " ('S0003', 'Gatorade Liberty Variety 20 oz ', Decimal('18')),\n",
       " ('S0003', 'V8 100% Vegetable Juice 11oz cans', Decimal('18')),\n",
       " ('S0003', 'Njoy Creamer Packs', Decimal('18')),\n",
       " ('S0003', 'Nature Valley Biscuit Sandwich Variety Pack ', Decimal('18')),\n",
       " ('S0003', 'Gatorade Variety 20 oz ', Decimal('17')),\n",
       " ('S0003', 'All Purpose Cleaner 409 Spray', Decimal('17')),\n",
       " ('S0003', 'Peanutbutter Filled Pretzels', Decimal('17')),\n",
       " ('S0003', 'Snapple Variety Pack 20oz', Decimal('17')),\n",
       " ('S0003', \"Starbuck's Pike Place\", Decimal('17')),\n",
       " ('S0003', 'Nestle Purelife 16oz ', Decimal('17')),\n",
       " ('S0003', 'Folgers Classic Roast Coffee', Decimal('16')),\n",
       " ('S0003', 'Cascade Gel w/ Dawn Dishwasher', Decimal('16')),\n",
       " ('S0003', 'Chewy Granola Variety Bars Quaker', Decimal('16')),\n",
       " ('S0003', 'Seven Up - 12 oz cans', Decimal('16')),\n",
       " ('S0003', 'Foam Coffee Cups - 12 ounce', Decimal('16')),\n",
       " ('S0003', 'Cheese and Peanut Butter Crackers', Decimal('16')),\n",
       " ('S0003', 'Monster Zero Ultra 16 oz', Decimal('15')),\n",
       " ('S0003', 'Muscle Milk Protein Shake Choc. 11oz', Decimal('15')),\n",
       " ('S0003', 'Propel Zero Variety 20 oz', Decimal('15')),\n",
       " ('S0003', 'Nature Valley Chewy Trail Mix Bars', Decimal('14')),\n",
       " ('S0003', 'Ice Breaker Mints Sugar Free ', Decimal('14')),\n",
       " ('S0003', 'Fresca Black Cherry - 12 oz cans', Decimal('14')),\n",
       " ('S0003', 'Gatorade Lemon Lime 12oz', Decimal('14')),\n",
       " ('S0003', 'Waterloo Sparkling Lime 12oz', Decimal('14')),\n",
       " ('S0003', 'Frito Big Grab Variety 1.5-2.0 oz', Decimal('14')),\n",
       " ('S0003', 'Paper Plate 10 inch Ultra Strong', Decimal('14')),\n",
       " ('S0003', 'Waterloo Sparkling Blackcherry 12oz', Decimal('13')),\n",
       " ('S0003', 'Diet Dr. Pepper - 12 oz cans', Decimal('13')),\n",
       " ('S0003', 'Frito Bold Flavors Variety', Decimal('13')),\n",
       " ('S0003', 'Kleenex Tissue Square Boxes 75/box', Decimal('13')),\n",
       " ('S0003', 'Monster Java 15 oz', Decimal('13')),\n",
       " ('S0003', 'Tootsie Roll Midgets', Decimal('13')),\n",
       " ('S0003', 'POM 2 ply paper towels', Decimal('12')),\n",
       " ('S0003', 'Pop Chips Variety bags', Decimal('12')),\n",
       " ('S0003', 'Bounty Paper Towels Select a Size ', Decimal('12')),\n",
       " ('S0003', 'Belvita Protein Oats Soft Biscuit', Decimal('12')),\n",
       " ('S0003', 'M&M Variety Full Size Bags', Decimal('12')),\n",
       " ('S0003', 'Pure White Sugar Packets', Decimal('12')),\n",
       " ('S0003', 'Sunkist Orange - 12 oz cans', Decimal('11')),\n",
       " ('S0003', 'V-8 Splash Variety 20 oz', Decimal('11')),\n",
       " ('S0003', 'Clorox Disinfecting Wipes ', Decimal('10')),\n",
       " ('S0003', \"Reese's Pieces Peanutbutter Candy\", Decimal('10')),\n",
       " ('S0003', 'Crunchy Granola Bars Oats & Honey', Decimal('10')),\n",
       " ('S0003', 'Detour Lower Sugar Protein Bar', Decimal('9')),\n",
       " ('S0003', 'Kind  Bars Mini Variety Pack 0.7 oz ', Decimal('9')),\n",
       " ('S0003', 'Cascade Gel Packs Dishwasher', Decimal('8')),\n",
       " ('S0003', 'Plastic Knives White  Heavyweight', Decimal('8')),\n",
       " ('S0003', 'Ocean Spray Cranberry Juice Cocktail 15oz ', Decimal('7')),\n",
       " ('S0003', 'Plastic Spoons White  Heavyweight', Decimal('6')),\n",
       " ('S0003', 'Tylenol Extra Strength 2 pill packets', Decimal('6')),\n",
       " ('S0003', 'Quaker Instant Oatmeal Maple Brn Sugar', Decimal('5')),\n",
       " ('S0003', 'Hershey Chocoalte Minatures Assort.', Decimal('5')),\n",
       " ('S0003', 'Ozarka Spring Water 16.9 oz bottles', Decimal('4')),\n",
       " ('S0003', 'La Croix Sparkling Cran-Raspberry 12 oz', Decimal('4')),\n",
       " ('S0003', 'Hefty Supreme Foam Plates 9 inch', Decimal('2')),\n",
       " ('S0003', 'Fuze Iced Tea', Decimal('2')),\n",
       " ('S0004', None, Decimal('7808')),\n",
       " ('S0004', 'Kind  Bars Variety Pack 1.4 oz ', Decimal('79')),\n",
       " ('S0004', 'Muscle Milk Protein Shake Van. 11oz', Decimal('69')),\n",
       " ('S0004', 'Wint O Green LifeSavers Sugar Free', Decimal('69')),\n",
       " ('S0004', 'V8 100% Vegetable Juice 11oz cans', Decimal('68')),\n",
       " ('S0004', 'Sprite - 12 oz cans', Decimal('68')),\n",
       " ('S0004', 'Fresca Original - 12 oz cans', Decimal('67')),\n",
       " ('S0004', 'Go-Gurt Low Fat Yogurt, Strwbry & Berry ', Decimal('67')),\n",
       " ('S0004', 'Hazelnut International Delight', Decimal('63')),\n",
       " ('S0004', 'Large Trash Bags Black 33 gal', Decimal('61')),\n",
       " ('S0004', 'Double Bubble Variety Tub', Decimal('61')),\n",
       " ('S0004', 'A&W Root Beer - 12 oz cans', Decimal('59')),\n",
       " ('S0004', 'Ocean Spray Cranberry Juice Cocktail 15oz ', Decimal('59')),\n",
       " ('S0004', 'Hershey Kisses ', Decimal('58')),\n",
       " ('S0004', 'Ozarka Spring Water Mini 8oz', Decimal('58')),\n",
       " ('S0004', 'Tootsie Roll Midgets', Decimal('58')),\n",
       " ('S0004', 'Chinet Comfort Hot Cups with Lids 16oz', Decimal('56')),\n",
       " ('S0004', 'Muscle Milk Protein Shake Choc. 11oz', Decimal('55')),\n",
       " ('S0004', 'Chobani Greek Yogurt Variety Pack ', Decimal('55')),\n",
       " ('S0004', 'Cliff Builders Protein Bar Variety Pack', Decimal('55')),\n",
       " ('S0004', 'Cascade Gel w/ Dawn Dishwasher', Decimal('54')),\n",
       " ('S0004', 'Sprite Zero - 12 pack', Decimal('54')),\n",
       " ('S0004', 'Monster Zero Ultra Variety 16 oz', Decimal('53')),\n",
       " ('S0004', 'Ozarka Spring Water 20 oz', Decimal('53')),\n",
       " ('S0004', 'M&M Variety Full Size Bags', Decimal('52')),\n",
       " ('S0004', 'Equal Sweetener', Decimal('51')),\n",
       " ('S0004', 'Gardettos Snacks', Decimal('50')),\n",
       " ('S0004', 'Waterloo Sparkling Watermelon 12oz', Decimal('50')),\n",
       " ('S0004', 'K Cups - Green Tea', Decimal('50')),\n",
       " ('S0004', 'Veggie Chips 1oz ', Decimal('50')),\n",
       " ('S0004', 'Topo Chico 12 oz glass', Decimal('50')),\n",
       " ('S0004', 'Dial Anti-bacterial  Foam 7.5oz', Decimal('50')),\n",
       " ('S0004', 'Fiber One Bars Oats and Chocolate', Decimal('50')),\n",
       " ('S0004', 'Tejava Unsweetened Black Tea 16.9oz', Decimal('49')),\n",
       " ('S0004', 'Paper Plates 8.5 inch Ultra Strong', Decimal('48')),\n",
       " ('S0004', 'Hand Sanitizer Refill Pump', Decimal('48')),\n",
       " ('S0004', 'Kellogg Fun Mix Cheez it, Prngls, Fam Amos', Decimal('47')),\n",
       " ('S0004', 'Pepsi - 12 oz cans', Decimal('47')),\n",
       " ('S0004', 'Honey Packets  ', Decimal('47')),\n",
       " ('S0004', 'Doritos Nacho Cheese 1 oz', Decimal('47')),\n",
       " ('S0004', 'Plastic Spoons White  Heavyweight', Decimal('46')),\n",
       " ('S0004', 'Snyders Pretzels Minis', Decimal('46')),\n",
       " ('S0004', 'Hershey Factory Favorites Mix', Decimal('46')),\n",
       " ('S0004', 'Detour Lower Sugar Protein Bar', Decimal('45')),\n",
       " ('S0004', 'Diet Pepsi - 12 oz cans', Decimal('45')),\n",
       " ('S0004', 'Foam Coffee Cups - 20 ounce', Decimal('44')),\n",
       " ('S0004', 'Austin Cookie Cracker Variety', Decimal('44')),\n",
       " ('S0004', 'Diet Mountain Dew 12oz cans', Decimal('43')),\n",
       " ('S0004', 'Tropicana Apple Juice 10 oz 100% ', Decimal('43')),\n",
       " ('S0004', 'La Croix Sparkling Lemon 12 oz', Decimal('43')),\n",
       " ('S0004', \"Reese's Pieces Peanutbutter Candy\", Decimal('43')),\n",
       " ('S0004', 'Gatorade Variety 20 oz ', Decimal('43')),\n",
       " ('S0004', 'AquaFina Purified Drinking Water 16oz', Decimal('43')),\n",
       " ('S0004', 'Wonderful Pistachios (in shell)', Decimal('43')),\n",
       " ('S0004', 'Frito Fiesta Flavors Variety', Decimal('43')),\n",
       " ('S0004', 'Frito Big Grab Variety 1.5-2.0 oz', Decimal('43')),\n",
       " ('S0004', 'Hefty Supreme Foam Bowls 12oz', Decimal('43')),\n",
       " ('S0004', 'Cheez It Original Crackers 1.5oz', Decimal('42')),\n",
       " ('S0004', 'La Croix Sparkling Pure 12 oz', Decimal('42')),\n",
       " ('S0004', 'La Croix Sparkling Cran-Raspberry 12 oz', Decimal('42')),\n",
       " ('S0004', 'Red Bull 8.4 oz', Decimal('42')),\n",
       " ('S0004', 'Baked Chips Variety Mix Frito', Decimal('42')),\n",
       " ('S0004', 'San Pelligrino 16oz Plastic ', Decimal('41')),\n",
       " ('S0004', 'K Cups Dunkin Donuts Medium Roast', Decimal('41')),\n",
       " ('S0004', 'Cherry Coke Zero 12 pack', Decimal('41')),\n",
       " ('S0004', \"Hefty Cmprtmnt Plates Foam 10'\", Decimal('40')),\n",
       " ('S0004', 'Lysol Disinfectant Spray 19 oz', Decimal('40')),\n",
       " ('S0004', 'Chewy Granola Variety Bars Quaker', Decimal('40')),\n",
       " ('S0004', 'Propel Zero Variety 20 oz', Decimal('40')),\n",
       " ('S0004', 'Plastic Forks White Heavyweight', Decimal('39')),\n",
       " ('S0004', 'Kind  Bars Mini Variety Pack 0.7 oz ', Decimal('39')),\n",
       " ('S0004', 'Coffee-mate Original Powdered Creamer', Decimal('38')),\n",
       " ('S0004', 'M&M Peanut Butter 1.6 oz', Decimal('38')),\n",
       " ('S0004', 'Belvita Hard Biscuits Cinnamon', Decimal('37')),\n",
       " ('S0004', 'Pure Leaf Unsweetened Tea 18.5oz', Decimal('37')),\n",
       " ('S0004', 'Frito BOLD Flavors Variety Pack', Decimal('37')),\n",
       " ('S0004', 'Pure White Sugar Packets', Decimal('37')),\n",
       " ('S0004', 'Splenda Sweetener', Decimal('37')),\n",
       " ('S0004', 'Diet Coke Caffeine Free 12oz cans', Decimal('37')),\n",
       " ('S0004', 'La Croix Sparkling Coconut 12 oz', Decimal('36')),\n",
       " ('S0004', 'Sweet N Low Sweetener', Decimal('36')),\n",
       " ('S0004', 'Dark Chocolate Mint Patties', Decimal('36')),\n",
       " ('S0004', 'Diet Gingerale 12 oz cans', Decimal('36')),\n",
       " ('S0004', 'Fiber One 90 Calorie Fudge Brownies', Decimal('36')),\n",
       " ('S0004', 'POM 2 ply paper towels', Decimal('36')),\n",
       " ('S0004', 'Gatorade Liberty Variety 20 oz ', Decimal('36')),\n",
       " ('S0004', 'Jolly Ranchers Variety Hard Candy', Decimal('36')),\n",
       " ('S0004', 'Famous Amos Cookies ', Decimal('35')),\n",
       " ('S0004', 'Njoy Creamer Canister 16 oz', Decimal('35')),\n",
       " ('S0004', 'Breath Savers Peppermints 12/roll ', Decimal('35')),\n",
       " ('S0004', 'Muscle Milk Protein Shake Strbry. 11oz', Decimal('35')),\n",
       " ('S0004', 'Gatorade Original Variety 12 oz', Decimal('35')),\n",
       " ('S0004', \"Reese's Peanutbutter Cups 2/pk\", Decimal('34')),\n",
       " ('S0004', 'Dawn Ultra Dish Detergent, Original Scent ', Decimal('34')),\n",
       " ('S0004', 'Clorox Disinfecting Wipes ', Decimal('34')),\n",
       " ('S0004', 'Advil 2 pill packets', Decimal('34')),\n",
       " ('S0004', 'Topo Chico 20oz plastic', Decimal('34')),\n",
       " ('S0004', 'Miss Vickies Chips', Decimal('33')),\n",
       " ('S0004', 'Truvia Natural Sweetener', Decimal('33')),\n",
       " ('S0004', 'Waterloo Sparkling Grapefruit 12oz', Decimal('33')),\n",
       " ('S0004', 'Perrier Sparkling Water glass 11oz', Decimal('33')),\n",
       " ('S0004', 'K Cups - McCafe Premium Roast', Decimal('33')),\n",
       " ('S0004', 'Seven Up - 12 oz cans', Decimal('32')),\n",
       " ('S0004', 'Cheez It White Cheddar 1.5 oz', Decimal('32')),\n",
       " ('S0004', 'Ice Breaker Mints Sugar Free ', Decimal('32')),\n",
       " ('S0004', 'Waterloo Sparkling Lemon 12oz', Decimal('32')),\n",
       " ('S0004', 'La Croix Sparkling Orange 12 oz', Decimal('32')),\n",
       " ('S0004', 'Lysol Wipes 100 ct', Decimal('32')),\n",
       " ('S0004', 'Plastic Knives White  Heavyweight', Decimal('31')),\n",
       " ('S0004', 'Dunkin Donuts Original Blend', Decimal('31')),\n",
       " ('S0004', 'All Purpose Cleaner 409 Spray', Decimal('31')),\n",
       " ('S0004', 'Quaker Instant Oatmeal Maple Brn Sugar', Decimal('31')),\n",
       " ('S0004', 'Red Bull 12oz', Decimal('31')),\n",
       " ('S0004', 'Crunchy Granola Bars Oats & Honey', Decimal('31')),\n",
       " ('S0004', 'Sunkist Orange - 12 oz cans', Decimal('31')),\n",
       " ('S0004', 'Brisk Lemon Iced Tea - 12 oz cans', Decimal('31')),\n",
       " ('S0004', 'Sun Chips Variety Pack', Decimal('30')),\n",
       " ('S0004', 'Coffee-Mate Original Flavor Cold', Decimal('30')),\n",
       " ('S0004', 'Frito Bold Flavors Variety', Decimal('30')),\n",
       " ('S0004', 'Snickers Bars 1.8oz', Decimal('30')),\n",
       " ('S0004', 'Coke Classic 12 oz cans', Decimal('29')),\n",
       " ('S0004', 'Clear Plastic 12 oz Cups', Decimal('29')),\n",
       " ('S0004', 'Coke Zero Sugar 12 oz cans', Decimal('29')),\n",
       " ('S0004', 'Foam Coffee Cups - 12 ounce', Decimal('29')),\n",
       " ('S0004', 'Lunchables Variety Pack Oscar Meyer', Decimal('29')),\n",
       " ('S0004', 'Chex Mix Original', Decimal('28')),\n",
       " ('S0004', 'Foam Coffee Cups - 16 ounce', Decimal('28')),\n",
       " ('S0004', 'G2 Lo Calorie Variety 20 oz', Decimal('28')),\n",
       " ('S0004', 'Waterloo Sparkling Blackcherry 12oz', Decimal('28')),\n",
       " ('S0004', 'Lance Variety Cracker Packs ', Decimal('28')),\n",
       " ('S0004', 'Strong Everyday Napkins', Decimal('28')),\n",
       " ('S0004', 'V-8 Splash Variety 20 oz', Decimal('28')),\n",
       " ('S0004', 'Diet Dr. Pepper - 12 oz cans', Decimal('28')),\n",
       " ('S0004', 'Blue Diamond Almonds Rstd, Sltd', Decimal('28')),\n",
       " ('S0004', 'Bounty Paper Towels Select a Size ', Decimal('28')),\n",
       " ('S0004', 'Nature Valley Sweet/Salty Almond Bars      ', Decimal('28')),\n",
       " ('S0004', 'Njoy Sugar Canister 22 oz', Decimal('27')),\n",
       " ('S0004', 'Zoo Animal Cookies/Crackers', Decimal('27')),\n",
       " ('S0004', 'Cascade Gel Packs Dishwasher', Decimal('27')),\n",
       " ('S0004', 'Snapple Variety Pack 20oz', Decimal('27')),\n",
       " ('S0004', 'Cherry Coke 12oz', Decimal('27')),\n",
       " ('S0004', 'Spunkmeyer Muffin Variety', Decimal('27')),\n",
       " ('S0004', 'K Cups Hot Cocoa', Decimal('27')),\n",
       " ('S0004', 'La Croix Sparkling Berry 12 ozv', Decimal('27')),\n",
       " ('S0004', 'Sargento Bal. Breaks (fruit, nut, cheese)', Decimal('27')),\n",
       " ('S0004', 'Fuze Iced Tea', Decimal('27')),\n",
       " ('S0004', 'Pure Leaf Sweet Tea 8.5oz', Decimal('27')),\n",
       " ('S0004', 'Hefty Supreme Foam Plates 9 inch', Decimal('27')),\n",
       " ('S0004', 'Hershey Chocoalte Minatures Assort.', Decimal('26')),\n",
       " ('S0004', 'Planters Nut Variety Packs', Decimal('26')),\n",
       " ('S0004', 'K Cups Daily Chef Columbian Supremo', Decimal('26')),\n",
       " ('S0004', 'Waterloo Sparkling Lime 12oz', Decimal('26')),\n",
       " ('S0004', 'Austin Toasty Crackers w/ PBtr', Decimal('26')),\n",
       " ('S0004', 'La Croix Sparkling Grapefruit 12 oz', Decimal('26')),\n",
       " ('S0004', 'La Croix Sparkling Lime 12 oz', Decimal('26')),\n",
       " ('S0004', 'Coffee-Mate French Vanilla Cold', Decimal('26')),\n",
       " ('S0004', 'Dasani Bottled Water 16.9 oz', Decimal('26')),\n",
       " ('S0004', '100% Juice Box Variety 6.75 oz ', Decimal('26')),\n",
       " ('S0004', 'Nestle Purelife 16oz ', Decimal('26')),\n",
       " ('S0004', 'Keebler Cookie & Cracker Variety', Decimal('26')),\n",
       " ('S0004', 'Pop-Tarts, Brown Sugar Cinnamon ', Decimal('26')),\n",
       " ('S0004', 'ForceFlex Trash Bags 13 Gal ', Decimal('26')),\n",
       " ('S0004', 'Trident Original Flavor 18/pk', Decimal('25')),\n",
       " ('S0004', 'Diet Coke - 12 oz cans', Decimal('25')),\n",
       " ('S0004', 'Mountain Dew - 12 oz cans', Decimal('25')),\n",
       " ('S0004', 'Perrier Sparkling Water plastic 16.9oz', Decimal('25')),\n",
       " ('S0004', 'Nature Valley Chewy Trail Mix Bars', Decimal('25')),\n",
       " ('S0004', 'Red Bull 16oz', Decimal('25')),\n",
       " ('S0004', 'Planters Nut-trition 1.5 oz ', Decimal('25')),\n",
       " ('S0004', 'Dole Fruit in Gel Cups 4.3 oz', Decimal('25')),\n",
       " ('S0004', 'Monster Original Green 16 oz', Decimal('24')),\n",
       " ('S0004', 'Paper Bowls 20 oz Ultra Strong', Decimal('24')),\n",
       " ('S0004', 'Goldfish Pepperidge Farm Cheddar 1.5oz ', Decimal('24')),\n",
       " ('S0004', 'Sobe Zero Lifewater Variety 20 oz', Decimal('24')),\n",
       " ('S0004', 'Mars Mini Mix', Decimal('24')),\n",
       " ('S0004', 'Nabisco Cookie Variety Pk Oreo/ChocChip', Decimal('23')),\n",
       " ('S0004', 'Foam Coffee Cups - 08 ounce', Decimal('23')),\n",
       " ('S0004', 'Vita Coconut Water 10oz ', Decimal('23')),\n",
       " ('S0004', 'Paper Plate 10 inch Ultra Strong', Decimal('23')),\n",
       " ('S0004', 'Hershey Nuggets', Decimal('23')),\n",
       " ('S0004', \"Welch's 100% Juice Variety10 oz\", Decimal('22')),\n",
       " ('S0004', 'Napkins Square Lunch', Decimal('22')),\n",
       " ('S0004', 'Nature Valley Soft Oatmeal Squares   ', Decimal('22')),\n",
       " ('S0004', 'Tylenol Extra Strength 2 pill packets', Decimal('22')),\n",
       " ('S0004', 'Ozarka Spring Water 16.9 oz bottles', Decimal('22')),\n",
       " ('S0004', 'Paper Plates 7 inch  Ultra Strong', Decimal('22')),\n",
       " ('S0004', 'Kleenex Tissue Rectangle Boxes 160/box', Decimal('22')),\n",
       " ('S0004', 'Pringles Snak Stacks Variety', Decimal('21')),\n",
       " ('S0004', 'Nabisco Classic Mix ccooki, cracker', Decimal('21')),\n",
       " ('S0004', 'Folgers Classic Roast Coffee', Decimal('21')),\n",
       " ('S0004', \"K Cups – Starbuck's Pike Place\", Decimal('20')),\n",
       " ('S0004', 'Belvita Protein Oats Soft Biscuit', Decimal('20')),\n",
       " ('S0004', 'Altoids Small Packs Variety', Decimal('20')),\n",
       " ('S0004', \"Kellogg's Cereals Assortment Pack \", Decimal('20')),\n",
       " ('S0004', 'Belvita Hard Biscuits Blueberry', Decimal('20')),\n",
       " ('S0004', \"Barq's Root Beer - 12 oz cans\", Decimal('19')),\n",
       " ('S0004', 'Sugar in the Raw Packets', Decimal('19')),\n",
       " ('S0004', 'Stirrers Coffee Stirs 7inch', Decimal('19')),\n",
       " ('S0004', 'Sargento String Cheese 0.75oz', Decimal('19')),\n",
       " ('S0004', 'Red Plastic Cups 18oz', Decimal('18')),\n",
       " ('S0004', 'Yoplait Original Yogurt Variety Pack ', Decimal('18')),\n",
       " ('S0004', 'Kleenex Tissue Square Boxes 75/box', Decimal('18')),\n",
       " ('S0004', 'Community Coffee Dark Roast', Decimal('18')),\n",
       " ('S0004', \"Half & Half -Land o Lakes Mini Moo's\", Decimal('18')),\n",
       " ('S0004', 'Waterloo Sparkling Original 12oz', Decimal('17')),\n",
       " ('S0004', 'Peanutbutter Filled Pretzels', Decimal('17')),\n",
       " ('S0004', 'Njoy Creamer Packs', Decimal('17')),\n",
       " ('S0004', 'K Cups Folgers Lively Columbian', Decimal('17')),\n",
       " ('S0004', 'Tropicana Orange Juice 10 oz 100% ', Decimal('16')),\n",
       " ('S0004', 'Hefty Supreme Foam Plates 6 inch', Decimal('16')),\n",
       " ('S0004', 'Waterloo Sparkling Mango 12oz', Decimal('16')),\n",
       " ('S0004', 'Red Bull Sugar Free 8.4 oz', Decimal('16')),\n",
       " ('S0004', 'Quaker Instant Oatmeal Variety ', Decimal('15')),\n",
       " ('S0004', 'French Vanilla International Delight', Decimal('15')),\n",
       " ('S0004', 'Nature Valley Sweet/Salty Peanut Bars      ', Decimal('15')),\n",
       " ('S0004', 'Folgers 100% Colombian Coffee', Decimal('15')),\n",
       " ('S0004', 'Unsalted Premium Blend Nuts', Decimal('15')),\n",
       " ('S0004', 'Clear Plastic Cups 9oz', Decimal('14')),\n",
       " ('S0004', 'Gatorade Frost Variety 12 oz', Decimal('14')),\n",
       " ('S0004', 'Swiss Miss Hot Cocoa Mix 1 oz', Decimal('14')),\n",
       " ('S0004', 'Extra Variety Packs Sugar Free', Decimal('14')),\n",
       " ('S0004', 'Pop Chips Variety bags', Decimal('14')),\n",
       " ('S0004', 'Dr. Pepper - 12 oz cans', Decimal('13')),\n",
       " ('S0004', 'Gatorade Zero Variety 20 oz', Decimal('13')),\n",
       " ...]"
      ]
     },
     "execution_count": 59,
     "metadata": {},
     "output_type": "execute_result"
    }
   ],
   "source": [
    "con = PostgresConnection().getConnection()\n",
    "curr = con.cursor()\n",
    "select_stmts = \"\"\"SELECT store_dim.store_key as store_key, item_dim.item_name as item_name, sum(fact_table.quantity) as quantity_of_sales \n",
    "FROM stars.fact_table  \n",
    "JOIN stars.store_dim ON\n",
    "store_dim.store_key = fact_table.store_key \n",
    "JOIN stars.item_dim ON \n",
    "item_dim.item_key = fact_table.item_key \n",
    "GROUP BY CUBE(store_dim.store_key, item_dim.item_name)\n",
    "ORDER BY store_dim.store_key, sum(fact_table.quantity) desc\"\"\"\n",
    "                \n",
    "curr.execute(select_stmts)\n",
    "most_purchased_product = curr.fetchall()\n",
    "most_purchased_product"
   ]
  },
  {
   "cell_type": "code",
   "execution_count": 60,
   "id": "e1cf7bef",
   "metadata": {},
   "outputs": [
    {
     "data": {
      "text/html": [
       "<div>\n",
       "<style scoped>\n",
       "    .dataframe tbody tr th:only-of-type {\n",
       "        vertical-align: middle;\n",
       "    }\n",
       "\n",
       "    .dataframe tbody tr th {\n",
       "        vertical-align: top;\n",
       "    }\n",
       "\n",
       "    .dataframe thead th {\n",
       "        text-align: right;\n",
       "    }\n",
       "</style>\n",
       "<table border=\"1\" class=\"dataframe\">\n",
       "  <thead>\n",
       "    <tr style=\"text-align: right;\">\n",
       "      <th></th>\n",
       "      <th>store_id</th>\n",
       "      <th>item</th>\n",
       "      <th>quantity</th>\n",
       "    </tr>\n",
       "  </thead>\n",
       "  <tbody>\n",
       "    <tr>\n",
       "      <th>1</th>\n",
       "      <td>S0001</td>\n",
       "      <td>Pepsi - 12 oz cans</td>\n",
       "      <td>92</td>\n",
       "    </tr>\n",
       "    <tr>\n",
       "      <th>2</th>\n",
       "      <td>S0001</td>\n",
       "      <td>Muscle Milk Protein Shake Van. 11oz</td>\n",
       "      <td>90</td>\n",
       "    </tr>\n",
       "    <tr>\n",
       "      <th>3</th>\n",
       "      <td>S0001</td>\n",
       "      <td>Hefty Supreme Foam Plates 6 inch</td>\n",
       "      <td>78</td>\n",
       "    </tr>\n",
       "    <tr>\n",
       "      <th>259</th>\n",
       "      <td>S0002</td>\n",
       "      <td>Planters Nut-trition 1.5 oz</td>\n",
       "      <td>83</td>\n",
       "    </tr>\n",
       "    <tr>\n",
       "      <th>260</th>\n",
       "      <td>S0002</td>\n",
       "      <td>Altoids Small Packs Variety</td>\n",
       "      <td>80</td>\n",
       "    </tr>\n",
       "    <tr>\n",
       "      <th>...</th>\n",
       "      <td>...</td>\n",
       "      <td>...</td>\n",
       "      <td>...</td>\n",
       "    </tr>\n",
       "    <tr>\n",
       "      <th>8013</th>\n",
       "      <td>S0012</td>\n",
       "      <td>Propel Zero Variety 20 oz</td>\n",
       "      <td>76</td>\n",
       "    </tr>\n",
       "    <tr>\n",
       "      <th>8270</th>\n",
       "      <td>S00120</td>\n",
       "      <td>Pepsi - 12 oz cans</td>\n",
       "      <td>85</td>\n",
       "    </tr>\n",
       "    <tr>\n",
       "      <th>8271</th>\n",
       "      <td>S00120</td>\n",
       "      <td>Sprite - 12 oz cans</td>\n",
       "      <td>73</td>\n",
       "    </tr>\n",
       "    <tr>\n",
       "      <th>8272</th>\n",
       "      <td>S00120</td>\n",
       "      <td>Mars Mini Mix</td>\n",
       "      <td>72</td>\n",
       "    </tr>\n",
       "    <tr>\n",
       "      <th>8530</th>\n",
       "      <td>S00121</td>\n",
       "      <td>Pepsi - 12 oz cans</td>\n",
       "      <td>95</td>\n",
       "    </tr>\n",
       "  </tbody>\n",
       "</table>\n",
       "<p>100 rows × 3 columns</p>\n",
       "</div>"
      ],
      "text/plain": [
       "     store_id                                 item quantity\n",
       "1       S0001                   Pepsi - 12 oz cans       92\n",
       "2       S0001  Muscle Milk Protein Shake Van. 11oz       90\n",
       "3       S0001     Hefty Supreme Foam Plates 6 inch       78\n",
       "259     S0002         Planters Nut-trition 1.5 oz        83\n",
       "260     S0002          Altoids Small Packs Variety       80\n",
       "...       ...                                  ...      ...\n",
       "8013    S0012            Propel Zero Variety 20 oz       76\n",
       "8270   S00120                   Pepsi - 12 oz cans       85\n",
       "8271   S00120                  Sprite - 12 oz cans       73\n",
       "8272   S00120                        Mars Mini Mix       72\n",
       "8530   S00121                   Pepsi - 12 oz cans       95\n",
       "\n",
       "[100 rows x 3 columns]"
      ]
     },
     "execution_count": 60,
     "metadata": {},
     "output_type": "execute_result"
    }
   ],
   "source": [
    "topmost_purchased_product = pd.DataFrame(list(most_purchased_product), columns=['store_id', 'item', 'quantity'])\n",
    "topmost_purchased_product=topmost_purchased_product.dropna()\n",
    "topmost_purchased_product = topmost_purchased_product.groupby('store_id').head(3)\n",
    "topmost_purchased_product.head(100)"
   ]
  },
  {
   "cell_type": "code",
   "execution_count": 61,
   "id": "c894f9b7",
   "metadata": {},
   "outputs": [
    {
     "data": {
      "text/plain": [
       "store_id    object\n",
       "item        object\n",
       "quantity    object\n",
       "dtype: object"
      ]
     },
     "execution_count": 61,
     "metadata": {},
     "output_type": "execute_result"
    }
   ],
   "source": [
    "topmost_purchased_product.dtypes"
   ]
  },
  {
   "cell_type": "markdown",
   "id": "1af47b4d",
   "metadata": {},
   "source": [
    "# Q7: What products have been sold through card or mobile since X days?\n",
    "\n",
    "    input: X = 5 days\n",
    "\n",
    "    output: [item1, item2, item3, ...........]"
   ]
  },
  {
   "cell_type": "code",
   "execution_count": 63,
   "id": "d1a3c0d7",
   "metadata": {},
   "outputs": [
    {
     "name": "stdout",
     "output_type": "stream",
     "text": [
      "Enter number of days: 300\n"
     ]
    }
   ],
   "source": [
    "x=input('Enter number of days: ')"
   ]
  },
  {
   "cell_type": "code",
   "execution_count": 64,
   "id": "831a3f8f",
   "metadata": {},
   "outputs": [
    {
     "name": "stdout",
     "output_type": "stream",
     "text": [
      "Connection to DB established!\n"
     ]
    },
    {
     "data": {
      "text/html": [
       "<div>\n",
       "<style scoped>\n",
       "    .dataframe tbody tr th:only-of-type {\n",
       "        vertical-align: middle;\n",
       "    }\n",
       "\n",
       "    .dataframe tbody tr th {\n",
       "        vertical-align: top;\n",
       "    }\n",
       "\n",
       "    .dataframe thead th {\n",
       "        text-align: right;\n",
       "    }\n",
       "</style>\n",
       "<table border=\"1\" class=\"dataframe\">\n",
       "  <thead>\n",
       "    <tr style=\"text-align: right;\">\n",
       "      <th></th>\n",
       "      <th>item_name</th>\n",
       "      <th>date</th>\n",
       "      <th>trans_type</th>\n",
       "    </tr>\n",
       "  </thead>\n",
       "  <tbody>\n",
       "    <tr>\n",
       "      <th>0</th>\n",
       "      <td>A&amp;W Root Beer Diet - 12 oz cans</td>\n",
       "      <td>2021-11-01</td>\n",
       "      <td>card</td>\n",
       "    </tr>\n",
       "    <tr>\n",
       "      <th>1</th>\n",
       "      <td>A&amp;W Root Beer Diet - 12 oz cans</td>\n",
       "      <td>2021-12-01</td>\n",
       "      <td>card</td>\n",
       "    </tr>\n",
       "    <tr>\n",
       "      <th>2</th>\n",
       "      <td>A&amp;W Root Beer Diet - 12 oz cans</td>\n",
       "      <td>2021-11-01</td>\n",
       "      <td>card</td>\n",
       "    </tr>\n",
       "    <tr>\n",
       "      <th>3</th>\n",
       "      <td>Barq's Root Beer - 12 oz cans</td>\n",
       "      <td>2021-11-01</td>\n",
       "      <td>card</td>\n",
       "    </tr>\n",
       "    <tr>\n",
       "      <th>4</th>\n",
       "      <td>Cherry Coke 12oz</td>\n",
       "      <td>2021-12-01</td>\n",
       "      <td>card</td>\n",
       "    </tr>\n",
       "    <tr>\n",
       "      <th>...</th>\n",
       "      <td>...</td>\n",
       "      <td>...</td>\n",
       "      <td>...</td>\n",
       "    </tr>\n",
       "    <tr>\n",
       "      <th>500</th>\n",
       "      <td>Strong Everyday Napkins</td>\n",
       "      <td>2021-11-01</td>\n",
       "      <td>card</td>\n",
       "    </tr>\n",
       "    <tr>\n",
       "      <th>501</th>\n",
       "      <td>Advil 2 pill packets</td>\n",
       "      <td>2021-11-01</td>\n",
       "      <td>card</td>\n",
       "    </tr>\n",
       "    <tr>\n",
       "      <th>502</th>\n",
       "      <td>Tylenol Extra Strength 2 pill packets</td>\n",
       "      <td>2021-11-01</td>\n",
       "      <td>card</td>\n",
       "    </tr>\n",
       "    <tr>\n",
       "      <th>503</th>\n",
       "      <td>Tylenol Extra Strength 2 pill packets</td>\n",
       "      <td>2021-11-01</td>\n",
       "      <td>card</td>\n",
       "    </tr>\n",
       "    <tr>\n",
       "      <th>504</th>\n",
       "      <td>Tylenol Extra Strength 2 pill packets</td>\n",
       "      <td>2021-12-01</td>\n",
       "      <td>card</td>\n",
       "    </tr>\n",
       "  </tbody>\n",
       "</table>\n",
       "<p>505 rows × 3 columns</p>\n",
       "</div>"
      ],
      "text/plain": [
       "                                 item_name        date trans_type\n",
       "0          A&W Root Beer Diet - 12 oz cans  2021-11-01       card\n",
       "1          A&W Root Beer Diet - 12 oz cans  2021-12-01       card\n",
       "2          A&W Root Beer Diet - 12 oz cans  2021-11-01       card\n",
       "3            Barq's Root Beer - 12 oz cans  2021-11-01       card\n",
       "4                         Cherry Coke 12oz  2021-12-01       card\n",
       "..                                     ...         ...        ...\n",
       "500                Strong Everyday Napkins  2021-11-01       card\n",
       "501                   Advil 2 pill packets  2021-11-01       card\n",
       "502  Tylenol Extra Strength 2 pill packets  2021-11-01       card\n",
       "503  Tylenol Extra Strength 2 pill packets  2021-11-01       card\n",
       "504  Tylenol Extra Strength 2 pill packets  2021-12-01       card\n",
       "\n",
       "[505 rows x 3 columns]"
      ]
     },
     "execution_count": 64,
     "metadata": {},
     "output_type": "execute_result"
    }
   ],
   "source": [
    "con = PostgresConnection().getConnection()\n",
    "cur = con.cursor()\n",
    "statement1='''SELECT i.item_name,tim.date,tt.trans_type \n",
    "                    FROM stars.fact_table ft \n",
    "                    JOIN stars.item_dim i ON i.item_key=ft.item_key \n",
    "                    JOIN stars.trans_dim tt ON tt.payment_key=ft.payment_key \n",
    "                    JOIN stars.time_dim tim ON tim.time_key=ft.time_key\n",
    "                    WHERE tim.date>(CURRENT_DATE::date - '\n",
    "                    '''\n",
    "statement2=str(x)+\" days'::interval) AND tt.trans_type='card'\"\n",
    "\n",
    "stmt_card = statement1+statement2\n",
    "cur.execute(stmt_card)\n",
    "records_card = cur.fetchall()\n",
    "card = pd.DataFrame(list(records_card), columns=['item_name','date', 'trans_type'])\n",
    "card"
   ]
  },
  {
   "cell_type": "code",
   "execution_count": 65,
   "id": "fed469d6",
   "metadata": {},
   "outputs": [
    {
     "data": {
      "text/plain": [
       "item_name     object\n",
       "date          object\n",
       "trans_type    object\n",
       "dtype: object"
      ]
     },
     "execution_count": 65,
     "metadata": {},
     "output_type": "execute_result"
    }
   ],
   "source": [
    "card.dtypes"
   ]
  },
  {
   "cell_type": "code",
   "execution_count": 67,
   "id": "a5ba90b6",
   "metadata": {},
   "outputs": [
    {
     "data": {
      "text/html": [
       "<div>\n",
       "<style scoped>\n",
       "    .dataframe tbody tr th:only-of-type {\n",
       "        vertical-align: middle;\n",
       "    }\n",
       "\n",
       "    .dataframe tbody tr th {\n",
       "        vertical-align: top;\n",
       "    }\n",
       "\n",
       "    .dataframe thead th {\n",
       "        text-align: right;\n",
       "    }\n",
       "</style>\n",
       "<table border=\"1\" class=\"dataframe\">\n",
       "  <thead>\n",
       "    <tr style=\"text-align: right;\">\n",
       "      <th></th>\n",
       "      <th>item_name</th>\n",
       "      <th>date</th>\n",
       "      <th>trans_type</th>\n",
       "    </tr>\n",
       "  </thead>\n",
       "  <tbody>\n",
       "    <tr>\n",
       "      <th>0</th>\n",
       "      <td>Cherry Coke 12oz</td>\n",
       "      <td>2021-11-01</td>\n",
       "      <td>mobile</td>\n",
       "    </tr>\n",
       "    <tr>\n",
       "      <th>1</th>\n",
       "      <td>Cherry Coke Zero 12 pack</td>\n",
       "      <td>2021-12-01</td>\n",
       "      <td>mobile</td>\n",
       "    </tr>\n",
       "    <tr>\n",
       "      <th>2</th>\n",
       "      <td>Coke Classic 12 oz cans</td>\n",
       "      <td>2021-12-01</td>\n",
       "      <td>mobile</td>\n",
       "    </tr>\n",
       "    <tr>\n",
       "      <th>3</th>\n",
       "      <td>Diet Mountain Dew 12oz cans</td>\n",
       "      <td>2021-12-01</td>\n",
       "      <td>mobile</td>\n",
       "    </tr>\n",
       "    <tr>\n",
       "      <th>4</th>\n",
       "      <td>Sprite Zero - 12 pack</td>\n",
       "      <td>2021-12-01</td>\n",
       "      <td>mobile</td>\n",
       "    </tr>\n",
       "    <tr>\n",
       "      <th>5</th>\n",
       "      <td>La Croix Sparkling Grapefruit 12 oz</td>\n",
       "      <td>2021-11-01</td>\n",
       "      <td>mobile</td>\n",
       "    </tr>\n",
       "    <tr>\n",
       "      <th>6</th>\n",
       "      <td>La Croix Sparkling Grapefruit 12 oz</td>\n",
       "      <td>2021-12-01</td>\n",
       "      <td>mobile</td>\n",
       "    </tr>\n",
       "    <tr>\n",
       "      <th>7</th>\n",
       "      <td>La Croix Sparkling Grapefruit 12 oz</td>\n",
       "      <td>2021-12-01</td>\n",
       "      <td>mobile</td>\n",
       "    </tr>\n",
       "    <tr>\n",
       "      <th>8</th>\n",
       "      <td>La Croix Sparkling Lemon 12 oz</td>\n",
       "      <td>2021-11-01</td>\n",
       "      <td>mobile</td>\n",
       "    </tr>\n",
       "    <tr>\n",
       "      <th>9</th>\n",
       "      <td>Perrier Sparkling Water plastic 16.9oz</td>\n",
       "      <td>2021-12-01</td>\n",
       "      <td>mobile</td>\n",
       "    </tr>\n",
       "    <tr>\n",
       "      <th>10</th>\n",
       "      <td>San Pelligrino 16oz Plastic</td>\n",
       "      <td>2021-11-01</td>\n",
       "      <td>mobile</td>\n",
       "    </tr>\n",
       "    <tr>\n",
       "      <th>11</th>\n",
       "      <td>Waterloo Sparkling Watermelon 12oz</td>\n",
       "      <td>2021-11-01</td>\n",
       "      <td>mobile</td>\n",
       "    </tr>\n",
       "    <tr>\n",
       "      <th>12</th>\n",
       "      <td>Monster Lo-Carb 16 oz</td>\n",
       "      <td>2021-11-01</td>\n",
       "      <td>mobile</td>\n",
       "    </tr>\n",
       "    <tr>\n",
       "      <th>13</th>\n",
       "      <td>Monster Lo-Carb 16 oz</td>\n",
       "      <td>2021-11-01</td>\n",
       "      <td>mobile</td>\n",
       "    </tr>\n",
       "    <tr>\n",
       "      <th>14</th>\n",
       "      <td>Monster Zero Ultra 16 oz</td>\n",
       "      <td>2021-12-01</td>\n",
       "      <td>mobile</td>\n",
       "    </tr>\n",
       "    <tr>\n",
       "      <th>15</th>\n",
       "      <td>Red Bull 16oz</td>\n",
       "      <td>2021-12-01</td>\n",
       "      <td>mobile</td>\n",
       "    </tr>\n",
       "    <tr>\n",
       "      <th>16</th>\n",
       "      <td>Gatorade Frost Variety 20 oz</td>\n",
       "      <td>2021-11-01</td>\n",
       "      <td>mobile</td>\n",
       "    </tr>\n",
       "    <tr>\n",
       "      <th>17</th>\n",
       "      <td>Gatorade Liberty Variety 20 oz</td>\n",
       "      <td>2021-12-01</td>\n",
       "      <td>mobile</td>\n",
       "    </tr>\n",
       "    <tr>\n",
       "      <th>18</th>\n",
       "      <td>Gatorade Liberty Variety 20 oz</td>\n",
       "      <td>2021-12-01</td>\n",
       "      <td>mobile</td>\n",
       "    </tr>\n",
       "    <tr>\n",
       "      <th>19</th>\n",
       "      <td>Gatorade Liberty Variety 12 oz</td>\n",
       "      <td>2021-11-01</td>\n",
       "      <td>mobile</td>\n",
       "    </tr>\n",
       "    <tr>\n",
       "      <th>20</th>\n",
       "      <td>Gatorade X-Factor Fierce Variety 20 oz</td>\n",
       "      <td>2021-12-01</td>\n",
       "      <td>mobile</td>\n",
       "    </tr>\n",
       "    <tr>\n",
       "      <th>21</th>\n",
       "      <td>Pure Leaf Unsweetened Tea 18.5oz</td>\n",
       "      <td>2021-11-01</td>\n",
       "      <td>mobile</td>\n",
       "    </tr>\n",
       "    <tr>\n",
       "      <th>22</th>\n",
       "      <td>Tropicana Apple Juice 10 oz 100%</td>\n",
       "      <td>2021-12-01</td>\n",
       "      <td>mobile</td>\n",
       "    </tr>\n",
       "    <tr>\n",
       "      <th>23</th>\n",
       "      <td>Ozarka Spring Water 20 oz</td>\n",
       "      <td>2021-11-01</td>\n",
       "      <td>mobile</td>\n",
       "    </tr>\n",
       "    <tr>\n",
       "      <th>24</th>\n",
       "      <td>K Cups Dunkin Donuts Medium Roast</td>\n",
       "      <td>2021-11-01</td>\n",
       "      <td>mobile</td>\n",
       "    </tr>\n",
       "    <tr>\n",
       "      <th>25</th>\n",
       "      <td>K Cups Original Donut Shop Med. Roast</td>\n",
       "      <td>2021-11-01</td>\n",
       "      <td>mobile</td>\n",
       "    </tr>\n",
       "    <tr>\n",
       "      <th>26</th>\n",
       "      <td>K Cups Original Donut Shop Med. Roast</td>\n",
       "      <td>2021-11-01</td>\n",
       "      <td>mobile</td>\n",
       "    </tr>\n",
       "    <tr>\n",
       "      <th>27</th>\n",
       "      <td>Foam Coffee Cups - 12 ounce</td>\n",
       "      <td>2021-11-01</td>\n",
       "      <td>mobile</td>\n",
       "    </tr>\n",
       "    <tr>\n",
       "      <th>28</th>\n",
       "      <td>Hefty Supreme Foam Plates 9 inch</td>\n",
       "      <td>2021-12-01</td>\n",
       "      <td>mobile</td>\n",
       "    </tr>\n",
       "    <tr>\n",
       "      <th>29</th>\n",
       "      <td>Frito Classic Mix Variety</td>\n",
       "      <td>2021-12-01</td>\n",
       "      <td>mobile</td>\n",
       "    </tr>\n",
       "    <tr>\n",
       "      <th>30</th>\n",
       "      <td>Gardettos Snacks</td>\n",
       "      <td>2021-12-01</td>\n",
       "      <td>mobile</td>\n",
       "    </tr>\n",
       "    <tr>\n",
       "      <th>31</th>\n",
       "      <td>Pop Chips Variety bags</td>\n",
       "      <td>2021-12-01</td>\n",
       "      <td>mobile</td>\n",
       "    </tr>\n",
       "    <tr>\n",
       "      <th>32</th>\n",
       "      <td>Snyders Pretzels Minis</td>\n",
       "      <td>2021-11-01</td>\n",
       "      <td>mobile</td>\n",
       "    </tr>\n",
       "    <tr>\n",
       "      <th>33</th>\n",
       "      <td>Snyders Pretzels Minis</td>\n",
       "      <td>2021-12-01</td>\n",
       "      <td>mobile</td>\n",
       "    </tr>\n",
       "    <tr>\n",
       "      <th>34</th>\n",
       "      <td>Sun Chips Variety Pack</td>\n",
       "      <td>2021-12-01</td>\n",
       "      <td>mobile</td>\n",
       "    </tr>\n",
       "    <tr>\n",
       "      <th>35</th>\n",
       "      <td>M&amp;M Variety Full Size Bags</td>\n",
       "      <td>2021-11-01</td>\n",
       "      <td>mobile</td>\n",
       "    </tr>\n",
       "    <tr>\n",
       "      <th>36</th>\n",
       "      <td>Belvita Hard Biscuits Blueberry</td>\n",
       "      <td>2021-12-01</td>\n",
       "      <td>mobile</td>\n",
       "    </tr>\n",
       "    <tr>\n",
       "      <th>37</th>\n",
       "      <td>Kellogg's Fruity Snacks</td>\n",
       "      <td>2021-12-01</td>\n",
       "      <td>mobile</td>\n",
       "    </tr>\n",
       "    <tr>\n",
       "      <th>38</th>\n",
       "      <td>Quaker Instant Oatmeal Maple Brn Sugar</td>\n",
       "      <td>2021-11-01</td>\n",
       "      <td>mobile</td>\n",
       "    </tr>\n",
       "    <tr>\n",
       "      <th>39</th>\n",
       "      <td>Sargento String Cheese 0.75oz</td>\n",
       "      <td>2021-11-01</td>\n",
       "      <td>mobile</td>\n",
       "    </tr>\n",
       "    <tr>\n",
       "      <th>40</th>\n",
       "      <td>Wonderful Pistachios (in shell)</td>\n",
       "      <td>2021-11-01</td>\n",
       "      <td>mobile</td>\n",
       "    </tr>\n",
       "    <tr>\n",
       "      <th>41</th>\n",
       "      <td>Cheese and Peanut Butter Crackers</td>\n",
       "      <td>2021-11-01</td>\n",
       "      <td>mobile</td>\n",
       "    </tr>\n",
       "    <tr>\n",
       "      <th>42</th>\n",
       "      <td>Kellogg's Cereals Assortment Pack</td>\n",
       "      <td>2021-12-01</td>\n",
       "      <td>mobile</td>\n",
       "    </tr>\n",
       "    <tr>\n",
       "      <th>43</th>\n",
       "      <td>Nabisco Cookie Variety Pk Oreo/ChocChip</td>\n",
       "      <td>2021-12-01</td>\n",
       "      <td>mobile</td>\n",
       "    </tr>\n",
       "    <tr>\n",
       "      <th>44</th>\n",
       "      <td>Pop-Tarts, Brown Sugar Cinnamon</td>\n",
       "      <td>2021-12-01</td>\n",
       "      <td>mobile</td>\n",
       "    </tr>\n",
       "    <tr>\n",
       "      <th>45</th>\n",
       "      <td>Spunkmeyer Muffin Variety</td>\n",
       "      <td>2021-12-01</td>\n",
       "      <td>mobile</td>\n",
       "    </tr>\n",
       "    <tr>\n",
       "      <th>46</th>\n",
       "      <td>Trident Original Flavor 18/pk</td>\n",
       "      <td>2021-11-01</td>\n",
       "      <td>mobile</td>\n",
       "    </tr>\n",
       "    <tr>\n",
       "      <th>47</th>\n",
       "      <td>Wint O Green LifeSavers Sugar Free</td>\n",
       "      <td>2021-11-01</td>\n",
       "      <td>mobile</td>\n",
       "    </tr>\n",
       "    <tr>\n",
       "      <th>48</th>\n",
       "      <td>ForceFlex Trash Bags 13 Gal</td>\n",
       "      <td>2021-12-01</td>\n",
       "      <td>mobile</td>\n",
       "    </tr>\n",
       "    <tr>\n",
       "      <th>49</th>\n",
       "      <td>Hand Sanitizer Refill Pump</td>\n",
       "      <td>2021-11-01</td>\n",
       "      <td>mobile</td>\n",
       "    </tr>\n",
       "    <tr>\n",
       "      <th>50</th>\n",
       "      <td>Kleenex Tissue Square Boxes 75/box</td>\n",
       "      <td>2021-12-01</td>\n",
       "      <td>mobile</td>\n",
       "    </tr>\n",
       "    <tr>\n",
       "      <th>51</th>\n",
       "      <td>Kleenex Tissue Square Boxes 75/box</td>\n",
       "      <td>2021-11-01</td>\n",
       "      <td>mobile</td>\n",
       "    </tr>\n",
       "    <tr>\n",
       "      <th>52</th>\n",
       "      <td>Tylenol Extra Strength 2 pill packets</td>\n",
       "      <td>2021-12-01</td>\n",
       "      <td>mobile</td>\n",
       "    </tr>\n",
       "  </tbody>\n",
       "</table>\n",
       "</div>"
      ],
      "text/plain": [
       "                                  item_name        date trans_type\n",
       "0                          Cherry Coke 12oz  2021-11-01     mobile\n",
       "1                  Cherry Coke Zero 12 pack  2021-12-01     mobile\n",
       "2                   Coke Classic 12 oz cans  2021-12-01     mobile\n",
       "3               Diet Mountain Dew 12oz cans  2021-12-01     mobile\n",
       "4                     Sprite Zero - 12 pack  2021-12-01     mobile\n",
       "5       La Croix Sparkling Grapefruit 12 oz  2021-11-01     mobile\n",
       "6       La Croix Sparkling Grapefruit 12 oz  2021-12-01     mobile\n",
       "7       La Croix Sparkling Grapefruit 12 oz  2021-12-01     mobile\n",
       "8            La Croix Sparkling Lemon 12 oz  2021-11-01     mobile\n",
       "9    Perrier Sparkling Water plastic 16.9oz  2021-12-01     mobile\n",
       "10             San Pelligrino 16oz Plastic   2021-11-01     mobile\n",
       "11       Waterloo Sparkling Watermelon 12oz  2021-11-01     mobile\n",
       "12                    Monster Lo-Carb 16 oz  2021-11-01     mobile\n",
       "13                    Monster Lo-Carb 16 oz  2021-11-01     mobile\n",
       "14                 Monster Zero Ultra 16 oz  2021-12-01     mobile\n",
       "15                            Red Bull 16oz  2021-12-01     mobile\n",
       "16            Gatorade Frost Variety 20 oz   2021-11-01     mobile\n",
       "17          Gatorade Liberty Variety 20 oz   2021-12-01     mobile\n",
       "18          Gatorade Liberty Variety 20 oz   2021-12-01     mobile\n",
       "19           Gatorade Liberty Variety 12 oz  2021-11-01     mobile\n",
       "20   Gatorade X-Factor Fierce Variety 20 oz  2021-12-01     mobile\n",
       "21         Pure Leaf Unsweetened Tea 18.5oz  2021-11-01     mobile\n",
       "22        Tropicana Apple Juice 10 oz 100%   2021-12-01     mobile\n",
       "23                Ozarka Spring Water 20 oz  2021-11-01     mobile\n",
       "24        K Cups Dunkin Donuts Medium Roast  2021-11-01     mobile\n",
       "25    K Cups Original Donut Shop Med. Roast  2021-11-01     mobile\n",
       "26    K Cups Original Donut Shop Med. Roast  2021-11-01     mobile\n",
       "27              Foam Coffee Cups - 12 ounce  2021-11-01     mobile\n",
       "28         Hefty Supreme Foam Plates 9 inch  2021-12-01     mobile\n",
       "29                Frito Classic Mix Variety  2021-12-01     mobile\n",
       "30                         Gardettos Snacks  2021-12-01     mobile\n",
       "31                   Pop Chips Variety bags  2021-12-01     mobile\n",
       "32                   Snyders Pretzels Minis  2021-11-01     mobile\n",
       "33                   Snyders Pretzels Minis  2021-12-01     mobile\n",
       "34                   Sun Chips Variety Pack  2021-12-01     mobile\n",
       "35               M&M Variety Full Size Bags  2021-11-01     mobile\n",
       "36          Belvita Hard Biscuits Blueberry  2021-12-01     mobile\n",
       "37                  Kellogg's Fruity Snacks  2021-12-01     mobile\n",
       "38   Quaker Instant Oatmeal Maple Brn Sugar  2021-11-01     mobile\n",
       "39            Sargento String Cheese 0.75oz  2021-11-01     mobile\n",
       "40          Wonderful Pistachios (in shell)  2021-11-01     mobile\n",
       "41        Cheese and Peanut Butter Crackers  2021-11-01     mobile\n",
       "42       Kellogg's Cereals Assortment Pack   2021-12-01     mobile\n",
       "43  Nabisco Cookie Variety Pk Oreo/ChocChip  2021-12-01     mobile\n",
       "44         Pop-Tarts, Brown Sugar Cinnamon   2021-12-01     mobile\n",
       "45                Spunkmeyer Muffin Variety  2021-12-01     mobile\n",
       "46            Trident Original Flavor 18/pk  2021-11-01     mobile\n",
       "47       Wint O Green LifeSavers Sugar Free  2021-11-01     mobile\n",
       "48             ForceFlex Trash Bags 13 Gal   2021-12-01     mobile\n",
       "49               Hand Sanitizer Refill Pump  2021-11-01     mobile\n",
       "50       Kleenex Tissue Square Boxes 75/box  2021-12-01     mobile\n",
       "51       Kleenex Tissue Square Boxes 75/box  2021-11-01     mobile\n",
       "52    Tylenol Extra Strength 2 pill packets  2021-12-01     mobile"
      ]
     },
     "execution_count": 67,
     "metadata": {},
     "output_type": "execute_result"
    }
   ],
   "source": [
    "cur = con.cursor()\n",
    "statement1='''SELECT i.item_name,tim.date,tt.trans_type \n",
    "                    FROM stars.fact_table ft \n",
    "                    JOIN stars.item_dim i ON i.item_key=ft.item_key \n",
    "                    JOIN stars.trans_dim tt ON tt.payment_key=ft.payment_key \n",
    "                    JOIN stars.time_dim tim ON tim.time_key=ft.time_key\n",
    "                    WHERE tim.date>(CURRENT_DATE::date - '\n",
    "                    '''\n",
    "statement2=str(x)+\" days'::interval) AND tt.trans_type='mobile' \"\n",
    "\n",
    "stmt_m = statement1+statement2\n",
    "cur.execute(stmt_m)\n",
    "q_m = cur.fetchall()\n",
    "m = pd.DataFrame(list(q_m), columns=['item_name','date', 'trans_type'])\n",
    "m"
   ]
  },
  {
   "cell_type": "code",
   "execution_count": 69,
   "id": "201f8c8e",
   "metadata": {},
   "outputs": [
    {
     "data": {
      "text/html": [
       "<div>\n",
       "<style scoped>\n",
       "    .dataframe tbody tr th:only-of-type {\n",
       "        vertical-align: middle;\n",
       "    }\n",
       "\n",
       "    .dataframe tbody tr th {\n",
       "        vertical-align: top;\n",
       "    }\n",
       "\n",
       "    .dataframe thead th {\n",
       "        text-align: right;\n",
       "    }\n",
       "</style>\n",
       "<table border=\"1\" class=\"dataframe\">\n",
       "  <thead>\n",
       "    <tr style=\"text-align: right;\">\n",
       "      <th></th>\n",
       "      <th>trans_type</th>\n",
       "      <th>count</th>\n",
       "    </tr>\n",
       "  </thead>\n",
       "  <tbody>\n",
       "    <tr>\n",
       "      <th>0</th>\n",
       "      <td>None</td>\n",
       "      <td>558</td>\n",
       "    </tr>\n",
       "    <tr>\n",
       "      <th>1</th>\n",
       "      <td>mobile</td>\n",
       "      <td>53</td>\n",
       "    </tr>\n",
       "    <tr>\n",
       "      <th>2</th>\n",
       "      <td>card</td>\n",
       "      <td>505</td>\n",
       "    </tr>\n",
       "  </tbody>\n",
       "</table>\n",
       "</div>"
      ],
      "text/plain": [
       "  trans_type  count\n",
       "0       None    558\n",
       "1     mobile     53\n",
       "2       card    505"
      ]
     },
     "execution_count": 69,
     "metadata": {},
     "output_type": "execute_result"
    }
   ],
   "source": [
    "cur = con.cursor()\n",
    "statement1='''SELECT tt.trans_type,COUNT(*)\n",
    "                    FROM stars.fact_table ft \n",
    "                    JOIN stars.item_dim i ON i.item_key=ft.item_key \n",
    "                    JOIN stars.trans_dim tt ON tt.payment_key=ft.payment_key \n",
    "                    JOIN stars.time_dim tim ON tim.time_key=ft.time_key\n",
    "                    WHERE tim.date>(CURRENT_DATE::date - '\n",
    "                    '''\n",
    "statement2=str(x)+\" days'::interval) AND (tt.trans_type='card' OR tt.trans_type='mobile') GROUP BY ROLLUP(trans_type) \"\n",
    "\n",
    "select_stmt_mobcard = statement1+statement2\n",
    "cur.execute(select_stmt_mobcard)\n",
    "records_mobcard = cur.fetchall()\n",
    "mobilecard = pd.DataFrame(list(records_mobcard), columns=['trans_type','count'])\n",
    "mobilecard"
   ]
  },
  {
   "cell_type": "code",
   "execution_count": 70,
   "id": "71c8c403",
   "metadata": {},
   "outputs": [
    {
     "data": {
      "text/plain": [
       "trans_type    object\n",
       "count          int64\n",
       "dtype: object"
      ]
     },
     "execution_count": 70,
     "metadata": {},
     "output_type": "execute_result"
    }
   ],
   "source": [
    "mobilecard.dtypes"
   ]
  },
  {
   "cell_type": "code",
   "execution_count": 71,
   "id": "f3c38620",
   "metadata": {},
   "outputs": [
    {
     "data": {
      "text/plain": [
       "<AxesSubplot:ylabel='count'>"
      ]
     },
     "execution_count": 71,
     "metadata": {},
     "output_type": "execute_result"
    },
    {
     "data": {
      "image/png": "[encoded data removed]",
      "text/plain": [
       "<Figure size 360x360 with 1 Axes>"
      ]
     },
     "metadata": {},
     "output_type": "display_data"
    }
   ],
   "source": [
    "myexplode = [0.1, 0.2]\n",
    "mobilecard = mobilecard.set_index(['trans_type'])\n",
    "l=mobilecard[1:3]\n",
    "l.plot.pie(y='count',figsize=(5,5),shadow='True',explode=myexplode)\n"
   ]
  },
  {
   "cell_type": "markdown",
   "id": "c43b33c6",
   "metadata": {},
   "source": [
    "# Q8: What season(quarter) is the worst for each product item? "
   ]
  },
  {
   "cell_type": "code",
   "execution_count": 72,
   "id": "d8a455e5",
   "metadata": {},
   "outputs": [
    {
     "name": "stdout",
     "output_type": "stream",
     "text": [
      "Connection to DB established!\n"
     ]
    },
    {
     "data": {
      "text/html": [
       "<div>\n",
       "<style scoped>\n",
       "    .dataframe tbody tr th:only-of-type {\n",
       "        vertical-align: middle;\n",
       "    }\n",
       "\n",
       "    .dataframe tbody tr th {\n",
       "        vertical-align: top;\n",
       "    }\n",
       "\n",
       "    .dataframe thead th {\n",
       "        text-align: right;\n",
       "    }\n",
       "</style>\n",
       "<table border=\"1\" class=\"dataframe\">\n",
       "  <thead>\n",
       "    <tr style=\"text-align: right;\">\n",
       "      <th></th>\n",
       "      <th>item_name</th>\n",
       "      <th>quarter</th>\n",
       "      <th>sum</th>\n",
       "    </tr>\n",
       "  </thead>\n",
       "  <tbody>\n",
       "    <tr>\n",
       "      <th>0</th>\n",
       "      <td>100% Juice Box Variety 6.75 oz</td>\n",
       "      <td>Q1</td>\n",
       "      <td>5698.0</td>\n",
       "    </tr>\n",
       "    <tr>\n",
       "      <th>5</th>\n",
       "      <td>A&amp;W Root Beer - 12 oz cans</td>\n",
       "      <td>Q2</td>\n",
       "      <td>5735.0</td>\n",
       "    </tr>\n",
       "    <tr>\n",
       "      <th>10</th>\n",
       "      <td>A&amp;W Root Beer Diet - 12 oz cans</td>\n",
       "      <td>Q4</td>\n",
       "      <td>5589.0</td>\n",
       "    </tr>\n",
       "    <tr>\n",
       "      <th>15</th>\n",
       "      <td>Advil 2 pill packets</td>\n",
       "      <td>Q1</td>\n",
       "      <td>5453.0</td>\n",
       "    </tr>\n",
       "    <tr>\n",
       "      <th>20</th>\n",
       "      <td>All Purpose Cleaner 409 Spray</td>\n",
       "      <td>Q1</td>\n",
       "      <td>5325.0</td>\n",
       "    </tr>\n",
       "    <tr>\n",
       "      <th>...</th>\n",
       "      <td>...</td>\n",
       "      <td>...</td>\n",
       "      <td>...</td>\n",
       "    </tr>\n",
       "    <tr>\n",
       "      <th>1275</th>\n",
       "      <td>Wint O Green LifeSavers Sugar Free</td>\n",
       "      <td>Q1</td>\n",
       "      <td>5323.0</td>\n",
       "    </tr>\n",
       "    <tr>\n",
       "      <th>1280</th>\n",
       "      <td>Wonderful Pistachios (in shell)</td>\n",
       "      <td>Q1</td>\n",
       "      <td>5578.0</td>\n",
       "    </tr>\n",
       "    <tr>\n",
       "      <th>1285</th>\n",
       "      <td>Yoplait Original Yogurt Variety Pack</td>\n",
       "      <td>Q1</td>\n",
       "      <td>5426.0</td>\n",
       "    </tr>\n",
       "    <tr>\n",
       "      <th>1290</th>\n",
       "      <td>Zoo Animal Cookies/Crackers</td>\n",
       "      <td>Q1</td>\n",
       "      <td>5462.0</td>\n",
       "    </tr>\n",
       "    <tr>\n",
       "      <th>1295</th>\n",
       "      <td>None</td>\n",
       "      <td>Q1</td>\n",
       "      <td>1483656.0</td>\n",
       "    </tr>\n",
       "  </tbody>\n",
       "</table>\n",
       "<p>260 rows × 3 columns</p>\n",
       "</div>"
      ],
      "text/plain": [
       "                                  item_name quarter        sum\n",
       "0           100% Juice Box Variety 6.75 oz       Q1     5698.0\n",
       "5                A&W Root Beer - 12 oz cans      Q2     5735.0\n",
       "10          A&W Root Beer Diet - 12 oz cans      Q4     5589.0\n",
       "15                     Advil 2 pill packets      Q1     5453.0\n",
       "20            All Purpose Cleaner 409 Spray      Q1     5325.0\n",
       "...                                     ...     ...        ...\n",
       "1275     Wint O Green LifeSavers Sugar Free      Q1     5323.0\n",
       "1280        Wonderful Pistachios (in shell)      Q1     5578.0\n",
       "1285  Yoplait Original Yogurt Variety Pack       Q1     5426.0\n",
       "1290            Zoo Animal Cookies/Crackers      Q1     5462.0\n",
       "1295                                   None      Q1  1483656.0\n",
       "\n",
       "[260 rows x 3 columns]"
      ]
     },
     "execution_count": 72,
     "metadata": {},
     "output_type": "execute_result"
    }
   ],
   "source": [
    "con = PostgresConnection().getConnection()\n",
    "insert_stmt = \"\"\"SELECT item_dim.item_name, quarter, SUM(quantity)\n",
    "FROM stars.fact_table\n",
    "JOIN stars.item_dim ON item_dim.item_key = fact_table.item_key\n",
    "JOIN stars.time_dim ON time_dim.time_key = fact_table.time_key\n",
    "GROUP BY CUBE(item_name, time_dim.quarter)\n",
    "ORDER BY item_name, SUM(quantity)\"\"\"\n",
    "cur = con.cursor()\n",
    "# psycopg2.extras.execute_batch(cur, insert_stmt, fact_data.values)\n",
    "worst_season = pd.read_sql_query(insert_stmt, con)\n",
    "con.commit()\n",
    "cur.close()\n",
    "worst_season.groupby('item_name').head(1)"
   ]
  },
  {
   "cell_type": "code",
   "execution_count": 73,
   "id": "2bad5b61",
   "metadata": {},
   "outputs": [
    {
     "data": {
      "text/html": [
       "<div>\n",
       "<style scoped>\n",
       "    .dataframe tbody tr th:only-of-type {\n",
       "        vertical-align: middle;\n",
       "    }\n",
       "\n",
       "    .dataframe tbody tr th {\n",
       "        vertical-align: top;\n",
       "    }\n",
       "\n",
       "    .dataframe thead th {\n",
       "        text-align: right;\n",
       "    }\n",
       "</style>\n",
       "<table border=\"1\" class=\"dataframe\">\n",
       "  <thead>\n",
       "    <tr style=\"text-align: right;\">\n",
       "      <th></th>\n",
       "      <th>item_name</th>\n",
       "      <th>quarter</th>\n",
       "      <th>sum</th>\n",
       "    </tr>\n",
       "  </thead>\n",
       "  <tbody>\n",
       "    <tr>\n",
       "      <th>0</th>\n",
       "      <td>100% Juice Box Variety 6.75 oz</td>\n",
       "      <td>Q1</td>\n",
       "      <td>5698.0</td>\n",
       "    </tr>\n",
       "    <tr>\n",
       "      <th>1</th>\n",
       "      <td>100% Juice Box Variety 6.75 oz</td>\n",
       "      <td>Q4</td>\n",
       "      <td>5806.0</td>\n",
       "    </tr>\n",
       "    <tr>\n",
       "      <th>2</th>\n",
       "      <td>100% Juice Box Variety 6.75 oz</td>\n",
       "      <td>Q2</td>\n",
       "      <td>5876.0</td>\n",
       "    </tr>\n",
       "    <tr>\n",
       "      <th>3</th>\n",
       "      <td>100% Juice Box Variety 6.75 oz</td>\n",
       "      <td>Q3</td>\n",
       "      <td>6045.0</td>\n",
       "    </tr>\n",
       "    <tr>\n",
       "      <th>5</th>\n",
       "      <td>A&amp;W Root Beer - 12 oz cans</td>\n",
       "      <td>Q2</td>\n",
       "      <td>5735.0</td>\n",
       "    </tr>\n",
       "    <tr>\n",
       "      <th>...</th>\n",
       "      <td>...</td>\n",
       "      <td>...</td>\n",
       "      <td>...</td>\n",
       "    </tr>\n",
       "    <tr>\n",
       "      <th>1288</th>\n",
       "      <td>Yoplait Original Yogurt Variety Pack</td>\n",
       "      <td>Q3</td>\n",
       "      <td>5761.0</td>\n",
       "    </tr>\n",
       "    <tr>\n",
       "      <th>1290</th>\n",
       "      <td>Zoo Animal Cookies/Crackers</td>\n",
       "      <td>Q1</td>\n",
       "      <td>5462.0</td>\n",
       "    </tr>\n",
       "    <tr>\n",
       "      <th>1291</th>\n",
       "      <td>Zoo Animal Cookies/Crackers</td>\n",
       "      <td>Q2</td>\n",
       "      <td>5508.0</td>\n",
       "    </tr>\n",
       "    <tr>\n",
       "      <th>1292</th>\n",
       "      <td>Zoo Animal Cookies/Crackers</td>\n",
       "      <td>Q4</td>\n",
       "      <td>5520.0</td>\n",
       "    </tr>\n",
       "    <tr>\n",
       "      <th>1293</th>\n",
       "      <td>Zoo Animal Cookies/Crackers</td>\n",
       "      <td>Q3</td>\n",
       "      <td>5701.0</td>\n",
       "    </tr>\n",
       "  </tbody>\n",
       "</table>\n",
       "<p>1036 rows × 3 columns</p>\n",
       "</div>"
      ],
      "text/plain": [
       "                                  item_name quarter     sum\n",
       "0           100% Juice Box Variety 6.75 oz       Q1  5698.0\n",
       "1           100% Juice Box Variety 6.75 oz       Q4  5806.0\n",
       "2           100% Juice Box Variety 6.75 oz       Q2  5876.0\n",
       "3           100% Juice Box Variety 6.75 oz       Q3  6045.0\n",
       "5                A&W Root Beer - 12 oz cans      Q2  5735.0\n",
       "...                                     ...     ...     ...\n",
       "1288  Yoplait Original Yogurt Variety Pack       Q3  5761.0\n",
       "1290            Zoo Animal Cookies/Crackers      Q1  5462.0\n",
       "1291            Zoo Animal Cookies/Crackers      Q2  5508.0\n",
       "1292            Zoo Animal Cookies/Crackers      Q4  5520.0\n",
       "1293            Zoo Animal Cookies/Crackers      Q3  5701.0\n",
       "\n",
       "[1036 rows x 3 columns]"
      ]
     },
     "execution_count": 73,
     "metadata": {},
     "output_type": "execute_result"
    }
   ],
   "source": [
    "worst_season.dropna()"
   ]
  },
  {
   "cell_type": "code",
   "execution_count": 74,
   "id": "9df1e9c4",
   "metadata": {},
   "outputs": [
    {
     "data": {
      "text/html": [
       "<div>\n",
       "<style scoped>\n",
       "    .dataframe tbody tr th:only-of-type {\n",
       "        vertical-align: middle;\n",
       "    }\n",
       "\n",
       "    .dataframe tbody tr th {\n",
       "        vertical-align: top;\n",
       "    }\n",
       "\n",
       "    .dataframe thead th {\n",
       "        text-align: right;\n",
       "    }\n",
       "</style>\n",
       "<table border=\"1\" class=\"dataframe\">\n",
       "  <thead>\n",
       "    <tr style=\"text-align: right;\">\n",
       "      <th></th>\n",
       "      <th>item_name</th>\n",
       "      <th>quarter</th>\n",
       "      <th>sum</th>\n",
       "    </tr>\n",
       "  </thead>\n",
       "  <tbody>\n",
       "    <tr>\n",
       "      <th>0</th>\n",
       "      <td>100% Juice Box Variety 6.75 oz</td>\n",
       "      <td>Q1</td>\n",
       "      <td>5698.0</td>\n",
       "    </tr>\n",
       "    <tr>\n",
       "      <th>5</th>\n",
       "      <td>A&amp;W Root Beer - 12 oz cans</td>\n",
       "      <td>Q2</td>\n",
       "      <td>5735.0</td>\n",
       "    </tr>\n",
       "    <tr>\n",
       "      <th>10</th>\n",
       "      <td>A&amp;W Root Beer Diet - 12 oz cans</td>\n",
       "      <td>Q4</td>\n",
       "      <td>5589.0</td>\n",
       "    </tr>\n",
       "    <tr>\n",
       "      <th>15</th>\n",
       "      <td>Advil 2 pill packets</td>\n",
       "      <td>Q1</td>\n",
       "      <td>5453.0</td>\n",
       "    </tr>\n",
       "    <tr>\n",
       "      <th>20</th>\n",
       "      <td>All Purpose Cleaner 409 Spray</td>\n",
       "      <td>Q1</td>\n",
       "      <td>5325.0</td>\n",
       "    </tr>\n",
       "    <tr>\n",
       "      <th>...</th>\n",
       "      <td>...</td>\n",
       "      <td>...</td>\n",
       "      <td>...</td>\n",
       "    </tr>\n",
       "    <tr>\n",
       "      <th>1275</th>\n",
       "      <td>Wint O Green LifeSavers Sugar Free</td>\n",
       "      <td>Q1</td>\n",
       "      <td>5323.0</td>\n",
       "    </tr>\n",
       "    <tr>\n",
       "      <th>1280</th>\n",
       "      <td>Wonderful Pistachios (in shell)</td>\n",
       "      <td>Q1</td>\n",
       "      <td>5578.0</td>\n",
       "    </tr>\n",
       "    <tr>\n",
       "      <th>1285</th>\n",
       "      <td>Yoplait Original Yogurt Variety Pack</td>\n",
       "      <td>Q1</td>\n",
       "      <td>5426.0</td>\n",
       "    </tr>\n",
       "    <tr>\n",
       "      <th>1290</th>\n",
       "      <td>Zoo Animal Cookies/Crackers</td>\n",
       "      <td>Q1</td>\n",
       "      <td>5462.0</td>\n",
       "    </tr>\n",
       "    <tr>\n",
       "      <th>1295</th>\n",
       "      <td>None</td>\n",
       "      <td>Q1</td>\n",
       "      <td>1483656.0</td>\n",
       "    </tr>\n",
       "  </tbody>\n",
       "</table>\n",
       "<p>260 rows × 3 columns</p>\n",
       "</div>"
      ],
      "text/plain": [
       "                                  item_name quarter        sum\n",
       "0           100% Juice Box Variety 6.75 oz       Q1     5698.0\n",
       "5                A&W Root Beer - 12 oz cans      Q2     5735.0\n",
       "10          A&W Root Beer Diet - 12 oz cans      Q4     5589.0\n",
       "15                     Advil 2 pill packets      Q1     5453.0\n",
       "20            All Purpose Cleaner 409 Spray      Q1     5325.0\n",
       "...                                     ...     ...        ...\n",
       "1275     Wint O Green LifeSavers Sugar Free      Q1     5323.0\n",
       "1280        Wonderful Pistachios (in shell)      Q1     5578.0\n",
       "1285  Yoplait Original Yogurt Variety Pack       Q1     5426.0\n",
       "1290            Zoo Animal Cookies/Crackers      Q1     5462.0\n",
       "1295                                   None      Q1  1483656.0\n",
       "\n",
       "[260 rows x 3 columns]"
      ]
     },
     "execution_count": 74,
     "metadata": {},
     "output_type": "execute_result"
    }
   ],
   "source": [
    "worst_season.groupby('item_name').head(1)"
   ]
  },
  {
   "cell_type": "code",
   "execution_count": 75,
   "id": "ed8875a7",
   "metadata": {},
   "outputs": [
    {
     "data": {
      "text/html": [
       "<div>\n",
       "<style scoped>\n",
       "    .dataframe tbody tr th:only-of-type {\n",
       "        vertical-align: middle;\n",
       "    }\n",
       "\n",
       "    .dataframe tbody tr th {\n",
       "        vertical-align: top;\n",
       "    }\n",
       "\n",
       "    .dataframe thead th {\n",
       "        text-align: right;\n",
       "    }\n",
       "</style>\n",
       "<table border=\"1\" class=\"dataframe\">\n",
       "  <thead>\n",
       "    <tr style=\"text-align: right;\">\n",
       "      <th></th>\n",
       "      <th>item_name</th>\n",
       "      <th>quarter</th>\n",
       "      <th>sum</th>\n",
       "    </tr>\n",
       "  </thead>\n",
       "  <tbody>\n",
       "    <tr>\n",
       "      <th>0</th>\n",
       "      <td>100% Juice Box Variety 6.75 oz</td>\n",
       "      <td>Q1</td>\n",
       "      <td>5698.0</td>\n",
       "    </tr>\n",
       "    <tr>\n",
       "      <th>1</th>\n",
       "      <td>100% Juice Box Variety 6.75 oz</td>\n",
       "      <td>Q4</td>\n",
       "      <td>5806.0</td>\n",
       "    </tr>\n",
       "    <tr>\n",
       "      <th>2</th>\n",
       "      <td>100% Juice Box Variety 6.75 oz</td>\n",
       "      <td>Q2</td>\n",
       "      <td>5876.0</td>\n",
       "    </tr>\n",
       "    <tr>\n",
       "      <th>5</th>\n",
       "      <td>A&amp;W Root Beer - 12 oz cans</td>\n",
       "      <td>Q2</td>\n",
       "      <td>5735.0</td>\n",
       "    </tr>\n",
       "    <tr>\n",
       "      <th>6</th>\n",
       "      <td>A&amp;W Root Beer - 12 oz cans</td>\n",
       "      <td>Q4</td>\n",
       "      <td>5820.0</td>\n",
       "    </tr>\n",
       "    <tr>\n",
       "      <th>...</th>\n",
       "      <td>...</td>\n",
       "      <td>...</td>\n",
       "      <td>...</td>\n",
       "    </tr>\n",
       "    <tr>\n",
       "      <th>1291</th>\n",
       "      <td>Zoo Animal Cookies/Crackers</td>\n",
       "      <td>Q2</td>\n",
       "      <td>5508.0</td>\n",
       "    </tr>\n",
       "    <tr>\n",
       "      <th>1292</th>\n",
       "      <td>Zoo Animal Cookies/Crackers</td>\n",
       "      <td>Q4</td>\n",
       "      <td>5520.0</td>\n",
       "    </tr>\n",
       "    <tr>\n",
       "      <th>1295</th>\n",
       "      <td>None</td>\n",
       "      <td>Q1</td>\n",
       "      <td>1483656.0</td>\n",
       "    </tr>\n",
       "    <tr>\n",
       "      <th>1296</th>\n",
       "      <td>None</td>\n",
       "      <td>Q2</td>\n",
       "      <td>1489068.0</td>\n",
       "    </tr>\n",
       "    <tr>\n",
       "      <th>1297</th>\n",
       "      <td>None</td>\n",
       "      <td>Q4</td>\n",
       "      <td>1505739.0</td>\n",
       "    </tr>\n",
       "  </tbody>\n",
       "</table>\n",
       "<p>780 rows × 3 columns</p>\n",
       "</div>"
      ],
      "text/plain": [
       "                            item_name quarter        sum\n",
       "0     100% Juice Box Variety 6.75 oz       Q1     5698.0\n",
       "1     100% Juice Box Variety 6.75 oz       Q4     5806.0\n",
       "2     100% Juice Box Variety 6.75 oz       Q2     5876.0\n",
       "5          A&W Root Beer - 12 oz cans      Q2     5735.0\n",
       "6          A&W Root Beer - 12 oz cans      Q4     5820.0\n",
       "...                               ...     ...        ...\n",
       "1291      Zoo Animal Cookies/Crackers      Q2     5508.0\n",
       "1292      Zoo Animal Cookies/Crackers      Q4     5520.0\n",
       "1295                             None      Q1  1483656.0\n",
       "1296                             None      Q2  1489068.0\n",
       "1297                             None      Q4  1505739.0\n",
       "\n",
       "[780 rows x 3 columns]"
      ]
     },
     "execution_count": 75,
     "metadata": {},
     "output_type": "execute_result"
    }
   ],
   "source": [
    "worst_season.groupby('item_name').head(3)"
   ]
  },
  {
   "cell_type": "markdown",
   "id": "9cc32c8d",
   "metadata": {},
   "source": [
    "# Q9: Break down the total sales of items geographically (division-wise).\n",
    "\n",
    "     item1-> division1->total_sales\n",
    "\n",
    "     item1-> division2->total_sales"
   ]
  },
  {
   "cell_type": "code",
   "execution_count": 90,
   "id": "53b0cd90",
   "metadata": {},
   "outputs": [
    {
     "data": {
      "text/html": [
       "<div>\n",
       "<style scoped>\n",
       "    .dataframe tbody tr th:only-of-type {\n",
       "        vertical-align: middle;\n",
       "    }\n",
       "\n",
       "    .dataframe tbody tr th {\n",
       "        vertical-align: top;\n",
       "    }\n",
       "\n",
       "    .dataframe thead th {\n",
       "        text-align: right;\n",
       "    }\n",
       "</style>\n",
       "<table border=\"1\" class=\"dataframe\">\n",
       "  <thead>\n",
       "    <tr style=\"text-align: right;\">\n",
       "      <th></th>\n",
       "      <th>Item</th>\n",
       "      <th>Division</th>\n",
       "      <th>Sales</th>\n",
       "    </tr>\n",
       "  </thead>\n",
       "  <tbody>\n",
       "    <tr>\n",
       "      <th>0</th>\n",
       "      <td>100% Juice Box Variety 6.75 oz</td>\n",
       "      <td>BARISAL                                       ...</td>\n",
       "      <td>23790.0</td>\n",
       "    </tr>\n",
       "    <tr>\n",
       "      <th>1</th>\n",
       "      <td>100% Juice Box Variety 6.75 oz</td>\n",
       "      <td>CHITTAGONG                                    ...</td>\n",
       "      <td>64950.0</td>\n",
       "    </tr>\n",
       "    <tr>\n",
       "      <th>2</th>\n",
       "      <td>100% Juice Box Variety 6.75 oz</td>\n",
       "      <td>DHAKA                                         ...</td>\n",
       "      <td>141195.0</td>\n",
       "    </tr>\n",
       "    <tr>\n",
       "      <th>3</th>\n",
       "      <td>100% Juice Box Variety 6.75 oz</td>\n",
       "      <td>KHULNA                                        ...</td>\n",
       "      <td>37755.0</td>\n",
       "    </tr>\n",
       "    <tr>\n",
       "      <th>4</th>\n",
       "      <td>100% Juice Box Variety 6.75 oz</td>\n",
       "      <td>RAJSHAHI                                      ...</td>\n",
       "      <td>38730.0</td>\n",
       "    </tr>\n",
       "    <tr>\n",
       "      <th>5</th>\n",
       "      <td>100% Juice Box Variety 6.75 oz</td>\n",
       "      <td>RANGPUR                                       ...</td>\n",
       "      <td>26685.0</td>\n",
       "    </tr>\n",
       "    <tr>\n",
       "      <th>6</th>\n",
       "      <td>100% Juice Box Variety 6.75 oz</td>\n",
       "      <td>SYLHET                                        ...</td>\n",
       "      <td>18270.0</td>\n",
       "    </tr>\n",
       "    <tr>\n",
       "      <th>8</th>\n",
       "      <td>A&amp;W Root Beer - 12 oz cans</td>\n",
       "      <td>BARISAL                                       ...</td>\n",
       "      <td>19101.5</td>\n",
       "    </tr>\n",
       "    <tr>\n",
       "      <th>9</th>\n",
       "      <td>A&amp;W Root Beer - 12 oz cans</td>\n",
       "      <td>CHITTAGONG                                    ...</td>\n",
       "      <td>52060.5</td>\n",
       "    </tr>\n",
       "    <tr>\n",
       "      <th>10</th>\n",
       "      <td>A&amp;W Root Beer - 12 oz cans</td>\n",
       "      <td>DHAKA                                         ...</td>\n",
       "      <td>107479.0</td>\n",
       "    </tr>\n",
       "    <tr>\n",
       "      <th>11</th>\n",
       "      <td>A&amp;W Root Beer - 12 oz cans</td>\n",
       "      <td>KHULNA                                        ...</td>\n",
       "      <td>28382.0</td>\n",
       "    </tr>\n",
       "    <tr>\n",
       "      <th>12</th>\n",
       "      <td>A&amp;W Root Beer - 12 oz cans</td>\n",
       "      <td>RAJSHAHI                                      ...</td>\n",
       "      <td>27795.5</td>\n",
       "    </tr>\n",
       "    <tr>\n",
       "      <th>13</th>\n",
       "      <td>A&amp;W Root Beer - 12 oz cans</td>\n",
       "      <td>RANGPUR                                       ...</td>\n",
       "      <td>21597.0</td>\n",
       "    </tr>\n",
       "    <tr>\n",
       "      <th>14</th>\n",
       "      <td>A&amp;W Root Beer - 12 oz cans</td>\n",
       "      <td>SYLHET                                        ...</td>\n",
       "      <td>15249.0</td>\n",
       "    </tr>\n",
       "    <tr>\n",
       "      <th>16</th>\n",
       "      <td>A&amp;W Root Beer Diet - 12 oz cans</td>\n",
       "      <td>BARISAL                                       ...</td>\n",
       "      <td>10118.25</td>\n",
       "    </tr>\n",
       "    <tr>\n",
       "      <th>17</th>\n",
       "      <td>A&amp;W Root Beer Diet - 12 oz cans</td>\n",
       "      <td>CHITTAGONG                                    ...</td>\n",
       "      <td>29592.00</td>\n",
       "    </tr>\n",
       "    <tr>\n",
       "      <th>18</th>\n",
       "      <td>A&amp;W Root Beer Diet - 12 oz cans</td>\n",
       "      <td>DHAKA                                         ...</td>\n",
       "      <td>61290.00</td>\n",
       "    </tr>\n",
       "    <tr>\n",
       "      <th>19</th>\n",
       "      <td>A&amp;W Root Beer Diet - 12 oz cans</td>\n",
       "      <td>KHULNA                                        ...</td>\n",
       "      <td>18191.25</td>\n",
       "    </tr>\n",
       "    <tr>\n",
       "      <th>20</th>\n",
       "      <td>A&amp;W Root Beer Diet - 12 oz cans</td>\n",
       "      <td>RAJSHAHI                                      ...</td>\n",
       "      <td>17131.50</td>\n",
       "    </tr>\n",
       "    <tr>\n",
       "      <th>21</th>\n",
       "      <td>A&amp;W Root Beer Diet - 12 oz cans</td>\n",
       "      <td>RANGPUR                                       ...</td>\n",
       "      <td>12129.75</td>\n",
       "    </tr>\n",
       "    <tr>\n",
       "      <th>22</th>\n",
       "      <td>A&amp;W Root Beer Diet - 12 oz cans</td>\n",
       "      <td>SYLHET                                        ...</td>\n",
       "      <td>8025.75</td>\n",
       "    </tr>\n",
       "    <tr>\n",
       "      <th>24</th>\n",
       "      <td>Advil 2 pill packets</td>\n",
       "      <td>BARISAL                                       ...</td>\n",
       "      <td>21658.0</td>\n",
       "    </tr>\n",
       "    <tr>\n",
       "      <th>25</th>\n",
       "      <td>Advil 2 pill packets</td>\n",
       "      <td>CHITTAGONG                                    ...</td>\n",
       "      <td>62846.0</td>\n",
       "    </tr>\n",
       "    <tr>\n",
       "      <th>26</th>\n",
       "      <td>Advil 2 pill packets</td>\n",
       "      <td>DHAKA                                         ...</td>\n",
       "      <td>124194.0</td>\n",
       "    </tr>\n",
       "    <tr>\n",
       "      <th>27</th>\n",
       "      <td>Advil 2 pill packets</td>\n",
       "      <td>KHULNA                                        ...</td>\n",
       "      <td>34524.0</td>\n",
       "    </tr>\n",
       "    <tr>\n",
       "      <th>28</th>\n",
       "      <td>Advil 2 pill packets</td>\n",
       "      <td>RAJSHAHI                                      ...</td>\n",
       "      <td>34314.0</td>\n",
       "    </tr>\n",
       "    <tr>\n",
       "      <th>29</th>\n",
       "      <td>Advil 2 pill packets</td>\n",
       "      <td>RANGPUR                                       ...</td>\n",
       "      <td>28980.0</td>\n",
       "    </tr>\n",
       "    <tr>\n",
       "      <th>30</th>\n",
       "      <td>Advil 2 pill packets</td>\n",
       "      <td>SYLHET                                        ...</td>\n",
       "      <td>17248.0</td>\n",
       "    </tr>\n",
       "    <tr>\n",
       "      <th>32</th>\n",
       "      <td>All Purpose Cleaner 409 Spray</td>\n",
       "      <td>BARISAL                                       ...</td>\n",
       "      <td>30204.0</td>\n",
       "    </tr>\n",
       "    <tr>\n",
       "      <th>33</th>\n",
       "      <td>All Purpose Cleaner 409 Spray</td>\n",
       "      <td>CHITTAGONG                                    ...</td>\n",
       "      <td>77418.0</td>\n",
       "    </tr>\n",
       "  </tbody>\n",
       "</table>\n",
       "</div>"
      ],
      "text/plain": [
       "                               Item  \\\n",
       "0   100% Juice Box Variety 6.75 oz    \n",
       "1   100% Juice Box Variety 6.75 oz    \n",
       "2   100% Juice Box Variety 6.75 oz    \n",
       "3   100% Juice Box Variety 6.75 oz    \n",
       "4   100% Juice Box Variety 6.75 oz    \n",
       "5   100% Juice Box Variety 6.75 oz    \n",
       "6   100% Juice Box Variety 6.75 oz    \n",
       "8        A&W Root Beer - 12 oz cans   \n",
       "9        A&W Root Beer - 12 oz cans   \n",
       "10       A&W Root Beer - 12 oz cans   \n",
       "11       A&W Root Beer - 12 oz cans   \n",
       "12       A&W Root Beer - 12 oz cans   \n",
       "13       A&W Root Beer - 12 oz cans   \n",
       "14       A&W Root Beer - 12 oz cans   \n",
       "16  A&W Root Beer Diet - 12 oz cans   \n",
       "17  A&W Root Beer Diet - 12 oz cans   \n",
       "18  A&W Root Beer Diet - 12 oz cans   \n",
       "19  A&W Root Beer Diet - 12 oz cans   \n",
       "20  A&W Root Beer Diet - 12 oz cans   \n",
       "21  A&W Root Beer Diet - 12 oz cans   \n",
       "22  A&W Root Beer Diet - 12 oz cans   \n",
       "24             Advil 2 pill packets   \n",
       "25             Advil 2 pill packets   \n",
       "26             Advil 2 pill packets   \n",
       "27             Advil 2 pill packets   \n",
       "28             Advil 2 pill packets   \n",
       "29             Advil 2 pill packets   \n",
       "30             Advil 2 pill packets   \n",
       "32    All Purpose Cleaner 409 Spray   \n",
       "33    All Purpose Cleaner 409 Spray   \n",
       "\n",
       "                                             Division     Sales  \n",
       "0   BARISAL                                       ...   23790.0  \n",
       "1   CHITTAGONG                                    ...   64950.0  \n",
       "2   DHAKA                                         ...  141195.0  \n",
       "3   KHULNA                                        ...   37755.0  \n",
       "4   RAJSHAHI                                      ...   38730.0  \n",
       "5   RANGPUR                                       ...   26685.0  \n",
       "6   SYLHET                                        ...   18270.0  \n",
       "8   BARISAL                                       ...   19101.5  \n",
       "9   CHITTAGONG                                    ...   52060.5  \n",
       "10  DHAKA                                         ...  107479.0  \n",
       "11  KHULNA                                        ...   28382.0  \n",
       "12  RAJSHAHI                                      ...   27795.5  \n",
       "13  RANGPUR                                       ...   21597.0  \n",
       "14  SYLHET                                        ...   15249.0  \n",
       "16  BARISAL                                       ...  10118.25  \n",
       "17  CHITTAGONG                                    ...  29592.00  \n",
       "18  DHAKA                                         ...  61290.00  \n",
       "19  KHULNA                                        ...  18191.25  \n",
       "20  RAJSHAHI                                      ...  17131.50  \n",
       "21  RANGPUR                                       ...  12129.75  \n",
       "22  SYLHET                                        ...   8025.75  \n",
       "24  BARISAL                                       ...   21658.0  \n",
       "25  CHITTAGONG                                    ...   62846.0  \n",
       "26  DHAKA                                         ...  124194.0  \n",
       "27  KHULNA                                        ...   34524.0  \n",
       "28  RAJSHAHI                                      ...   34314.0  \n",
       "29  RANGPUR                                       ...   28980.0  \n",
       "30  SYLHET                                        ...   17248.0  \n",
       "32  BARISAL                                       ...   30204.0  \n",
       "33  CHITTAGONG                                    ...   77418.0  "
      ]
     },
     "execution_count": 90,
     "metadata": {},
     "output_type": "execute_result"
    }
   ],
   "source": [
    "select_items = \"SELECT i.item_name, s.division, sum(ft.total_price) \"\\\n",
    "            \"FROM stars.fact_table ft \"\\\n",
    "            \"JOIN stars.item_dim i on i.item_key=ft.item_key \"\\\n",
    "            \"JOIN stars.store_dim s on s.store_key = ft.store_key \"\\\n",
    "            \"GROUP BY CUBE(i.item_name, s.division) \"\\\n",
    "            \"ORDER BY i.item_name,s.division \"\n",
    "cur.execute(select_items)\n",
    "itemsdiv = cur.fetchall()\n",
    "idiv = pd.DataFrame(list(itemsdiv), columns=['Item', 'Division', 'Sales'])\n",
    "idiv = idiv.dropna()\n",
    "idiv.head(30)"
   ]
  },
  {
   "cell_type": "code",
   "execution_count": 80,
   "id": "d0243b4f",
   "metadata": {},
   "outputs": [],
   "source": [
    "idi=idiv\n",
    "idi.sort_values(by=[\"Sales\"],ascending=False,inplace=True)"
   ]
  },
  {
   "cell_type": "code",
   "execution_count": 81,
   "id": "3938ea22",
   "metadata": {},
   "outputs": [
    {
     "data": {
      "text/html": [
       "<div>\n",
       "<style scoped>\n",
       "    .dataframe tbody tr th:only-of-type {\n",
       "        vertical-align: middle;\n",
       "    }\n",
       "\n",
       "    .dataframe tbody tr th {\n",
       "        vertical-align: top;\n",
       "    }\n",
       "\n",
       "    .dataframe thead th {\n",
       "        text-align: right;\n",
       "    }\n",
       "</style>\n",
       "<table border=\"1\" class=\"dataframe\">\n",
       "  <thead>\n",
       "    <tr style=\"text-align: right;\">\n",
       "      <th></th>\n",
       "      <th>Item</th>\n",
       "      <th>Division</th>\n",
       "      <th>Sales</th>\n",
       "    </tr>\n",
       "  </thead>\n",
       "  <tbody>\n",
       "    <tr>\n",
       "      <th>1650</th>\n",
       "      <td>Red Bull 12oz</td>\n",
       "      <td>DHAKA                                         ...</td>\n",
       "      <td>510895.0</td>\n",
       "    </tr>\n",
       "    <tr>\n",
       "      <th>1649</th>\n",
       "      <td>Red Bull 12oz</td>\n",
       "      <td>CHITTAGONG                                    ...</td>\n",
       "      <td>246510.0</td>\n",
       "    </tr>\n",
       "    <tr>\n",
       "      <th>1652</th>\n",
       "      <td>Red Bull 12oz</td>\n",
       "      <td>RAJSHAHI                                      ...</td>\n",
       "      <td>148885.0</td>\n",
       "    </tr>\n",
       "    <tr>\n",
       "      <th>1651</th>\n",
       "      <td>Red Bull 12oz</td>\n",
       "      <td>KHULNA                                        ...</td>\n",
       "      <td>139645.0</td>\n",
       "    </tr>\n",
       "    <tr>\n",
       "      <th>973</th>\n",
       "      <td>K Cups Daily Chef Columbian Supremo</td>\n",
       "      <td>RANGPUR                                       ...</td>\n",
       "      <td>101866.0</td>\n",
       "    </tr>\n",
       "    <tr>\n",
       "      <th>1648</th>\n",
       "      <td>Red Bull 12oz</td>\n",
       "      <td>BARISAL                                       ...</td>\n",
       "      <td>95205.0</td>\n",
       "    </tr>\n",
       "    <tr>\n",
       "      <th>974</th>\n",
       "      <td>K Cups Daily Chef Columbian Supremo</td>\n",
       "      <td>SYLHET                                        ...</td>\n",
       "      <td>69165.0</td>\n",
       "    </tr>\n",
       "  </tbody>\n",
       "</table>\n",
       "</div>"
      ],
      "text/plain": [
       "                                     Item  \\\n",
       "1650                        Red Bull 12oz   \n",
       "1649                        Red Bull 12oz   \n",
       "1652                        Red Bull 12oz   \n",
       "1651                        Red Bull 12oz   \n",
       "973   K Cups Daily Chef Columbian Supremo   \n",
       "1648                        Red Bull 12oz   \n",
       "974   K Cups Daily Chef Columbian Supremo   \n",
       "\n",
       "                                               Division     Sales  \n",
       "1650  DHAKA                                         ...  510895.0  \n",
       "1649  CHITTAGONG                                    ...  246510.0  \n",
       "1652  RAJSHAHI                                      ...  148885.0  \n",
       "1651  KHULNA                                        ...  139645.0  \n",
       "973   RANGPUR                                       ...  101866.0  \n",
       "1648  BARISAL                                       ...   95205.0  \n",
       "974   SYLHET                                        ...   69165.0  "
      ]
     },
     "execution_count": 81,
     "metadata": {},
     "output_type": "execute_result"
    }
   ],
   "source": [
    "idi=idi.groupby('Division').head(1)\n",
    "idi"
   ]
  },
  {
   "cell_type": "markdown",
   "id": "8d65a8f7",
   "metadata": {},
   "source": [
    "# Q10: What are the average sales of products sales per store monthly?"
   ]
  },
  {
   "cell_type": "code",
   "execution_count": 85,
   "id": "d5d9342f",
   "metadata": {},
   "outputs": [
    {
     "name": "stdout",
     "output_type": "stream",
     "text": [
      "Connection to DB established!\n",
      "     store_id month         average sales\n",
      "0       S0001     1   97.7543103448275862\n",
      "1       S0001     2  100.5776699029126214\n",
      "2       S0001     3  109.4158878504672897\n",
      "3       S0001     4   98.8805309734513274\n",
      "4       S0001     5   99.5245535714285714\n",
      "...       ...   ...                   ...\n",
      "9446     None     9  105.4656137424143517\n",
      "9447     None    10  105.5257301519569495\n",
      "9448     None    11  105.9146828059985602\n",
      "9449     None    12  105.6896222951285665\n",
      "9450     None  None  105.4014357500000000\n",
      "\n",
      "[9451 rows x 3 columns]\n"
     ]
    }
   ],
   "source": [
    "con = PostgresConnection().getConnection()\n",
    "cur = con.cursor()\n",
    "select_average = \"SELECT s.store_key, tim.month, avg(ft.total_price) \"\\\n",
    "                \"FROM stars.fact_table ft \"\\\n",
    "                \"JOIN stars.store_dim s on s.store_key = ft.store_key \"\\\n",
    "                \"JOIN stars.time_dim tim on tim.time_key = ft.time_key \"\\\n",
    "                \"GROUP BY CUBE(s.store_key, tim.month) \"\\\n",
    "                \"ORDER BY s.store_key, tim.month \"\n",
    "cur.execute(select_average)\n",
    "average = cur.fetchall()\n",
    "averagemonth = pd.DataFrame(list(average), columns=['store_id', 'month', 'average sales'])\n",
    "print(averagemonth)\n",
    "#pd_data.plot.bar(x='Month', y='Avg. Sales', rot=0, figsize=(15,10))"
   ]
  },
  {
   "cell_type": "code",
   "execution_count": null,
   "id": "caff1f11",
   "metadata": {},
   "outputs": [],
   "source": []
  }
 ],
 "metadata": {
  "kernelspec": {
   "display_name": "Python 3",
   "language": "python",
   "name": "python3"
  },
  "language_info": {
   "codemirror_mode": {
    "name": "ipython",
    "version": 3
   },
   "file_extension": ".py",
   "mimetype": "text/x-python",
   "name": "python",
   "nbconvert_exporter": "python",
   "pygments_lexer": "ipython3",
   "version": "3.8.8"
  }
 },
 "nbformat": 4,
 "nbformat_minor": 5
}

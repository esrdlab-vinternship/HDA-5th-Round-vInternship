{
 "cells": [
  {
   "cell_type": "code",
   "execution_count": 1,
   "id": "1788f025",
   "metadata": {},
   "outputs": [],
   "source": [
    "import psycopg2\n",
    "import psycopg2.extras\n",
    "import pandas as pd"
   ]
  },
  {
   "cell_type": "code",
   "execution_count": 2,
   "id": "8aacea38",
   "metadata": {},
   "outputs": [
    {
     "name": "stdout",
     "output_type": "stream",
     "text": [
      "Connection to DB established!\n"
     ]
    }
   ],
   "source": [
    "class PostgresConnection(object):\n",
    "    def __init__(self):\n",
    "        self.connection = psycopg2.connect(database = \"ecomdb\",\n",
    "                                          user = \"postgres\",\n",
    "                                          password = \"system\",\n",
    "                                          host = \"localhost\",\n",
    "                                          port = \"5432\")\n",
    "    def getConnection(self):\n",
    "        print(\"Connection to DB established!\")\n",
    "        return self.connection\n",
    "con = PostgresConnection().getConnection()"
   ]
  },
  {
   "cell_type": "code",
   "execution_count": 3,
   "id": "08bbb7d6",
   "metadata": {},
   "outputs": [
    {
     "data": {
      "text/plain": [
       "[('BARISAL                                           ', Decimal('638101.00')),\n",
       " ('CHITTAGONG                                        ', Decimal('1665138.00')),\n",
       " ('DHAKA                                             ', Decimal('3440676.25')),\n",
       " ('KHULNA                                            ', Decimal('952049.75')),\n",
       " ('RAJSHAHI                                          ', Decimal('1041201.25')),\n",
       " ('RANGPUR                                           ', Decimal('721057.50')),\n",
       " ('SYLHET                                            ', Decimal('465256.75')),\n",
       " (None, Decimal('8923480.50'))]"
      ]
     },
     "execution_count": 3,
     "metadata": {},
     "output_type": "execute_result"
    }
   ],
   "source": [
    "cur = con.cursor()\n",
    "select_stmt = \"SELECT s.division, SUM(t.total_price) \" \\\n",
    "              \"FROM star.fact_table t \" \\\n",
    "              \"JOIN star.store_dim s on s.store_key=t.store_key \" \\\n",
    "                \"JOIN star.time_dim tim on tim.time_key=t.time_key \" \\\n",
    "                \"WHERE tim.month=12 \" \\\n",
    "                \"GROUP BY CUBE (s.division) \"\\\n",
    "                \"ORDER BY s.division \"\n",
    "cur.execute(select_stmt)\n",
    "q1 = cur.fetchall()\n",
    "q1"
   ]
  },
  {
   "cell_type": "code",
   "execution_count": 4,
   "id": "989db851",
   "metadata": {},
   "outputs": [],
   "source": [
    "df = pd.DataFrame(list(q1), columns=['division', 'sales'])"
   ]
  },
  {
   "cell_type": "code",
   "execution_count": 5,
   "id": "e430ba9d",
   "metadata": {},
   "outputs": [],
   "source": [
    "df['sales'] = df['sales'].astype('float64')"
   ]
  },
  {
   "cell_type": "code",
   "execution_count": 6,
   "id": "d76e60f0",
   "metadata": {
    "scrolled": true
   },
   "outputs": [
    {
     "name": "stdout",
     "output_type": "stream",
     "text": [
      "Requirement already satisfied: matplotlib in c:\\users\\arifurk\\myenv\\lib\\site-packages (3.5.3)\n",
      "Requirement already satisfied: pyparsing>=2.2.1 in c:\\users\\arifurk\\myenv\\lib\\site-packages (from matplotlib) (3.0.9)\n",
      "Requirement already satisfied: pillow>=6.2.0 in c:\\users\\arifurk\\myenv\\lib\\site-packages (from matplotlib) (9.2.0)\n",
      "Requirement already satisfied: fonttools>=4.22.0 in c:\\users\\arifurk\\myenv\\lib\\site-packages (from matplotlib) (4.36.0)\n",
      "Requirement already satisfied: python-dateutil>=2.7 in c:\\users\\arifurk\\myenv\\lib\\site-packages (from matplotlib) (2.8.2)\n",
      "Requirement already satisfied: numpy>=1.17 in c:\\users\\arifurk\\myenv\\lib\\site-packages (from matplotlib) (1.23.2)\n",
      "Requirement already satisfied: packaging>=20.0 in c:\\users\\arifurk\\myenv\\lib\\site-packages (from matplotlib) (21.3)\n",
      "Requirement already satisfied: cycler>=0.10 in c:\\users\\arifurk\\myenv\\lib\\site-packages (from matplotlib) (0.11.0)\n",
      "Requirement already satisfied: kiwisolver>=1.0.1 in c:\\users\\arifurk\\myenv\\lib\\site-packages (from matplotlib) (1.4.4)\n",
      "Requirement already satisfied: six>=1.5 in c:\\users\\arifurk\\myenv\\lib\\site-packages (from python-dateutil>=2.7->matplotlib) (1.16.0)\n",
      "Note: you may need to restart the kernel to use updated packages.\n"
     ]
    }
   ],
   "source": [
    "pip install matplotlib"
   ]
  },
  {
   "cell_type": "code",
   "execution_count": 7,
   "id": "b72e6168",
   "metadata": {},
   "outputs": [],
   "source": [
    "import matplotlib.pyplot as plt"
   ]
  },
  {
   "cell_type": "code",
   "execution_count": 8,
   "id": "299d8f8c",
   "metadata": {},
   "outputs": [],
   "source": [
    "df1=df.drop([7])"
   ]
  },
  {
   "cell_type": "code",
   "execution_count": 9,
   "id": "d639d9c2",
   "metadata": {
    "scrolled": true
   },
   "outputs": [
    {
     "data": {
      "text/html": [
       "<div>\n",
       "<style scoped>\n",
       "    .dataframe tbody tr th:only-of-type {\n",
       "        vertical-align: middle;\n",
       "    }\n",
       "\n",
       "    .dataframe tbody tr th {\n",
       "        vertical-align: top;\n",
       "    }\n",
       "\n",
       "    .dataframe thead th {\n",
       "        text-align: right;\n",
       "    }\n",
       "</style>\n",
       "<table border=\"1\" class=\"dataframe\">\n",
       "  <thead>\n",
       "    <tr style=\"text-align: right;\">\n",
       "      <th></th>\n",
       "      <th>division</th>\n",
       "      <th>sales</th>\n",
       "    </tr>\n",
       "  </thead>\n",
       "  <tbody>\n",
       "    <tr>\n",
       "      <th>0</th>\n",
       "      <td>BARISAL                                       ...</td>\n",
       "      <td>638101.00</td>\n",
       "    </tr>\n",
       "    <tr>\n",
       "      <th>1</th>\n",
       "      <td>CHITTAGONG                                    ...</td>\n",
       "      <td>1665138.00</td>\n",
       "    </tr>\n",
       "    <tr>\n",
       "      <th>2</th>\n",
       "      <td>DHAKA                                         ...</td>\n",
       "      <td>3440676.25</td>\n",
       "    </tr>\n",
       "    <tr>\n",
       "      <th>3</th>\n",
       "      <td>KHULNA                                        ...</td>\n",
       "      <td>952049.75</td>\n",
       "    </tr>\n",
       "    <tr>\n",
       "      <th>4</th>\n",
       "      <td>RAJSHAHI                                      ...</td>\n",
       "      <td>1041201.25</td>\n",
       "    </tr>\n",
       "    <tr>\n",
       "      <th>5</th>\n",
       "      <td>RANGPUR                                       ...</td>\n",
       "      <td>721057.50</td>\n",
       "    </tr>\n",
       "    <tr>\n",
       "      <th>6</th>\n",
       "      <td>SYLHET                                        ...</td>\n",
       "      <td>465256.75</td>\n",
       "    </tr>\n",
       "  </tbody>\n",
       "</table>\n",
       "</div>"
      ],
      "text/plain": [
       "                                            division       sales\n",
       "0  BARISAL                                       ...   638101.00\n",
       "1  CHITTAGONG                                    ...  1665138.00\n",
       "2  DHAKA                                         ...  3440676.25\n",
       "3  KHULNA                                        ...   952049.75\n",
       "4  RAJSHAHI                                      ...  1041201.25\n",
       "5  RANGPUR                                       ...   721057.50\n",
       "6  SYLHET                                        ...   465256.75"
      ]
     },
     "execution_count": 9,
     "metadata": {},
     "output_type": "execute_result"
    }
   ],
   "source": [
    "df1"
   ]
  },
  {
   "cell_type": "code",
   "execution_count": 11,
   "id": "d8133fc4",
   "metadata": {},
   "outputs": [
    {
     "name": "stdout",
     "output_type": "stream",
     "text": [
      "Requirement already satisfied: numpy in c:\\users\\arifurk\\myenv\\lib\\site-packages (1.23.2)\n",
      "Note: you may need to restart the kernel to use updated packages.\n"
     ]
    }
   ],
   "source": [
    "pip install numpy"
   ]
  },
  {
   "cell_type": "code",
   "execution_count": 10,
   "id": "74d609e0",
   "metadata": {},
   "outputs": [],
   "source": [
    "import numpy as np"
   ]
  },
  {
   "cell_type": "code",
   "execution_count": 11,
   "id": "0087eee7",
   "metadata": {},
   "outputs": [
    {
     "data": {
      "image/png": "[encoded data removed]",
      "text/plain": [
       "<Figure size 960x560 with 1 Axes>"
      ]
     },
     "metadata": {},
     "output_type": "display_data"
    }
   ],
   "source": [
    "\n",
    "fig, ax = plt.subplots(figsize=(12, 7), subplot_kw=dict(aspect=\"equal\"), dpi= 80)\n",
    "\n",
    "data = df1['sales']\n",
    "categories = df1['division']\n",
    "explode = [0,0,0.1,0,0,0,0]\n",
    "\n",
    "def func(pct, allvals):\n",
    "    absolute = int(pct/100.*np.sum(allvals))\n",
    "    return \"{:.1f}% ({:d} )\".format(pct, absolute)\n",
    "\n",
    "wedges, texts, autotexts = ax.pie(data, \n",
    "                                  autopct=lambda pct: func(pct, data),\n",
    "                                  textprops=dict(color=\"w\"), \n",
    "                                  colors=plt.cm.Dark2.colors,\n",
    "                                 startangle=140,\n",
    "                                 explode=explode)\n",
    "\n",
    "# Decoration\n",
    "ax.legend(wedges, categories, title=\"Division\", loc=\"center left\", bbox_to_anchor=(1, 0, 0.5, 1))\n",
    "plt.setp(autotexts, size=7, weight=700)\n",
    "ax.set_title(\"division wise sales price: Pie Chart\")\n",
    "plt.show()"
   ]
  },
  {
   "cell_type": "code",
   "execution_count": 12,
   "id": "477fbb1d",
   "metadata": {},
   "outputs": [
    {
     "data": {
      "image/png": "[encoded data removed]",
      "text/plain": [
       "<Figure size 1080x576 with 1 Axes>"
      ]
     },
     "metadata": {},
     "output_type": "display_data"
    }
   ],
   "source": [
    "fig, ax = plt.subplots(figsize=(15, 8), subplot_kw=dict(aspect=\"equal\"))\n",
    "\n",
    "data = df1['sales']\n",
    "categories = df1['division']\n",
    "\n",
    "def func(pct, allvals):\n",
    "    absolute = int(pct/100.*np.sum(allvals))\n",
    "    return \"{:.1f}% ({:d} )\".format(pct, absolute)\n",
    "\n",
    "wedges, texts, autotexts = ax.pie(data, \n",
    "                                  autopct=lambda pct: func(pct, data),\n",
    "                                  textprops=dict(color=\"w\"), \n",
    "                                 wedgeprops=dict(width=0.5) ,\n",
    "                                 startangle=-40)\n",
    "\n",
    "\n",
    "\n",
    "#wedges, texts = ax.pie(data,wedgeprops=dict(width=0.5), startangle=-40)\n",
    "\n",
    "bbox_props = dict(boxstyle=\"square,pad=0.3\", fc=\"w\", ec=\"k\", lw=0.72)\n",
    "kw = dict(arrowprops=dict(arrowstyle=\"-\"),\n",
    "          bbox=bbox_props, zorder=0, va=\"center\")\n",
    "\n",
    "for i, p in enumerate(wedges):\n",
    "    ang = (p.theta2 - p.theta1)/2. + p.theta1\n",
    "    y = np.sin(np.deg2rad(ang))\n",
    "    x = np.cos(np.deg2rad(ang))\n",
    "    horizontalalignment = {-1: \"right\", 1: \"left\"}[int(np.sign(x))]\n",
    "    connectionstyle = \"angle,angleA=0,angleB={}\".format(ang)\n",
    "    kw[\"arrowprops\"].update({\"connectionstyle\": connectionstyle})\n",
    "    ax.annotate(categories[i], xy=(x, y), xytext=(1.35*np.sign(x), 1.4*y),\n",
    "                horizontalalignment=horizontalalignment, **kw)\n",
    "\n",
    "ax.set_title(\"division wise sales price: Pie Chart: A donut\")\n",
    "\n",
    "plt.show()"
   ]
  },
  {
   "cell_type": "markdown",
   "id": "78bbeadf",
   "metadata": {},
   "source": [
    "# Q1"
   ]
  },
  {
   "cell_type": "code",
   "execution_count": 13,
   "id": "10170d68",
   "metadata": {},
   "outputs": [
    {
     "name": "stdout",
     "output_type": "stream",
     "text": [
      "Connection to DB established!\n"
     ]
    },
    {
     "data": {
      "text/plain": [
       "[('BAGERHAT                                          ', Decimal('1307651.00')),\n",
       " ('BANDARBAN                                         ', Decimal('995360.75')),\n",
       " ('BARGUNA                                           ', Decimal('869041.00')),\n",
       " ('BARISAL                                           ', Decimal('2897237.75')),\n",
       " ('BHOLA                                             ', Decimal('1012205.75')),\n",
       " ('BOGRA                                             ', Decimal('1716452.75')),\n",
       " ('BRAHMANBARIA                                      ', Decimal('1328234.25')),\n",
       " ('CHANDPUR                                          ', Decimal('1153276.75')),\n",
       " ('CHAPAI NABABGANJ                                  ', Decimal('739447.50')),\n",
       " ('CHITTAGONG                                        ', Decimal('7292985.50')),\n",
       " ('CHUADANGA                                         ', Decimal('563909.75')),\n",
       " ('COMILLA                                           ', Decimal('2286898.25')),\n",
       " (\"COX'S BAZAR                                       \", Decimal('1188128.75')),\n",
       " ('DHAKA                                             ',\n",
       "  Decimal('23597621.00')),\n",
       " ('DINAJPUR                                          ', Decimal('1871005.75')),\n",
       " ('FARIDPUR                                          ', Decimal('1287383.75')),\n",
       " ('FENI                                              ', Decimal('847873.50')),\n",
       " ('GAIBANDHA                                         ', Decimal('997077.75')),\n",
       " ('GAZIPUR                                           ', Decimal('722286.25')),\n",
       " ('GOPALGANJ                                         ', Decimal('731312.75')),\n",
       " ('HABIGANJ                                          ', Decimal('1153998.00')),\n",
       " ('JAMALPUR                                          ', Decimal('1009760.00')),\n",
       " ('JESSORE                                           ', Decimal('1132590.50')),\n",
       " ('JHALOKATI                                         ', Decimal('570807.25')),\n",
       " ('JHENAIDAH                                         ', Decimal('869991.25')),\n",
       " ('JOYPURHAT                                         ', Decimal('735378.50')),\n",
       " ('KHAGRACHHARI                                      ', Decimal('1161721.50')),\n",
       " ('KHULNA                                            ', Decimal('4081283.75')),\n",
       " ('KISHOREGONJ                                       ', Decimal('1895395.50')),\n",
       " ('KURIGRAM                                          ', Decimal('1327257.00')),\n",
       " ('KUSHTIA                                           ', Decimal('871240.50')),\n",
       " ('LAKSHMIPUR                                        ', Decimal('729909.25')),\n",
       " ('LALMONIRHAT                                       ', Decimal('732387.00')),\n",
       " ('MADARIPUR                                         ', Decimal('601530.50')),\n",
       " ('MAGURA                                            ', Decimal('577543.25')),\n",
       " ('MANIKGANJ                                         ', Decimal('997970.00')),\n",
       " ('MAULVIBAZAR                                       ', Decimal('1036745.00')),\n",
       " ('MEHERPUR                                          ', Decimal('436755.00')),\n",
       " ('MUNSHIGANJ                                        ', Decimal('866631.25')),\n",
       " ('MYMENSINGH                                        ', Decimal('1885230.50')),\n",
       " ('NAOGAON                                           ', Decimal('1565147.25')),\n",
       " ('NARAIL                                            ', Decimal('440698.75')),\n",
       " ('NARAYANGANJ                                       ', Decimal('733546.50')),\n",
       " ('NARSINGDI                                         ', Decimal('885864.75')),\n",
       " ('NATORE                                            ', Decimal('1004712.00')),\n",
       " ('NETRAKONA                                         ', Decimal('1449766.00')),\n",
       " ('NILPHAMARI                                        ', Decimal('862774.75')),\n",
       " ('NOAKHALI                                          ', Decimal('1321186.75')),\n",
       " ('PABNA                                             ', Decimal('1286502.75')),\n",
       " ('PANCHAGARH                                        ', Decimal('736777.25')),\n",
       " ('PATUAKHALI                                        ', Decimal('1152629.00')),\n",
       " ('PIROJPUR                                          ', Decimal('1018423.00')),\n",
       " ('RAJBARI                                           ', Decimal('736393.00')),\n",
       " ('RAJSHAHI                                          ', Decimal('3756454.50')),\n",
       " ('RANGAMATI                                         ', Decimal('1458019.75')),\n",
       " ('RANGPUR                                           ', Decimal('1172622.75')),\n",
       " ('SATKHIRA                                          ', Decimal('1029946.75')),\n",
       " ('SHARIATPUR                                        ', Decimal('855565.75')),\n",
       " ('SHERPUR                                           ', Decimal('733712.00')),\n",
       " ('SIRAJGANJ                                         ', Decimal('1295100.75')),\n",
       " ('SUNAMGANJ                                         ', Decimal('1593774.00')),\n",
       " ('SYLHET                                            ', Decimal('1727717.25')),\n",
       " ('TANGAIL                                           ', Decimal('1774650.25')),\n",
       " ('THAKURGAON                                        ', Decimal('729934.25')),\n",
       " (None, Decimal('105401435.75'))]"
      ]
     },
     "execution_count": 13,
     "metadata": {},
     "output_type": "execute_result"
    }
   ],
   "source": [
    "con = PostgresConnection().getConnection()\n",
    "insert_stmts = \"\"\"SELECT store_dim.district as \"District\", SUM(fact_table.total_price) \"Generated_revenue\" \n",
    "FROM star.fact_table \n",
    "JOIN star.store_dim ON\n",
    "store_dim.store_key = fact_table.store_key \n",
    "GROUP BY CUBE(store_dim.district) \n",
    "ORDER BY store_dim.district\"\"\"\n",
    "cur = con.cursor()\n",
    "# psycopg2.extras.execute_batch(cur, insert_stmt, fact_data.values)\n",
    "cur.execute(insert_stmts)\n",
    "q2 = cur.fetchall()\n",
    "q2"
   ]
  },
  {
   "cell_type": "code",
   "execution_count": 14,
   "id": "535dc014",
   "metadata": {},
   "outputs": [],
   "source": [
    "df2 = pd.DataFrame(list(q2), columns=['district', 'Generated_revenue'])"
   ]
  },
  {
   "cell_type": "code",
   "execution_count": 15,
   "id": "70c435c9",
   "metadata": {},
   "outputs": [],
   "source": [
    "df2['Generated_revenue'] = df2['Generated_revenue'].astype('float64')"
   ]
  },
  {
   "cell_type": "code",
   "execution_count": 16,
   "id": "c243a001",
   "metadata": {},
   "outputs": [
    {
     "data": {
      "text/html": [
       "<div>\n",
       "<style scoped>\n",
       "    .dataframe tbody tr th:only-of-type {\n",
       "        vertical-align: middle;\n",
       "    }\n",
       "\n",
       "    .dataframe tbody tr th {\n",
       "        vertical-align: top;\n",
       "    }\n",
       "\n",
       "    .dataframe thead th {\n",
       "        text-align: right;\n",
       "    }\n",
       "</style>\n",
       "<table border=\"1\" class=\"dataframe\">\n",
       "  <thead>\n",
       "    <tr style=\"text-align: right;\">\n",
       "      <th></th>\n",
       "      <th>district</th>\n",
       "      <th>Generated_revenue</th>\n",
       "    </tr>\n",
       "  </thead>\n",
       "  <tbody>\n",
       "    <tr>\n",
       "      <th>0</th>\n",
       "      <td>BAGERHAT                                      ...</td>\n",
       "      <td>1.307651e+06</td>\n",
       "    </tr>\n",
       "    <tr>\n",
       "      <th>1</th>\n",
       "      <td>BANDARBAN                                     ...</td>\n",
       "      <td>9.953608e+05</td>\n",
       "    </tr>\n",
       "    <tr>\n",
       "      <th>2</th>\n",
       "      <td>BARGUNA                                       ...</td>\n",
       "      <td>8.690410e+05</td>\n",
       "    </tr>\n",
       "    <tr>\n",
       "      <th>3</th>\n",
       "      <td>BARISAL                                       ...</td>\n",
       "      <td>2.897238e+06</td>\n",
       "    </tr>\n",
       "    <tr>\n",
       "      <th>4</th>\n",
       "      <td>BHOLA                                         ...</td>\n",
       "      <td>1.012206e+06</td>\n",
       "    </tr>\n",
       "    <tr>\n",
       "      <th>...</th>\n",
       "      <td>...</td>\n",
       "      <td>...</td>\n",
       "    </tr>\n",
       "    <tr>\n",
       "      <th>60</th>\n",
       "      <td>SUNAMGANJ                                     ...</td>\n",
       "      <td>1.593774e+06</td>\n",
       "    </tr>\n",
       "    <tr>\n",
       "      <th>61</th>\n",
       "      <td>SYLHET                                        ...</td>\n",
       "      <td>1.727717e+06</td>\n",
       "    </tr>\n",
       "    <tr>\n",
       "      <th>62</th>\n",
       "      <td>TANGAIL                                       ...</td>\n",
       "      <td>1.774650e+06</td>\n",
       "    </tr>\n",
       "    <tr>\n",
       "      <th>63</th>\n",
       "      <td>THAKURGAON                                    ...</td>\n",
       "      <td>7.299342e+05</td>\n",
       "    </tr>\n",
       "    <tr>\n",
       "      <th>64</th>\n",
       "      <td>None</td>\n",
       "      <td>1.054014e+08</td>\n",
       "    </tr>\n",
       "  </tbody>\n",
       "</table>\n",
       "<p>65 rows × 2 columns</p>\n",
       "</div>"
      ],
      "text/plain": [
       "                                             district  Generated_revenue\n",
       "0   BAGERHAT                                      ...       1.307651e+06\n",
       "1   BANDARBAN                                     ...       9.953608e+05\n",
       "2   BARGUNA                                       ...       8.690410e+05\n",
       "3   BARISAL                                       ...       2.897238e+06\n",
       "4   BHOLA                                         ...       1.012206e+06\n",
       "..                                                ...                ...\n",
       "60  SUNAMGANJ                                     ...       1.593774e+06\n",
       "61  SYLHET                                        ...       1.727717e+06\n",
       "62  TANGAIL                                       ...       1.774650e+06\n",
       "63  THAKURGAON                                    ...       7.299342e+05\n",
       "64                                               None       1.054014e+08\n",
       "\n",
       "[65 rows x 2 columns]"
      ]
     },
     "execution_count": 16,
     "metadata": {},
     "output_type": "execute_result"
    }
   ],
   "source": [
    "df2"
   ]
  },
  {
   "cell_type": "code",
   "execution_count": 17,
   "id": "1d2440e1",
   "metadata": {},
   "outputs": [],
   "source": [
    "df2=df2.drop([64])"
   ]
  },
  {
   "cell_type": "code",
   "execution_count": 18,
   "id": "a94bcd37",
   "metadata": {
    "scrolled": true
   },
   "outputs": [
    {
     "data": {
      "text/html": [
       "<div>\n",
       "<style scoped>\n",
       "    .dataframe tbody tr th:only-of-type {\n",
       "        vertical-align: middle;\n",
       "    }\n",
       "\n",
       "    .dataframe tbody tr th {\n",
       "        vertical-align: top;\n",
       "    }\n",
       "\n",
       "    .dataframe thead th {\n",
       "        text-align: right;\n",
       "    }\n",
       "</style>\n",
       "<table border=\"1\" class=\"dataframe\">\n",
       "  <thead>\n",
       "    <tr style=\"text-align: right;\">\n",
       "      <th></th>\n",
       "      <th>district</th>\n",
       "      <th>Generated_revenue</th>\n",
       "    </tr>\n",
       "  </thead>\n",
       "  <tbody>\n",
       "    <tr>\n",
       "      <th>0</th>\n",
       "      <td>BAGERHAT                                      ...</td>\n",
       "      <td>1307651.00</td>\n",
       "    </tr>\n",
       "    <tr>\n",
       "      <th>1</th>\n",
       "      <td>BANDARBAN                                     ...</td>\n",
       "      <td>995360.75</td>\n",
       "    </tr>\n",
       "    <tr>\n",
       "      <th>2</th>\n",
       "      <td>BARGUNA                                       ...</td>\n",
       "      <td>869041.00</td>\n",
       "    </tr>\n",
       "    <tr>\n",
       "      <th>3</th>\n",
       "      <td>BARISAL                                       ...</td>\n",
       "      <td>2897237.75</td>\n",
       "    </tr>\n",
       "    <tr>\n",
       "      <th>4</th>\n",
       "      <td>BHOLA                                         ...</td>\n",
       "      <td>1012205.75</td>\n",
       "    </tr>\n",
       "    <tr>\n",
       "      <th>...</th>\n",
       "      <td>...</td>\n",
       "      <td>...</td>\n",
       "    </tr>\n",
       "    <tr>\n",
       "      <th>59</th>\n",
       "      <td>SIRAJGANJ                                     ...</td>\n",
       "      <td>1295100.75</td>\n",
       "    </tr>\n",
       "    <tr>\n",
       "      <th>60</th>\n",
       "      <td>SUNAMGANJ                                     ...</td>\n",
       "      <td>1593774.00</td>\n",
       "    </tr>\n",
       "    <tr>\n",
       "      <th>61</th>\n",
       "      <td>SYLHET                                        ...</td>\n",
       "      <td>1727717.25</td>\n",
       "    </tr>\n",
       "    <tr>\n",
       "      <th>62</th>\n",
       "      <td>TANGAIL                                       ...</td>\n",
       "      <td>1774650.25</td>\n",
       "    </tr>\n",
       "    <tr>\n",
       "      <th>63</th>\n",
       "      <td>THAKURGAON                                    ...</td>\n",
       "      <td>729934.25</td>\n",
       "    </tr>\n",
       "  </tbody>\n",
       "</table>\n",
       "<p>64 rows × 2 columns</p>\n",
       "</div>"
      ],
      "text/plain": [
       "                                             district  Generated_revenue\n",
       "0   BAGERHAT                                      ...         1307651.00\n",
       "1   BANDARBAN                                     ...          995360.75\n",
       "2   BARGUNA                                       ...          869041.00\n",
       "3   BARISAL                                       ...         2897237.75\n",
       "4   BHOLA                                         ...         1012205.75\n",
       "..                                                ...                ...\n",
       "59  SIRAJGANJ                                     ...         1295100.75\n",
       "60  SUNAMGANJ                                     ...         1593774.00\n",
       "61  SYLHET                                        ...         1727717.25\n",
       "62  TANGAIL                                       ...         1774650.25\n",
       "63  THAKURGAON                                    ...          729934.25\n",
       "\n",
       "[64 rows x 2 columns]"
      ]
     },
     "execution_count": 18,
     "metadata": {},
     "output_type": "execute_result"
    }
   ],
   "source": [
    "df2"
   ]
  },
  {
   "cell_type": "code",
   "execution_count": 28,
   "id": "b84450df",
   "metadata": {},
   "outputs": [
    {
     "name": "stdout",
     "output_type": "stream",
     "text": [
      "Collecting seaborn\n",
      "  Downloading seaborn-0.11.2-py3-none-any.whl (292 kB)\n",
      "     -------------------------------------- 292.8/292.8 kB 1.1 MB/s eta 0:00:00\n",
      "Requirement already satisfied: pandas>=0.23 in c:\\users\\arifurk\\myenv\\lib\\site-packages (from seaborn) (1.4.3)\n",
      "Requirement already satisfied: matplotlib>=2.2 in c:\\users\\arifurk\\myenv\\lib\\site-packages (from seaborn) (3.5.3)\n",
      "Requirement already satisfied: numpy>=1.15 in c:\\users\\arifurk\\myenv\\lib\\site-packages (from seaborn) (1.23.2)\n",
      "Collecting scipy>=1.0\n",
      "  Downloading scipy-1.9.0-cp310-cp310-win_amd64.whl (38.6 MB)\n",
      "     ---------------------------------------- 38.6/38.6 MB 1.1 MB/s eta 0:00:00\n",
      "Requirement already satisfied: fonttools>=4.22.0 in c:\\users\\arifurk\\myenv\\lib\\site-packages (from matplotlib>=2.2->seaborn) (4.36.0)\n",
      "Requirement already satisfied: cycler>=0.10 in c:\\users\\arifurk\\myenv\\lib\\site-packages (from matplotlib>=2.2->seaborn) (0.11.0)\n",
      "Requirement already satisfied: python-dateutil>=2.7 in c:\\users\\arifurk\\myenv\\lib\\site-packages (from matplotlib>=2.2->seaborn) (2.8.2)\n",
      "Requirement already satisfied: packaging>=20.0 in c:\\users\\arifurk\\myenv\\lib\\site-packages (from matplotlib>=2.2->seaborn) (21.3)\n",
      "Requirement already satisfied: pillow>=6.2.0 in c:\\users\\arifurk\\myenv\\lib\\site-packages (from matplotlib>=2.2->seaborn) (9.2.0)\n",
      "Requirement already satisfied: pyparsing>=2.2.1 in c:\\users\\arifurk\\myenv\\lib\\site-packages (from matplotlib>=2.2->seaborn) (3.0.9)\n",
      "Requirement already satisfied: kiwisolver>=1.0.1 in c:\\users\\arifurk\\myenv\\lib\\site-packages (from matplotlib>=2.2->seaborn) (1.4.4)\n",
      "Requirement already satisfied: pytz>=2020.1 in c:\\users\\arifurk\\myenv\\lib\\site-packages (from pandas>=0.23->seaborn) (2022.2.1)\n",
      "Requirement already satisfied: six>=1.5 in c:\\users\\arifurk\\myenv\\lib\\site-packages (from python-dateutil>=2.7->matplotlib>=2.2->seaborn) (1.16.0)\n",
      "Installing collected packages: scipy, seaborn\n",
      "Successfully installed scipy-1.9.0 seaborn-0.11.2\n",
      "Note: you may need to restart the kernel to use updated packages.\n"
     ]
    }
   ],
   "source": [
    "pip install seaborn"
   ]
  },
  {
   "cell_type": "code",
   "execution_count": 19,
   "id": "00973d38",
   "metadata": {},
   "outputs": [],
   "source": [
    "import seaborn as sns"
   ]
  },
  {
   "cell_type": "code",
   "execution_count": 66,
   "id": "22df2764",
   "metadata": {},
   "outputs": [
    {
     "data": {
      "image/png": "[encoded data removed]",
      "text/plain": [
       "<Figure size 1080x1800 with 1 Axes>"
      ]
     },
     "metadata": {
      "needs_background": "light"
     },
     "output_type": "display_data"
    }
   ],
   "source": [
    "district_order = df2['district']\n",
    "plt.figure(figsize=(15, 25))\n",
    "sns.barplot(data=df2,x='Generated_revenue',y='district',order=df2.sort_values('Generated_revenue',ascending = False).district)\n",
    "sns.color_palette(\"mako\", as_cmap=True)\n",
    "plt.title('Top 10 Athletes with the most awarded Medals')\n",
    "plt.xlabel('No. of awrded medals')\n",
    "plt.ylabel('Athlete Name');"
   ]
  },
  {
   "cell_type": "code",
   "execution_count": null,
   "id": "1bac1567",
   "metadata": {},
   "outputs": [],
   "source": []
  },
  {
   "cell_type": "code",
   "execution_count": null,
   "id": "e69867c7",
   "metadata": {},
   "outputs": [],
   "source": []
  },
  {
   "cell_type": "code",
   "execution_count": null,
   "id": "48500560",
   "metadata": {},
   "outputs": [],
   "source": []
  },
  {
   "cell_type": "code",
   "execution_count": null,
   "id": "5c6cd53d",
   "metadata": {},
   "outputs": [],
   "source": []
  },
  {
   "cell_type": "code",
   "execution_count": 12,
   "id": "7ae5be0a",
   "metadata": {},
   "outputs": [
    {
     "name": "stdout",
     "output_type": "stream",
     "text": [
      "Connection to DB established!\n"
     ]
    },
    {
     "name": "stderr",
     "output_type": "stream",
     "text": [
      "C:\\Users\\Arifurk\\myenv\\lib\\site-packages\\pandas\\io\\sql.py:761: UserWarning: pandas only support SQLAlchemy connectable(engine/connection) ordatabase string URI or sqlite3 DBAPI2 connectionother DBAPI2 objects are not tested, please consider using SQLAlchemy\n",
      "  warnings.warn(\n"
     ]
    }
   ],
   "source": [
    "con = PostgresConnection().getConnection()\n",
    "insert_stmt = \"\"\"SELECT time_dim.year as \"Year\", SUM(fact_table.total_price) \"Generated_revenue\" \n",
    "FROM star.fact_table \n",
    "JOIN star.time_dim ON\n",
    "time_dim.time_key = fact_table.time_key \n",
    "GROUP BY time_dim.year\n",
    "ORDER BY time_dim.year\"\"\"\n",
    "cur = con.cursor()\n",
    "# psycopg2.extras.execute_batch(cur, insert_stmt, fact_data.values)\n",
    "yearwise_income = pd.read_sql_query(insert_stmt, con)\n",
    "con.commit()\n",
    "cur.close()"
   ]
  },
  {
   "cell_type": "code",
   "execution_count": 13,
   "id": "7617ee60",
   "metadata": {},
   "outputs": [
    {
     "data": {
      "text/html": [
       "<div>\n",
       "<style scoped>\n",
       "    .dataframe tbody tr th:only-of-type {\n",
       "        vertical-align: middle;\n",
       "    }\n",
       "\n",
       "    .dataframe tbody tr th {\n",
       "        vertical-align: top;\n",
       "    }\n",
       "\n",
       "    .dataframe thead th {\n",
       "        text-align: right;\n",
       "    }\n",
       "</style>\n",
       "<table border=\"1\" class=\"dataframe\">\n",
       "  <thead>\n",
       "    <tr style=\"text-align: right;\">\n",
       "      <th></th>\n",
       "      <th>Year</th>\n",
       "      <th>Generated_revenue</th>\n",
       "    </tr>\n",
       "  </thead>\n",
       "  <tbody>\n",
       "    <tr>\n",
       "      <th>0</th>\n",
       "      <td>2014.0</td>\n",
       "      <td>14334731.25</td>\n",
       "    </tr>\n",
       "    <tr>\n",
       "      <th>1</th>\n",
       "      <td>2015.0</td>\n",
       "      <td>15095720.25</td>\n",
       "    </tr>\n",
       "    <tr>\n",
       "      <th>2</th>\n",
       "      <td>2016.0</td>\n",
       "      <td>14976508.25</td>\n",
       "    </tr>\n",
       "    <tr>\n",
       "      <th>3</th>\n",
       "      <td>2017.0</td>\n",
       "      <td>15015806.00</td>\n",
       "    </tr>\n",
       "    <tr>\n",
       "      <th>4</th>\n",
       "      <td>2018.0</td>\n",
       "      <td>15108197.25</td>\n",
       "    </tr>\n",
       "    <tr>\n",
       "      <th>5</th>\n",
       "      <td>2019.0</td>\n",
       "      <td>14949510.25</td>\n",
       "    </tr>\n",
       "    <tr>\n",
       "      <th>6</th>\n",
       "      <td>2020.0</td>\n",
       "      <td>15037190.25</td>\n",
       "    </tr>\n",
       "    <tr>\n",
       "      <th>7</th>\n",
       "      <td>2021.0</td>\n",
       "      <td>883772.25</td>\n",
       "    </tr>\n",
       "  </tbody>\n",
       "</table>\n",
       "</div>"
      ],
      "text/plain": [
       "     Year  Generated_revenue\n",
       "0  2014.0        14334731.25\n",
       "1  2015.0        15095720.25\n",
       "2  2016.0        14976508.25\n",
       "3  2017.0        15015806.00\n",
       "4  2018.0        15108197.25\n",
       "5  2019.0        14949510.25\n",
       "6  2020.0        15037190.25\n",
       "7  2021.0          883772.25"
      ]
     },
     "execution_count": 13,
     "metadata": {},
     "output_type": "execute_result"
    }
   ],
   "source": [
    "yearwise_income\n"
   ]
  },
  {
   "cell_type": "code",
   "execution_count": 14,
   "id": "435bb745",
   "metadata": {},
   "outputs": [
    {
     "name": "stdout",
     "output_type": "stream",
     "text": [
      "Connection to DB established!\n"
     ]
    },
    {
     "name": "stderr",
     "output_type": "stream",
     "text": [
      "C:\\Users\\Arifurk\\myenv\\lib\\site-packages\\pandas\\io\\sql.py:761: UserWarning: pandas only support SQLAlchemy connectable(engine/connection) ordatabase string URI or sqlite3 DBAPI2 connectionother DBAPI2 objects are not tested, please consider using SQLAlchemy\n",
      "  warnings.warn(\n"
     ]
    }
   ],
   "source": [
    "con = PostgresConnection().getConnection()\n",
    "insert_stmt = \"\"\"SELECT time_dim.month as \"Month\", SUM(fact_table.total_price) \"Generated_revenue\" \n",
    "FROM star.fact_table \n",
    "JOIN star.time_dim ON\n",
    "time_dim.time_key = fact_table.time_key \n",
    "GROUP BY time_dim.month\n",
    "ORDER BY time_dim.month\"\"\"\n",
    "cur = con.cursor()\n",
    "monthwise_income = pd.read_sql_query(insert_stmt, con)\n",
    "con.commit()\n",
    "cur.close()"
   ]
  },
  {
   "cell_type": "code",
   "execution_count": 15,
   "id": "2ddbcd73",
   "metadata": {},
   "outputs": [
    {
     "data": {
      "text/html": [
       "<div>\n",
       "<style scoped>\n",
       "    .dataframe tbody tr th:only-of-type {\n",
       "        vertical-align: middle;\n",
       "    }\n",
       "\n",
       "    .dataframe tbody tr th {\n",
       "        vertical-align: top;\n",
       "    }\n",
       "\n",
       "    .dataframe thead th {\n",
       "        text-align: right;\n",
       "    }\n",
       "</style>\n",
       "<table border=\"1\" class=\"dataframe\">\n",
       "  <thead>\n",
       "    <tr style=\"text-align: right;\">\n",
       "      <th></th>\n",
       "      <th>Month</th>\n",
       "      <th>Generated_revenue</th>\n",
       "    </tr>\n",
       "  </thead>\n",
       "  <tbody>\n",
       "    <tr>\n",
       "      <th>0</th>\n",
       "      <td>1.0</td>\n",
       "      <td>9042244.00</td>\n",
       "    </tr>\n",
       "    <tr>\n",
       "      <th>1</th>\n",
       "      <td>2.0</td>\n",
       "      <td>8073877.50</td>\n",
       "    </tr>\n",
       "    <tr>\n",
       "      <th>2</th>\n",
       "      <td>3.0</td>\n",
       "      <td>8939152.00</td>\n",
       "    </tr>\n",
       "    <tr>\n",
       "      <th>3</th>\n",
       "      <td>4.0</td>\n",
       "      <td>8504634.75</td>\n",
       "    </tr>\n",
       "    <tr>\n",
       "      <th>4</th>\n",
       "      <td>5.0</td>\n",
       "      <td>9078002.50</td>\n",
       "    </tr>\n",
       "    <tr>\n",
       "      <th>5</th>\n",
       "      <td>6.0</td>\n",
       "      <td>8556853.00</td>\n",
       "    </tr>\n",
       "    <tr>\n",
       "      <th>6</th>\n",
       "      <td>7.0</td>\n",
       "      <td>9046580.00</td>\n",
       "    </tr>\n",
       "    <tr>\n",
       "      <th>7</th>\n",
       "      <td>8.0</td>\n",
       "      <td>8929475.25</td>\n",
       "    </tr>\n",
       "    <tr>\n",
       "      <th>8</th>\n",
       "      <td>9.0</td>\n",
       "      <td>8724326.50</td>\n",
       "    </tr>\n",
       "    <tr>\n",
       "      <th>9</th>\n",
       "      <td>10.0</td>\n",
       "      <td>8902783.75</td>\n",
       "    </tr>\n",
       "    <tr>\n",
       "      <th>10</th>\n",
       "      <td>11.0</td>\n",
       "      <td>8680026.00</td>\n",
       "    </tr>\n",
       "    <tr>\n",
       "      <th>11</th>\n",
       "      <td>12.0</td>\n",
       "      <td>8923480.50</td>\n",
       "    </tr>\n",
       "  </tbody>\n",
       "</table>\n",
       "</div>"
      ],
      "text/plain": [
       "    Month  Generated_revenue\n",
       "0     1.0         9042244.00\n",
       "1     2.0         8073877.50\n",
       "2     3.0         8939152.00\n",
       "3     4.0         8504634.75\n",
       "4     5.0         9078002.50\n",
       "5     6.0         8556853.00\n",
       "6     7.0         9046580.00\n",
       "7     8.0         8929475.25\n",
       "8     9.0         8724326.50\n",
       "9    10.0         8902783.75\n",
       "10   11.0         8680026.00\n",
       "11   12.0         8923480.50"
      ]
     },
     "execution_count": 15,
     "metadata": {},
     "output_type": "execute_result"
    }
   ],
   "source": [
    "monthwise_income"
   ]
  },
  {
   "cell_type": "code",
   "execution_count": null,
   "id": "e9f1958c",
   "metadata": {},
   "outputs": [],
   "source": []
  }
 ],
 "metadata": {
  "kernelspec": {
   "display_name": "Python 3 (ipykernel)",
   "language": "python",
   "name": "python3"
  },
  "language_info": {
   "codemirror_mode": {
    "name": "ipython",
    "version": 3
   },
   "file_extension": ".py",
   "mimetype": "text/x-python",
   "name": "python",
   "nbconvert_exporter": "python",
   "pygments_lexer": "ipython3",
   "version": "3.10.5"
  }
 },
 "nbformat": 4,
 "nbformat_minor": 5
}

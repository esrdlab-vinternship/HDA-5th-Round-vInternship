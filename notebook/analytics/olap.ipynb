{
 "cells": [
  {
   "cell_type": "code",
   "execution_count": 1,
   "id": "75287437",
   "metadata": {},
   "outputs": [],
   "source": [
    "import psycopg2\n",
    "import psycopg2.extras\n",
    "import pandas as pd\n",
    "import matplotlib.pyplot as plt"
   ]
  },
  {
   "cell_type": "code",
   "execution_count": 2,
   "id": "999eaca6",
   "metadata": {},
   "outputs": [
    {
     "name": "stdout",
     "output_type": "stream",
     "text": [
      "Connection to DB established!\n"
     ]
    }
   ],
   "source": [
    "class PostgresConnection(object):\n",
    "    def __init__(self):\n",
    "        self.connection = psycopg2.connect(database = \"ecomdb\",\n",
    "                                          user = \"postgres\",\n",
    "                                          password = \"*\",\n",
    "                                          host = \"127.0.0.1\",\n",
    "                                          port = \"5432\")\n",
    "    def getConnection(self):\n",
    "        print(\"Connection to DB established!\")\n",
    "        return self.connection\n",
    "con = PostgresConnection().getConnection()"
   ]
  },
  {
   "cell_type": "markdown",
   "id": "daef17ae",
   "metadata": {},
   "source": [
    "**Q1: Find the division/district/year/month wise total_sale_price joining fact table and respective dimension table. **"
   ]
  },
  {
   "cell_type": "markdown",
   "id": "f780bf90",
   "metadata": {},
   "source": [
    "division wise total_sale_price joining fact table and store dimension table"
   ]
  },
  {
   "cell_type": "code",
   "execution_count": 3,
   "id": "5f54f347",
   "metadata": {},
   "outputs": [
    {
     "name": "stdout",
     "output_type": "stream",
     "text": [
      "Connection to DB established!\n"
     ]
    },
    {
     "name": "stderr",
     "output_type": "stream",
     "text": [
      "C:\\Users\\istia\\anaconda3\\lib\\site-packages\\pandas\\io\\sql.py:761: UserWarning: pandas only support SQLAlchemy connectable(engine/connection) ordatabase string URI or sqlite3 DBAPI2 connectionother DBAPI2 objects are not tested, please consider using SQLAlchemy\n",
      "  warnings.warn(\n"
     ]
    }
   ],
   "source": [
    "con = PostgresConnection().getConnection()\n",
    "insert_stmt = \"\"\"SELECT store_dim.division as \"Division\", SUM(fact_table.total_price) \"Total Sale Price\" \n",
    "FROM star_schema.fact_table \n",
    "JOIN star_schema.store_dim ON store_dim.store_key = fact_table.store_key \n",
    "GROUP BY CUBE(store_dim.division) \n",
    "ORDER BY store_dim.division\"\"\"\n",
    "cur = con.cursor()\n",
    "# psycopg2.extras.execute_batch(cur, insert_stmt, fact_data.values)\n",
    "total_price_by_division = pd.read_sql_query(insert_stmt, con)\n",
    "con.commit()\n",
    "cur.close()"
   ]
  },
  {
   "cell_type": "code",
   "execution_count": 143,
   "id": "3fa2996d",
   "metadata": {},
   "outputs": [
    {
     "data": {
      "text/html": [
       "<div>\n",
       "<style scoped>\n",
       "    .dataframe tbody tr th:only-of-type {\n",
       "        vertical-align: middle;\n",
       "    }\n",
       "\n",
       "    .dataframe tbody tr th {\n",
       "        vertical-align: top;\n",
       "    }\n",
       "\n",
       "    .dataframe thead th {\n",
       "        text-align: right;\n",
       "    }\n",
       "</style>\n",
       "<table border=\"1\" class=\"dataframe\">\n",
       "  <thead>\n",
       "    <tr style=\"text-align: right;\">\n",
       "      <th></th>\n",
       "      <th>Division</th>\n",
       "      <th>Total Sale Price</th>\n",
       "    </tr>\n",
       "  </thead>\n",
       "  <tbody>\n",
       "    <tr>\n",
       "      <th>0</th>\n",
       "      <td>BARISAL</td>\n",
       "      <td>7.520344e+06</td>\n",
       "    </tr>\n",
       "    <tr>\n",
       "      <th>1</th>\n",
       "      <td>CHITTAGONG</td>\n",
       "      <td>1.976360e+07</td>\n",
       "    </tr>\n",
       "    <tr>\n",
       "      <th>2</th>\n",
       "      <td>DHAKA</td>\n",
       "      <td>4.076462e+07</td>\n",
       "    </tr>\n",
       "    <tr>\n",
       "      <th>3</th>\n",
       "      <td>KHULNA</td>\n",
       "      <td>1.131161e+07</td>\n",
       "    </tr>\n",
       "    <tr>\n",
       "      <th>4</th>\n",
       "      <td>RAJSHAHI</td>\n",
       "      <td>1.209920e+07</td>\n",
       "    </tr>\n",
       "    <tr>\n",
       "      <th>5</th>\n",
       "      <td>RANGPUR</td>\n",
       "      <td>8.429836e+06</td>\n",
       "    </tr>\n",
       "    <tr>\n",
       "      <th>6</th>\n",
       "      <td>SYLHET</td>\n",
       "      <td>5.512234e+06</td>\n",
       "    </tr>\n",
       "    <tr>\n",
       "      <th>7</th>\n",
       "      <td>None</td>\n",
       "      <td>1.054014e+08</td>\n",
       "    </tr>\n",
       "  </tbody>\n",
       "</table>\n",
       "</div>"
      ],
      "text/plain": [
       "     Division  Total Sale Price\n",
       "0     BARISAL      7.520344e+06\n",
       "1  CHITTAGONG      1.976360e+07\n",
       "2       DHAKA      4.076462e+07\n",
       "3      KHULNA      1.131161e+07\n",
       "4    RAJSHAHI      1.209920e+07\n",
       "5     RANGPUR      8.429836e+06\n",
       "6      SYLHET      5.512234e+06\n",
       "7        None      1.054014e+08"
      ]
     },
     "execution_count": 143,
     "metadata": {},
     "output_type": "execute_result"
    }
   ],
   "source": [
    "total_price_by_division"
   ]
  },
  {
   "cell_type": "markdown",
   "id": "d1489c34",
   "metadata": {},
   "source": [
    "district wise total_sale_price joining fact table and store dimension table"
   ]
  },
  {
   "cell_type": "code",
   "execution_count": 5,
   "id": "f5959205",
   "metadata": {},
   "outputs": [
    {
     "name": "stdout",
     "output_type": "stream",
     "text": [
      "Connection to DB established!\n"
     ]
    },
    {
     "name": "stderr",
     "output_type": "stream",
     "text": [
      "C:\\Users\\istia\\anaconda3\\lib\\site-packages\\pandas\\io\\sql.py:761: UserWarning: pandas only support SQLAlchemy connectable(engine/connection) ordatabase string URI or sqlite3 DBAPI2 connectionother DBAPI2 objects are not tested, please consider using SQLAlchemy\n",
      "  warnings.warn(\n"
     ]
    }
   ],
   "source": [
    "con = PostgresConnection().getConnection()\n",
    "insert_stmt = \"\"\"SELECT store_dim.district as \"District\", SUM(fact_table.total_price) \"Total Sale Price\" \n",
    "FROM star_schema.fact_table \n",
    "JOIN star_schema.store_dim ON store_dim.store_key = fact_table.store_key \n",
    "GROUP BY CUBE(store_dim.district) \n",
    "ORDER BY store_dim.district\"\"\"\n",
    "cur = con.cursor()\n",
    "# psycopg2.extras.execute_batch(cur, insert_stmt, fact_data.values)\n",
    "total_price_by_district = pd.read_sql_query(insert_stmt, con)\n",
    "con.commit()\n",
    "cur.close()"
   ]
  },
  {
   "cell_type": "code",
   "execution_count": 6,
   "id": "4dcbcbb3",
   "metadata": {},
   "outputs": [
    {
     "data": {
      "text/html": [
       "<div>\n",
       "<style scoped>\n",
       "    .dataframe tbody tr th:only-of-type {\n",
       "        vertical-align: middle;\n",
       "    }\n",
       "\n",
       "    .dataframe tbody tr th {\n",
       "        vertical-align: top;\n",
       "    }\n",
       "\n",
       "    .dataframe thead th {\n",
       "        text-align: right;\n",
       "    }\n",
       "</style>\n",
       "<table border=\"1\" class=\"dataframe\">\n",
       "  <thead>\n",
       "    <tr style=\"text-align: right;\">\n",
       "      <th></th>\n",
       "      <th>District</th>\n",
       "      <th>Total Sale Price</th>\n",
       "    </tr>\n",
       "  </thead>\n",
       "  <tbody>\n",
       "    <tr>\n",
       "      <th>0</th>\n",
       "      <td>BAGERHAT</td>\n",
       "      <td>1.307651e+06</td>\n",
       "    </tr>\n",
       "    <tr>\n",
       "      <th>1</th>\n",
       "      <td>BANDARBAN</td>\n",
       "      <td>9.953608e+05</td>\n",
       "    </tr>\n",
       "    <tr>\n",
       "      <th>2</th>\n",
       "      <td>BARGUNA</td>\n",
       "      <td>8.690410e+05</td>\n",
       "    </tr>\n",
       "    <tr>\n",
       "      <th>3</th>\n",
       "      <td>BARISAL</td>\n",
       "      <td>2.897238e+06</td>\n",
       "    </tr>\n",
       "    <tr>\n",
       "      <th>4</th>\n",
       "      <td>BHOLA</td>\n",
       "      <td>1.012206e+06</td>\n",
       "    </tr>\n",
       "    <tr>\n",
       "      <th>...</th>\n",
       "      <td>...</td>\n",
       "      <td>...</td>\n",
       "    </tr>\n",
       "    <tr>\n",
       "      <th>60</th>\n",
       "      <td>SUNAMGANJ</td>\n",
       "      <td>1.593774e+06</td>\n",
       "    </tr>\n",
       "    <tr>\n",
       "      <th>61</th>\n",
       "      <td>SYLHET</td>\n",
       "      <td>1.727717e+06</td>\n",
       "    </tr>\n",
       "    <tr>\n",
       "      <th>62</th>\n",
       "      <td>TANGAIL</td>\n",
       "      <td>1.774650e+06</td>\n",
       "    </tr>\n",
       "    <tr>\n",
       "      <th>63</th>\n",
       "      <td>THAKURGAON</td>\n",
       "      <td>7.299342e+05</td>\n",
       "    </tr>\n",
       "    <tr>\n",
       "      <th>64</th>\n",
       "      <td>None</td>\n",
       "      <td>1.054014e+08</td>\n",
       "    </tr>\n",
       "  </tbody>\n",
       "</table>\n",
       "<p>65 rows × 2 columns</p>\n",
       "</div>"
      ],
      "text/plain": [
       "      District  Total Sale Price\n",
       "0     BAGERHAT      1.307651e+06\n",
       "1    BANDARBAN      9.953608e+05\n",
       "2      BARGUNA      8.690410e+05\n",
       "3      BARISAL      2.897238e+06\n",
       "4        BHOLA      1.012206e+06\n",
       "..         ...               ...\n",
       "60   SUNAMGANJ      1.593774e+06\n",
       "61      SYLHET      1.727717e+06\n",
       "62     TANGAIL      1.774650e+06\n",
       "63  THAKURGAON      7.299342e+05\n",
       "64        None      1.054014e+08\n",
       "\n",
       "[65 rows x 2 columns]"
      ]
     },
     "execution_count": 6,
     "metadata": {},
     "output_type": "execute_result"
    }
   ],
   "source": [
    "total_price_by_district"
   ]
  },
  {
   "cell_type": "markdown",
   "id": "c2c1137e",
   "metadata": {},
   "source": [
    "year wise total_sale_price joining fact table and Time dimension table"
   ]
  },
  {
   "cell_type": "code",
   "execution_count": 7,
   "id": "3564edcb",
   "metadata": {},
   "outputs": [
    {
     "name": "stdout",
     "output_type": "stream",
     "text": [
      "Connection to DB established!\n"
     ]
    },
    {
     "name": "stderr",
     "output_type": "stream",
     "text": [
      "C:\\Users\\istia\\anaconda3\\lib\\site-packages\\pandas\\io\\sql.py:761: UserWarning: pandas only support SQLAlchemy connectable(engine/connection) ordatabase string URI or sqlite3 DBAPI2 connectionother DBAPI2 objects are not tested, please consider using SQLAlchemy\n",
      "  warnings.warn(\n"
     ]
    }
   ],
   "source": [
    "con = PostgresConnection().getConnection()\n",
    "insert_stmt = \"\"\"SELECT time_data.year as \"Year\", SUM(fact_table.total_price) \"Total Sale Price\"\n",
    "FROM star_schema.fact_table\n",
    "JOIN star_schema.time_data ON time_data.time_key = fact_table.time_key\n",
    "GROUP BY CUBE(time_data.year)\n",
    "ORDER BY time_data.year\"\"\"\n",
    "cur = con.cursor()\n",
    "# psycopg2.extras.execute_batch(cur, insert_stmt, fact_data.values)\n",
    "total_price_by_year = pd.read_sql_query(insert_stmt, con)\n",
    "con.commit()\n",
    "cur.close()"
   ]
  },
  {
   "cell_type": "code",
   "execution_count": 8,
   "id": "a514b492",
   "metadata": {},
   "outputs": [
    {
     "data": {
      "text/html": [
       "<div>\n",
       "<style scoped>\n",
       "    .dataframe tbody tr th:only-of-type {\n",
       "        vertical-align: middle;\n",
       "    }\n",
       "\n",
       "    .dataframe tbody tr th {\n",
       "        vertical-align: top;\n",
       "    }\n",
       "\n",
       "    .dataframe thead th {\n",
       "        text-align: right;\n",
       "    }\n",
       "</style>\n",
       "<table border=\"1\" class=\"dataframe\">\n",
       "  <thead>\n",
       "    <tr style=\"text-align: right;\">\n",
       "      <th></th>\n",
       "      <th>Year</th>\n",
       "      <th>Total Sale Price</th>\n",
       "    </tr>\n",
       "  </thead>\n",
       "  <tbody>\n",
       "    <tr>\n",
       "      <th>0</th>\n",
       "      <td>2014.0</td>\n",
       "      <td>1.433473e+07</td>\n",
       "    </tr>\n",
       "    <tr>\n",
       "      <th>1</th>\n",
       "      <td>2015.0</td>\n",
       "      <td>1.509572e+07</td>\n",
       "    </tr>\n",
       "    <tr>\n",
       "      <th>2</th>\n",
       "      <td>2016.0</td>\n",
       "      <td>1.497651e+07</td>\n",
       "    </tr>\n",
       "    <tr>\n",
       "      <th>3</th>\n",
       "      <td>2017.0</td>\n",
       "      <td>1.501581e+07</td>\n",
       "    </tr>\n",
       "    <tr>\n",
       "      <th>4</th>\n",
       "      <td>2018.0</td>\n",
       "      <td>1.510820e+07</td>\n",
       "    </tr>\n",
       "    <tr>\n",
       "      <th>5</th>\n",
       "      <td>2019.0</td>\n",
       "      <td>1.494951e+07</td>\n",
       "    </tr>\n",
       "    <tr>\n",
       "      <th>6</th>\n",
       "      <td>2020.0</td>\n",
       "      <td>1.503719e+07</td>\n",
       "    </tr>\n",
       "    <tr>\n",
       "      <th>7</th>\n",
       "      <td>2021.0</td>\n",
       "      <td>8.837722e+05</td>\n",
       "    </tr>\n",
       "    <tr>\n",
       "      <th>8</th>\n",
       "      <td>NaN</td>\n",
       "      <td>1.054014e+08</td>\n",
       "    </tr>\n",
       "  </tbody>\n",
       "</table>\n",
       "</div>"
      ],
      "text/plain": [
       "     Year  Total Sale Price\n",
       "0  2014.0      1.433473e+07\n",
       "1  2015.0      1.509572e+07\n",
       "2  2016.0      1.497651e+07\n",
       "3  2017.0      1.501581e+07\n",
       "4  2018.0      1.510820e+07\n",
       "5  2019.0      1.494951e+07\n",
       "6  2020.0      1.503719e+07\n",
       "7  2021.0      8.837722e+05\n",
       "8     NaN      1.054014e+08"
      ]
     },
     "execution_count": 8,
     "metadata": {},
     "output_type": "execute_result"
    }
   ],
   "source": [
    "total_price_by_year"
   ]
  },
  {
   "cell_type": "markdown",
   "id": "e18a2ad4",
   "metadata": {},
   "source": [
    "month wise total_sale_price joining fact table and Time dimension table\n"
   ]
  },
  {
   "cell_type": "code",
   "execution_count": 9,
   "id": "21af7d78",
   "metadata": {},
   "outputs": [
    {
     "name": "stdout",
     "output_type": "stream",
     "text": [
      "Connection to DB established!\n"
     ]
    },
    {
     "name": "stderr",
     "output_type": "stream",
     "text": [
      "C:\\Users\\istia\\anaconda3\\lib\\site-packages\\pandas\\io\\sql.py:761: UserWarning: pandas only support SQLAlchemy connectable(engine/connection) ordatabase string URI or sqlite3 DBAPI2 connectionother DBAPI2 objects are not tested, please consider using SQLAlchemy\n",
      "  warnings.warn(\n"
     ]
    }
   ],
   "source": [
    "con = PostgresConnection().getConnection()\n",
    "insert_stmt = \"\"\"SELECT time_data.month as \"Month\", SUM(fact_table.total_price) \"Total Sale Price\"\n",
    "FROM star_schema.fact_table\n",
    "JOIN star_schema.time_data ON time_data.time_key = fact_table.time_key\n",
    "GROUP BY CUBE(time_data.month)\n",
    "ORDER BY time_data.month\"\"\"\n",
    "cur = con.cursor()\n",
    "# psycopg2.extras.execute_batch(cur, insert_stmt, fact_data.values)\n",
    "total_price_by_month = pd.read_sql_query(insert_stmt, con)\n",
    "con.commit()\n",
    "cur.close()"
   ]
  },
  {
   "cell_type": "code",
   "execution_count": 10,
   "id": "7841cbe2",
   "metadata": {},
   "outputs": [
    {
     "data": {
      "text/html": [
       "<div>\n",
       "<style scoped>\n",
       "    .dataframe tbody tr th:only-of-type {\n",
       "        vertical-align: middle;\n",
       "    }\n",
       "\n",
       "    .dataframe tbody tr th {\n",
       "        vertical-align: top;\n",
       "    }\n",
       "\n",
       "    .dataframe thead th {\n",
       "        text-align: right;\n",
       "    }\n",
       "</style>\n",
       "<table border=\"1\" class=\"dataframe\">\n",
       "  <thead>\n",
       "    <tr style=\"text-align: right;\">\n",
       "      <th></th>\n",
       "      <th>Month</th>\n",
       "      <th>Total Sale Price</th>\n",
       "    </tr>\n",
       "  </thead>\n",
       "  <tbody>\n",
       "    <tr>\n",
       "      <th>0</th>\n",
       "      <td>1.0</td>\n",
       "      <td>9.042244e+06</td>\n",
       "    </tr>\n",
       "    <tr>\n",
       "      <th>1</th>\n",
       "      <td>2.0</td>\n",
       "      <td>8.073878e+06</td>\n",
       "    </tr>\n",
       "    <tr>\n",
       "      <th>2</th>\n",
       "      <td>3.0</td>\n",
       "      <td>8.939152e+06</td>\n",
       "    </tr>\n",
       "    <tr>\n",
       "      <th>3</th>\n",
       "      <td>4.0</td>\n",
       "      <td>8.504635e+06</td>\n",
       "    </tr>\n",
       "    <tr>\n",
       "      <th>4</th>\n",
       "      <td>5.0</td>\n",
       "      <td>9.078002e+06</td>\n",
       "    </tr>\n",
       "    <tr>\n",
       "      <th>5</th>\n",
       "      <td>6.0</td>\n",
       "      <td>8.556853e+06</td>\n",
       "    </tr>\n",
       "    <tr>\n",
       "      <th>6</th>\n",
       "      <td>7.0</td>\n",
       "      <td>9.046580e+06</td>\n",
       "    </tr>\n",
       "    <tr>\n",
       "      <th>7</th>\n",
       "      <td>8.0</td>\n",
       "      <td>8.929475e+06</td>\n",
       "    </tr>\n",
       "    <tr>\n",
       "      <th>8</th>\n",
       "      <td>9.0</td>\n",
       "      <td>8.724326e+06</td>\n",
       "    </tr>\n",
       "    <tr>\n",
       "      <th>9</th>\n",
       "      <td>10.0</td>\n",
       "      <td>8.902784e+06</td>\n",
       "    </tr>\n",
       "    <tr>\n",
       "      <th>10</th>\n",
       "      <td>11.0</td>\n",
       "      <td>8.680026e+06</td>\n",
       "    </tr>\n",
       "    <tr>\n",
       "      <th>11</th>\n",
       "      <td>12.0</td>\n",
       "      <td>8.923480e+06</td>\n",
       "    </tr>\n",
       "    <tr>\n",
       "      <th>12</th>\n",
       "      <td>NaN</td>\n",
       "      <td>1.054014e+08</td>\n",
       "    </tr>\n",
       "  </tbody>\n",
       "</table>\n",
       "</div>"
      ],
      "text/plain": [
       "    Month  Total Sale Price\n",
       "0     1.0      9.042244e+06\n",
       "1     2.0      8.073878e+06\n",
       "2     3.0      8.939152e+06\n",
       "3     4.0      8.504635e+06\n",
       "4     5.0      9.078002e+06\n",
       "5     6.0      8.556853e+06\n",
       "6     7.0      9.046580e+06\n",
       "7     8.0      8.929475e+06\n",
       "8     9.0      8.724326e+06\n",
       "9    10.0      8.902784e+06\n",
       "10   11.0      8.680026e+06\n",
       "11   12.0      8.923480e+06\n",
       "12    NaN      1.054014e+08"
      ]
     },
     "execution_count": 10,
     "metadata": {},
     "output_type": "execute_result"
    }
   ],
   "source": [
    "total_price_by_month"
   ]
  },
  {
   "cell_type": "markdown",
   "id": "d9bfd5c8",
   "metadata": {},
   "source": [
    "**Q2: Find the customer/bank/transaction(cash/online) wise total_sale_price joining fact table and respective dimension table **"
   ]
  },
  {
   "cell_type": "markdown",
   "id": "adacc424",
   "metadata": {},
   "source": [
    "customer wise total sale price joining fact table and customer dimension table"
   ]
  },
  {
   "cell_type": "code",
   "execution_count": 146,
   "id": "e1c307f5",
   "metadata": {},
   "outputs": [
    {
     "name": "stdout",
     "output_type": "stream",
     "text": [
      "Connection to DB established!\n"
     ]
    },
    {
     "name": "stderr",
     "output_type": "stream",
     "text": [
      "C:\\Users\\istia\\anaconda3\\lib\\site-packages\\pandas\\io\\sql.py:761: UserWarning: pandas only support SQLAlchemy connectable(engine/connection) ordatabase string URI or sqlite3 DBAPI2 connectionother DBAPI2 objects are not tested, please consider using SQLAlchemy\n",
      "  warnings.warn(\n"
     ]
    }
   ],
   "source": [
    "con = PostgresConnection().getConnection()\n",
    "insert_stmt = \"\"\"SELECT customer_dim.name as \"Name\", SUM(fact_table.total_price) \"Total Sale Price\"\n",
    "FROM star_schema.fact_table\n",
    "JOIN star_schema.customer_dim ON customer_dim.coustomer_key = fact_table.coustomer_key\n",
    "JOIN star_schema.trans_dim ON trans_dim.payment_key = fact_table.payment_key\n",
    "WHERE (trans_type = 'cash' OR trans_type = 'mobile')\n",
    "GROUP BY CUBE(customer_dim.name)\n",
    "ORDER BY customer_dim.name\"\"\"\n",
    "cur = con.cursor()\n",
    "# psycopg2.extras.execute_batch(cur, insert_stmt, fact_data.values)\n",
    "total_price_by_customer = pd.read_sql_query(insert_stmt, con)\n",
    "con.commit()\n",
    "cur.close()"
   ]
  },
  {
   "cell_type": "code",
   "execution_count": 147,
   "id": "b6f8e20e",
   "metadata": {},
   "outputs": [
    {
     "data": {
      "text/html": [
       "<div>\n",
       "<style scoped>\n",
       "    .dataframe tbody tr th:only-of-type {\n",
       "        vertical-align: middle;\n",
       "    }\n",
       "\n",
       "    .dataframe tbody tr th {\n",
       "        vertical-align: top;\n",
       "    }\n",
       "\n",
       "    .dataframe thead th {\n",
       "        text-align: right;\n",
       "    }\n",
       "</style>\n",
       "<table border=\"1\" class=\"dataframe\">\n",
       "  <thead>\n",
       "    <tr style=\"text-align: right;\">\n",
       "      <th></th>\n",
       "      <th>Name</th>\n",
       "      <th>Total Sale Price</th>\n",
       "    </tr>\n",
       "  </thead>\n",
       "  <tbody>\n",
       "    <tr>\n",
       "      <th>0</th>\n",
       "      <td>-</td>\n",
       "      <td>2191.50</td>\n",
       "    </tr>\n",
       "    <tr>\n",
       "      <th>1</th>\n",
       "      <td>????</td>\n",
       "      <td>1670.75</td>\n",
       "    </tr>\n",
       "    <tr>\n",
       "      <th>2</th>\n",
       "      <td>?????</td>\n",
       "      <td>1968.25</td>\n",
       "    </tr>\n",
       "    <tr>\n",
       "      <th>3</th>\n",
       "      <td>????? ??</td>\n",
       "      <td>1044.50</td>\n",
       "    </tr>\n",
       "    <tr>\n",
       "      <th>4</th>\n",
       "      <td>??????</td>\n",
       "      <td>498.50</td>\n",
       "    </tr>\n",
       "    <tr>\n",
       "      <th>...</th>\n",
       "      <td>...</td>\n",
       "      <td>...</td>\n",
       "    </tr>\n",
       "    <tr>\n",
       "      <th>4531</th>\n",
       "      <td>zeenat</td>\n",
       "      <td>2207.50</td>\n",
       "    </tr>\n",
       "    <tr>\n",
       "      <th>4532</th>\n",
       "      <td>zenab khan</td>\n",
       "      <td>733.00</td>\n",
       "    </tr>\n",
       "    <tr>\n",
       "      <th>4533</th>\n",
       "      <td>zina kumari</td>\n",
       "      <td>999.25</td>\n",
       "    </tr>\n",
       "    <tr>\n",
       "      <th>4534</th>\n",
       "      <td>ziyabul</td>\n",
       "      <td>638.25</td>\n",
       "    </tr>\n",
       "    <tr>\n",
       "      <th>4535</th>\n",
       "      <td>None</td>\n",
       "      <td>10818397.25</td>\n",
       "    </tr>\n",
       "  </tbody>\n",
       "</table>\n",
       "<p>4536 rows × 2 columns</p>\n",
       "</div>"
      ],
      "text/plain": [
       "             Name  Total Sale Price\n",
       "0               -           2191.50\n",
       "1            ????           1670.75\n",
       "2           ?????           1968.25\n",
       "3        ????? ??           1044.50\n",
       "4          ??????            498.50\n",
       "...           ...               ...\n",
       "4531       zeenat           2207.50\n",
       "4532   zenab khan            733.00\n",
       "4533  zina kumari            999.25\n",
       "4534      ziyabul            638.25\n",
       "4535         None       10818397.25\n",
       "\n",
       "[4536 rows x 2 columns]"
      ]
     },
     "execution_count": 147,
     "metadata": {},
     "output_type": "execute_result"
    }
   ],
   "source": [
    "total_price_by_customer"
   ]
  },
  {
   "cell_type": "markdown",
   "id": "e7e23917",
   "metadata": {},
   "source": [
    "bank wise total sale price joining fact table and Transaction dimension table"
   ]
  },
  {
   "cell_type": "code",
   "execution_count": 13,
   "id": "738f5b84",
   "metadata": {},
   "outputs": [
    {
     "name": "stdout",
     "output_type": "stream",
     "text": [
      "Connection to DB established!\n"
     ]
    },
    {
     "name": "stderr",
     "output_type": "stream",
     "text": [
      "C:\\Users\\istia\\anaconda3\\lib\\site-packages\\pandas\\io\\sql.py:761: UserWarning: pandas only support SQLAlchemy connectable(engine/connection) ordatabase string URI or sqlite3 DBAPI2 connectionother DBAPI2 objects are not tested, please consider using SQLAlchemy\n",
      "  warnings.warn(\n"
     ]
    }
   ],
   "source": [
    "con = PostgresConnection().getConnection()\n",
    "insert_stmt = \"\"\"SELECT trans_dim.bank_name as \"Bank Name\", SUM(fact_table.total_price) \"Total Sale Price\"\n",
    "FROM star_schema.fact_table\n",
    "JOIN star_schema.trans_dim ON trans_dim.payment_key = fact_table.payment_key\n",
    "GROUP BY CUBE(trans_dim.bank_name)\n",
    "ORDER BY trans_dim.bank_name\"\"\"\n",
    "cur = con.cursor()\n",
    "# psycopg2.extras.execute_batch(cur, insert_stmt, fact_data.values)\n",
    "total_price_by_bank= pd.read_sql_query(insert_stmt, con)\n",
    "con.commit()\n",
    "cur.close()"
   ]
  },
  {
   "cell_type": "code",
   "execution_count": 14,
   "id": "07882228",
   "metadata": {},
   "outputs": [
    {
     "data": {
      "text/html": [
       "<div>\n",
       "<style scoped>\n",
       "    .dataframe tbody tr th:only-of-type {\n",
       "        vertical-align: middle;\n",
       "    }\n",
       "\n",
       "    .dataframe tbody tr th {\n",
       "        vertical-align: top;\n",
       "    }\n",
       "\n",
       "    .dataframe thead th {\n",
       "        text-align: right;\n",
       "    }\n",
       "</style>\n",
       "<table border=\"1\" class=\"dataframe\">\n",
       "  <thead>\n",
       "    <tr style=\"text-align: right;\">\n",
       "      <th></th>\n",
       "      <th>Bank Name</th>\n",
       "      <th>Total Sale Price</th>\n",
       "    </tr>\n",
       "  </thead>\n",
       "  <tbody>\n",
       "    <tr>\n",
       "      <th>0</th>\n",
       "      <td>AB Bank Limited</td>\n",
       "      <td>2.728516e+06</td>\n",
       "    </tr>\n",
       "    <tr>\n",
       "      <th>1</th>\n",
       "      <td>Bangladesh Commerce Bank Limited</td>\n",
       "      <td>2.730999e+06</td>\n",
       "    </tr>\n",
       "    <tr>\n",
       "      <th>2</th>\n",
       "      <td>Bank Asia Limited</td>\n",
       "      <td>2.687143e+06</td>\n",
       "    </tr>\n",
       "    <tr>\n",
       "      <th>3</th>\n",
       "      <td>Bengal Commercial Bank Ltd</td>\n",
       "      <td>2.704554e+06</td>\n",
       "    </tr>\n",
       "    <tr>\n",
       "      <th>4</th>\n",
       "      <td>Bkash</td>\n",
       "      <td>2.689352e+06</td>\n",
       "    </tr>\n",
       "    <tr>\n",
       "      <th>5</th>\n",
       "      <td>BRAC Bank Limited</td>\n",
       "      <td>2.705796e+06</td>\n",
       "    </tr>\n",
       "    <tr>\n",
       "      <th>6</th>\n",
       "      <td>Citizens Bank Limited</td>\n",
       "      <td>2.723215e+06</td>\n",
       "    </tr>\n",
       "    <tr>\n",
       "      <th>7</th>\n",
       "      <td>City Bank Limited</td>\n",
       "      <td>2.713952e+06</td>\n",
       "    </tr>\n",
       "    <tr>\n",
       "      <th>8</th>\n",
       "      <td>Community Bank Bangladesh Limited</td>\n",
       "      <td>2.685752e+06</td>\n",
       "    </tr>\n",
       "    <tr>\n",
       "      <th>9</th>\n",
       "      <td>Dhaka Bank Limited</td>\n",
       "      <td>2.728366e+06</td>\n",
       "    </tr>\n",
       "    <tr>\n",
       "      <th>10</th>\n",
       "      <td>Dutch-Bangla Bank Limited</td>\n",
       "      <td>2.692435e+06</td>\n",
       "    </tr>\n",
       "    <tr>\n",
       "      <th>11</th>\n",
       "      <td>Eastern Bank Limited</td>\n",
       "      <td>2.687182e+06</td>\n",
       "    </tr>\n",
       "    <tr>\n",
       "      <th>12</th>\n",
       "      <td>IFIC Bank Limited</td>\n",
       "      <td>2.699760e+06</td>\n",
       "    </tr>\n",
       "    <tr>\n",
       "      <th>13</th>\n",
       "      <td>Jamuna Bank Limited</td>\n",
       "      <td>2.689886e+06</td>\n",
       "    </tr>\n",
       "    <tr>\n",
       "      <th>14</th>\n",
       "      <td>Meghna Bank Limited</td>\n",
       "      <td>2.700528e+06</td>\n",
       "    </tr>\n",
       "    <tr>\n",
       "      <th>15</th>\n",
       "      <td>Mercantile Bank Limited</td>\n",
       "      <td>2.676578e+06</td>\n",
       "    </tr>\n",
       "    <tr>\n",
       "      <th>16</th>\n",
       "      <td>Midland Bank Limited</td>\n",
       "      <td>2.688430e+06</td>\n",
       "    </tr>\n",
       "    <tr>\n",
       "      <th>17</th>\n",
       "      <td>Modhumoti Bank Limited</td>\n",
       "      <td>2.715279e+06</td>\n",
       "    </tr>\n",
       "    <tr>\n",
       "      <th>18</th>\n",
       "      <td>Mutual Trust Bank Limited</td>\n",
       "      <td>2.670030e+06</td>\n",
       "    </tr>\n",
       "    <tr>\n",
       "      <th>19</th>\n",
       "      <td>Nagad</td>\n",
       "      <td>2.699554e+06</td>\n",
       "    </tr>\n",
       "    <tr>\n",
       "      <th>20</th>\n",
       "      <td>National Bank Limited</td>\n",
       "      <td>2.697294e+06</td>\n",
       "    </tr>\n",
       "    <tr>\n",
       "      <th>21</th>\n",
       "      <td>National Credit &amp; Commerce Bank Limited</td>\n",
       "      <td>2.723363e+06</td>\n",
       "    </tr>\n",
       "    <tr>\n",
       "      <th>22</th>\n",
       "      <td>None</td>\n",
       "      <td>2.708516e+06</td>\n",
       "    </tr>\n",
       "    <tr>\n",
       "      <th>23</th>\n",
       "      <td>NRB Bank Limited</td>\n",
       "      <td>2.711595e+06</td>\n",
       "    </tr>\n",
       "    <tr>\n",
       "      <th>24</th>\n",
       "      <td>NRB Commercial Bank Ltd</td>\n",
       "      <td>2.692016e+06</td>\n",
       "    </tr>\n",
       "    <tr>\n",
       "      <th>25</th>\n",
       "      <td>NRB Global Bank Ltd</td>\n",
       "      <td>2.700088e+06</td>\n",
       "    </tr>\n",
       "    <tr>\n",
       "      <th>26</th>\n",
       "      <td>One Bank Limited</td>\n",
       "      <td>2.692043e+06</td>\n",
       "    </tr>\n",
       "    <tr>\n",
       "      <th>27</th>\n",
       "      <td>Padma Bank Limited</td>\n",
       "      <td>2.708084e+06</td>\n",
       "    </tr>\n",
       "    <tr>\n",
       "      <th>28</th>\n",
       "      <td>Premier Bank Limited</td>\n",
       "      <td>2.690828e+06</td>\n",
       "    </tr>\n",
       "    <tr>\n",
       "      <th>29</th>\n",
       "      <td>Prime Bank Limited</td>\n",
       "      <td>2.698896e+06</td>\n",
       "    </tr>\n",
       "    <tr>\n",
       "      <th>30</th>\n",
       "      <td>Pubali Bank Limited</td>\n",
       "      <td>2.682788e+06</td>\n",
       "    </tr>\n",
       "    <tr>\n",
       "      <th>31</th>\n",
       "      <td>Rocket</td>\n",
       "      <td>2.720974e+06</td>\n",
       "    </tr>\n",
       "    <tr>\n",
       "      <th>32</th>\n",
       "      <td>Shimanto Bank Ltd</td>\n",
       "      <td>2.685805e+06</td>\n",
       "    </tr>\n",
       "    <tr>\n",
       "      <th>33</th>\n",
       "      <td>South Bangla Agriculture and Commerce Bank Lim...</td>\n",
       "      <td>2.728115e+06</td>\n",
       "    </tr>\n",
       "    <tr>\n",
       "      <th>34</th>\n",
       "      <td>Southeast Bank Limited</td>\n",
       "      <td>2.691276e+06</td>\n",
       "    </tr>\n",
       "    <tr>\n",
       "      <th>35</th>\n",
       "      <td>Standard Bank Limited</td>\n",
       "      <td>2.727661e+06</td>\n",
       "    </tr>\n",
       "    <tr>\n",
       "      <th>36</th>\n",
       "      <td>Trust Bank Limited</td>\n",
       "      <td>2.720807e+06</td>\n",
       "    </tr>\n",
       "    <tr>\n",
       "      <th>37</th>\n",
       "      <td>United Commercial Bank Ltd</td>\n",
       "      <td>2.696855e+06</td>\n",
       "    </tr>\n",
       "    <tr>\n",
       "      <th>38</th>\n",
       "      <td>Uttara Bank Limited</td>\n",
       "      <td>2.707120e+06</td>\n",
       "    </tr>\n",
       "    <tr>\n",
       "      <th>39</th>\n",
       "      <td>None</td>\n",
       "      <td>1.054014e+08</td>\n",
       "    </tr>\n",
       "  </tbody>\n",
       "</table>\n",
       "</div>"
      ],
      "text/plain": [
       "                                            Bank Name  Total Sale Price\n",
       "0                                     AB Bank Limited      2.728516e+06\n",
       "1                    Bangladesh Commerce Bank Limited      2.730999e+06\n",
       "2                                   Bank Asia Limited      2.687143e+06\n",
       "3                          Bengal Commercial Bank Ltd      2.704554e+06\n",
       "4                                               Bkash      2.689352e+06\n",
       "5                                   BRAC Bank Limited      2.705796e+06\n",
       "6                               Citizens Bank Limited      2.723215e+06\n",
       "7                                   City Bank Limited      2.713952e+06\n",
       "8                   Community Bank Bangladesh Limited      2.685752e+06\n",
       "9                                  Dhaka Bank Limited      2.728366e+06\n",
       "10                          Dutch-Bangla Bank Limited      2.692435e+06\n",
       "11                               Eastern Bank Limited      2.687182e+06\n",
       "12                                  IFIC Bank Limited      2.699760e+06\n",
       "13                                Jamuna Bank Limited      2.689886e+06\n",
       "14                                Meghna Bank Limited      2.700528e+06\n",
       "15                            Mercantile Bank Limited      2.676578e+06\n",
       "16                               Midland Bank Limited      2.688430e+06\n",
       "17                             Modhumoti Bank Limited      2.715279e+06\n",
       "18                          Mutual Trust Bank Limited      2.670030e+06\n",
       "19                                              Nagad      2.699554e+06\n",
       "20                              National Bank Limited      2.697294e+06\n",
       "21            National Credit & Commerce Bank Limited      2.723363e+06\n",
       "22                                               None      2.708516e+06\n",
       "23                                   NRB Bank Limited      2.711595e+06\n",
       "24                            NRB Commercial Bank Ltd      2.692016e+06\n",
       "25                                NRB Global Bank Ltd      2.700088e+06\n",
       "26                                   One Bank Limited      2.692043e+06\n",
       "27                                 Padma Bank Limited      2.708084e+06\n",
       "28                               Premier Bank Limited      2.690828e+06\n",
       "29                                 Prime Bank Limited      2.698896e+06\n",
       "30                                Pubali Bank Limited      2.682788e+06\n",
       "31                                             Rocket      2.720974e+06\n",
       "32                                  Shimanto Bank Ltd      2.685805e+06\n",
       "33  South Bangla Agriculture and Commerce Bank Lim...      2.728115e+06\n",
       "34                             Southeast Bank Limited      2.691276e+06\n",
       "35                              Standard Bank Limited      2.727661e+06\n",
       "36                                 Trust Bank Limited      2.720807e+06\n",
       "37                         United Commercial Bank Ltd      2.696855e+06\n",
       "38                                Uttara Bank Limited      2.707120e+06\n",
       "39                                               None      1.054014e+08"
      ]
     },
     "execution_count": 14,
     "metadata": {},
     "output_type": "execute_result"
    }
   ],
   "source": [
    "total_price_by_bank"
   ]
  },
  {
   "cell_type": "markdown",
   "id": "b27b24f9",
   "metadata": {},
   "source": [
    "transaction wise total sale price joining fact table and Transaction dimension table"
   ]
  },
  {
   "cell_type": "code",
   "execution_count": 15,
   "id": "bab09aa9",
   "metadata": {},
   "outputs": [
    {
     "name": "stdout",
     "output_type": "stream",
     "text": [
      "Connection to DB established!\n"
     ]
    },
    {
     "name": "stderr",
     "output_type": "stream",
     "text": [
      "C:\\Users\\istia\\anaconda3\\lib\\site-packages\\pandas\\io\\sql.py:761: UserWarning: pandas only support SQLAlchemy connectable(engine/connection) ordatabase string URI or sqlite3 DBAPI2 connectionother DBAPI2 objects are not tested, please consider using SQLAlchemy\n",
      "  warnings.warn(\n"
     ]
    }
   ],
   "source": [
    "con = PostgresConnection().getConnection()\n",
    "insert_stmt = \"\"\"SELECT trans_dim.trans_type as \"Transaction Type\", SUM(fact_table.total_price) \"Total Sale Price\"\n",
    "FROM star_schema.fact_table\n",
    "JOIN star_schema.trans_dim ON trans_dim.payment_key = fact_table.payment_key\n",
    "GROUP BY CUBE(trans_dim.trans_type)\n",
    "ORDER BY trans_dim.trans_type\"\"\"\n",
    "cur = con.cursor()\n",
    "# psycopg2.extras.execute_batch(cur, insert_stmt, fact_data.values)\n",
    "total_price_by_trans_type = pd.read_sql_query(insert_stmt, con)\n",
    "con.commit()\n",
    "cur.close()"
   ]
  },
  {
   "cell_type": "code",
   "execution_count": 16,
   "id": "af53c0bc",
   "metadata": {},
   "outputs": [
    {
     "data": {
      "text/html": [
       "<div>\n",
       "<style scoped>\n",
       "    .dataframe tbody tr th:only-of-type {\n",
       "        vertical-align: middle;\n",
       "    }\n",
       "\n",
       "    .dataframe tbody tr th {\n",
       "        vertical-align: top;\n",
       "    }\n",
       "\n",
       "    .dataframe thead th {\n",
       "        text-align: right;\n",
       "    }\n",
       "</style>\n",
       "<table border=\"1\" class=\"dataframe\">\n",
       "  <thead>\n",
       "    <tr style=\"text-align: right;\">\n",
       "      <th></th>\n",
       "      <th>Transaction Type</th>\n",
       "      <th>Total Sale Price</th>\n",
       "    </tr>\n",
       "  </thead>\n",
       "  <tbody>\n",
       "    <tr>\n",
       "      <th>0</th>\n",
       "      <td>card</td>\n",
       "      <td>9.458304e+07</td>\n",
       "    </tr>\n",
       "    <tr>\n",
       "      <th>1</th>\n",
       "      <td>cash</td>\n",
       "      <td>2.708516e+06</td>\n",
       "    </tr>\n",
       "    <tr>\n",
       "      <th>2</th>\n",
       "      <td>mobile</td>\n",
       "      <td>8.109882e+06</td>\n",
       "    </tr>\n",
       "    <tr>\n",
       "      <th>3</th>\n",
       "      <td>None</td>\n",
       "      <td>1.054014e+08</td>\n",
       "    </tr>\n",
       "  </tbody>\n",
       "</table>\n",
       "</div>"
      ],
      "text/plain": [
       "  Transaction Type  Total Sale Price\n",
       "0             card      9.458304e+07\n",
       "1             cash      2.708516e+06\n",
       "2           mobile      8.109882e+06\n",
       "3             None      1.054014e+08"
      ]
     },
     "execution_count": 16,
     "metadata": {},
     "output_type": "execute_result"
    }
   ],
   "source": [
    "total_price_by_trans_type"
   ]
  },
  {
   "cell_type": "markdown",
   "id": "53101e60",
   "metadata": {},
   "source": [
    "Total Sales in Barisal"
   ]
  },
  {
   "cell_type": "code",
   "execution_count": 68,
   "id": "44082456",
   "metadata": {},
   "outputs": [
    {
     "name": "stdout",
     "output_type": "stream",
     "text": [
      "Connection to DB established!\n"
     ]
    },
    {
     "name": "stderr",
     "output_type": "stream",
     "text": [
      "C:\\Users\\istia\\anaconda3\\lib\\site-packages\\pandas\\io\\sql.py:761: UserWarning: pandas only support SQLAlchemy connectable(engine/connection) ordatabase string URI or sqlite3 DBAPI2 connectionother DBAPI2 objects are not tested, please consider using SQLAlchemy\n",
      "  warnings.warn(\n"
     ]
    }
   ],
   "source": [
    "con = PostgresConnection().getConnection()\n",
    "insert_stmt = \"\"\"SELECT store_dim.district as \"District\", SUM(fact_table.total_price) \"Total Sales\"\n",
    "FROM star_schema.fact_table\n",
    "JOIN star_schema.store_dim ON store_dim.store_key = fact_table.store_key\n",
    "WHERE store_dim.district = 'BARISAL'\n",
    "GROUP BY CUBE(store_dim.district)\"\"\"\n",
    "cur = con.cursor()\n",
    "# psycopg2.extras.execute_batch(cur, insert_stmt, fact_data.values)\n",
    "total_sales_in_barisal = pd.read_sql_query(insert_stmt, con)\n",
    "con.commit()\n",
    "cur.close()"
   ]
  },
  {
   "cell_type": "code",
   "execution_count": 69,
   "id": "dc6fca7e",
   "metadata": {},
   "outputs": [
    {
     "data": {
      "text/html": [
       "<div>\n",
       "<style scoped>\n",
       "    .dataframe tbody tr th:only-of-type {\n",
       "        vertical-align: middle;\n",
       "    }\n",
       "\n",
       "    .dataframe tbody tr th {\n",
       "        vertical-align: top;\n",
       "    }\n",
       "\n",
       "    .dataframe thead th {\n",
       "        text-align: right;\n",
       "    }\n",
       "</style>\n",
       "<table border=\"1\" class=\"dataframe\">\n",
       "  <thead>\n",
       "    <tr style=\"text-align: right;\">\n",
       "      <th></th>\n",
       "      <th>District</th>\n",
       "      <th>Total Sales</th>\n",
       "    </tr>\n",
       "  </thead>\n",
       "  <tbody>\n",
       "    <tr>\n",
       "      <th>0</th>\n",
       "      <td>BARISAL</td>\n",
       "      <td>2897237.75</td>\n",
       "    </tr>\n",
       "    <tr>\n",
       "      <th>1</th>\n",
       "      <td>None</td>\n",
       "      <td>2897237.75</td>\n",
       "    </tr>\n",
       "  </tbody>\n",
       "</table>\n",
       "</div>"
      ],
      "text/plain": [
       "  District  Total Sales\n",
       "0  BARISAL   2897237.75\n",
       "1     None   2897237.75"
      ]
     },
     "execution_count": 69,
     "metadata": {},
     "output_type": "execute_result"
    }
   ],
   "source": [
    "total_sales_in_barisal"
   ]
  },
  {
   "cell_type": "markdown",
   "id": "9fd4ed5b",
   "metadata": {},
   "source": [
    "Total Sales in 2015"
   ]
  },
  {
   "cell_type": "code",
   "execution_count": 70,
   "id": "c62f984c",
   "metadata": {},
   "outputs": [
    {
     "name": "stdout",
     "output_type": "stream",
     "text": [
      "Connection to DB established!\n"
     ]
    },
    {
     "name": "stderr",
     "output_type": "stream",
     "text": [
      "C:\\Users\\istia\\anaconda3\\lib\\site-packages\\pandas\\io\\sql.py:761: UserWarning: pandas only support SQLAlchemy connectable(engine/connection) ordatabase string URI or sqlite3 DBAPI2 connectionother DBAPI2 objects are not tested, please consider using SQLAlchemy\n",
      "  warnings.warn(\n"
     ]
    }
   ],
   "source": [
    "con = PostgresConnection().getConnection()\n",
    "insert_stmt = \"\"\"SELECT time_data.year as \"Year\", SUM(fact_table.total_price) \"Total Sales\"\n",
    "FROM star_schema.fact_table\n",
    "JOIN star_schema.time_data ON time_data.time_key = fact_table.time_key\n",
    "WHERE time_data.year = '2015'\n",
    "GROUP BY CUBE(time_data.year)\"\"\"\n",
    "cur = con.cursor()\n",
    "# psycopg2.extras.execute_batch(cur, insert_stmt, fact_data.values)\n",
    "total_sales_in_2015 = pd.read_sql_query(insert_stmt, con)\n",
    "con.commit()\n",
    "cur.close()"
   ]
  },
  {
   "cell_type": "code",
   "execution_count": 71,
   "id": "45678f0a",
   "metadata": {},
   "outputs": [
    {
     "data": {
      "text/html": [
       "<div>\n",
       "<style scoped>\n",
       "    .dataframe tbody tr th:only-of-type {\n",
       "        vertical-align: middle;\n",
       "    }\n",
       "\n",
       "    .dataframe tbody tr th {\n",
       "        vertical-align: top;\n",
       "    }\n",
       "\n",
       "    .dataframe thead th {\n",
       "        text-align: right;\n",
       "    }\n",
       "</style>\n",
       "<table border=\"1\" class=\"dataframe\">\n",
       "  <thead>\n",
       "    <tr style=\"text-align: right;\">\n",
       "      <th></th>\n",
       "      <th>Year</th>\n",
       "      <th>Total Sales</th>\n",
       "    </tr>\n",
       "  </thead>\n",
       "  <tbody>\n",
       "    <tr>\n",
       "      <th>0</th>\n",
       "      <td>2015.0</td>\n",
       "      <td>15095720.25</td>\n",
       "    </tr>\n",
       "    <tr>\n",
       "      <th>1</th>\n",
       "      <td>NaN</td>\n",
       "      <td>15095720.25</td>\n",
       "    </tr>\n",
       "  </tbody>\n",
       "</table>\n",
       "</div>"
      ],
      "text/plain": [
       "     Year  Total Sales\n",
       "0  2015.0  15095720.25\n",
       "1     NaN  15095720.25"
      ]
     },
     "execution_count": 71,
     "metadata": {},
     "output_type": "execute_result"
    }
   ],
   "source": [
    "total_sales_in_2015"
   ]
  },
  {
   "cell_type": "markdown",
   "id": "311ad68e",
   "metadata": {},
   "source": [
    "Total Sales in 2015 and in Barisal"
   ]
  },
  {
   "cell_type": "code",
   "execution_count": 148,
   "id": "93d4e48d",
   "metadata": {},
   "outputs": [
    {
     "name": "stdout",
     "output_type": "stream",
     "text": [
      "Connection to DB established!\n"
     ]
    },
    {
     "name": "stderr",
     "output_type": "stream",
     "text": [
      "C:\\Users\\istia\\anaconda3\\lib\\site-packages\\pandas\\io\\sql.py:761: UserWarning: pandas only support SQLAlchemy connectable(engine/connection) ordatabase string URI or sqlite3 DBAPI2 connectionother DBAPI2 objects are not tested, please consider using SQLAlchemy\n",
      "  warnings.warn(\n"
     ]
    }
   ],
   "source": [
    "con = PostgresConnection().getConnection()\n",
    "insert_stmt = \"\"\"SELECT time_data.year as \"Year\", store_dim.district as \"District\", SUM(fact_table.total_price) \"Total Sales\"\n",
    "FROM star_schema.fact_table\n",
    "JOIN star_schema.time_data \n",
    "ON time_data.time_key = fact_table.time_key \n",
    "JOIN star_schema.store_dim \n",
    "ON store_dim.store_key = fact_table.store_key\n",
    "WHERE time_data.year = '2015'\n",
    "AND store_dim.district = 'BARISAL'\n",
    "GROUP BY CUBE(time_data.year,store_dim.district)\"\"\"\n",
    "cur = con.cursor()\n",
    "# psycopg2.extras.execute_batch(cur, insert_stmt, fact_data.values)\n",
    "total_sales_in_2015_and_barisal = pd.read_sql_query(insert_stmt, con)\n",
    "con.commit()\n",
    "cur.close()"
   ]
  },
  {
   "cell_type": "code",
   "execution_count": 150,
   "id": "3240f895",
   "metadata": {},
   "outputs": [
    {
     "data": {
      "text/html": [
       "<div>\n",
       "<style scoped>\n",
       "    .dataframe tbody tr th:only-of-type {\n",
       "        vertical-align: middle;\n",
       "    }\n",
       "\n",
       "    .dataframe tbody tr th {\n",
       "        vertical-align: top;\n",
       "    }\n",
       "\n",
       "    .dataframe thead th {\n",
       "        text-align: right;\n",
       "    }\n",
       "</style>\n",
       "<table border=\"1\" class=\"dataframe\">\n",
       "  <thead>\n",
       "    <tr style=\"text-align: right;\">\n",
       "      <th></th>\n",
       "      <th>Year</th>\n",
       "      <th>District</th>\n",
       "      <th>Total Sales</th>\n",
       "    </tr>\n",
       "  </thead>\n",
       "  <tbody>\n",
       "    <tr>\n",
       "      <th>0</th>\n",
       "      <td>2015.0</td>\n",
       "      <td>BARISAL</td>\n",
       "      <td>415748.75</td>\n",
       "    </tr>\n",
       "  </tbody>\n",
       "</table>\n",
       "</div>"
      ],
      "text/plain": [
       "     Year District  Total Sales\n",
       "0  2015.0  BARISAL    415748.75"
      ]
     },
     "execution_count": 150,
     "metadata": {},
     "output_type": "execute_result"
    }
   ],
   "source": [
    "total_sales_in_2015_and_barisal.dropna()"
   ]
  },
  {
   "cell_type": "markdown",
   "id": "9825b191",
   "metadata": {},
   "source": [
    "Q6: For each store(item supplier), what are the top three products offered that are most often purchased?"
   ]
  },
  {
   "cell_type": "code",
   "execution_count": 55,
   "id": "b16553c8",
   "metadata": {},
   "outputs": [
    {
     "name": "stdout",
     "output_type": "stream",
     "text": [
      "Connection to DB established!\n"
     ]
    },
    {
     "name": "stderr",
     "output_type": "stream",
     "text": [
      "C:\\Users\\istia\\anaconda3\\lib\\site-packages\\pandas\\io\\sql.py:761: UserWarning: pandas only support SQLAlchemy connectable(engine/connection) ordatabase string URI or sqlite3 DBAPI2 connectionother DBAPI2 objects are not tested, please consider using SQLAlchemy\n",
      "  warnings.warn(\n"
     ]
    }
   ],
   "source": [
    "con = PostgresConnection().getConnection()\n",
    "insert_stmt = \"\"\"SELECT store_dim.store_key,\n",
    "\titem_dim.item_name, \n",
    "\tSUM(quantity) as \"Quantity Sales\"\n",
    "FROM star_schema.fact_table\n",
    "JOIN star_schema.store_dim ON store_dim.store_key = fact_table.store_key\n",
    "JOIN star_schema.item_dim ON item_dim.item_key = fact_table.item_key\n",
    "GROUP BY store_dim.store_key,item_dim.item_name\n",
    "ORDER BY store_key, SUM(quantity) DESC\"\"\"\n",
    "cur = con.cursor()\n",
    "# psycopg2.extras.execute_batch(cur, insert_stmt, fact_data.values)\n",
    "top_three_products = pd.read_sql_query(insert_stmt, con)\n",
    "con.commit()\n",
    "cur.close()"
   ]
  },
  {
   "cell_type": "code",
   "execution_count": 151,
   "id": "b913de1d",
   "metadata": {
    "scrolled": true
   },
   "outputs": [
    {
     "data": {
      "text/html": [
       "<div>\n",
       "<style scoped>\n",
       "    .dataframe tbody tr th:only-of-type {\n",
       "        vertical-align: middle;\n",
       "    }\n",
       "\n",
       "    .dataframe tbody tr th {\n",
       "        vertical-align: top;\n",
       "    }\n",
       "\n",
       "    .dataframe thead th {\n",
       "        text-align: right;\n",
       "    }\n",
       "</style>\n",
       "<table border=\"1\" class=\"dataframe\">\n",
       "  <thead>\n",
       "    <tr style=\"text-align: right;\">\n",
       "      <th></th>\n",
       "      <th>store_key</th>\n",
       "      <th>item_name</th>\n",
       "      <th>Quantity Sales</th>\n",
       "    </tr>\n",
       "  </thead>\n",
       "  <tbody>\n",
       "    <tr>\n",
       "      <th>0</th>\n",
       "      <td>S0001</td>\n",
       "      <td>Pepsi - 12 oz cans</td>\n",
       "      <td>92</td>\n",
       "    </tr>\n",
       "    <tr>\n",
       "      <th>1</th>\n",
       "      <td>S0001</td>\n",
       "      <td>Muscle Milk Protein Shake Van. 11oz</td>\n",
       "      <td>90</td>\n",
       "    </tr>\n",
       "    <tr>\n",
       "      <th>2</th>\n",
       "      <td>S0001</td>\n",
       "      <td>Hefty Supreme Foam Plates 6 inch</td>\n",
       "      <td>78</td>\n",
       "    </tr>\n",
       "    <tr>\n",
       "      <th>257</th>\n",
       "      <td>S0002</td>\n",
       "      <td>Planters Nut-trition 1.5 oz</td>\n",
       "      <td>83</td>\n",
       "    </tr>\n",
       "    <tr>\n",
       "      <th>258</th>\n",
       "      <td>S0002</td>\n",
       "      <td>Altoids Small Packs Variety</td>\n",
       "      <td>80</td>\n",
       "    </tr>\n",
       "    <tr>\n",
       "      <th>...</th>\n",
       "      <td>...</td>\n",
       "      <td>...</td>\n",
       "      <td>...</td>\n",
       "    </tr>\n",
       "    <tr>\n",
       "      <th>186597</th>\n",
       "      <td>S0098</td>\n",
       "      <td>Cliff Builders Protein Bar Variety Pack</td>\n",
       "      <td>84</td>\n",
       "    </tr>\n",
       "    <tr>\n",
       "      <th>186598</th>\n",
       "      <td>S0098</td>\n",
       "      <td>Pepsi - 12 oz cans</td>\n",
       "      <td>79</td>\n",
       "    </tr>\n",
       "    <tr>\n",
       "      <th>186855</th>\n",
       "      <td>S0099</td>\n",
       "      <td>Pepsi - 12 oz cans</td>\n",
       "      <td>93</td>\n",
       "    </tr>\n",
       "    <tr>\n",
       "      <th>186856</th>\n",
       "      <td>S0099</td>\n",
       "      <td>Diet Coke - 12 oz cans</td>\n",
       "      <td>87</td>\n",
       "    </tr>\n",
       "    <tr>\n",
       "      <th>186857</th>\n",
       "      <td>S0099</td>\n",
       "      <td>Coffee-mate Original Powdered Creamer</td>\n",
       "      <td>86</td>\n",
       "    </tr>\n",
       "  </tbody>\n",
       "</table>\n",
       "<p>2178 rows × 3 columns</p>\n",
       "</div>"
      ],
      "text/plain": [
       "       store_key                                item_name  Quantity Sales\n",
       "0          S0001                       Pepsi - 12 oz cans              92\n",
       "1          S0001      Muscle Milk Protein Shake Van. 11oz              90\n",
       "2          S0001         Hefty Supreme Foam Plates 6 inch              78\n",
       "257        S0002             Planters Nut-trition 1.5 oz               83\n",
       "258        S0002              Altoids Small Packs Variety              80\n",
       "...          ...                                      ...             ...\n",
       "186597     S0098  Cliff Builders Protein Bar Variety Pack              84\n",
       "186598     S0098                       Pepsi - 12 oz cans              79\n",
       "186855     S0099                       Pepsi - 12 oz cans              93\n",
       "186856     S0099                   Diet Coke - 12 oz cans              87\n",
       "186857     S0099    Coffee-mate Original Powdered Creamer              86\n",
       "\n",
       "[2178 rows x 3 columns]"
      ]
     },
     "execution_count": 151,
     "metadata": {},
     "output_type": "execute_result"
    }
   ],
   "source": [
    "top_three_products = top_three_products.groupby('store_key').head(3)\n",
    "top_three_products"
   ]
  },
  {
   "cell_type": "markdown",
   "id": "72210c63",
   "metadata": {},
   "source": [
    "Q7: What products have been sold through card or mobile since X days?"
   ]
  },
  {
   "cell_type": "code",
   "execution_count": 121,
   "id": "00e23051",
   "metadata": {},
   "outputs": [
    {
     "name": "stdout",
     "output_type": "stream",
     "text": [
      "Please insert the date range in 'day month, year' format\n",
      "8 January, 2018\n",
      "18 January, 2018\n"
     ]
    }
   ],
   "source": [
    "from datetime import datetime\n",
    "print(\"Please insert the date range in 'day month, year' format\")\n",
    "start_date = input()\n",
    "end_date = input()\n",
    "# date = \"12/11/2018 09:15:32\"\n",
    "# date = datetime.strptime(date, \"%d/%m/%Y %H:%M:%S\")\n",
    "start_date = datetime.strptime(start_date,'%d %B, %Y')\n",
    "end_date = datetime.strptime(end_date,'%d %B, %Y')"
   ]
  },
  {
   "cell_type": "code",
   "execution_count": 124,
   "id": "9b84d51e",
   "metadata": {},
   "outputs": [
    {
     "name": "stdout",
     "output_type": "stream",
     "text": [
      "Connection to DB established!\n"
     ]
    },
    {
     "name": "stderr",
     "output_type": "stream",
     "text": [
      "C:\\Users\\istia\\anaconda3\\lib\\site-packages\\pandas\\io\\sql.py:761: UserWarning: pandas only support SQLAlchemy connectable(engine/connection) ordatabase string URI or sqlite3 DBAPI2 connectionother DBAPI2 objects are not tested, please consider using SQLAlchemy\n",
      "  warnings.warn(\n"
     ]
    }
   ],
   "source": [
    "con = PostgresConnection().getConnection()\n",
    "insert_stmt = f\"\"\"SELECT item_dim.item_name, trans_dim.trans_type, time_data.date\n",
    "FROM star_schema.fact_table\n",
    "JOIN star_schema.item_dim ON item_dim.item_key = fact_table.item_key\n",
    "JOIN star_schema.trans_dim ON trans_dim.payment_key = fact_table.payment_key\n",
    "JOIN star_schema.time_data ON time_data.time_key = fact_table.time_key\n",
    "WHERE time_data.date >= '{start_date}' AND time_data.date<= '{end_date}' AND(trans_dim.trans_type = 'card' OR trans_dim.trans_type = 'mobile')\n",
    "GROUP BY CUBE(item_name,trans_type,date) \n",
    "ORDER BY item_name\"\"\"\n",
    "cur = con.cursor()\n",
    "# psycopg2.extras.execute_batch(cur, insert_stmt, fact_data.values)\n",
    "products_sold = pd.read_sql_query(insert_stmt, con)\n",
    "con.commit()\n",
    "cur.close()"
   ]
  },
  {
   "cell_type": "code",
   "execution_count": 126,
   "id": "0990d64b",
   "metadata": {},
   "outputs": [],
   "source": [
    "products_sold = products_sold.dropna()\n",
    "products_sold= products_sold.drop(['trans_type', 'date'], axis=1)\n",
    "products_sold.item_name.drop_duplicates().tolist()"
   ]
  },
  {
   "cell_type": "markdown",
   "id": "a8a7120f",
   "metadata": {},
   "source": [
    "Q8: What season(quarter) is the worst for each product item? As example,"
   ]
  },
  {
   "cell_type": "code",
   "execution_count": 82,
   "id": "7bb18415",
   "metadata": {
    "scrolled": true
   },
   "outputs": [
    {
     "name": "stdout",
     "output_type": "stream",
     "text": [
      "Connection to DB established!\n"
     ]
    },
    {
     "name": "stderr",
     "output_type": "stream",
     "text": [
      "C:\\Users\\istia\\anaconda3\\lib\\site-packages\\pandas\\io\\sql.py:761: UserWarning: pandas only support SQLAlchemy connectable(engine/connection) ordatabase string URI or sqlite3 DBAPI2 connectionother DBAPI2 objects are not tested, please consider using SQLAlchemy\n",
      "  warnings.warn(\n"
     ]
    }
   ],
   "source": [
    "con = PostgresConnection().getConnection()\n",
    "insert_stmt = \"\"\"SELECT item_dim.item_name, quarter, SUM(quantity)\n",
    "FROM star_schema.fact_table\n",
    "JOIN star_schema.item_dim ON item_dim.item_key = fact_table.item_key\n",
    "JOIN star_schema.time_data ON time_data.time_key = fact_table.time_key\n",
    "GROUP BY CUBE(item_name, time_data.quarter)\n",
    "ORDER BY item_name, SUM(quantity)\"\"\"\n",
    "cur = con.cursor()\n",
    "# psycopg2.extras.execute_batch(cur, insert_stmt, fact_data.values)\n",
    "worst_season = pd.read_sql_query(insert_stmt, con)\n",
    "con.commit()\n",
    "cur.close()"
   ]
  },
  {
   "cell_type": "code",
   "execution_count": 91,
   "id": "b6120d40",
   "metadata": {},
   "outputs": [
    {
     "data": {
      "text/html": [
       "<div>\n",
       "<style scoped>\n",
       "    .dataframe tbody tr th:only-of-type {\n",
       "        vertical-align: middle;\n",
       "    }\n",
       "\n",
       "    .dataframe tbody tr th {\n",
       "        vertical-align: top;\n",
       "    }\n",
       "\n",
       "    .dataframe thead th {\n",
       "        text-align: right;\n",
       "    }\n",
       "</style>\n",
       "<table border=\"1\" class=\"dataframe\">\n",
       "  <thead>\n",
       "    <tr style=\"text-align: right;\">\n",
       "      <th></th>\n",
       "      <th>item_name</th>\n",
       "      <th>quarter</th>\n",
       "      <th>sum</th>\n",
       "    </tr>\n",
       "  </thead>\n",
       "  <tbody>\n",
       "    <tr>\n",
       "      <th>0</th>\n",
       "      <td>100% Juice Box Variety 6.75 oz</td>\n",
       "      <td>Q1</td>\n",
       "      <td>5698</td>\n",
       "    </tr>\n",
       "    <tr>\n",
       "      <th>5</th>\n",
       "      <td>A&amp;W Root Beer - 12 oz cans</td>\n",
       "      <td>Q2</td>\n",
       "      <td>5735</td>\n",
       "    </tr>\n",
       "    <tr>\n",
       "      <th>10</th>\n",
       "      <td>A&amp;W Root Beer Diet - 12 oz cans</td>\n",
       "      <td>Q4</td>\n",
       "      <td>5589</td>\n",
       "    </tr>\n",
       "    <tr>\n",
       "      <th>15</th>\n",
       "      <td>Advil 2 pill packets</td>\n",
       "      <td>Q1</td>\n",
       "      <td>5453</td>\n",
       "    </tr>\n",
       "    <tr>\n",
       "      <th>20</th>\n",
       "      <td>All Purpose Cleaner 409 Spray</td>\n",
       "      <td>Q1</td>\n",
       "      <td>5325</td>\n",
       "    </tr>\n",
       "    <tr>\n",
       "      <th>...</th>\n",
       "      <td>...</td>\n",
       "      <td>...</td>\n",
       "      <td>...</td>\n",
       "    </tr>\n",
       "    <tr>\n",
       "      <th>1270</th>\n",
       "      <td>Welch's 100% Juice Variety10 oz</td>\n",
       "      <td>Q2</td>\n",
       "      <td>5494</td>\n",
       "    </tr>\n",
       "    <tr>\n",
       "      <th>1275</th>\n",
       "      <td>Wint O Green LifeSavers Sugar Free</td>\n",
       "      <td>Q1</td>\n",
       "      <td>5323</td>\n",
       "    </tr>\n",
       "    <tr>\n",
       "      <th>1280</th>\n",
       "      <td>Wonderful Pistachios (in shell)</td>\n",
       "      <td>Q1</td>\n",
       "      <td>5578</td>\n",
       "    </tr>\n",
       "    <tr>\n",
       "      <th>1285</th>\n",
       "      <td>Yoplait Original Yogurt Variety Pack</td>\n",
       "      <td>Q1</td>\n",
       "      <td>5426</td>\n",
       "    </tr>\n",
       "    <tr>\n",
       "      <th>1290</th>\n",
       "      <td>Zoo Animal Cookies/Crackers</td>\n",
       "      <td>Q1</td>\n",
       "      <td>5462</td>\n",
       "    </tr>\n",
       "  </tbody>\n",
       "</table>\n",
       "<p>259 rows × 3 columns</p>\n",
       "</div>"
      ],
      "text/plain": [
       "                                  item_name quarter   sum\n",
       "0           100% Juice Box Variety 6.75 oz       Q1  5698\n",
       "5                A&W Root Beer - 12 oz cans      Q2  5735\n",
       "10          A&W Root Beer Diet - 12 oz cans      Q4  5589\n",
       "15                     Advil 2 pill packets      Q1  5453\n",
       "20            All Purpose Cleaner 409 Spray      Q1  5325\n",
       "...                                     ...     ...   ...\n",
       "1270        Welch's 100% Juice Variety10 oz      Q2  5494\n",
       "1275     Wint O Green LifeSavers Sugar Free      Q1  5323\n",
       "1280        Wonderful Pistachios (in shell)      Q1  5578\n",
       "1285  Yoplait Original Yogurt Variety Pack       Q1  5426\n",
       "1290            Zoo Animal Cookies/Crackers      Q1  5462\n",
       "\n",
       "[259 rows x 3 columns]"
      ]
     },
     "execution_count": 91,
     "metadata": {},
     "output_type": "execute_result"
    }
   ],
   "source": [
    "worst_season.groupby('item_name').head(1)"
   ]
  },
  {
   "cell_type": "markdown",
   "id": "c950b7d4",
   "metadata": {},
   "source": [
    "Q9: Break down the total sales of items geographically (division-wise)."
   ]
  },
  {
   "cell_type": "code",
   "execution_count": 87,
   "id": "001dbf44",
   "metadata": {},
   "outputs": [
    {
     "name": "stdout",
     "output_type": "stream",
     "text": [
      "Connection to DB established!\n"
     ]
    },
    {
     "name": "stderr",
     "output_type": "stream",
     "text": [
      "C:\\Users\\istia\\anaconda3\\lib\\site-packages\\pandas\\io\\sql.py:761: UserWarning: pandas only support SQLAlchemy connectable(engine/connection) ordatabase string URI or sqlite3 DBAPI2 connectionother DBAPI2 objects are not tested, please consider using SQLAlchemy\n",
      "  warnings.warn(\n"
     ]
    }
   ],
   "source": [
    "con = PostgresConnection().getConnection()\n",
    "insert_stmt = \"\"\"SELECT item_name,division,  SUM(quantity)\n",
    "FROM star_schema.fact_table\n",
    "JOIN star_schema.store_dim ON store_dim.store_key = fact_table.store_key\n",
    "JOIN star_schema.item_dim ON item_dim.item_key = fact_table.item_key\n",
    "GROUP BY CUBE(division, item_dim.item_name)\n",
    "ORDER BY item_name\"\"\"\n",
    "cur = con.cursor()\n",
    "# psycopg2.extras.execute_batch(cur, insert_stmt, fact_data.values)\n",
    "total_sales_geographically = pd.read_sql_query(insert_stmt, con)\n",
    "con.commit()\n",
    "cur.close()"
   ]
  },
  {
   "cell_type": "code",
   "execution_count": 89,
   "id": "28c1829c",
   "metadata": {},
   "outputs": [
    {
     "data": {
      "text/html": [
       "<div>\n",
       "<style scoped>\n",
       "    .dataframe tbody tr th:only-of-type {\n",
       "        vertical-align: middle;\n",
       "    }\n",
       "\n",
       "    .dataframe tbody tr th {\n",
       "        vertical-align: top;\n",
       "    }\n",
       "\n",
       "    .dataframe thead th {\n",
       "        text-align: right;\n",
       "    }\n",
       "</style>\n",
       "<table border=\"1\" class=\"dataframe\">\n",
       "  <thead>\n",
       "    <tr style=\"text-align: right;\">\n",
       "      <th></th>\n",
       "      <th>item_name</th>\n",
       "      <th>division</th>\n",
       "      <th>sum</th>\n",
       "    </tr>\n",
       "  </thead>\n",
       "  <tbody>\n",
       "    <tr>\n",
       "      <th>0</th>\n",
       "      <td>100% Juice Box Variety 6.75 oz</td>\n",
       "      <td>RANGPUR</td>\n",
       "      <td>1779</td>\n",
       "    </tr>\n",
       "    <tr>\n",
       "      <th>1</th>\n",
       "      <td>100% Juice Box Variety 6.75 oz</td>\n",
       "      <td>RAJSHAHI</td>\n",
       "      <td>2582</td>\n",
       "    </tr>\n",
       "    <tr>\n",
       "      <th>2</th>\n",
       "      <td>100% Juice Box Variety 6.75 oz</td>\n",
       "      <td>CHITTAGONG</td>\n",
       "      <td>4330</td>\n",
       "    </tr>\n",
       "    <tr>\n",
       "      <th>3</th>\n",
       "      <td>100% Juice Box Variety 6.75 oz</td>\n",
       "      <td>BARISAL</td>\n",
       "      <td>1586</td>\n",
       "    </tr>\n",
       "    <tr>\n",
       "      <th>4</th>\n",
       "      <td>100% Juice Box Variety 6.75 oz</td>\n",
       "      <td>SYLHET</td>\n",
       "      <td>1218</td>\n",
       "    </tr>\n",
       "    <tr>\n",
       "      <th>...</th>\n",
       "      <td>...</td>\n",
       "      <td>...</td>\n",
       "      <td>...</td>\n",
       "    </tr>\n",
       "    <tr>\n",
       "      <th>2067</th>\n",
       "      <td>Zoo Animal Cookies/Crackers</td>\n",
       "      <td>BARISAL</td>\n",
       "      <td>1727</td>\n",
       "    </tr>\n",
       "    <tr>\n",
       "      <th>2068</th>\n",
       "      <td>Zoo Animal Cookies/Crackers</td>\n",
       "      <td>KHULNA</td>\n",
       "      <td>2531</td>\n",
       "    </tr>\n",
       "    <tr>\n",
       "      <th>2069</th>\n",
       "      <td>Zoo Animal Cookies/Crackers</td>\n",
       "      <td>DHAKA</td>\n",
       "      <td>8449</td>\n",
       "    </tr>\n",
       "    <tr>\n",
       "      <th>2070</th>\n",
       "      <td>Zoo Animal Cookies/Crackers</td>\n",
       "      <td>SYLHET</td>\n",
       "      <td>1052</td>\n",
       "    </tr>\n",
       "    <tr>\n",
       "      <th>2071</th>\n",
       "      <td>Zoo Animal Cookies/Crackers</td>\n",
       "      <td>RANGPUR</td>\n",
       "      <td>1799</td>\n",
       "    </tr>\n",
       "  </tbody>\n",
       "</table>\n",
       "<p>1813 rows × 3 columns</p>\n",
       "</div>"
      ],
      "text/plain": [
       "                            item_name    division   sum\n",
       "0     100% Juice Box Variety 6.75 oz      RANGPUR  1779\n",
       "1     100% Juice Box Variety 6.75 oz     RAJSHAHI  2582\n",
       "2     100% Juice Box Variety 6.75 oz   CHITTAGONG  4330\n",
       "3     100% Juice Box Variety 6.75 oz      BARISAL  1586\n",
       "4     100% Juice Box Variety 6.75 oz       SYLHET  1218\n",
       "...                               ...         ...   ...\n",
       "2067      Zoo Animal Cookies/Crackers     BARISAL  1727\n",
       "2068      Zoo Animal Cookies/Crackers      KHULNA  2531\n",
       "2069      Zoo Animal Cookies/Crackers       DHAKA  8449\n",
       "2070      Zoo Animal Cookies/Crackers      SYLHET  1052\n",
       "2071      Zoo Animal Cookies/Crackers     RANGPUR  1799\n",
       "\n",
       "[1813 rows x 3 columns]"
      ]
     },
     "execution_count": 89,
     "metadata": {},
     "output_type": "execute_result"
    }
   ],
   "source": [
    "total_sales_geographically.dropna()"
   ]
  },
  {
   "cell_type": "markdown",
   "id": "5ff6bf38",
   "metadata": {},
   "source": [
    "Q10: What are the average sales of products sales per store monthly?"
   ]
  },
  {
   "cell_type": "code",
   "execution_count": 140,
   "id": "9f91b1d6",
   "metadata": {},
   "outputs": [
    {
     "name": "stdout",
     "output_type": "stream",
     "text": [
      "Connection to DB established!\n"
     ]
    }
   ],
   "source": [
    "con = PostgresConnection().getConnection()\n",
    "insert_stmt = \"\"\"SELECT store_dim.store_key as \"STORE\", month as \"MONTH\", SUM(total_price)/30 as \"Average sales\"\n",
    "FROM star_schema.fact_table\n",
    "JOIN star_schema.store_dim ON store_dim.store_key = fact_table.store_key\n",
    "JOIN star_schema.time_data ON time_data.time_key = fact_table.time_key\n",
    "GROUP BY CUBE(store_dim.store_key, time_data.\"month\")\n",
    "ORDER By store_dim.store_key, month\"\"\"\n",
    "cur = con.cursor()\n",
    "# psycopg2.extras.execute_batch(cur, insert_stmt, fact_data.values)\n",
    "avg_sales_prod = pd.read_sql_query(insert_stmt, con)\n",
    "con.commit()\n",
    "cur.close()"
   ]
  },
  {
   "cell_type": "code",
   "execution_count": 141,
   "id": "008b287d",
   "metadata": {
    "scrolled": false
   },
   "outputs": [
    {
     "data": {
      "text/html": [
       "<div>\n",
       "<style scoped>\n",
       "    .dataframe tbody tr th:only-of-type {\n",
       "        vertical-align: middle;\n",
       "    }\n",
       "\n",
       "    .dataframe tbody tr th {\n",
       "        vertical-align: top;\n",
       "    }\n",
       "\n",
       "    .dataframe thead th {\n",
       "        text-align: right;\n",
       "    }\n",
       "</style>\n",
       "<table border=\"1\" class=\"dataframe\">\n",
       "  <thead>\n",
       "    <tr style=\"text-align: right;\">\n",
       "      <th></th>\n",
       "      <th>STORE</th>\n",
       "      <th>MONTH</th>\n",
       "      <th>Average sales</th>\n",
       "    </tr>\n",
       "  </thead>\n",
       "  <tbody>\n",
       "    <tr>\n",
       "      <th>0</th>\n",
       "      <td>S0001</td>\n",
       "      <td>1.0</td>\n",
       "      <td>377.983333</td>\n",
       "    </tr>\n",
       "    <tr>\n",
       "      <th>1</th>\n",
       "      <td>S0001</td>\n",
       "      <td>2.0</td>\n",
       "      <td>345.316667</td>\n",
       "    </tr>\n",
       "    <tr>\n",
       "      <th>2</th>\n",
       "      <td>S0001</td>\n",
       "      <td>3.0</td>\n",
       "      <td>390.250000</td>\n",
       "    </tr>\n",
       "    <tr>\n",
       "      <th>3</th>\n",
       "      <td>S0001</td>\n",
       "      <td>4.0</td>\n",
       "      <td>372.450000</td>\n",
       "    </tr>\n",
       "    <tr>\n",
       "      <th>4</th>\n",
       "      <td>S0001</td>\n",
       "      <td>5.0</td>\n",
       "      <td>371.558333</td>\n",
       "    </tr>\n",
       "    <tr>\n",
       "      <th>...</th>\n",
       "      <td>...</td>\n",
       "      <td>...</td>\n",
       "      <td>...</td>\n",
       "    </tr>\n",
       "    <tr>\n",
       "      <th>9432</th>\n",
       "      <td>S0099</td>\n",
       "      <td>8.0</td>\n",
       "      <td>314.558333</td>\n",
       "    </tr>\n",
       "    <tr>\n",
       "      <th>9433</th>\n",
       "      <td>S0099</td>\n",
       "      <td>9.0</td>\n",
       "      <td>410.891667</td>\n",
       "    </tr>\n",
       "    <tr>\n",
       "      <th>9434</th>\n",
       "      <td>S0099</td>\n",
       "      <td>10.0</td>\n",
       "      <td>452.275000</td>\n",
       "    </tr>\n",
       "    <tr>\n",
       "      <th>9435</th>\n",
       "      <td>S0099</td>\n",
       "      <td>11.0</td>\n",
       "      <td>368.675000</td>\n",
       "    </tr>\n",
       "    <tr>\n",
       "      <th>9436</th>\n",
       "      <td>S0099</td>\n",
       "      <td>12.0</td>\n",
       "      <td>356.725000</td>\n",
       "    </tr>\n",
       "  </tbody>\n",
       "</table>\n",
       "<p>8712 rows × 3 columns</p>\n",
       "</div>"
      ],
      "text/plain": [
       "      STORE  MONTH  Average sales\n",
       "0     S0001    1.0     377.983333\n",
       "1     S0001    2.0     345.316667\n",
       "2     S0001    3.0     390.250000\n",
       "3     S0001    4.0     372.450000\n",
       "4     S0001    5.0     371.558333\n",
       "...     ...    ...            ...\n",
       "9432  S0099    8.0     314.558333\n",
       "9433  S0099    9.0     410.891667\n",
       "9434  S0099   10.0     452.275000\n",
       "9435  S0099   11.0     368.675000\n",
       "9436  S0099   12.0     356.725000\n",
       "\n",
       "[8712 rows x 3 columns]"
      ]
     },
     "execution_count": 141,
     "metadata": {},
     "output_type": "execute_result"
    }
   ],
   "source": [
    "avg_sales_prod.dropna()"
   ]
  },
  {
   "cell_type": "code",
   "execution_count": null,
   "id": "1ac62af4",
   "metadata": {},
   "outputs": [],
   "source": []
  }
 ],
 "metadata": {
  "kernelspec": {
   "display_name": "Python 3 (ipykernel)",
   "language": "python",
   "name": "python3"
  },
  "language_info": {
   "codemirror_mode": {
    "name": "ipython",
    "version": 3
   },
   "file_extension": ".py",
   "mimetype": "text/x-python",
   "name": "python",
   "nbconvert_exporter": "python",
   "pygments_lexer": "ipython3",
   "version": "3.9.12"
  }
 },
 "nbformat": 4,
 "nbformat_minor": 5
}

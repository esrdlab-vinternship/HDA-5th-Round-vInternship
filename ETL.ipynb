{
 "cells": [
  {
   "cell_type": "code",
   "execution_count": 1,
   "id": "c118371c",
   "metadata": {},
   "outputs": [],
   "source": [
    "import pandas as pd"
   ]
  },
  {
   "cell_type": "code",
   "execution_count": 62,
   "id": "295e4757",
   "metadata": {},
   "outputs": [
    {
     "data": {
      "text/html": [
       "<div>\n",
       "<style scoped>\n",
       "    .dataframe tbody tr th:only-of-type {\n",
       "        vertical-align: middle;\n",
       "    }\n",
       "\n",
       "    .dataframe tbody tr th {\n",
       "        vertical-align: top;\n",
       "    }\n",
       "\n",
       "    .dataframe thead th {\n",
       "        text-align: right;\n",
       "    }\n",
       "</style>\n",
       "<table border=\"1\" class=\"dataframe\">\n",
       "  <thead>\n",
       "    <tr style=\"text-align: right;\">\n",
       "      <th></th>\n",
       "      <th>payment_key</th>\n",
       "      <th>coustomer_key</th>\n",
       "      <th>time_key</th>\n",
       "      <th>item_key</th>\n",
       "      <th>store_key</th>\n",
       "      <th>quantity</th>\n",
       "      <th>unit</th>\n",
       "      <th>unit_price</th>\n",
       "      <th>total_price</th>\n",
       "    </tr>\n",
       "  </thead>\n",
       "  <tbody>\n",
       "    <tr>\n",
       "      <th>0</th>\n",
       "      <td>P026</td>\n",
       "      <td>C004510</td>\n",
       "      <td>T049189</td>\n",
       "      <td>I00177</td>\n",
       "      <td>S00307</td>\n",
       "      <td>1</td>\n",
       "      <td>ct</td>\n",
       "      <td>35.00</td>\n",
       "      <td>35.00</td>\n",
       "    </tr>\n",
       "    <tr>\n",
       "      <th>1</th>\n",
       "      <td>P022</td>\n",
       "      <td>C008967</td>\n",
       "      <td>T041209</td>\n",
       "      <td>I00248</td>\n",
       "      <td>S00595</td>\n",
       "      <td>1</td>\n",
       "      <td>rolls</td>\n",
       "      <td>26.00</td>\n",
       "      <td>26.00</td>\n",
       "    </tr>\n",
       "    <tr>\n",
       "      <th>2</th>\n",
       "      <td>P030</td>\n",
       "      <td>C007261</td>\n",
       "      <td>T03633</td>\n",
       "      <td>I00195</td>\n",
       "      <td>S00496</td>\n",
       "      <td>8</td>\n",
       "      <td>ct</td>\n",
       "      <td>12.50</td>\n",
       "      <td>100.00</td>\n",
       "    </tr>\n",
       "    <tr>\n",
       "      <th>3</th>\n",
       "      <td>P032</td>\n",
       "      <td>C007048</td>\n",
       "      <td>T084631</td>\n",
       "      <td>I00131</td>\n",
       "      <td>S0086</td>\n",
       "      <td>8</td>\n",
       "      <td>ct</td>\n",
       "      <td>14.00</td>\n",
       "      <td>112.00</td>\n",
       "    </tr>\n",
       "    <tr>\n",
       "      <th>4</th>\n",
       "      <td>P014</td>\n",
       "      <td>C006430</td>\n",
       "      <td>T071276</td>\n",
       "      <td>I00050</td>\n",
       "      <td>S00488</td>\n",
       "      <td>8</td>\n",
       "      <td>cans</td>\n",
       "      <td>8.00</td>\n",
       "      <td>64.00</td>\n",
       "    </tr>\n",
       "    <tr>\n",
       "      <th>5</th>\n",
       "      <td>P006</td>\n",
       "      <td>C007574</td>\n",
       "      <td>T026950</td>\n",
       "      <td>I00058</td>\n",
       "      <td>S00328</td>\n",
       "      <td>5</td>\n",
       "      <td>bottles</td>\n",
       "      <td>22.00</td>\n",
       "      <td>110.00</td>\n",
       "    </tr>\n",
       "    <tr>\n",
       "      <th>6</th>\n",
       "      <td>P023</td>\n",
       "      <td>C005695</td>\n",
       "      <td>T096704</td>\n",
       "      <td>I00075</td>\n",
       "      <td>S00196</td>\n",
       "      <td>2</td>\n",
       "      <td>cans</td>\n",
       "      <td>15.50</td>\n",
       "      <td>31.00</td>\n",
       "    </tr>\n",
       "    <tr>\n",
       "      <th>7</th>\n",
       "      <td>P027</td>\n",
       "      <td>C008728</td>\n",
       "      <td>T010756</td>\n",
       "      <td>I00188</td>\n",
       "      <td>S0010</td>\n",
       "      <td>1</td>\n",
       "      <td>ct</td>\n",
       "      <td>14.00</td>\n",
       "      <td>14.00</td>\n",
       "    </tr>\n",
       "    <tr>\n",
       "      <th>8</th>\n",
       "      <td>P025</td>\n",
       "      <td>C002764</td>\n",
       "      <td>T017598</td>\n",
       "      <td>I00017</td>\n",
       "      <td>S00164</td>\n",
       "      <td>11</td>\n",
       "      <td>cans</td>\n",
       "      <td>6.75</td>\n",
       "      <td>74.25</td>\n",
       "    </tr>\n",
       "    <tr>\n",
       "      <th>9</th>\n",
       "      <td>P019</td>\n",
       "      <td>C003128</td>\n",
       "      <td>T048812</td>\n",
       "      <td>I00133</td>\n",
       "      <td>S00640</td>\n",
       "      <td>10</td>\n",
       "      <td>ct</td>\n",
       "      <td>15.00</td>\n",
       "      <td>150.00</td>\n",
       "    </tr>\n",
       "  </tbody>\n",
       "</table>\n",
       "</div>"
      ],
      "text/plain": [
       "  payment_key coustomer_key time_key item_key store_key  quantity     unit  \\\n",
       "0        P026       C004510  T049189   I00177    S00307         1       ct   \n",
       "1        P022       C008967  T041209   I00248    S00595         1    rolls   \n",
       "2        P030       C007261   T03633   I00195    S00496         8       ct   \n",
       "3        P032       C007048  T084631   I00131     S0086         8       ct   \n",
       "4        P014       C006430  T071276   I00050    S00488         8     cans   \n",
       "5        P006       C007574  T026950   I00058    S00328         5  bottles   \n",
       "6        P023       C005695  T096704   I00075    S00196         2     cans   \n",
       "7        P027       C008728  T010756   I00188     S0010         1       ct   \n",
       "8        P025       C002764  T017598   I00017    S00164        11     cans   \n",
       "9        P019       C003128  T048812   I00133    S00640        10       ct   \n",
       "\n",
       "   unit_price  total_price  \n",
       "0       35.00        35.00  \n",
       "1       26.00        26.00  \n",
       "2       12.50       100.00  \n",
       "3       14.00       112.00  \n",
       "4        8.00        64.00  \n",
       "5       22.00       110.00  \n",
       "6       15.50        31.00  \n",
       "7       14.00        14.00  \n",
       "8        6.75        74.25  \n",
       "9       15.00       150.00  "
      ]
     },
     "execution_count": 62,
     "metadata": {},
     "output_type": "execute_result"
    }
   ],
   "source": [
    "fact_data = pd.read_excel(\"G:\\HDA5\\e-commerece_data.xlsx\")\n",
    "fact_data.head(10)"
   ]
  },
  {
   "cell_type": "code",
   "execution_count": 4,
   "id": "bd32427d",
   "metadata": {},
   "outputs": [
    {
     "name": "stdout",
     "output_type": "stream",
     "text": [
      "<class 'pandas.core.frame.DataFrame'>\n",
      "RangeIndex: 1000000 entries, 0 to 999999\n",
      "Data columns (total 9 columns):\n",
      " #   Column         Non-Null Count    Dtype  \n",
      "---  ------         --------------    -----  \n",
      " 0   payment_key    1000000 non-null  object \n",
      " 1   coustomer_key  1000000 non-null  object \n",
      " 2   time_key       1000000 non-null  object \n",
      " 3   item_key       1000000 non-null  object \n",
      " 4   store_key      1000000 non-null  object \n",
      " 5   quantity       1000000 non-null  int64  \n",
      " 6   unit           996277 non-null   object \n",
      " 7   unit_price     1000000 non-null  float64\n",
      " 8   total_price    1000000 non-null  float64\n",
      "dtypes: float64(2), int64(1), object(6)\n",
      "memory usage: 68.7+ MB\n"
     ]
    }
   ],
   "source": [
    "data.info()\n",
    "# data.describe\n",
    "# data.unit"
   ]
  },
  {
   "cell_type": "code",
   "execution_count": 27,
   "id": "3748f39d",
   "metadata": {},
   "outputs": [],
   "source": [
    "customer_dim = pd.read_csv(\"G:\\HDA5\\ecommerce_csv-20220815T045113Z-001\\ecommerce_csv\\Coustomer_dim.csv\")\n",
    "fact_data = pd.read_csv(\"G:\\HDA5\\ecommerce_csv-20220815T045113Z-001\\ecommerce_csv\\Fact_data.csv\")\n",
    "item_data = pd.read_csv(\"G:\\HDA5\\ecommerce_csv-20220815T045113Z-001\\ecommerce_csv\\Item_dim.csv\")\n",
    "store_data = pd.read_csv(\"G:\\HDA5\\ecommerce_csv-20220815T045113Z-001\\ecommerce_csv\\Store_dim.csv\")\n",
    "time_data = pd.read_csv(\"G:\\HDA5\\ecommerce_csv-20220815T045113Z-001\\ecommerce_csv\\Time_dim.csv\")\n",
    "trans_data = pd.read_csv(\"G:\\HDA5\\ecommerce_csv-20220815T045113Z-001\\ecommerce_csv\\Trans_dim.csv\")"
   ]
  },
  {
   "cell_type": "code",
   "execution_count": 6,
   "id": "65bb4767",
   "metadata": {},
   "outputs": [
    {
     "data": {
      "text/html": [
       "<div>\n",
       "<style scoped>\n",
       "    .dataframe tbody tr th:only-of-type {\n",
       "        vertical-align: middle;\n",
       "    }\n",
       "\n",
       "    .dataframe tbody tr th {\n",
       "        vertical-align: top;\n",
       "    }\n",
       "\n",
       "    .dataframe thead th {\n",
       "        text-align: right;\n",
       "    }\n",
       "</style>\n",
       "<table border=\"1\" class=\"dataframe\">\n",
       "  <thead>\n",
       "    <tr style=\"text-align: right;\">\n",
       "      <th></th>\n",
       "      <th>coustomer_key</th>\n",
       "      <th>name</th>\n",
       "      <th>contact_no</th>\n",
       "      <th>nid</th>\n",
       "    </tr>\n",
       "  </thead>\n",
       "  <tbody>\n",
       "    <tr>\n",
       "      <th>0</th>\n",
       "      <td>C000001</td>\n",
       "      <td>sumit</td>\n",
       "      <td>8.801920e+12</td>\n",
       "      <td>7.505080e+12</td>\n",
       "    </tr>\n",
       "    <tr>\n",
       "      <th>1</th>\n",
       "      <td>C000002</td>\n",
       "      <td>tammanne</td>\n",
       "      <td>8.801817e+12</td>\n",
       "      <td>1.977730e+12</td>\n",
       "    </tr>\n",
       "    <tr>\n",
       "      <th>2</th>\n",
       "      <td>C000003</td>\n",
       "      <td>kailash kumar</td>\n",
       "      <td>8.801660e+12</td>\n",
       "      <td>3.769490e+12</td>\n",
       "    </tr>\n",
       "    <tr>\n",
       "      <th>3</th>\n",
       "      <td>C000004</td>\n",
       "      <td>bhagwati prasad</td>\n",
       "      <td>8.801534e+12</td>\n",
       "      <td>9.378830e+12</td>\n",
       "    </tr>\n",
       "    <tr>\n",
       "      <th>4</th>\n",
       "      <td>C000005</td>\n",
       "      <td>ajay</td>\n",
       "      <td>8.801944e+12</td>\n",
       "      <td>3.540820e+12</td>\n",
       "    </tr>\n",
       "  </tbody>\n",
       "</table>\n",
       "</div>"
      ],
      "text/plain": [
       "  coustomer_key             name    contact_no           nid\n",
       "0       C000001            sumit  8.801920e+12  7.505080e+12\n",
       "1       C000002         tammanne  8.801817e+12  1.977730e+12\n",
       "2       C000003    kailash kumar  8.801660e+12  3.769490e+12\n",
       "3       C000004  bhagwati prasad  8.801534e+12  9.378830e+12\n",
       "4       C000005             ajay  8.801944e+12  3.540820e+12"
      ]
     },
     "execution_count": 6,
     "metadata": {},
     "output_type": "execute_result"
    }
   ],
   "source": [
    "customer_dim.head()"
   ]
  },
  {
   "cell_type": "code",
   "execution_count": 7,
   "id": "8917f21e",
   "metadata": {},
   "outputs": [
    {
     "name": "stdout",
     "output_type": "stream",
     "text": [
      "<class 'pandas.core.frame.DataFrame'>\n",
      "RangeIndex: 9191 entries, 0 to 9190\n",
      "Data columns (total 4 columns):\n",
      " #   Column         Non-Null Count  Dtype  \n",
      "---  ------         --------------  -----  \n",
      " 0   coustomer_key  9191 non-null   object \n",
      " 1   name           9164 non-null   object \n",
      " 2   contact_no     9191 non-null   float64\n",
      " 3   nid            9191 non-null   float64\n",
      "dtypes: float64(2), object(2)\n",
      "memory usage: 287.3+ KB\n"
     ]
    }
   ],
   "source": [
    "customer_dim.info()"
   ]
  },
  {
   "cell_type": "code",
   "execution_count": 61,
   "id": "c8ec7f24",
   "metadata": {},
   "outputs": [
    {
     "data": {
      "text/html": [
       "<div>\n",
       "<style scoped>\n",
       "    .dataframe tbody tr th:only-of-type {\n",
       "        vertical-align: middle;\n",
       "    }\n",
       "\n",
       "    .dataframe tbody tr th {\n",
       "        vertical-align: top;\n",
       "    }\n",
       "\n",
       "    .dataframe thead th {\n",
       "        text-align: right;\n",
       "    }\n",
       "</style>\n",
       "<table border=\"1\" class=\"dataframe\">\n",
       "  <thead>\n",
       "    <tr style=\"text-align: right;\">\n",
       "      <th></th>\n",
       "      <th>payment_key</th>\n",
       "      <th>trans_type</th>\n",
       "      <th>bank_name</th>\n",
       "    </tr>\n",
       "  </thead>\n",
       "  <tbody>\n",
       "    <tr>\n",
       "      <th>0</th>\n",
       "      <td>P001</td>\n",
       "      <td>cash</td>\n",
       "      <td>None</td>\n",
       "    </tr>\n",
       "    <tr>\n",
       "      <th>1</th>\n",
       "      <td>P002</td>\n",
       "      <td>card</td>\n",
       "      <td>AB Bank Limited</td>\n",
       "    </tr>\n",
       "    <tr>\n",
       "      <th>2</th>\n",
       "      <td>P003</td>\n",
       "      <td>card</td>\n",
       "      <td>Bangladesh Commerce Bank Limited</td>\n",
       "    </tr>\n",
       "    <tr>\n",
       "      <th>3</th>\n",
       "      <td>P004</td>\n",
       "      <td>card</td>\n",
       "      <td>Bank Asia Limited</td>\n",
       "    </tr>\n",
       "    <tr>\n",
       "      <th>4</th>\n",
       "      <td>P005</td>\n",
       "      <td>card</td>\n",
       "      <td>BRAC Bank Limited</td>\n",
       "    </tr>\n",
       "  </tbody>\n",
       "</table>\n",
       "</div>"
      ],
      "text/plain": [
       "  payment_key trans_type                         bank_name\n",
       "0        P001       cash                              None\n",
       "1        P002       card                   AB Bank Limited\n",
       "2        P003       card  Bangladesh Commerce Bank Limited\n",
       "3        P004       card                 Bank Asia Limited\n",
       "4        P005       card                 BRAC Bank Limited"
      ]
     },
     "execution_count": 61,
     "metadata": {},
     "output_type": "execute_result"
    }
   ],
   "source": [
    "fact_data.head()"
   ]
  },
  {
   "cell_type": "code",
   "execution_count": 9,
   "id": "2597e194",
   "metadata": {},
   "outputs": [
    {
     "name": "stdout",
     "output_type": "stream",
     "text": [
      "<class 'pandas.core.frame.DataFrame'>\n",
      "RangeIndex: 39 entries, 0 to 38\n",
      "Data columns (total 3 columns):\n",
      " #   Column       Non-Null Count  Dtype \n",
      "---  ------       --------------  ----- \n",
      " 0   payment_key  39 non-null     object\n",
      " 1   trans_type   39 non-null     object\n",
      " 2   bank_name    39 non-null     object\n",
      "dtypes: object(3)\n",
      "memory usage: 1.0+ KB\n"
     ]
    }
   ],
   "source": [
    "fact_data.info()"
   ]
  },
  {
   "cell_type": "code",
   "execution_count": 10,
   "id": "95369b14",
   "metadata": {},
   "outputs": [
    {
     "data": {
      "text/html": [
       "<div>\n",
       "<style scoped>\n",
       "    .dataframe tbody tr th:only-of-type {\n",
       "        vertical-align: middle;\n",
       "    }\n",
       "\n",
       "    .dataframe tbody tr th {\n",
       "        vertical-align: top;\n",
       "    }\n",
       "\n",
       "    .dataframe thead th {\n",
       "        text-align: right;\n",
       "    }\n",
       "</style>\n",
       "<table border=\"1\" class=\"dataframe\">\n",
       "  <thead>\n",
       "    <tr style=\"text-align: right;\">\n",
       "      <th></th>\n",
       "      <th>item_key</th>\n",
       "      <th>item_name</th>\n",
       "      <th>desc</th>\n",
       "      <th>unit_price</th>\n",
       "      <th>man_country</th>\n",
       "      <th>supplier</th>\n",
       "      <th>unit</th>\n",
       "    </tr>\n",
       "  </thead>\n",
       "  <tbody>\n",
       "    <tr>\n",
       "      <th>0</th>\n",
       "      <td>I00001</td>\n",
       "      <td>A&amp;W Root Beer - 12 oz cans</td>\n",
       "      <td>a. Beverage - Soda</td>\n",
       "      <td>11.50</td>\n",
       "      <td>Netherlands</td>\n",
       "      <td>Bolsius Boxmeer</td>\n",
       "      <td>cans</td>\n",
       "    </tr>\n",
       "    <tr>\n",
       "      <th>1</th>\n",
       "      <td>I00002</td>\n",
       "      <td>A&amp;W Root Beer Diet - 12 oz cans</td>\n",
       "      <td>a. Beverage - Soda</td>\n",
       "      <td>6.75</td>\n",
       "      <td>poland</td>\n",
       "      <td>CHROMADURLIN S.A.S</td>\n",
       "      <td>cans</td>\n",
       "    </tr>\n",
       "    <tr>\n",
       "      <th>2</th>\n",
       "      <td>I00003</td>\n",
       "      <td>Barq's Root Beer - 12 oz cans</td>\n",
       "      <td>a. Beverage - Soda</td>\n",
       "      <td>6.75</td>\n",
       "      <td>Bangladesh</td>\n",
       "      <td>DENIMACH LTD</td>\n",
       "      <td>cans</td>\n",
       "    </tr>\n",
       "    <tr>\n",
       "      <th>3</th>\n",
       "      <td>I00004</td>\n",
       "      <td>Cherry Coke 12oz</td>\n",
       "      <td>a. Beverage - Soda</td>\n",
       "      <td>6.75</td>\n",
       "      <td>Netherlands</td>\n",
       "      <td>Bolsius Boxmeer</td>\n",
       "      <td>cans</td>\n",
       "    </tr>\n",
       "    <tr>\n",
       "      <th>4</th>\n",
       "      <td>I00005</td>\n",
       "      <td>Cherry Coke Zero 12 pack</td>\n",
       "      <td>a. Beverage - Soda</td>\n",
       "      <td>6.75</td>\n",
       "      <td>Finland</td>\n",
       "      <td>HARDFORD AB</td>\n",
       "      <td>cans</td>\n",
       "    </tr>\n",
       "    <tr>\n",
       "      <th>5</th>\n",
       "      <td>I00006</td>\n",
       "      <td>Coke Classic 12 oz cans</td>\n",
       "      <td>a. Beverage - Soda</td>\n",
       "      <td>16.25</td>\n",
       "      <td>Lithuania</td>\n",
       "      <td>BIGSO AB</td>\n",
       "      <td>cans</td>\n",
       "    </tr>\n",
       "    <tr>\n",
       "      <th>6</th>\n",
       "      <td>I00007</td>\n",
       "      <td>Coke Classic 12 oz cans</td>\n",
       "      <td>a. Beverage - Soda</td>\n",
       "      <td>6.75</td>\n",
       "      <td>India</td>\n",
       "      <td>Indo Count Industries Ltd</td>\n",
       "      <td>cans</td>\n",
       "    </tr>\n",
       "    <tr>\n",
       "      <th>7</th>\n",
       "      <td>I00008</td>\n",
       "      <td>Coke Zero Sugar 12 oz cans</td>\n",
       "      <td>a. Beverage - Soda</td>\n",
       "      <td>16.25</td>\n",
       "      <td>India</td>\n",
       "      <td>Indo Count Industries Ltd</td>\n",
       "      <td>cans</td>\n",
       "    </tr>\n",
       "    <tr>\n",
       "      <th>8</th>\n",
       "      <td>I00009</td>\n",
       "      <td>Diet Coke - 12 oz cans</td>\n",
       "      <td>a. Beverage - Soda</td>\n",
       "      <td>16.25</td>\n",
       "      <td>Netherlands</td>\n",
       "      <td>Bolsius Boxmeer</td>\n",
       "      <td>cans</td>\n",
       "    </tr>\n",
       "    <tr>\n",
       "      <th>9</th>\n",
       "      <td>I00010</td>\n",
       "      <td>Diet Coke - 12 oz cans</td>\n",
       "      <td>a. Beverage - Soda</td>\n",
       "      <td>6.75</td>\n",
       "      <td>Lithuania</td>\n",
       "      <td>BIGSO AB</td>\n",
       "      <td>cans</td>\n",
       "    </tr>\n",
       "  </tbody>\n",
       "</table>\n",
       "</div>"
      ],
      "text/plain": [
       "  item_key                        item_name                desc  unit_price  \\\n",
       "0   I00001       A&W Root Beer - 12 oz cans  a. Beverage - Soda       11.50   \n",
       "1   I00002  A&W Root Beer Diet - 12 oz cans  a. Beverage - Soda        6.75   \n",
       "2   I00003    Barq's Root Beer - 12 oz cans  a. Beverage - Soda        6.75   \n",
       "3   I00004                 Cherry Coke 12oz  a. Beverage - Soda        6.75   \n",
       "4   I00005         Cherry Coke Zero 12 pack  a. Beverage - Soda        6.75   \n",
       "5   I00006          Coke Classic 12 oz cans  a. Beverage - Soda       16.25   \n",
       "6   I00007          Coke Classic 12 oz cans  a. Beverage - Soda        6.75   \n",
       "7   I00008       Coke Zero Sugar 12 oz cans  a. Beverage - Soda       16.25   \n",
       "8   I00009           Diet Coke - 12 oz cans  a. Beverage - Soda       16.25   \n",
       "9   I00010           Diet Coke - 12 oz cans  a. Beverage - Soda        6.75   \n",
       "\n",
       "   man_country                   supplier  unit  \n",
       "0  Netherlands            Bolsius Boxmeer  cans  \n",
       "1       poland         CHROMADURLIN S.A.S  cans  \n",
       "2   Bangladesh               DENIMACH LTD  cans  \n",
       "3  Netherlands            Bolsius Boxmeer  cans  \n",
       "4      Finland                HARDFORD AB  cans  \n",
       "5    Lithuania                   BIGSO AB  cans  \n",
       "6        India  Indo Count Industries Ltd  cans  \n",
       "7        India  Indo Count Industries Ltd  cans  \n",
       "8  Netherlands            Bolsius Boxmeer  cans  \n",
       "9    Lithuania                   BIGSO AB  cans  "
      ]
     },
     "execution_count": 10,
     "metadata": {},
     "output_type": "execute_result"
    }
   ],
   "source": [
    "item_data.head(10)"
   ]
  },
  {
   "cell_type": "code",
   "execution_count": 11,
   "id": "5d5c368a",
   "metadata": {},
   "outputs": [
    {
     "name": "stdout",
     "output_type": "stream",
     "text": [
      "<class 'pandas.core.frame.DataFrame'>\n",
      "RangeIndex: 264 entries, 0 to 263\n",
      "Data columns (total 7 columns):\n",
      " #   Column       Non-Null Count  Dtype  \n",
      "---  ------       --------------  -----  \n",
      " 0   item_key     264 non-null    object \n",
      " 1   item_name    264 non-null    object \n",
      " 2   desc         264 non-null    object \n",
      " 3   unit_price   264 non-null    float64\n",
      " 4   man_country  264 non-null    object \n",
      " 5   supplier     264 non-null    object \n",
      " 6   unit         263 non-null    object \n",
      "dtypes: float64(1), object(6)\n",
      "memory usage: 14.6+ KB\n"
     ]
    }
   ],
   "source": [
    "item_data.info()"
   ]
  },
  {
   "cell_type": "code",
   "execution_count": 12,
   "id": "a1268036",
   "metadata": {},
   "outputs": [
    {
     "data": {
      "text/html": [
       "<div>\n",
       "<style scoped>\n",
       "    .dataframe tbody tr th:only-of-type {\n",
       "        vertical-align: middle;\n",
       "    }\n",
       "\n",
       "    .dataframe tbody tr th {\n",
       "        vertical-align: top;\n",
       "    }\n",
       "\n",
       "    .dataframe thead th {\n",
       "        text-align: right;\n",
       "    }\n",
       "</style>\n",
       "<table border=\"1\" class=\"dataframe\">\n",
       "  <thead>\n",
       "    <tr style=\"text-align: right;\">\n",
       "      <th></th>\n",
       "      <th>store_key</th>\n",
       "      <th>division</th>\n",
       "      <th>district</th>\n",
       "      <th>upazila</th>\n",
       "    </tr>\n",
       "  </thead>\n",
       "  <tbody>\n",
       "    <tr>\n",
       "      <th>0</th>\n",
       "      <td>S0001</td>\n",
       "      <td>SYLHET</td>\n",
       "      <td>HABIGANJ</td>\n",
       "      <td>AJMIRIGANJ</td>\n",
       "    </tr>\n",
       "    <tr>\n",
       "      <th>1</th>\n",
       "      <td>S0002</td>\n",
       "      <td>SYLHET</td>\n",
       "      <td>HABIGANJ</td>\n",
       "      <td>BAHUBAL</td>\n",
       "    </tr>\n",
       "    <tr>\n",
       "      <th>2</th>\n",
       "      <td>S0003</td>\n",
       "      <td>SYLHET</td>\n",
       "      <td>HABIGANJ</td>\n",
       "      <td>BANIACHONG</td>\n",
       "    </tr>\n",
       "    <tr>\n",
       "      <th>3</th>\n",
       "      <td>S0004</td>\n",
       "      <td>SYLHET</td>\n",
       "      <td>HABIGANJ</td>\n",
       "      <td>CHUNARUGHAT</td>\n",
       "    </tr>\n",
       "    <tr>\n",
       "      <th>4</th>\n",
       "      <td>S0005</td>\n",
       "      <td>SYLHET</td>\n",
       "      <td>HABIGANJ</td>\n",
       "      <td>HABIGANJ SADAR</td>\n",
       "    </tr>\n",
       "  </tbody>\n",
       "</table>\n",
       "</div>"
      ],
      "text/plain": [
       "  store_key division  district         upazila\n",
       "0     S0001   SYLHET  HABIGANJ      AJMIRIGANJ\n",
       "1     S0002   SYLHET  HABIGANJ         BAHUBAL\n",
       "2     S0003   SYLHET  HABIGANJ      BANIACHONG\n",
       "3     S0004   SYLHET  HABIGANJ     CHUNARUGHAT\n",
       "4     S0005   SYLHET  HABIGANJ  HABIGANJ SADAR"
      ]
     },
     "execution_count": 12,
     "metadata": {},
     "output_type": "execute_result"
    }
   ],
   "source": [
    "store_data.head()"
   ]
  },
  {
   "cell_type": "code",
   "execution_count": 13,
   "id": "c0917a1c",
   "metadata": {},
   "outputs": [
    {
     "name": "stdout",
     "output_type": "stream",
     "text": [
      "<class 'pandas.core.frame.DataFrame'>\n",
      "RangeIndex: 726 entries, 0 to 725\n",
      "Data columns (total 4 columns):\n",
      " #   Column     Non-Null Count  Dtype \n",
      "---  ------     --------------  ----- \n",
      " 0   store_key  726 non-null    object\n",
      " 1   division   726 non-null    object\n",
      " 2   district   726 non-null    object\n",
      " 3   upazila    726 non-null    object\n",
      "dtypes: object(4)\n",
      "memory usage: 22.8+ KB\n"
     ]
    }
   ],
   "source": [
    "store_data.info()"
   ]
  },
  {
   "cell_type": "code",
   "execution_count": 14,
   "id": "b7b33e2d",
   "metadata": {},
   "outputs": [
    {
     "data": {
      "text/html": [
       "<div>\n",
       "<style scoped>\n",
       "    .dataframe tbody tr th:only-of-type {\n",
       "        vertical-align: middle;\n",
       "    }\n",
       "\n",
       "    .dataframe tbody tr th {\n",
       "        vertical-align: top;\n",
       "    }\n",
       "\n",
       "    .dataframe thead th {\n",
       "        text-align: right;\n",
       "    }\n",
       "</style>\n",
       "<table border=\"1\" class=\"dataframe\">\n",
       "  <thead>\n",
       "    <tr style=\"text-align: right;\">\n",
       "      <th></th>\n",
       "      <th>time_key</th>\n",
       "      <th>date</th>\n",
       "      <th>hour</th>\n",
       "      <th>day</th>\n",
       "      <th>week</th>\n",
       "      <th>month</th>\n",
       "      <th>quarter</th>\n",
       "      <th>year</th>\n",
       "    </tr>\n",
       "  </thead>\n",
       "  <tbody>\n",
       "    <tr>\n",
       "      <th>0</th>\n",
       "      <td>T00001</td>\n",
       "      <td>20-05-2017 14:56</td>\n",
       "      <td>14</td>\n",
       "      <td>20</td>\n",
       "      <td>3rd Week</td>\n",
       "      <td>5</td>\n",
       "      <td>Q2</td>\n",
       "      <td>2017</td>\n",
       "    </tr>\n",
       "    <tr>\n",
       "      <th>1</th>\n",
       "      <td>T00002</td>\n",
       "      <td>30-01-2015 22:14</td>\n",
       "      <td>22</td>\n",
       "      <td>30</td>\n",
       "      <td>4th Week</td>\n",
       "      <td>1</td>\n",
       "      <td>Q1</td>\n",
       "      <td>2015</td>\n",
       "    </tr>\n",
       "    <tr>\n",
       "      <th>2</th>\n",
       "      <td>T00003</td>\n",
       "      <td>14-03-2020 02:34</td>\n",
       "      <td>2</td>\n",
       "      <td>14</td>\n",
       "      <td>2nd Week</td>\n",
       "      <td>3</td>\n",
       "      <td>Q1</td>\n",
       "      <td>2020</td>\n",
       "    </tr>\n",
       "    <tr>\n",
       "      <th>3</th>\n",
       "      <td>T00004</td>\n",
       "      <td>27-04-2018 12:19</td>\n",
       "      <td>12</td>\n",
       "      <td>27</td>\n",
       "      <td>4th Week</td>\n",
       "      <td>4</td>\n",
       "      <td>Q2</td>\n",
       "      <td>2018</td>\n",
       "    </tr>\n",
       "    <tr>\n",
       "      <th>4</th>\n",
       "      <td>T00005</td>\n",
       "      <td>14-04-2018 10:43</td>\n",
       "      <td>10</td>\n",
       "      <td>14</td>\n",
       "      <td>2nd Week</td>\n",
       "      <td>4</td>\n",
       "      <td>Q2</td>\n",
       "      <td>2018</td>\n",
       "    </tr>\n",
       "  </tbody>\n",
       "</table>\n",
       "</div>"
      ],
      "text/plain": [
       "  time_key              date  hour  day      week  month quarter  year\n",
       "0   T00001  20-05-2017 14:56    14   20  3rd Week      5      Q2  2017\n",
       "1   T00002  30-01-2015 22:14    22   30  4th Week      1      Q1  2015\n",
       "2   T00003  14-03-2020 02:34     2   14  2nd Week      3      Q1  2020\n",
       "3   T00004  27-04-2018 12:19    12   27  4th Week      4      Q2  2018\n",
       "4   T00005  14-04-2018 10:43    10   14  2nd Week      4      Q2  2018"
      ]
     },
     "execution_count": 14,
     "metadata": {},
     "output_type": "execute_result"
    }
   ],
   "source": [
    "time_data.head()"
   ]
  },
  {
   "cell_type": "code",
   "execution_count": 15,
   "id": "79f0b32b",
   "metadata": {
    "scrolled": true
   },
   "outputs": [
    {
     "name": "stdout",
     "output_type": "stream",
     "text": [
      "<class 'pandas.core.frame.DataFrame'>\n",
      "RangeIndex: 99999 entries, 0 to 99998\n",
      "Data columns (total 8 columns):\n",
      " #   Column    Non-Null Count  Dtype \n",
      "---  ------    --------------  ----- \n",
      " 0   time_key  99999 non-null  object\n",
      " 1   date      99999 non-null  object\n",
      " 2   hour      99999 non-null  int64 \n",
      " 3   day       99999 non-null  int64 \n",
      " 4   week      99999 non-null  object\n",
      " 5   month     99999 non-null  int64 \n",
      " 6   quarter   99999 non-null  object\n",
      " 7   year      99999 non-null  int64 \n",
      "dtypes: int64(4), object(4)\n",
      "memory usage: 6.1+ MB\n"
     ]
    }
   ],
   "source": [
    "time_data.info()"
   ]
  },
  {
   "cell_type": "code",
   "execution_count": 16,
   "id": "5886c773",
   "metadata": {},
   "outputs": [
    {
     "data": {
      "text/html": [
       "<div>\n",
       "<style scoped>\n",
       "    .dataframe tbody tr th:only-of-type {\n",
       "        vertical-align: middle;\n",
       "    }\n",
       "\n",
       "    .dataframe tbody tr th {\n",
       "        vertical-align: top;\n",
       "    }\n",
       "\n",
       "    .dataframe thead th {\n",
       "        text-align: right;\n",
       "    }\n",
       "</style>\n",
       "<table border=\"1\" class=\"dataframe\">\n",
       "  <thead>\n",
       "    <tr style=\"text-align: right;\">\n",
       "      <th></th>\n",
       "      <th>payment_key</th>\n",
       "      <th>trans_type</th>\n",
       "      <th>bank_name</th>\n",
       "    </tr>\n",
       "  </thead>\n",
       "  <tbody>\n",
       "    <tr>\n",
       "      <th>0</th>\n",
       "      <td>P001</td>\n",
       "      <td>cash</td>\n",
       "      <td>None</td>\n",
       "    </tr>\n",
       "    <tr>\n",
       "      <th>1</th>\n",
       "      <td>P002</td>\n",
       "      <td>card</td>\n",
       "      <td>AB Bank Limited</td>\n",
       "    </tr>\n",
       "    <tr>\n",
       "      <th>2</th>\n",
       "      <td>P003</td>\n",
       "      <td>card</td>\n",
       "      <td>Bangladesh Commerce Bank Limited</td>\n",
       "    </tr>\n",
       "    <tr>\n",
       "      <th>3</th>\n",
       "      <td>P004</td>\n",
       "      <td>card</td>\n",
       "      <td>Bank Asia Limited</td>\n",
       "    </tr>\n",
       "    <tr>\n",
       "      <th>4</th>\n",
       "      <td>P005</td>\n",
       "      <td>card</td>\n",
       "      <td>BRAC Bank Limited</td>\n",
       "    </tr>\n",
       "  </tbody>\n",
       "</table>\n",
       "</div>"
      ],
      "text/plain": [
       "  payment_key trans_type                         bank_name\n",
       "0        P001       cash                              None\n",
       "1        P002       card                   AB Bank Limited\n",
       "2        P003       card  Bangladesh Commerce Bank Limited\n",
       "3        P004       card                 Bank Asia Limited\n",
       "4        P005       card                 BRAC Bank Limited"
      ]
     },
     "execution_count": 16,
     "metadata": {},
     "output_type": "execute_result"
    }
   ],
   "source": [
    "trans_data.head()"
   ]
  },
  {
   "cell_type": "code",
   "execution_count": 17,
   "id": "ab6c7b14",
   "metadata": {},
   "outputs": [
    {
     "name": "stdout",
     "output_type": "stream",
     "text": [
      "<class 'pandas.core.frame.DataFrame'>\n",
      "RangeIndex: 39 entries, 0 to 38\n",
      "Data columns (total 3 columns):\n",
      " #   Column       Non-Null Count  Dtype \n",
      "---  ------       --------------  ----- \n",
      " 0   payment_key  39 non-null     object\n",
      " 1   trans_type   39 non-null     object\n",
      " 2   bank_name    39 non-null     object\n",
      "dtypes: object(3)\n",
      "memory usage: 1.0+ KB\n"
     ]
    }
   ],
   "source": [
    "trans_data.info()"
   ]
  },
  {
   "cell_type": "code",
   "execution_count": 18,
   "id": "77aa0ee3",
   "metadata": {},
   "outputs": [
    {
     "data": {
      "text/plain": [
       "item_key        object\n",
       "item_name       object\n",
       "desc            object\n",
       "unit_price     float64\n",
       "man_country     object\n",
       "supplier        object\n",
       "unit            object\n",
       "dtype: object"
      ]
     },
     "execution_count": 18,
     "metadata": {},
     "output_type": "execute_result"
    }
   ],
   "source": [
    "item_data.dtypes"
   ]
  },
  {
   "cell_type": "code",
   "execution_count": 2,
   "id": "62a1280d",
   "metadata": {},
   "outputs": [],
   "source": [
    "import psycopg2\n",
    "import psycopg2.extras"
   ]
  },
  {
   "cell_type": "code",
   "execution_count": 3,
   "id": "5049ff04",
   "metadata": {},
   "outputs": [],
   "source": [
    "class PostgresConnection(object):\n",
    "    def __init__(self):\n",
    "        self.connection = psycopg2.connect(database = \"ecomdb\",\n",
    "                                          user = \"postgres\",\n",
    "                                          password = \"amiIstiaq6045\",\n",
    "                                          host = \"127.0.0.1\",\n",
    "                                          port = \"5432\")\n",
    "    def getConnection(self):\n",
    "        print(\"Connection to DB established!\")\n",
    "        return self.connection"
   ]
  },
  {
   "cell_type": "code",
   "execution_count": 4,
   "id": "5699792a",
   "metadata": {},
   "outputs": [
    {
     "name": "stdout",
     "output_type": "stream",
     "text": [
      "Connection to DB established!\n"
     ]
    }
   ],
   "source": [
    "con = PostgresConnection().getConnection()"
   ]
  },
  {
   "cell_type": "code",
   "execution_count": 39,
   "id": "ec0a0918",
   "metadata": {},
   "outputs": [
    {
     "data": {
      "text/plain": [
       "item_key        object\n",
       "item_name       object\n",
       "desc            object\n",
       "unit_price     float64\n",
       "man_country     object\n",
       "supplier        object\n",
       "unit            object\n",
       "dtype: object"
      ]
     },
     "execution_count": 39,
     "metadata": {},
     "output_type": "execute_result"
    }
   ],
   "source": [
    "# import numpy as np\n",
    "# arr = np.array(trans_data.values)\n",
    "# trans_data.values.tolist()\n",
    "# trans_data.values.tolist()\n",
    "item_data.dtypes"
   ]
  },
  {
   "cell_type": "code",
   "execution_count": 30,
   "id": "80fa5701",
   "metadata": {
    "scrolled": true
   },
   "outputs": [
    {
     "name": "stdout",
     "output_type": "stream",
     "text": [
      "Connection to DB established!\n"
     ]
    }
   ],
   "source": [
    "con = PostgresConnection().getConnection()\n",
    "insert_stmt = \"INSERT INTO star_schema.trans_dim(payment_key,trans_type,bank_name) VALUES (%s,%s,%s)\"\n",
    "cur = con.cursor()\n",
    "# cur.executemany(insert_stmt, trans_data.values)\n",
    "psycopg2.extras.execute_batch(cur, insert_stmt, trans_data.values)\n",
    "con.commit()\n",
    "cur.close()"
   ]
  },
  {
   "cell_type": "code",
   "execution_count": 31,
   "id": "d5363723",
   "metadata": {},
   "outputs": [
    {
     "name": "stdout",
     "output_type": "stream",
     "text": [
      "Connection to DB established!\n"
     ]
    }
   ],
   "source": [
    "con = PostgresConnection().getConnection()\n",
    "insert_stmt = \"INSERT INTO star_schema.store_dim(store_key, division, district, upazila) VALUES (%s, %s, %s, %s);\"\n",
    "cur = con.cursor()\n",
    "psycopg2.extras.execute_batch(cur, insert_stmt, store_data.values)\n",
    "con.commit()\n",
    "cur.close()"
   ]
  },
  {
   "cell_type": "code",
   "execution_count": 46,
   "id": "a94f4b7e",
   "metadata": {},
   "outputs": [
    {
     "data": {
      "text/html": [
       "<div>\n",
       "<style scoped>\n",
       "    .dataframe tbody tr th:only-of-type {\n",
       "        vertical-align: middle;\n",
       "    }\n",
       "\n",
       "    .dataframe tbody tr th {\n",
       "        vertical-align: top;\n",
       "    }\n",
       "\n",
       "    .dataframe thead th {\n",
       "        text-align: right;\n",
       "    }\n",
       "</style>\n",
       "<table border=\"1\" class=\"dataframe\">\n",
       "  <thead>\n",
       "    <tr style=\"text-align: right;\">\n",
       "      <th></th>\n",
       "      <th>item_key</th>\n",
       "      <th>item_name</th>\n",
       "      <th>desc</th>\n",
       "      <th>unit_price</th>\n",
       "      <th>man_country</th>\n",
       "      <th>supplier</th>\n",
       "      <th>unit</th>\n",
       "    </tr>\n",
       "  </thead>\n",
       "  <tbody>\n",
       "    <tr>\n",
       "      <th>0</th>\n",
       "      <td>I00001</td>\n",
       "      <td>A&amp;W Root Beer - 12 oz cans</td>\n",
       "      <td>a. Beverage - Soda</td>\n",
       "      <td>11.50</td>\n",
       "      <td>Netherlands</td>\n",
       "      <td>Bolsius Boxmeer</td>\n",
       "      <td>cans</td>\n",
       "    </tr>\n",
       "    <tr>\n",
       "      <th>1</th>\n",
       "      <td>I00002</td>\n",
       "      <td>A&amp;W Root Beer Diet - 12 oz cans</td>\n",
       "      <td>a. Beverage - Soda</td>\n",
       "      <td>6.75</td>\n",
       "      <td>poland</td>\n",
       "      <td>CHROMADURLIN S.A.S</td>\n",
       "      <td>cans</td>\n",
       "    </tr>\n",
       "    <tr>\n",
       "      <th>2</th>\n",
       "      <td>I00003</td>\n",
       "      <td>Barq's Root Beer - 12 oz cans</td>\n",
       "      <td>a. Beverage - Soda</td>\n",
       "      <td>6.75</td>\n",
       "      <td>Bangladesh</td>\n",
       "      <td>DENIMACH LTD</td>\n",
       "      <td>cans</td>\n",
       "    </tr>\n",
       "    <tr>\n",
       "      <th>3</th>\n",
       "      <td>I00004</td>\n",
       "      <td>Cherry Coke 12oz</td>\n",
       "      <td>a. Beverage - Soda</td>\n",
       "      <td>6.75</td>\n",
       "      <td>Netherlands</td>\n",
       "      <td>Bolsius Boxmeer</td>\n",
       "      <td>cans</td>\n",
       "    </tr>\n",
       "    <tr>\n",
       "      <th>4</th>\n",
       "      <td>I00005</td>\n",
       "      <td>Cherry Coke Zero 12 pack</td>\n",
       "      <td>a. Beverage - Soda</td>\n",
       "      <td>6.75</td>\n",
       "      <td>Finland</td>\n",
       "      <td>HARDFORD AB</td>\n",
       "      <td>cans</td>\n",
       "    </tr>\n",
       "  </tbody>\n",
       "</table>\n",
       "</div>"
      ],
      "text/plain": [
       "  item_key                        item_name                desc  unit_price  \\\n",
       "0   I00001       A&W Root Beer - 12 oz cans  a. Beverage - Soda       11.50   \n",
       "1   I00002  A&W Root Beer Diet - 12 oz cans  a. Beverage - Soda        6.75   \n",
       "2   I00003    Barq's Root Beer - 12 oz cans  a. Beverage - Soda        6.75   \n",
       "3   I00004                 Cherry Coke 12oz  a. Beverage - Soda        6.75   \n",
       "4   I00005         Cherry Coke Zero 12 pack  a. Beverage - Soda        6.75   \n",
       "\n",
       "   man_country            supplier  unit  \n",
       "0  Netherlands     Bolsius Boxmeer  cans  \n",
       "1       poland  CHROMADURLIN S.A.S  cans  \n",
       "2   Bangladesh        DENIMACH LTD  cans  \n",
       "3  Netherlands     Bolsius Boxmeer  cans  \n",
       "4      Finland         HARDFORD AB  cans  "
      ]
     },
     "execution_count": 46,
     "metadata": {},
     "output_type": "execute_result"
    }
   ],
   "source": [
    "item_data['unit_price'] = pd.to_numeric(item_data['unit_price'])\n",
    "item_data.head()"
   ]
  },
  {
   "cell_type": "code",
   "execution_count": 50,
   "id": "c06f4892",
   "metadata": {
    "scrolled": true
   },
   "outputs": [
    {
     "name": "stdout",
     "output_type": "stream",
     "text": [
      "Connection to DB established!\n"
     ]
    }
   ],
   "source": [
    "con = PostgresConnection().getConnection()\n",
    "insert_stmt = \"INSERT INTO star_schema.item_dim(item_key, item_name, description, unit_price, man_country, supplier, unit) VALUES (%s, %s, %s, %s, %s, %s, %s);\"\n",
    "cur = con.cursor()\n",
    "psycopg2.extras.execute_batch(cur, insert_stmt, item_data.values)\n",
    "con.commit()\n",
    "cur.close()"
   ]
  },
  {
   "cell_type": "code",
   "execution_count": 56,
   "id": "6b0c97cc",
   "metadata": {},
   "outputs": [
    {
     "data": {
      "text/plain": [
       "time_key            object\n",
       "date        datetime64[ns]\n",
       "hour                 int64\n",
       "day                  int64\n",
       "week                object\n",
       "month                int64\n",
       "quarter             object\n",
       "year                 int64\n",
       "dtype: object"
      ]
     },
     "execution_count": 56,
     "metadata": {},
     "output_type": "execute_result"
    }
   ],
   "source": [
    "time_data['date'] = time_data['date'].astype('datetime64[ns]')\n",
    "time_data.dtypes"
   ]
  },
  {
   "cell_type": "code",
   "execution_count": 57,
   "id": "89038bc7",
   "metadata": {},
   "outputs": [
    {
     "name": "stdout",
     "output_type": "stream",
     "text": [
      "Connection to DB established!\n"
     ]
    }
   ],
   "source": [
    "con = PostgresConnection().getConnection()\n",
    "insert_stmt = \"INSERT INTO star_schema.time_data(time_key, date, hour, day, week, month, quarter, year) VALUES (%s, %s, %s, %s, %s, %s, %s, %s);\"\n",
    "cur = con.cursor()\n",
    "psycopg2.extras.execute_batch(cur, insert_stmt, time_data.values)\n",
    "con.commit()\n",
    "cur.close()"
   ]
  },
  {
   "cell_type": "code",
   "execution_count": 60,
   "id": "67186fcd",
   "metadata": {
    "scrolled": true
   },
   "outputs": [
    {
     "name": "stdout",
     "output_type": "stream",
     "text": [
      "Connection to DB established!\n"
     ]
    }
   ],
   "source": [
    "con = PostgresConnection().getConnection()\n",
    "insert_stmt = \"INSERT INTO star_schema.customer_dim(coustomer_key, name, contact_no, nid) VALUES (%s,%s,%s,%s);\"\n",
    "cur = con.cursor()\n",
    "psycopg2.extras.execute_batch(cur, insert_stmt, customer_dim.values)\n",
    "con.commit()\n",
    "cur.close()"
   ]
  },
  {
   "cell_type": "code",
   "execution_count": 66,
   "id": "1e9e46b9",
   "metadata": {},
   "outputs": [
    {
     "data": {
      "text/plain": [
       "payment_key       object\n",
       "coustomer_key     object\n",
       "time_key          object\n",
       "item_key          object\n",
       "store_key         object\n",
       "quantity           int64\n",
       "unit              object\n",
       "unit_price       float64\n",
       "total_price      float64\n",
       "dtype: object"
      ]
     },
     "execution_count": 66,
     "metadata": {},
     "output_type": "execute_result"
    }
   ],
   "source": [
    "# fact_data['unit_price'] = pd.to_numeric(fact_data['unit_price'])\n",
    "# fact_data['total_price'] = pd.to_numeric(fact_data['total_price'])\n",
    "fact_data.dtypes"
   ]
  },
  {
   "cell_type": "code",
   "execution_count": 83,
   "id": "33663043",
   "metadata": {},
   "outputs": [
    {
     "name": "stdout",
     "output_type": "stream",
     "text": [
      "Connection to DB established!\n"
     ]
    }
   ],
   "source": [
    "con = PostgresConnection().getConnection()\n",
    "insert_stmt = \"INSERT INTO star_schema.fact_table(payment_key, coustomer_key, time_key, item_key, store_key, quantity, unit, unit_price, total_price) VALUES (%s,%s,%s,%s,%s,%s,%s,%s,%s);\"\n",
    "cur = con.cursor()\n",
    "psycopg2.extras.execute_batch(cur, insert_stmt, fact_data.values)\n",
    "con.commit()\n",
    "cur.close()"
   ]
  }
 ],
 "metadata": {
  "kernelspec": {
   "display_name": "Python 3 (ipykernel)",
   "language": "python",
   "name": "python3"
  },
  "language_info": {
   "codemirror_mode": {
    "name": "ipython",
    "version": 3
   },
   "file_extension": ".py",
   "mimetype": "text/x-python",
   "name": "python",
   "nbconvert_exporter": "python",
   "pygments_lexer": "ipython3",
   "version": "3.9.12"
  }
 },
 "nbformat": 4,
 "nbformat_minor": 5
}

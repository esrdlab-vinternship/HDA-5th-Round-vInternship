{
 "cells": [
  {
   "cell_type": "code",
   "execution_count": 1,
   "id": "75287437",
   "metadata": {},
   "outputs": [],
   "source": [
    "import psycopg2\n",
    "import psycopg2.extras\n",
    "import pandas as pd"
   ]
  },
  {
   "cell_type": "code",
   "execution_count": 3,
   "id": "999eaca6",
   "metadata": {},
   "outputs": [
    {
     "name": "stdout",
     "output_type": "stream",
     "text": [
      "Connection to DB established!\n"
     ]
    }
   ],
   "source": [
    "class PostgresConnection(object):\n",
    "    def __init__(self):\n",
    "        self.connection = psycopg2.connect(database = \"ecomdb\",\n",
    "                                          user = \"postgres\",\n",
    "                                          password = \"*\",\n",
    "                                          host = \"127.0.0.1\",\n",
    "                                          port = \"5432\")\n",
    "    def getConnection(self):\n",
    "        print(\"Connection to DB established!\")\n",
    "        return self.connection\n",
    "con = PostgresConnection().getConnection()"
   ]
  },
  {
   "cell_type": "markdown",
   "id": "daef17ae",
   "metadata": {},
   "source": [
    "**Q1: Find the division/district/year/month wise total_sale_price joining fact table and respective dimension table. **"
   ]
  },
  {
   "cell_type": "markdown",
   "id": "f780bf90",
   "metadata": {},
   "source": [
    "division wise total_sale_price joining fact table and store dimension table"
   ]
  },
  {
   "cell_type": "code",
   "execution_count": 5,
   "id": "5f54f347",
   "metadata": {},
   "outputs": [
    {
     "name": "stdout",
     "output_type": "stream",
     "text": [
      "Connection to DB established!\n"
     ]
    },
    {
     "name": "stderr",
     "output_type": "stream",
     "text": [
      "C:\\Users\\istia\\anaconda3\\lib\\site-packages\\pandas\\io\\sql.py:761: UserWarning: pandas only support SQLAlchemy connectable(engine/connection) ordatabase string URI or sqlite3 DBAPI2 connectionother DBAPI2 objects are not tested, please consider using SQLAlchemy\n",
      "  warnings.warn(\n"
     ]
    }
   ],
   "source": [
    "con = PostgresConnection().getConnection()\n",
    "insert_stmt = \"\"\"SELECT store_dim.division as \"Division\", SUM(fact_table.total_price) \"Total Sale Price\" \n",
    "FROM star_schema.fact_table \n",
    "JOIN star_schema.store_dim ON store_dim.store_key = fact_table.store_key \n",
    "GROUP BY store_dim.division \n",
    "ORDER BY store_dim.division\"\"\"\n",
    "cur = con.cursor()\n",
    "# psycopg2.extras.execute_batch(cur, insert_stmt, fact_data.values)\n",
    "total_price_by_division = pd.read_sql_query(insert_stmt, con)\n",
    "con.commit()\n",
    "cur.close()"
   ]
  },
  {
   "cell_type": "code",
   "execution_count": 6,
   "id": "3fa2996d",
   "metadata": {},
   "outputs": [
    {
     "data": {
      "text/html": [
       "<div>\n",
       "<style scoped>\n",
       "    .dataframe tbody tr th:only-of-type {\n",
       "        vertical-align: middle;\n",
       "    }\n",
       "\n",
       "    .dataframe tbody tr th {\n",
       "        vertical-align: top;\n",
       "    }\n",
       "\n",
       "    .dataframe thead th {\n",
       "        text-align: right;\n",
       "    }\n",
       "</style>\n",
       "<table border=\"1\" class=\"dataframe\">\n",
       "  <thead>\n",
       "    <tr style=\"text-align: right;\">\n",
       "      <th></th>\n",
       "      <th>Division</th>\n",
       "      <th>Total Sale Price</th>\n",
       "    </tr>\n",
       "  </thead>\n",
       "  <tbody>\n",
       "    <tr>\n",
       "      <th>0</th>\n",
       "      <td>BARISAL</td>\n",
       "      <td>7520343.75</td>\n",
       "    </tr>\n",
       "    <tr>\n",
       "      <th>1</th>\n",
       "      <td>CHITTAGONG</td>\n",
       "      <td>19763595.00</td>\n",
       "    </tr>\n",
       "    <tr>\n",
       "      <th>2</th>\n",
       "      <td>DHAKA</td>\n",
       "      <td>40764619.75</td>\n",
       "    </tr>\n",
       "    <tr>\n",
       "      <th>3</th>\n",
       "      <td>KHULNA</td>\n",
       "      <td>11311610.50</td>\n",
       "    </tr>\n",
       "    <tr>\n",
       "      <th>4</th>\n",
       "      <td>RAJSHAHI</td>\n",
       "      <td>12099196.00</td>\n",
       "    </tr>\n",
       "    <tr>\n",
       "      <th>5</th>\n",
       "      <td>RANGPUR</td>\n",
       "      <td>8429836.50</td>\n",
       "    </tr>\n",
       "    <tr>\n",
       "      <th>6</th>\n",
       "      <td>SYLHET</td>\n",
       "      <td>5512234.25</td>\n",
       "    </tr>\n",
       "  </tbody>\n",
       "</table>\n",
       "</div>"
      ],
      "text/plain": [
       "     Division  Total Sale Price\n",
       "0     BARISAL        7520343.75\n",
       "1  CHITTAGONG       19763595.00\n",
       "2       DHAKA       40764619.75\n",
       "3      KHULNA       11311610.50\n",
       "4    RAJSHAHI       12099196.00\n",
       "5     RANGPUR        8429836.50\n",
       "6      SYLHET        5512234.25"
      ]
     },
     "execution_count": 6,
     "metadata": {},
     "output_type": "execute_result"
    }
   ],
   "source": [
    "total_price_by_division"
   ]
  },
  {
   "cell_type": "markdown",
   "id": "d1489c34",
   "metadata": {},
   "source": [
    "district wise total_sale_price joining fact table and store dimension table"
   ]
  },
  {
   "cell_type": "code",
   "execution_count": 7,
   "id": "f5959205",
   "metadata": {},
   "outputs": [
    {
     "name": "stdout",
     "output_type": "stream",
     "text": [
      "Connection to DB established!\n"
     ]
    },
    {
     "name": "stderr",
     "output_type": "stream",
     "text": [
      "C:\\Users\\istia\\anaconda3\\lib\\site-packages\\pandas\\io\\sql.py:761: UserWarning: pandas only support SQLAlchemy connectable(engine/connection) ordatabase string URI or sqlite3 DBAPI2 connectionother DBAPI2 objects are not tested, please consider using SQLAlchemy\n",
      "  warnings.warn(\n"
     ]
    }
   ],
   "source": [
    "con = PostgresConnection().getConnection()\n",
    "insert_stmt = \"\"\"SELECT store_dim.district as \"District\", SUM(fact_table.total_price) \"Total Sale Price\" \n",
    "FROM star_schema.fact_table \n",
    "JOIN star_schema.store_dim ON store_dim.store_key = fact_table.store_key \n",
    "GROUP BY store_dim.district \n",
    "ORDER BY store_dim.district\"\"\"\n",
    "cur = con.cursor()\n",
    "# psycopg2.extras.execute_batch(cur, insert_stmt, fact_data.values)\n",
    "total_price_by_district = pd.read_sql_query(insert_stmt, con)\n",
    "con.commit()\n",
    "cur.close()"
   ]
  },
  {
   "cell_type": "code",
   "execution_count": 8,
   "id": "4dcbcbb3",
   "metadata": {},
   "outputs": [
    {
     "data": {
      "text/html": [
       "<div>\n",
       "<style scoped>\n",
       "    .dataframe tbody tr th:only-of-type {\n",
       "        vertical-align: middle;\n",
       "    }\n",
       "\n",
       "    .dataframe tbody tr th {\n",
       "        vertical-align: top;\n",
       "    }\n",
       "\n",
       "    .dataframe thead th {\n",
       "        text-align: right;\n",
       "    }\n",
       "</style>\n",
       "<table border=\"1\" class=\"dataframe\">\n",
       "  <thead>\n",
       "    <tr style=\"text-align: right;\">\n",
       "      <th></th>\n",
       "      <th>District</th>\n",
       "      <th>Total Sale Price</th>\n",
       "    </tr>\n",
       "  </thead>\n",
       "  <tbody>\n",
       "    <tr>\n",
       "      <th>0</th>\n",
       "      <td>BAGERHAT</td>\n",
       "      <td>1307651.00</td>\n",
       "    </tr>\n",
       "    <tr>\n",
       "      <th>1</th>\n",
       "      <td>BANDARBAN</td>\n",
       "      <td>995360.75</td>\n",
       "    </tr>\n",
       "    <tr>\n",
       "      <th>2</th>\n",
       "      <td>BARGUNA</td>\n",
       "      <td>869041.00</td>\n",
       "    </tr>\n",
       "    <tr>\n",
       "      <th>3</th>\n",
       "      <td>BARISAL</td>\n",
       "      <td>2897237.75</td>\n",
       "    </tr>\n",
       "    <tr>\n",
       "      <th>4</th>\n",
       "      <td>BHOLA</td>\n",
       "      <td>1012205.75</td>\n",
       "    </tr>\n",
       "    <tr>\n",
       "      <th>...</th>\n",
       "      <td>...</td>\n",
       "      <td>...</td>\n",
       "    </tr>\n",
       "    <tr>\n",
       "      <th>59</th>\n",
       "      <td>SIRAJGANJ</td>\n",
       "      <td>1295100.75</td>\n",
       "    </tr>\n",
       "    <tr>\n",
       "      <th>60</th>\n",
       "      <td>SUNAMGANJ</td>\n",
       "      <td>1593774.00</td>\n",
       "    </tr>\n",
       "    <tr>\n",
       "      <th>61</th>\n",
       "      <td>SYLHET</td>\n",
       "      <td>1727717.25</td>\n",
       "    </tr>\n",
       "    <tr>\n",
       "      <th>62</th>\n",
       "      <td>TANGAIL</td>\n",
       "      <td>1774650.25</td>\n",
       "    </tr>\n",
       "    <tr>\n",
       "      <th>63</th>\n",
       "      <td>THAKURGAON</td>\n",
       "      <td>729934.25</td>\n",
       "    </tr>\n",
       "  </tbody>\n",
       "</table>\n",
       "<p>64 rows × 2 columns</p>\n",
       "</div>"
      ],
      "text/plain": [
       "      District  Total Sale Price\n",
       "0     BAGERHAT        1307651.00\n",
       "1    BANDARBAN         995360.75\n",
       "2      BARGUNA         869041.00\n",
       "3      BARISAL        2897237.75\n",
       "4        BHOLA        1012205.75\n",
       "..         ...               ...\n",
       "59   SIRAJGANJ        1295100.75\n",
       "60   SUNAMGANJ        1593774.00\n",
       "61      SYLHET        1727717.25\n",
       "62     TANGAIL        1774650.25\n",
       "63  THAKURGAON         729934.25\n",
       "\n",
       "[64 rows x 2 columns]"
      ]
     },
     "execution_count": 8,
     "metadata": {},
     "output_type": "execute_result"
    }
   ],
   "source": [
    "total_price_by_district"
   ]
  },
  {
   "cell_type": "markdown",
   "id": "c2c1137e",
   "metadata": {},
   "source": [
    "year wise total_sale_price joining fact table and Time dimension table"
   ]
  },
  {
   "cell_type": "code",
   "execution_count": 9,
   "id": "3564edcb",
   "metadata": {},
   "outputs": [
    {
     "name": "stdout",
     "output_type": "stream",
     "text": [
      "Connection to DB established!\n"
     ]
    },
    {
     "name": "stderr",
     "output_type": "stream",
     "text": [
      "C:\\Users\\istia\\anaconda3\\lib\\site-packages\\pandas\\io\\sql.py:761: UserWarning: pandas only support SQLAlchemy connectable(engine/connection) ordatabase string URI or sqlite3 DBAPI2 connectionother DBAPI2 objects are not tested, please consider using SQLAlchemy\n",
      "  warnings.warn(\n"
     ]
    }
   ],
   "source": [
    "con = PostgresConnection().getConnection()\n",
    "insert_stmt = \"\"\"SELECT time_data.year as \"Year\", SUM(fact_table.total_price) \"Total Sale Price\"\n",
    "FROM star_schema.fact_table\n",
    "JOIN star_schema.time_data ON time_data.time_key = fact_table.time_key\n",
    "GROUP BY time_data.year\n",
    "ORDER BY time_data.year\"\"\"\n",
    "cur = con.cursor()\n",
    "# psycopg2.extras.execute_batch(cur, insert_stmt, fact_data.values)\n",
    "total_price_by_year = pd.read_sql_query(insert_stmt, con)\n",
    "con.commit()\n",
    "cur.close()"
   ]
  },
  {
   "cell_type": "code",
   "execution_count": 10,
   "id": "a514b492",
   "metadata": {},
   "outputs": [
    {
     "data": {
      "text/html": [
       "<div>\n",
       "<style scoped>\n",
       "    .dataframe tbody tr th:only-of-type {\n",
       "        vertical-align: middle;\n",
       "    }\n",
       "\n",
       "    .dataframe tbody tr th {\n",
       "        vertical-align: top;\n",
       "    }\n",
       "\n",
       "    .dataframe thead th {\n",
       "        text-align: right;\n",
       "    }\n",
       "</style>\n",
       "<table border=\"1\" class=\"dataframe\">\n",
       "  <thead>\n",
       "    <tr style=\"text-align: right;\">\n",
       "      <th></th>\n",
       "      <th>Year</th>\n",
       "      <th>Total Sale Price</th>\n",
       "    </tr>\n",
       "  </thead>\n",
       "  <tbody>\n",
       "    <tr>\n",
       "      <th>0</th>\n",
       "      <td>2014</td>\n",
       "      <td>14334731.25</td>\n",
       "    </tr>\n",
       "    <tr>\n",
       "      <th>1</th>\n",
       "      <td>2015</td>\n",
       "      <td>15095720.25</td>\n",
       "    </tr>\n",
       "    <tr>\n",
       "      <th>2</th>\n",
       "      <td>2016</td>\n",
       "      <td>14976508.25</td>\n",
       "    </tr>\n",
       "    <tr>\n",
       "      <th>3</th>\n",
       "      <td>2017</td>\n",
       "      <td>15015806.00</td>\n",
       "    </tr>\n",
       "    <tr>\n",
       "      <th>4</th>\n",
       "      <td>2018</td>\n",
       "      <td>15108197.25</td>\n",
       "    </tr>\n",
       "    <tr>\n",
       "      <th>5</th>\n",
       "      <td>2019</td>\n",
       "      <td>14949510.25</td>\n",
       "    </tr>\n",
       "    <tr>\n",
       "      <th>6</th>\n",
       "      <td>2020</td>\n",
       "      <td>15037190.25</td>\n",
       "    </tr>\n",
       "    <tr>\n",
       "      <th>7</th>\n",
       "      <td>2021</td>\n",
       "      <td>883772.25</td>\n",
       "    </tr>\n",
       "  </tbody>\n",
       "</table>\n",
       "</div>"
      ],
      "text/plain": [
       "   Year  Total Sale Price\n",
       "0  2014       14334731.25\n",
       "1  2015       15095720.25\n",
       "2  2016       14976508.25\n",
       "3  2017       15015806.00\n",
       "4  2018       15108197.25\n",
       "5  2019       14949510.25\n",
       "6  2020       15037190.25\n",
       "7  2021         883772.25"
      ]
     },
     "execution_count": 10,
     "metadata": {},
     "output_type": "execute_result"
    }
   ],
   "source": [
    "total_price_by_year"
   ]
  },
  {
   "cell_type": "markdown",
   "id": "e18a2ad4",
   "metadata": {},
   "source": [
    "month wise total_sale_price joining fact table and Time dimension table\n"
   ]
  },
  {
   "cell_type": "code",
   "execution_count": 11,
   "id": "21af7d78",
   "metadata": {},
   "outputs": [
    {
     "name": "stdout",
     "output_type": "stream",
     "text": [
      "Connection to DB established!\n"
     ]
    },
    {
     "name": "stderr",
     "output_type": "stream",
     "text": [
      "C:\\Users\\istia\\anaconda3\\lib\\site-packages\\pandas\\io\\sql.py:761: UserWarning: pandas only support SQLAlchemy connectable(engine/connection) ordatabase string URI or sqlite3 DBAPI2 connectionother DBAPI2 objects are not tested, please consider using SQLAlchemy\n",
      "  warnings.warn(\n"
     ]
    }
   ],
   "source": [
    "con = PostgresConnection().getConnection()\n",
    "insert_stmt = \"\"\"SELECT time_data.month as \"Month\", SUM(fact_table.total_price) \"Total Sale Price\"\n",
    "FROM star_schema.fact_table\n",
    "JOIN star_schema.time_data ON time_data.time_key = fact_table.time_key\n",
    "GROUP BY time_data.month\n",
    "ORDER BY time_data.month\"\"\"\n",
    "cur = con.cursor()\n",
    "# psycopg2.extras.execute_batch(cur, insert_stmt, fact_data.values)\n",
    "total_price_by_month = pd.read_sql_query(insert_stmt, con)\n",
    "con.commit()\n",
    "cur.close()"
   ]
  },
  {
   "cell_type": "code",
   "execution_count": 12,
   "id": "7841cbe2",
   "metadata": {},
   "outputs": [
    {
     "data": {
      "text/html": [
       "<div>\n",
       "<style scoped>\n",
       "    .dataframe tbody tr th:only-of-type {\n",
       "        vertical-align: middle;\n",
       "    }\n",
       "\n",
       "    .dataframe tbody tr th {\n",
       "        vertical-align: top;\n",
       "    }\n",
       "\n",
       "    .dataframe thead th {\n",
       "        text-align: right;\n",
       "    }\n",
       "</style>\n",
       "<table border=\"1\" class=\"dataframe\">\n",
       "  <thead>\n",
       "    <tr style=\"text-align: right;\">\n",
       "      <th></th>\n",
       "      <th>Month</th>\n",
       "      <th>Total Sale Price</th>\n",
       "    </tr>\n",
       "  </thead>\n",
       "  <tbody>\n",
       "    <tr>\n",
       "      <th>0</th>\n",
       "      <td>1</td>\n",
       "      <td>9042244.00</td>\n",
       "    </tr>\n",
       "    <tr>\n",
       "      <th>1</th>\n",
       "      <td>2</td>\n",
       "      <td>8073877.50</td>\n",
       "    </tr>\n",
       "    <tr>\n",
       "      <th>2</th>\n",
       "      <td>3</td>\n",
       "      <td>8939152.00</td>\n",
       "    </tr>\n",
       "    <tr>\n",
       "      <th>3</th>\n",
       "      <td>4</td>\n",
       "      <td>8504634.75</td>\n",
       "    </tr>\n",
       "    <tr>\n",
       "      <th>4</th>\n",
       "      <td>5</td>\n",
       "      <td>9078002.50</td>\n",
       "    </tr>\n",
       "    <tr>\n",
       "      <th>5</th>\n",
       "      <td>6</td>\n",
       "      <td>8556853.00</td>\n",
       "    </tr>\n",
       "    <tr>\n",
       "      <th>6</th>\n",
       "      <td>7</td>\n",
       "      <td>9046580.00</td>\n",
       "    </tr>\n",
       "    <tr>\n",
       "      <th>7</th>\n",
       "      <td>8</td>\n",
       "      <td>8929475.25</td>\n",
       "    </tr>\n",
       "    <tr>\n",
       "      <th>8</th>\n",
       "      <td>9</td>\n",
       "      <td>8724326.50</td>\n",
       "    </tr>\n",
       "    <tr>\n",
       "      <th>9</th>\n",
       "      <td>10</td>\n",
       "      <td>8902783.75</td>\n",
       "    </tr>\n",
       "    <tr>\n",
       "      <th>10</th>\n",
       "      <td>11</td>\n",
       "      <td>8680026.00</td>\n",
       "    </tr>\n",
       "    <tr>\n",
       "      <th>11</th>\n",
       "      <td>12</td>\n",
       "      <td>8923480.50</td>\n",
       "    </tr>\n",
       "  </tbody>\n",
       "</table>\n",
       "</div>"
      ],
      "text/plain": [
       "    Month  Total Sale Price\n",
       "0       1        9042244.00\n",
       "1       2        8073877.50\n",
       "2       3        8939152.00\n",
       "3       4        8504634.75\n",
       "4       5        9078002.50\n",
       "5       6        8556853.00\n",
       "6       7        9046580.00\n",
       "7       8        8929475.25\n",
       "8       9        8724326.50\n",
       "9      10        8902783.75\n",
       "10     11        8680026.00\n",
       "11     12        8923480.50"
      ]
     },
     "execution_count": 12,
     "metadata": {},
     "output_type": "execute_result"
    }
   ],
   "source": [
    "total_price_by_month"
   ]
  },
  {
   "cell_type": "markdown",
   "id": "d9bfd5c8",
   "metadata": {},
   "source": [
    "**Q2: Find the customer/bank/transaction(cash/online) wise total_sale_price joining fact table and respective dimension table **"
   ]
  },
  {
   "cell_type": "markdown",
   "id": "adacc424",
   "metadata": {},
   "source": [
    "customer wise total sale price joining fact table and customer dimension table"
   ]
  },
  {
   "cell_type": "code",
   "execution_count": 13,
   "id": "e1c307f5",
   "metadata": {},
   "outputs": [
    {
     "name": "stdout",
     "output_type": "stream",
     "text": [
      "Connection to DB established!\n"
     ]
    },
    {
     "name": "stderr",
     "output_type": "stream",
     "text": [
      "C:\\Users\\istia\\anaconda3\\lib\\site-packages\\pandas\\io\\sql.py:761: UserWarning: pandas only support SQLAlchemy connectable(engine/connection) ordatabase string URI or sqlite3 DBAPI2 connectionother DBAPI2 objects are not tested, please consider using SQLAlchemy\n",
      "  warnings.warn(\n"
     ]
    }
   ],
   "source": [
    "con = PostgresConnection().getConnection()\n",
    "insert_stmt = \"\"\"SELECT customer_dim.name as \"Name\", SUM(fact_table.total_price) \"Total Sale Price\"\n",
    "FROM star_schema.fact_table\n",
    "JOIN star_schema.customer_dim ON customer_dim.coustomer_key = fact_table.coustomer_key\n",
    "GROUP BY customer_dim.name\n",
    "ORDER BY customer_dim.name\"\"\"\n",
    "cur = con.cursor()\n",
    "# psycopg2.extras.execute_batch(cur, insert_stmt, fact_data.values)\n",
    "total_price_by_customer = pd.read_sql_query(insert_stmt, con)\n",
    "con.commit()\n",
    "cur.close()"
   ]
  },
  {
   "cell_type": "code",
   "execution_count": 14,
   "id": "b6f8e20e",
   "metadata": {},
   "outputs": [
    {
     "data": {
      "text/html": [
       "<div>\n",
       "<style scoped>\n",
       "    .dataframe tbody tr th:only-of-type {\n",
       "        vertical-align: middle;\n",
       "    }\n",
       "\n",
       "    .dataframe tbody tr th {\n",
       "        vertical-align: top;\n",
       "    }\n",
       "\n",
       "    .dataframe thead th {\n",
       "        text-align: right;\n",
       "    }\n",
       "</style>\n",
       "<table border=\"1\" class=\"dataframe\">\n",
       "  <thead>\n",
       "    <tr style=\"text-align: right;\">\n",
       "      <th></th>\n",
       "      <th>Name</th>\n",
       "      <th>Total Sale Price</th>\n",
       "    </tr>\n",
       "  </thead>\n",
       "  <tbody>\n",
       "    <tr>\n",
       "      <th>0</th>\n",
       "      <td>-</td>\n",
       "      <td>20643.50</td>\n",
       "    </tr>\n",
       "    <tr>\n",
       "      <th>1</th>\n",
       "      <td>????</td>\n",
       "      <td>21142.50</td>\n",
       "    </tr>\n",
       "    <tr>\n",
       "      <th>2</th>\n",
       "      <td>?????</td>\n",
       "      <td>21085.50</td>\n",
       "    </tr>\n",
       "    <tr>\n",
       "      <th>3</th>\n",
       "      <td>????? ??</td>\n",
       "      <td>12288.00</td>\n",
       "    </tr>\n",
       "    <tr>\n",
       "      <th>4</th>\n",
       "      <td>??????</td>\n",
       "      <td>11010.00</td>\n",
       "    </tr>\n",
       "    <tr>\n",
       "      <th>...</th>\n",
       "      <td>...</td>\n",
       "      <td>...</td>\n",
       "    </tr>\n",
       "    <tr>\n",
       "      <th>4530</th>\n",
       "      <td>zeba parveen</td>\n",
       "      <td>11094.50</td>\n",
       "    </tr>\n",
       "    <tr>\n",
       "      <th>4531</th>\n",
       "      <td>zeenat</td>\n",
       "      <td>11523.00</td>\n",
       "    </tr>\n",
       "    <tr>\n",
       "      <th>4532</th>\n",
       "      <td>zenab khan</td>\n",
       "      <td>10292.25</td>\n",
       "    </tr>\n",
       "    <tr>\n",
       "      <th>4533</th>\n",
       "      <td>zina kumari</td>\n",
       "      <td>11193.00</td>\n",
       "    </tr>\n",
       "    <tr>\n",
       "      <th>4534</th>\n",
       "      <td>ziyabul</td>\n",
       "      <td>9965.75</td>\n",
       "    </tr>\n",
       "  </tbody>\n",
       "</table>\n",
       "<p>4535 rows × 2 columns</p>\n",
       "</div>"
      ],
      "text/plain": [
       "              Name  Total Sale Price\n",
       "0                -          20643.50\n",
       "1             ????          21142.50\n",
       "2            ?????          21085.50\n",
       "3         ????? ??          12288.00\n",
       "4           ??????          11010.00\n",
       "...            ...               ...\n",
       "4530  zeba parveen          11094.50\n",
       "4531        zeenat          11523.00\n",
       "4532    zenab khan          10292.25\n",
       "4533   zina kumari          11193.00\n",
       "4534       ziyabul           9965.75\n",
       "\n",
       "[4535 rows x 2 columns]"
      ]
     },
     "execution_count": 14,
     "metadata": {},
     "output_type": "execute_result"
    }
   ],
   "source": [
    "total_price_by_customer"
   ]
  },
  {
   "cell_type": "markdown",
   "id": "e7e23917",
   "metadata": {},
   "source": [
    "bank wise total sale price joining fact table and Transaction dimension table"
   ]
  },
  {
   "cell_type": "code",
   "execution_count": 15,
   "id": "738f5b84",
   "metadata": {},
   "outputs": [
    {
     "name": "stdout",
     "output_type": "stream",
     "text": [
      "Connection to DB established!\n"
     ]
    },
    {
     "name": "stderr",
     "output_type": "stream",
     "text": [
      "C:\\Users\\istia\\anaconda3\\lib\\site-packages\\pandas\\io\\sql.py:761: UserWarning: pandas only support SQLAlchemy connectable(engine/connection) ordatabase string URI or sqlite3 DBAPI2 connectionother DBAPI2 objects are not tested, please consider using SQLAlchemy\n",
      "  warnings.warn(\n"
     ]
    }
   ],
   "source": [
    "con = PostgresConnection().getConnection()\n",
    "insert_stmt = \"\"\"SELECT trans_dim.bank_name as \"Bank Name\", SUM(fact_table.total_price) \"Total Sale Price\"\n",
    "FROM star_schema.fact_table\n",
    "JOIN star_schema.trans_dim ON trans_dim.payment_key = fact_table.payment_key\n",
    "GROUP BY trans_dim.bank_name\n",
    "ORDER BY trans_dim.bank_name\"\"\"\n",
    "cur = con.cursor()\n",
    "# psycopg2.extras.execute_batch(cur, insert_stmt, fact_data.values)\n",
    "total_price_by_bank= pd.read_sql_query(insert_stmt, con)\n",
    "con.commit()\n",
    "cur.close()"
   ]
  },
  {
   "cell_type": "code",
   "execution_count": 16,
   "id": "07882228",
   "metadata": {},
   "outputs": [
    {
     "data": {
      "text/html": [
       "<div>\n",
       "<style scoped>\n",
       "    .dataframe tbody tr th:only-of-type {\n",
       "        vertical-align: middle;\n",
       "    }\n",
       "\n",
       "    .dataframe tbody tr th {\n",
       "        vertical-align: top;\n",
       "    }\n",
       "\n",
       "    .dataframe thead th {\n",
       "        text-align: right;\n",
       "    }\n",
       "</style>\n",
       "<table border=\"1\" class=\"dataframe\">\n",
       "  <thead>\n",
       "    <tr style=\"text-align: right;\">\n",
       "      <th></th>\n",
       "      <th>Bank Name</th>\n",
       "      <th>Total Sale Price</th>\n",
       "    </tr>\n",
       "  </thead>\n",
       "  <tbody>\n",
       "    <tr>\n",
       "      <th>0</th>\n",
       "      <td>AB Bank Limited</td>\n",
       "      <td>2728515.50</td>\n",
       "    </tr>\n",
       "    <tr>\n",
       "      <th>1</th>\n",
       "      <td>Bangladesh Commerce Bank Limited</td>\n",
       "      <td>2730999.25</td>\n",
       "    </tr>\n",
       "    <tr>\n",
       "      <th>2</th>\n",
       "      <td>Bank Asia Limited</td>\n",
       "      <td>2687142.75</td>\n",
       "    </tr>\n",
       "    <tr>\n",
       "      <th>3</th>\n",
       "      <td>Bengal Commercial Bank Ltd</td>\n",
       "      <td>2704554.25</td>\n",
       "    </tr>\n",
       "    <tr>\n",
       "      <th>4</th>\n",
       "      <td>Bkash</td>\n",
       "      <td>2689352.50</td>\n",
       "    </tr>\n",
       "    <tr>\n",
       "      <th>5</th>\n",
       "      <td>BRAC Bank Limited</td>\n",
       "      <td>2705795.75</td>\n",
       "    </tr>\n",
       "    <tr>\n",
       "      <th>6</th>\n",
       "      <td>Citizens Bank Limited</td>\n",
       "      <td>2723215.25</td>\n",
       "    </tr>\n",
       "    <tr>\n",
       "      <th>7</th>\n",
       "      <td>City Bank Limited</td>\n",
       "      <td>2713952.50</td>\n",
       "    </tr>\n",
       "    <tr>\n",
       "      <th>8</th>\n",
       "      <td>Community Bank Bangladesh Limited</td>\n",
       "      <td>2685751.50</td>\n",
       "    </tr>\n",
       "    <tr>\n",
       "      <th>9</th>\n",
       "      <td>Dhaka Bank Limited</td>\n",
       "      <td>2728366.00</td>\n",
       "    </tr>\n",
       "    <tr>\n",
       "      <th>10</th>\n",
       "      <td>Dutch-Bangla Bank Limited</td>\n",
       "      <td>2692435.25</td>\n",
       "    </tr>\n",
       "    <tr>\n",
       "      <th>11</th>\n",
       "      <td>Eastern Bank Limited</td>\n",
       "      <td>2687182.25</td>\n",
       "    </tr>\n",
       "    <tr>\n",
       "      <th>12</th>\n",
       "      <td>IFIC Bank Limited</td>\n",
       "      <td>2699759.75</td>\n",
       "    </tr>\n",
       "    <tr>\n",
       "      <th>13</th>\n",
       "      <td>Jamuna Bank Limited</td>\n",
       "      <td>2689886.50</td>\n",
       "    </tr>\n",
       "    <tr>\n",
       "      <th>14</th>\n",
       "      <td>Meghna Bank Limited</td>\n",
       "      <td>2700528.50</td>\n",
       "    </tr>\n",
       "    <tr>\n",
       "      <th>15</th>\n",
       "      <td>Mercantile Bank Limited</td>\n",
       "      <td>2676578.50</td>\n",
       "    </tr>\n",
       "    <tr>\n",
       "      <th>16</th>\n",
       "      <td>Midland Bank Limited</td>\n",
       "      <td>2688430.25</td>\n",
       "    </tr>\n",
       "    <tr>\n",
       "      <th>17</th>\n",
       "      <td>Modhumoti Bank Limited</td>\n",
       "      <td>2715279.00</td>\n",
       "    </tr>\n",
       "    <tr>\n",
       "      <th>18</th>\n",
       "      <td>Mutual Trust Bank Limited</td>\n",
       "      <td>2670030.50</td>\n",
       "    </tr>\n",
       "    <tr>\n",
       "      <th>19</th>\n",
       "      <td>Nagad</td>\n",
       "      <td>2699554.50</td>\n",
       "    </tr>\n",
       "    <tr>\n",
       "      <th>20</th>\n",
       "      <td>National Bank Limited</td>\n",
       "      <td>2697294.25</td>\n",
       "    </tr>\n",
       "    <tr>\n",
       "      <th>21</th>\n",
       "      <td>National Credit &amp; Commerce Bank Limited</td>\n",
       "      <td>2723363.00</td>\n",
       "    </tr>\n",
       "    <tr>\n",
       "      <th>22</th>\n",
       "      <td>None</td>\n",
       "      <td>2708515.75</td>\n",
       "    </tr>\n",
       "    <tr>\n",
       "      <th>23</th>\n",
       "      <td>NRB Bank Limited</td>\n",
       "      <td>2711595.25</td>\n",
       "    </tr>\n",
       "    <tr>\n",
       "      <th>24</th>\n",
       "      <td>NRB Commercial Bank Ltd</td>\n",
       "      <td>2692016.25</td>\n",
       "    </tr>\n",
       "    <tr>\n",
       "      <th>25</th>\n",
       "      <td>NRB Global Bank Ltd</td>\n",
       "      <td>2700088.00</td>\n",
       "    </tr>\n",
       "    <tr>\n",
       "      <th>26</th>\n",
       "      <td>One Bank Limited</td>\n",
       "      <td>2692043.25</td>\n",
       "    </tr>\n",
       "    <tr>\n",
       "      <th>27</th>\n",
       "      <td>Padma Bank Limited</td>\n",
       "      <td>2708084.25</td>\n",
       "    </tr>\n",
       "    <tr>\n",
       "      <th>28</th>\n",
       "      <td>Premier Bank Limited</td>\n",
       "      <td>2690828.00</td>\n",
       "    </tr>\n",
       "    <tr>\n",
       "      <th>29</th>\n",
       "      <td>Prime Bank Limited</td>\n",
       "      <td>2698896.50</td>\n",
       "    </tr>\n",
       "    <tr>\n",
       "      <th>30</th>\n",
       "      <td>Pubali Bank Limited</td>\n",
       "      <td>2682787.50</td>\n",
       "    </tr>\n",
       "    <tr>\n",
       "      <th>31</th>\n",
       "      <td>Rocket</td>\n",
       "      <td>2720974.50</td>\n",
       "    </tr>\n",
       "    <tr>\n",
       "      <th>32</th>\n",
       "      <td>Shimanto Bank Ltd</td>\n",
       "      <td>2685805.25</td>\n",
       "    </tr>\n",
       "    <tr>\n",
       "      <th>33</th>\n",
       "      <td>South Bangla Agriculture and Commerce Bank Lim...</td>\n",
       "      <td>2728115.25</td>\n",
       "    </tr>\n",
       "    <tr>\n",
       "      <th>34</th>\n",
       "      <td>Southeast Bank Limited</td>\n",
       "      <td>2691275.75</td>\n",
       "    </tr>\n",
       "    <tr>\n",
       "      <th>35</th>\n",
       "      <td>Standard Bank Limited</td>\n",
       "      <td>2727661.00</td>\n",
       "    </tr>\n",
       "    <tr>\n",
       "      <th>36</th>\n",
       "      <td>Trust Bank Limited</td>\n",
       "      <td>2720807.00</td>\n",
       "    </tr>\n",
       "    <tr>\n",
       "      <th>37</th>\n",
       "      <td>United Commercial Bank Ltd</td>\n",
       "      <td>2696854.75</td>\n",
       "    </tr>\n",
       "    <tr>\n",
       "      <th>38</th>\n",
       "      <td>Uttara Bank Limited</td>\n",
       "      <td>2707120.00</td>\n",
       "    </tr>\n",
       "  </tbody>\n",
       "</table>\n",
       "</div>"
      ],
      "text/plain": [
       "                                            Bank Name  Total Sale Price\n",
       "0                                     AB Bank Limited        2728515.50\n",
       "1                    Bangladesh Commerce Bank Limited        2730999.25\n",
       "2                                   Bank Asia Limited        2687142.75\n",
       "3                          Bengal Commercial Bank Ltd        2704554.25\n",
       "4                                               Bkash        2689352.50\n",
       "5                                   BRAC Bank Limited        2705795.75\n",
       "6                               Citizens Bank Limited        2723215.25\n",
       "7                                   City Bank Limited        2713952.50\n",
       "8                   Community Bank Bangladesh Limited        2685751.50\n",
       "9                                  Dhaka Bank Limited        2728366.00\n",
       "10                          Dutch-Bangla Bank Limited        2692435.25\n",
       "11                               Eastern Bank Limited        2687182.25\n",
       "12                                  IFIC Bank Limited        2699759.75\n",
       "13                                Jamuna Bank Limited        2689886.50\n",
       "14                                Meghna Bank Limited        2700528.50\n",
       "15                            Mercantile Bank Limited        2676578.50\n",
       "16                               Midland Bank Limited        2688430.25\n",
       "17                             Modhumoti Bank Limited        2715279.00\n",
       "18                          Mutual Trust Bank Limited        2670030.50\n",
       "19                                              Nagad        2699554.50\n",
       "20                              National Bank Limited        2697294.25\n",
       "21            National Credit & Commerce Bank Limited        2723363.00\n",
       "22                                               None        2708515.75\n",
       "23                                   NRB Bank Limited        2711595.25\n",
       "24                            NRB Commercial Bank Ltd        2692016.25\n",
       "25                                NRB Global Bank Ltd        2700088.00\n",
       "26                                   One Bank Limited        2692043.25\n",
       "27                                 Padma Bank Limited        2708084.25\n",
       "28                               Premier Bank Limited        2690828.00\n",
       "29                                 Prime Bank Limited        2698896.50\n",
       "30                                Pubali Bank Limited        2682787.50\n",
       "31                                             Rocket        2720974.50\n",
       "32                                  Shimanto Bank Ltd        2685805.25\n",
       "33  South Bangla Agriculture and Commerce Bank Lim...        2728115.25\n",
       "34                             Southeast Bank Limited        2691275.75\n",
       "35                              Standard Bank Limited        2727661.00\n",
       "36                                 Trust Bank Limited        2720807.00\n",
       "37                         United Commercial Bank Ltd        2696854.75\n",
       "38                                Uttara Bank Limited        2707120.00"
      ]
     },
     "execution_count": 16,
     "metadata": {},
     "output_type": "execute_result"
    }
   ],
   "source": [
    "total_price_by_bank"
   ]
  },
  {
   "cell_type": "markdown",
   "id": "b27b24f9",
   "metadata": {},
   "source": [
    "transaction wise total sale price joining fact table and Transaction dimension table"
   ]
  },
  {
   "cell_type": "code",
   "execution_count": 17,
   "id": "bab09aa9",
   "metadata": {},
   "outputs": [
    {
     "name": "stdout",
     "output_type": "stream",
     "text": [
      "Connection to DB established!\n"
     ]
    },
    {
     "name": "stderr",
     "output_type": "stream",
     "text": [
      "C:\\Users\\istia\\anaconda3\\lib\\site-packages\\pandas\\io\\sql.py:761: UserWarning: pandas only support SQLAlchemy connectable(engine/connection) ordatabase string URI or sqlite3 DBAPI2 connectionother DBAPI2 objects are not tested, please consider using SQLAlchemy\n",
      "  warnings.warn(\n"
     ]
    }
   ],
   "source": [
    "con = PostgresConnection().getConnection()\n",
    "insert_stmt = \"\"\"SELECT trans_dim.trans_type as \"Transaction Type\", SUM(fact_table.total_price) \"Total Sale Price\"\n",
    "FROM star_schema.fact_table\n",
    "JOIN star_schema.trans_dim ON trans_dim.payment_key = fact_table.payment_key\n",
    "GROUP BY trans_dim.trans_type\n",
    "ORDER BY trans_dim.trans_type\"\"\"\n",
    "cur = con.cursor()\n",
    "# psycopg2.extras.execute_batch(cur, insert_stmt, fact_data.values)\n",
    "total_price_by_trans_type = pd.read_sql_query(insert_stmt, con)\n",
    "con.commit()\n",
    "cur.close()"
   ]
  },
  {
   "cell_type": "code",
   "execution_count": 18,
   "id": "af53c0bc",
   "metadata": {},
   "outputs": [
    {
     "data": {
      "text/html": [
       "<div>\n",
       "<style scoped>\n",
       "    .dataframe tbody tr th:only-of-type {\n",
       "        vertical-align: middle;\n",
       "    }\n",
       "\n",
       "    .dataframe tbody tr th {\n",
       "        vertical-align: top;\n",
       "    }\n",
       "\n",
       "    .dataframe thead th {\n",
       "        text-align: right;\n",
       "    }\n",
       "</style>\n",
       "<table border=\"1\" class=\"dataframe\">\n",
       "  <thead>\n",
       "    <tr style=\"text-align: right;\">\n",
       "      <th></th>\n",
       "      <th>Transaction Type</th>\n",
       "      <th>Total Sale Price</th>\n",
       "    </tr>\n",
       "  </thead>\n",
       "  <tbody>\n",
       "    <tr>\n",
       "      <th>0</th>\n",
       "      <td>card</td>\n",
       "      <td>94583038.50</td>\n",
       "    </tr>\n",
       "    <tr>\n",
       "      <th>1</th>\n",
       "      <td>cash</td>\n",
       "      <td>2708515.75</td>\n",
       "    </tr>\n",
       "    <tr>\n",
       "      <th>2</th>\n",
       "      <td>mobile</td>\n",
       "      <td>8109881.50</td>\n",
       "    </tr>\n",
       "  </tbody>\n",
       "</table>\n",
       "</div>"
      ],
      "text/plain": [
       "  Transaction Type  Total Sale Price\n",
       "0             card       94583038.50\n",
       "1             cash        2708515.75\n",
       "2           mobile        8109881.50"
      ]
     },
     "execution_count": 18,
     "metadata": {},
     "output_type": "execute_result"
    }
   ],
   "source": [
    "total_price_by_trans_type"
   ]
  },
  {
   "cell_type": "markdown",
   "id": "53101e60",
   "metadata": {},
   "source": [
    "Total Sales in Barisal"
   ]
  },
  {
   "cell_type": "code",
   "execution_count": 19,
   "id": "44082456",
   "metadata": {},
   "outputs": [
    {
     "name": "stdout",
     "output_type": "stream",
     "text": [
      "Connection to DB established!\n"
     ]
    },
    {
     "name": "stderr",
     "output_type": "stream",
     "text": [
      "C:\\Users\\istia\\anaconda3\\lib\\site-packages\\pandas\\io\\sql.py:761: UserWarning: pandas only support SQLAlchemy connectable(engine/connection) ordatabase string URI or sqlite3 DBAPI2 connectionother DBAPI2 objects are not tested, please consider using SQLAlchemy\n",
      "  warnings.warn(\n"
     ]
    }
   ],
   "source": [
    "con = PostgresConnection().getConnection()\n",
    "insert_stmt = \"\"\"SELECT store_dim.district as \"District\", SUM(fact_table.quantity) \"Total Sales\"\n",
    "FROM star_schema.fact_table\n",
    "JOIN star_schema.store_dim ON store_dim.store_key = fact_table.store_key\n",
    "WHERE store_dim.district = 'BARISAL'\n",
    "GROUP BY store_dim.district\"\"\"\n",
    "cur = con.cursor()\n",
    "# psycopg2.extras.execute_batch(cur, insert_stmt, fact_data.values)\n",
    "total_sales_in_barisal = pd.read_sql_query(insert_stmt, con)\n",
    "con.commit()\n",
    "cur.close()"
   ]
  },
  {
   "cell_type": "code",
   "execution_count": 20,
   "id": "dc6fca7e",
   "metadata": {},
   "outputs": [
    {
     "data": {
      "text/html": [
       "<div>\n",
       "<style scoped>\n",
       "    .dataframe tbody tr th:only-of-type {\n",
       "        vertical-align: middle;\n",
       "    }\n",
       "\n",
       "    .dataframe tbody tr th {\n",
       "        vertical-align: top;\n",
       "    }\n",
       "\n",
       "    .dataframe thead th {\n",
       "        text-align: right;\n",
       "    }\n",
       "</style>\n",
       "<table border=\"1\" class=\"dataframe\">\n",
       "  <thead>\n",
       "    <tr style=\"text-align: right;\">\n",
       "      <th></th>\n",
       "      <th>District</th>\n",
       "      <th>Total Sales</th>\n",
       "    </tr>\n",
       "  </thead>\n",
       "  <tbody>\n",
       "    <tr>\n",
       "      <th>0</th>\n",
       "      <td>BARISAL</td>\n",
       "      <td>163782</td>\n",
       "    </tr>\n",
       "  </tbody>\n",
       "</table>\n",
       "</div>"
      ],
      "text/plain": [
       "  District  Total Sales\n",
       "0  BARISAL       163782"
      ]
     },
     "execution_count": 20,
     "metadata": {},
     "output_type": "execute_result"
    }
   ],
   "source": [
    "total_sales_in_barisal"
   ]
  },
  {
   "cell_type": "markdown",
   "id": "9fd4ed5b",
   "metadata": {},
   "source": [
    "Total Sales in 2015"
   ]
  },
  {
   "cell_type": "code",
   "execution_count": 21,
   "id": "c62f984c",
   "metadata": {},
   "outputs": [
    {
     "name": "stdout",
     "output_type": "stream",
     "text": [
      "Connection to DB established!\n"
     ]
    },
    {
     "name": "stderr",
     "output_type": "stream",
     "text": [
      "C:\\Users\\istia\\anaconda3\\lib\\site-packages\\pandas\\io\\sql.py:761: UserWarning: pandas only support SQLAlchemy connectable(engine/connection) ordatabase string URI or sqlite3 DBAPI2 connectionother DBAPI2 objects are not tested, please consider using SQLAlchemy\n",
      "  warnings.warn(\n"
     ]
    }
   ],
   "source": [
    "con = PostgresConnection().getConnection()\n",
    "insert_stmt = \"\"\"SELECT time_data.year as \"Year\", SUM(fact_table.quantity) \"Total Sales\"\n",
    "FROM star_schema.fact_table\n",
    "JOIN star_schema.time_data ON time_data.time_key = fact_table.time_key\n",
    "WHERE time_data.year = '2015'\n",
    "GROUP BY time_data.year\"\"\"\n",
    "cur = con.cursor()\n",
    "# psycopg2.extras.execute_batch(cur, insert_stmt, fact_data.values)\n",
    "total_sales_in_2015 = pd.read_sql_query(insert_stmt, con)\n",
    "con.commit()\n",
    "cur.close()"
   ]
  },
  {
   "cell_type": "code",
   "execution_count": 22,
   "id": "45678f0a",
   "metadata": {},
   "outputs": [
    {
     "data": {
      "text/html": [
       "<div>\n",
       "<style scoped>\n",
       "    .dataframe tbody tr th:only-of-type {\n",
       "        vertical-align: middle;\n",
       "    }\n",
       "\n",
       "    .dataframe tbody tr th {\n",
       "        vertical-align: top;\n",
       "    }\n",
       "\n",
       "    .dataframe thead th {\n",
       "        text-align: right;\n",
       "    }\n",
       "</style>\n",
       "<table border=\"1\" class=\"dataframe\">\n",
       "  <thead>\n",
       "    <tr style=\"text-align: right;\">\n",
       "      <th></th>\n",
       "      <th>Year</th>\n",
       "      <th>Total Sales</th>\n",
       "    </tr>\n",
       "  </thead>\n",
       "  <tbody>\n",
       "    <tr>\n",
       "      <th>0</th>\n",
       "      <td>2015</td>\n",
       "      <td>859999</td>\n",
       "    </tr>\n",
       "  </tbody>\n",
       "</table>\n",
       "</div>"
      ],
      "text/plain": [
       "   Year  Total Sales\n",
       "0  2015       859999"
      ]
     },
     "execution_count": 22,
     "metadata": {},
     "output_type": "execute_result"
    }
   ],
   "source": [
    "total_sales_in_2015"
   ]
  },
  {
   "cell_type": "markdown",
   "id": "311ad68e",
   "metadata": {},
   "source": [
    "Total Sales in 2015 and in Barisal"
   ]
  },
  {
   "cell_type": "code",
   "execution_count": 23,
   "id": "93d4e48d",
   "metadata": {},
   "outputs": [
    {
     "name": "stdout",
     "output_type": "stream",
     "text": [
      "Connection to DB established!\n"
     ]
    },
    {
     "name": "stderr",
     "output_type": "stream",
     "text": [
      "C:\\Users\\istia\\anaconda3\\lib\\site-packages\\pandas\\io\\sql.py:761: UserWarning: pandas only support SQLAlchemy connectable(engine/connection) ordatabase string URI or sqlite3 DBAPI2 connectionother DBAPI2 objects are not tested, please consider using SQLAlchemy\n",
      "  warnings.warn(\n"
     ]
    }
   ],
   "source": [
    "con = PostgresConnection().getConnection()\n",
    "insert_stmt = \"\"\"SELECT time_data.year as \"Year\", store_dim.district as \"District\", SUM(fact_table.quantity) \"Total Sales\"\n",
    "FROM star_schema.fact_table\n",
    "JOIN star_schema.time_data \n",
    "ON time_data.time_key = fact_table.time_key \n",
    "JOIN star_schema.store_dim \n",
    "ON store_dim.store_key = fact_table.store_key\n",
    "WHERE time_data.year = '2015'\n",
    "AND store_dim.district = 'BARISAL'\n",
    "GROUP BY time_data.year,store_dim.district\"\"\"\n",
    "cur = con.cursor()\n",
    "# psycopg2.extras.execute_batch(cur, insert_stmt, fact_data.values)\n",
    "total_sales_in_2015_and_barisal = pd.read_sql_query(insert_stmt, con)\n",
    "con.commit()\n",
    "cur.close()"
   ]
  },
  {
   "cell_type": "code",
   "execution_count": 24,
   "id": "3240f895",
   "metadata": {},
   "outputs": [
    {
     "data": {
      "text/html": [
       "<div>\n",
       "<style scoped>\n",
       "    .dataframe tbody tr th:only-of-type {\n",
       "        vertical-align: middle;\n",
       "    }\n",
       "\n",
       "    .dataframe tbody tr th {\n",
       "        vertical-align: top;\n",
       "    }\n",
       "\n",
       "    .dataframe thead th {\n",
       "        text-align: right;\n",
       "    }\n",
       "</style>\n",
       "<table border=\"1\" class=\"dataframe\">\n",
       "  <thead>\n",
       "    <tr style=\"text-align: right;\">\n",
       "      <th></th>\n",
       "      <th>Year</th>\n",
       "      <th>District</th>\n",
       "      <th>Total Sales</th>\n",
       "    </tr>\n",
       "  </thead>\n",
       "  <tbody>\n",
       "    <tr>\n",
       "      <th>0</th>\n",
       "      <td>2015</td>\n",
       "      <td>BARISAL</td>\n",
       "      <td>23456</td>\n",
       "    </tr>\n",
       "  </tbody>\n",
       "</table>\n",
       "</div>"
      ],
      "text/plain": [
       "   Year District  Total Sales\n",
       "0  2015  BARISAL        23456"
      ]
     },
     "execution_count": 24,
     "metadata": {},
     "output_type": "execute_result"
    }
   ],
   "source": [
    "total_sales_in_2015_and_barisal"
   ]
  },
  {
   "cell_type": "markdown",
   "id": "9825b191",
   "metadata": {},
   "source": [
    "Q6: For each store(item supplier), what are the top three products offered that are most often purchased?"
   ]
  },
  {
   "cell_type": "code",
   "execution_count": 4,
   "id": "b16553c8",
   "metadata": {},
   "outputs": [
    {
     "name": "stdout",
     "output_type": "stream",
     "text": [
      "Connection to DB established!\n"
     ]
    },
    {
     "name": "stderr",
     "output_type": "stream",
     "text": [
      "C:\\Users\\istia\\anaconda3\\lib\\site-packages\\pandas\\io\\sql.py:761: UserWarning: pandas only support SQLAlchemy connectable(engine/connection) ordatabase string URI or sqlite3 DBAPI2 connectionother DBAPI2 objects are not tested, please consider using SQLAlchemy\n",
      "  warnings.warn(\n"
     ]
    }
   ],
   "source": [
    "con = PostgresConnection().getConnection()\n",
    "insert_stmt = \"\"\"SELECT item_dim.supplier,\n",
    "\titem_dim.item_name, \n",
    "\tSUM(quantity) as \"Quantity Sales\"\n",
    "FROM star_schema.fact_table\n",
    "JOIN star_schema.item_dim \n",
    "ON item_dim.item_key = fact_table.item_key\n",
    "GROUP BY item_dim.supplier,\n",
    "\titem_dim.item_name\n",
    "ORDER BY item_dim.supplier, \n",
    "\titem_dim.item_name\"\"\"\n",
    "cur = con.cursor()\n",
    "# psycopg2.extras.execute_batch(cur, insert_stmt, fact_data.values)\n",
    "top_three_products = pd.read_sql_query(insert_stmt, con)\n",
    "con.commit()\n",
    "cur.close()"
   ]
  },
  {
   "cell_type": "code",
   "execution_count": 5,
   "id": "a21a7fb5",
   "metadata": {},
   "outputs": [
    {
     "data": {
      "text/html": [
       "<div>\n",
       "<style scoped>\n",
       "    .dataframe tbody tr th:only-of-type {\n",
       "        vertical-align: middle;\n",
       "    }\n",
       "\n",
       "    .dataframe tbody tr th {\n",
       "        vertical-align: top;\n",
       "    }\n",
       "\n",
       "    .dataframe thead th {\n",
       "        text-align: right;\n",
       "    }\n",
       "</style>\n",
       "<table border=\"1\" class=\"dataframe\">\n",
       "  <thead>\n",
       "    <tr style=\"text-align: right;\">\n",
       "      <th></th>\n",
       "      <th>supplier</th>\n",
       "      <th>item_name</th>\n",
       "      <th>Quantity Sales</th>\n",
       "    </tr>\n",
       "  </thead>\n",
       "  <tbody>\n",
       "    <tr>\n",
       "      <th>0</th>\n",
       "      <td>BIGSO AB</td>\n",
       "      <td>100% Juice Box Variety 6.75 oz</td>\n",
       "      <td>23425</td>\n",
       "    </tr>\n",
       "    <tr>\n",
       "      <th>1</th>\n",
       "      <td>BIGSO AB</td>\n",
       "      <td>Advil 2 pill packets</td>\n",
       "      <td>23126</td>\n",
       "    </tr>\n",
       "    <tr>\n",
       "      <th>2</th>\n",
       "      <td>BIGSO AB</td>\n",
       "      <td>Coke Classic 12 oz cans</td>\n",
       "      <td>22636</td>\n",
       "    </tr>\n",
       "    <tr>\n",
       "      <th>3</th>\n",
       "      <td>BIGSO AB</td>\n",
       "      <td>Dawn Ultra Dish Detergent, Original Scent</td>\n",
       "      <td>22832</td>\n",
       "    </tr>\n",
       "    <tr>\n",
       "      <th>4</th>\n",
       "      <td>BIGSO AB</td>\n",
       "      <td>Diet Coke - 12 oz cans</td>\n",
       "      <td>22206</td>\n",
       "    </tr>\n",
       "    <tr>\n",
       "      <th>...</th>\n",
       "      <td>...</td>\n",
       "      <td>...</td>\n",
       "      <td>...</td>\n",
       "    </tr>\n",
       "    <tr>\n",
       "      <th>259</th>\n",
       "      <td>NINGBO SEDUNO IMP &amp; EXP CO.LTD</td>\n",
       "      <td>Starbuck's Pike Place</td>\n",
       "      <td>23621</td>\n",
       "    </tr>\n",
       "    <tr>\n",
       "      <th>260</th>\n",
       "      <td>NINGBO SEDUNO IMP &amp; EXP CO.LTD</td>\n",
       "      <td>Sugar in the Raw Packets</td>\n",
       "      <td>22812</td>\n",
       "    </tr>\n",
       "    <tr>\n",
       "      <th>261</th>\n",
       "      <td>NINGBO SEDUNO IMP &amp; EXP CO.LTD</td>\n",
       "      <td>Truvia Natural Sweetener</td>\n",
       "      <td>22723</td>\n",
       "    </tr>\n",
       "    <tr>\n",
       "      <th>262</th>\n",
       "      <td>NINGBO SEDUNO IMP &amp; EXP CO.LTD</td>\n",
       "      <td>Waterloo Sparkling Blackcherry 12oz</td>\n",
       "      <td>21827</td>\n",
       "    </tr>\n",
       "    <tr>\n",
       "      <th>263</th>\n",
       "      <td>NINGBO SEDUNO IMP &amp; EXP CO.LTD</td>\n",
       "      <td>Welch's 100% Juice Variety10 oz</td>\n",
       "      <td>22458</td>\n",
       "    </tr>\n",
       "  </tbody>\n",
       "</table>\n",
       "<p>264 rows × 3 columns</p>\n",
       "</div>"
      ],
      "text/plain": [
       "                           supplier  \\\n",
       "0                          BIGSO AB   \n",
       "1                          BIGSO AB   \n",
       "2                          BIGSO AB   \n",
       "3                          BIGSO AB   \n",
       "4                          BIGSO AB   \n",
       "..                              ...   \n",
       "259  NINGBO SEDUNO IMP & EXP CO.LTD   \n",
       "260  NINGBO SEDUNO IMP & EXP CO.LTD   \n",
       "261  NINGBO SEDUNO IMP & EXP CO.LTD   \n",
       "262  NINGBO SEDUNO IMP & EXP CO.LTD   \n",
       "263  NINGBO SEDUNO IMP & EXP CO.LTD   \n",
       "\n",
       "                                      item_name  Quantity Sales  \n",
       "0               100% Juice Box Variety 6.75 oz            23425  \n",
       "1                          Advil 2 pill packets           23126  \n",
       "2                       Coke Classic 12 oz cans           22636  \n",
       "3    Dawn Ultra Dish Detergent, Original Scent            22832  \n",
       "4                        Diet Coke - 12 oz cans           22206  \n",
       "..                                          ...             ...  \n",
       "259                       Starbuck's Pike Place           23621  \n",
       "260                    Sugar in the Raw Packets           22812  \n",
       "261                    Truvia Natural Sweetener           22723  \n",
       "262         Waterloo Sparkling Blackcherry 12oz           21827  \n",
       "263             Welch's 100% Juice Variety10 oz           22458  \n",
       "\n",
       "[264 rows x 3 columns]"
      ]
     },
     "execution_count": 5,
     "metadata": {},
     "output_type": "execute_result"
    }
   ],
   "source": [
    "top_three_products"
   ]
  },
  {
   "cell_type": "markdown",
   "id": "72210c63",
   "metadata": {},
   "source": [
    "Q7: What products have been sold through card or mobile since X days?"
   ]
  },
  {
   "cell_type": "code",
   "execution_count": 6,
   "id": "9b84d51e",
   "metadata": {},
   "outputs": [
    {
     "name": "stdout",
     "output_type": "stream",
     "text": [
      "Connection to DB established!\n"
     ]
    },
    {
     "name": "stderr",
     "output_type": "stream",
     "text": [
      "C:\\Users\\istia\\anaconda3\\lib\\site-packages\\pandas\\io\\sql.py:761: UserWarning: pandas only support SQLAlchemy connectable(engine/connection) ordatabase string URI or sqlite3 DBAPI2 connectionother DBAPI2 objects are not tested, please consider using SQLAlchemy\n",
      "  warnings.warn(\n"
     ]
    }
   ],
   "source": [
    "con = PostgresConnection().getConnection()\n",
    "insert_stmt = \"\"\"SELECT item_dim.item_name, trans_dim.trans_type, time_data.date\n",
    "FROM star_schema.fact_table\n",
    "JOIN star_schema.item_dim ON item_dim.item_key = fact_table.item_key\n",
    "JOIN star_schema.trans_dim ON trans_dim.payment_key = fact_table.payment_key\n",
    "JOIN star_schema.time_data ON time_data.time_key = fact_table.time_key\n",
    "WHERE time_data.date >= '2021-08-01'\n",
    "GROUP BY item_name,trans_type,date \n",
    "ORDER BY item_name DESC\"\"\"\n",
    "cur = con.cursor()\n",
    "# psycopg2.extras.execute_batch(cur, insert_stmt, fact_data.values)\n",
    "products_sold = pd.read_sql_query(insert_stmt, con)\n",
    "con.commit()\n",
    "cur.close()"
   ]
  },
  {
   "cell_type": "code",
   "execution_count": 7,
   "id": "0990d64b",
   "metadata": {},
   "outputs": [
    {
     "data": {
      "text/html": [
       "<div>\n",
       "<style scoped>\n",
       "    .dataframe tbody tr th:only-of-type {\n",
       "        vertical-align: middle;\n",
       "    }\n",
       "\n",
       "    .dataframe tbody tr th {\n",
       "        vertical-align: top;\n",
       "    }\n",
       "\n",
       "    .dataframe thead th {\n",
       "        text-align: right;\n",
       "    }\n",
       "</style>\n",
       "<table border=\"1\" class=\"dataframe\">\n",
       "  <thead>\n",
       "    <tr style=\"text-align: right;\">\n",
       "      <th></th>\n",
       "      <th>item_name</th>\n",
       "      <th>trans_type</th>\n",
       "      <th>date</th>\n",
       "    </tr>\n",
       "  </thead>\n",
       "  <tbody>\n",
       "    <tr>\n",
       "      <th>0</th>\n",
       "      <td>Zoo Animal Cookies/Crackers</td>\n",
       "      <td>card</td>\n",
       "      <td>2021-08-01</td>\n",
       "    </tr>\n",
       "    <tr>\n",
       "      <th>1</th>\n",
       "      <td>Zoo Animal Cookies/Crackers</td>\n",
       "      <td>card</td>\n",
       "      <td>2021-09-01</td>\n",
       "    </tr>\n",
       "    <tr>\n",
       "      <th>2</th>\n",
       "      <td>Zoo Animal Cookies/Crackers</td>\n",
       "      <td>card</td>\n",
       "      <td>2021-10-01</td>\n",
       "    </tr>\n",
       "    <tr>\n",
       "      <th>3</th>\n",
       "      <td>Zoo Animal Cookies/Crackers</td>\n",
       "      <td>card</td>\n",
       "      <td>2021-12-01</td>\n",
       "    </tr>\n",
       "    <tr>\n",
       "      <th>4</th>\n",
       "      <td>Zoo Animal Cookies/Crackers</td>\n",
       "      <td>mobile</td>\n",
       "      <td>2021-08-01</td>\n",
       "    </tr>\n",
       "    <tr>\n",
       "      <th>...</th>\n",
       "      <td>...</td>\n",
       "      <td>...</td>\n",
       "      <td>...</td>\n",
       "    </tr>\n",
       "    <tr>\n",
       "      <th>1107</th>\n",
       "      <td>100% Juice Box Variety 6.75 oz</td>\n",
       "      <td>card</td>\n",
       "      <td>2021-10-01</td>\n",
       "    </tr>\n",
       "    <tr>\n",
       "      <th>1108</th>\n",
       "      <td>100% Juice Box Variety 6.75 oz</td>\n",
       "      <td>card</td>\n",
       "      <td>2021-11-01</td>\n",
       "    </tr>\n",
       "    <tr>\n",
       "      <th>1109</th>\n",
       "      <td>100% Juice Box Variety 6.75 oz</td>\n",
       "      <td>card</td>\n",
       "      <td>2021-12-01</td>\n",
       "    </tr>\n",
       "    <tr>\n",
       "      <th>1110</th>\n",
       "      <td>100% Juice Box Variety 6.75 oz</td>\n",
       "      <td>cash</td>\n",
       "      <td>2021-08-01</td>\n",
       "    </tr>\n",
       "    <tr>\n",
       "      <th>1111</th>\n",
       "      <td>100% Juice Box Variety 6.75 oz</td>\n",
       "      <td>mobile</td>\n",
       "      <td>2021-09-01</td>\n",
       "    </tr>\n",
       "  </tbody>\n",
       "</table>\n",
       "<p>1112 rows × 3 columns</p>\n",
       "</div>"
      ],
      "text/plain": [
       "                            item_name trans_type        date\n",
       "0         Zoo Animal Cookies/Crackers       card  2021-08-01\n",
       "1         Zoo Animal Cookies/Crackers       card  2021-09-01\n",
       "2         Zoo Animal Cookies/Crackers       card  2021-10-01\n",
       "3         Zoo Animal Cookies/Crackers       card  2021-12-01\n",
       "4         Zoo Animal Cookies/Crackers     mobile  2021-08-01\n",
       "...                               ...        ...         ...\n",
       "1107  100% Juice Box Variety 6.75 oz        card  2021-10-01\n",
       "1108  100% Juice Box Variety 6.75 oz        card  2021-11-01\n",
       "1109  100% Juice Box Variety 6.75 oz        card  2021-12-01\n",
       "1110  100% Juice Box Variety 6.75 oz        cash  2021-08-01\n",
       "1111  100% Juice Box Variety 6.75 oz      mobile  2021-09-01\n",
       "\n",
       "[1112 rows x 3 columns]"
      ]
     },
     "execution_count": 7,
     "metadata": {},
     "output_type": "execute_result"
    }
   ],
   "source": [
    "products_sold"
   ]
  },
  {
   "cell_type": "markdown",
   "id": "a8a7120f",
   "metadata": {},
   "source": [
    "Q8: What season(quarter) is the worst for each product item? As example,"
   ]
  },
  {
   "cell_type": "code",
   "execution_count": 8,
   "id": "7bb18415",
   "metadata": {
    "scrolled": true
   },
   "outputs": [
    {
     "name": "stdout",
     "output_type": "stream",
     "text": [
      "Connection to DB established!\n"
     ]
    },
    {
     "name": "stderr",
     "output_type": "stream",
     "text": [
      "C:\\Users\\istia\\anaconda3\\lib\\site-packages\\pandas\\io\\sql.py:761: UserWarning: pandas only support SQLAlchemy connectable(engine/connection) ordatabase string URI or sqlite3 DBAPI2 connectionother DBAPI2 objects are not tested, please consider using SQLAlchemy\n",
      "  warnings.warn(\n"
     ]
    }
   ],
   "source": [
    "con = PostgresConnection().getConnection()\n",
    "insert_stmt = \"\"\"SELECT item_dim.item_name, quarter, SUM(quantity)\n",
    "FROM star_schema.fact_table\n",
    "JOIN star_schema.item_dim ON item_dim.item_key = fact_table.item_key\n",
    "JOIN star_schema.time_data ON time_data.time_key = fact_table.time_key\n",
    "GROUP BY(item_name, time_data.quarter)\"\"\"\n",
    "cur = con.cursor()\n",
    "# psycopg2.extras.execute_batch(cur, insert_stmt, fact_data.values)\n",
    "worst_season = pd.read_sql_query(insert_stmt, con)\n",
    "con.commit()\n",
    "cur.close()"
   ]
  },
  {
   "cell_type": "code",
   "execution_count": 9,
   "id": "b6120d40",
   "metadata": {},
   "outputs": [
    {
     "data": {
      "text/html": [
       "<div>\n",
       "<style scoped>\n",
       "    .dataframe tbody tr th:only-of-type {\n",
       "        vertical-align: middle;\n",
       "    }\n",
       "\n",
       "    .dataframe tbody tr th {\n",
       "        vertical-align: top;\n",
       "    }\n",
       "\n",
       "    .dataframe thead th {\n",
       "        text-align: right;\n",
       "    }\n",
       "</style>\n",
       "<table border=\"1\" class=\"dataframe\">\n",
       "  <thead>\n",
       "    <tr style=\"text-align: right;\">\n",
       "      <th></th>\n",
       "      <th>item_name</th>\n",
       "      <th>quarter</th>\n",
       "      <th>sum</th>\n",
       "    </tr>\n",
       "  </thead>\n",
       "  <tbody>\n",
       "    <tr>\n",
       "      <th>0</th>\n",
       "      <td>100% Juice Box Variety 6.75 oz</td>\n",
       "      <td>Q1</td>\n",
       "      <td>5698</td>\n",
       "    </tr>\n",
       "    <tr>\n",
       "      <th>1</th>\n",
       "      <td>100% Juice Box Variety 6.75 oz</td>\n",
       "      <td>Q2</td>\n",
       "      <td>5876</td>\n",
       "    </tr>\n",
       "    <tr>\n",
       "      <th>2</th>\n",
       "      <td>100% Juice Box Variety 6.75 oz</td>\n",
       "      <td>Q3</td>\n",
       "      <td>6045</td>\n",
       "    </tr>\n",
       "    <tr>\n",
       "      <th>3</th>\n",
       "      <td>100% Juice Box Variety 6.75 oz</td>\n",
       "      <td>Q4</td>\n",
       "      <td>5806</td>\n",
       "    </tr>\n",
       "    <tr>\n",
       "      <th>4</th>\n",
       "      <td>A&amp;W Root Beer - 12 oz cans</td>\n",
       "      <td>Q1</td>\n",
       "      <td>5965</td>\n",
       "    </tr>\n",
       "    <tr>\n",
       "      <th>...</th>\n",
       "      <td>...</td>\n",
       "      <td>...</td>\n",
       "      <td>...</td>\n",
       "    </tr>\n",
       "    <tr>\n",
       "      <th>1031</th>\n",
       "      <td>Yoplait Original Yogurt Variety Pack</td>\n",
       "      <td>Q4</td>\n",
       "      <td>5737</td>\n",
       "    </tr>\n",
       "    <tr>\n",
       "      <th>1032</th>\n",
       "      <td>Zoo Animal Cookies/Crackers</td>\n",
       "      <td>Q1</td>\n",
       "      <td>5462</td>\n",
       "    </tr>\n",
       "    <tr>\n",
       "      <th>1033</th>\n",
       "      <td>Zoo Animal Cookies/Crackers</td>\n",
       "      <td>Q2</td>\n",
       "      <td>5508</td>\n",
       "    </tr>\n",
       "    <tr>\n",
       "      <th>1034</th>\n",
       "      <td>Zoo Animal Cookies/Crackers</td>\n",
       "      <td>Q3</td>\n",
       "      <td>5701</td>\n",
       "    </tr>\n",
       "    <tr>\n",
       "      <th>1035</th>\n",
       "      <td>Zoo Animal Cookies/Crackers</td>\n",
       "      <td>Q4</td>\n",
       "      <td>5520</td>\n",
       "    </tr>\n",
       "  </tbody>\n",
       "</table>\n",
       "<p>1036 rows × 3 columns</p>\n",
       "</div>"
      ],
      "text/plain": [
       "                                  item_name quarter   sum\n",
       "0           100% Juice Box Variety 6.75 oz       Q1  5698\n",
       "1           100% Juice Box Variety 6.75 oz       Q2  5876\n",
       "2           100% Juice Box Variety 6.75 oz       Q3  6045\n",
       "3           100% Juice Box Variety 6.75 oz       Q4  5806\n",
       "4                A&W Root Beer - 12 oz cans      Q1  5965\n",
       "...                                     ...     ...   ...\n",
       "1031  Yoplait Original Yogurt Variety Pack       Q4  5737\n",
       "1032            Zoo Animal Cookies/Crackers      Q1  5462\n",
       "1033            Zoo Animal Cookies/Crackers      Q2  5508\n",
       "1034            Zoo Animal Cookies/Crackers      Q3  5701\n",
       "1035            Zoo Animal Cookies/Crackers      Q4  5520\n",
       "\n",
       "[1036 rows x 3 columns]"
      ]
     },
     "execution_count": 9,
     "metadata": {},
     "output_type": "execute_result"
    }
   ],
   "source": [
    "worst_season"
   ]
  },
  {
   "cell_type": "markdown",
   "id": "c950b7d4",
   "metadata": {},
   "source": [
    "Q9: Break down the total sales of items geographically (division-wise)."
   ]
  },
  {
   "cell_type": "code",
   "execution_count": 11,
   "id": "001dbf44",
   "metadata": {},
   "outputs": [
    {
     "name": "stdout",
     "output_type": "stream",
     "text": [
      "Connection to DB established!\n"
     ]
    }
   ],
   "source": [
    "con = PostgresConnection().getConnection()\n",
    "insert_stmt = \"\"\"SELECT division, item_name, SUM(quantity)\n",
    "FROM star_schema.fact_table\n",
    "JOIN star_schema.store_dim ON store_dim.store_key = fact_table.store_key\n",
    "JOIN star_schema.item_dim ON item_dim.item_key = fact_table.item_key\n",
    "GROUP BY division, item_dim.item_name\"\"\"\n",
    "cur = con.cursor()\n",
    "# psycopg2.extras.execute_batch(cur, insert_stmt, fact_data.values)\n",
    "total_sales_geographically = pd.read_sql_query(insert_stmt, con)\n",
    "con.commit()\n",
    "cur.close()"
   ]
  },
  {
   "cell_type": "code",
   "execution_count": 12,
   "id": "28c1829c",
   "metadata": {},
   "outputs": [
    {
     "data": {
      "text/html": [
       "<div>\n",
       "<style scoped>\n",
       "    .dataframe tbody tr th:only-of-type {\n",
       "        vertical-align: middle;\n",
       "    }\n",
       "\n",
       "    .dataframe tbody tr th {\n",
       "        vertical-align: top;\n",
       "    }\n",
       "\n",
       "    .dataframe thead th {\n",
       "        text-align: right;\n",
       "    }\n",
       "</style>\n",
       "<table border=\"1\" class=\"dataframe\">\n",
       "  <thead>\n",
       "    <tr style=\"text-align: right;\">\n",
       "      <th></th>\n",
       "      <th>division</th>\n",
       "      <th>item_name</th>\n",
       "      <th>sum</th>\n",
       "    </tr>\n",
       "  </thead>\n",
       "  <tbody>\n",
       "    <tr>\n",
       "      <th>0</th>\n",
       "      <td>BARISAL</td>\n",
       "      <td>100% Juice Box Variety 6.75 oz</td>\n",
       "      <td>1586</td>\n",
       "    </tr>\n",
       "    <tr>\n",
       "      <th>1</th>\n",
       "      <td>BARISAL</td>\n",
       "      <td>A&amp;W Root Beer - 12 oz cans</td>\n",
       "      <td>1661</td>\n",
       "    </tr>\n",
       "    <tr>\n",
       "      <th>2</th>\n",
       "      <td>BARISAL</td>\n",
       "      <td>A&amp;W Root Beer Diet - 12 oz cans</td>\n",
       "      <td>1499</td>\n",
       "    </tr>\n",
       "    <tr>\n",
       "      <th>3</th>\n",
       "      <td>BARISAL</td>\n",
       "      <td>Advil 2 pill packets</td>\n",
       "      <td>1547</td>\n",
       "    </tr>\n",
       "    <tr>\n",
       "      <th>4</th>\n",
       "      <td>BARISAL</td>\n",
       "      <td>All Purpose Cleaner 409 Spray</td>\n",
       "      <td>1678</td>\n",
       "    </tr>\n",
       "    <tr>\n",
       "      <th>...</th>\n",
       "      <td>...</td>\n",
       "      <td>...</td>\n",
       "      <td>...</td>\n",
       "    </tr>\n",
       "    <tr>\n",
       "      <th>1808</th>\n",
       "      <td>SYLHET</td>\n",
       "      <td>Welch's 100% Juice Variety10 oz</td>\n",
       "      <td>1073</td>\n",
       "    </tr>\n",
       "    <tr>\n",
       "      <th>1809</th>\n",
       "      <td>SYLHET</td>\n",
       "      <td>Wint O Green LifeSavers Sugar Free</td>\n",
       "      <td>1306</td>\n",
       "    </tr>\n",
       "    <tr>\n",
       "      <th>1810</th>\n",
       "      <td>SYLHET</td>\n",
       "      <td>Wonderful Pistachios (in shell)</td>\n",
       "      <td>1160</td>\n",
       "    </tr>\n",
       "    <tr>\n",
       "      <th>1811</th>\n",
       "      <td>SYLHET</td>\n",
       "      <td>Yoplait Original Yogurt Variety Pack</td>\n",
       "      <td>1272</td>\n",
       "    </tr>\n",
       "    <tr>\n",
       "      <th>1812</th>\n",
       "      <td>SYLHET</td>\n",
       "      <td>Zoo Animal Cookies/Crackers</td>\n",
       "      <td>1052</td>\n",
       "    </tr>\n",
       "  </tbody>\n",
       "</table>\n",
       "<p>1813 rows × 3 columns</p>\n",
       "</div>"
      ],
      "text/plain": [
       "     division                              item_name   sum\n",
       "0     BARISAL        100% Juice Box Variety 6.75 oz   1586\n",
       "1     BARISAL             A&W Root Beer - 12 oz cans  1661\n",
       "2     BARISAL        A&W Root Beer Diet - 12 oz cans  1499\n",
       "3     BARISAL                   Advil 2 pill packets  1547\n",
       "4     BARISAL          All Purpose Cleaner 409 Spray  1678\n",
       "...       ...                                    ...   ...\n",
       "1808   SYLHET        Welch's 100% Juice Variety10 oz  1073\n",
       "1809   SYLHET     Wint O Green LifeSavers Sugar Free  1306\n",
       "1810   SYLHET        Wonderful Pistachios (in shell)  1160\n",
       "1811   SYLHET  Yoplait Original Yogurt Variety Pack   1272\n",
       "1812   SYLHET            Zoo Animal Cookies/Crackers  1052\n",
       "\n",
       "[1813 rows x 3 columns]"
      ]
     },
     "execution_count": 12,
     "metadata": {},
     "output_type": "execute_result"
    }
   ],
   "source": [
    "total_sales_geographically"
   ]
  },
  {
   "cell_type": "markdown",
   "id": "5ff6bf38",
   "metadata": {},
   "source": [
    "Q10: What are the average sales of products sales per store monthly?"
   ]
  },
  {
   "cell_type": "code",
   "execution_count": 14,
   "id": "9f91b1d6",
   "metadata": {},
   "outputs": [
    {
     "name": "stdout",
     "output_type": "stream",
     "text": [
      "Connection to DB established!\n"
     ]
    }
   ],
   "source": [
    "con = PostgresConnection().getConnection()\n",
    "insert_stmt = \"\"\"SELECT supplier, month, AVG(quantity)\n",
    "FROM star_schema.fact_table\n",
    "JOIN star_schema.item_dim ON item_dim.item_key = fact_table.item_key\n",
    "JOIN star_schema.time_data ON time_data.time_key = fact_table.time_key\n",
    "GROUP BY item_dim.supplier, time_data.\"month\"\n",
    "ORDER By item_dim.supplier\"\"\"\n",
    "cur = con.cursor()\n",
    "# psycopg2.extras.execute_batch(cur, insert_stmt, fact_data.values)\n",
    "avg_sales_prod = pd.read_sql_query(insert_stmt, con)\n",
    "con.commit()\n",
    "cur.close()"
   ]
  },
  {
   "cell_type": "code",
   "execution_count": 15,
   "id": "008b287d",
   "metadata": {},
   "outputs": [
    {
     "data": {
      "text/html": [
       "<div>\n",
       "<style scoped>\n",
       "    .dataframe tbody tr th:only-of-type {\n",
       "        vertical-align: middle;\n",
       "    }\n",
       "\n",
       "    .dataframe tbody tr th {\n",
       "        vertical-align: top;\n",
       "    }\n",
       "\n",
       "    .dataframe thead th {\n",
       "        text-align: right;\n",
       "    }\n",
       "</style>\n",
       "<table border=\"1\" class=\"dataframe\">\n",
       "  <thead>\n",
       "    <tr style=\"text-align: right;\">\n",
       "      <th></th>\n",
       "      <th>supplier</th>\n",
       "      <th>month</th>\n",
       "      <th>avg</th>\n",
       "    </tr>\n",
       "  </thead>\n",
       "  <tbody>\n",
       "    <tr>\n",
       "      <th>0</th>\n",
       "      <td>BIGSO AB</td>\n",
       "      <td>1</td>\n",
       "      <td>5.986611</td>\n",
       "    </tr>\n",
       "    <tr>\n",
       "      <th>1</th>\n",
       "      <td>BIGSO AB</td>\n",
       "      <td>2</td>\n",
       "      <td>6.048519</td>\n",
       "    </tr>\n",
       "    <tr>\n",
       "      <th>2</th>\n",
       "      <td>BIGSO AB</td>\n",
       "      <td>3</td>\n",
       "      <td>6.004367</td>\n",
       "    </tr>\n",
       "    <tr>\n",
       "      <th>3</th>\n",
       "      <td>BIGSO AB</td>\n",
       "      <td>4</td>\n",
       "      <td>5.987105</td>\n",
       "    </tr>\n",
       "    <tr>\n",
       "      <th>4</th>\n",
       "      <td>BIGSO AB</td>\n",
       "      <td>5</td>\n",
       "      <td>5.971595</td>\n",
       "    </tr>\n",
       "    <tr>\n",
       "      <th>...</th>\n",
       "      <td>...</td>\n",
       "      <td>...</td>\n",
       "      <td>...</td>\n",
       "    </tr>\n",
       "    <tr>\n",
       "      <th>115</th>\n",
       "      <td>NINGBO SEDUNO IMP &amp; EXP CO.LTD</td>\n",
       "      <td>8</td>\n",
       "      <td>5.961424</td>\n",
       "    </tr>\n",
       "    <tr>\n",
       "      <th>116</th>\n",
       "      <td>NINGBO SEDUNO IMP &amp; EXP CO.LTD</td>\n",
       "      <td>9</td>\n",
       "      <td>5.967771</td>\n",
       "    </tr>\n",
       "    <tr>\n",
       "      <th>117</th>\n",
       "      <td>NINGBO SEDUNO IMP &amp; EXP CO.LTD</td>\n",
       "      <td>10</td>\n",
       "      <td>5.990773</td>\n",
       "    </tr>\n",
       "    <tr>\n",
       "      <th>118</th>\n",
       "      <td>NINGBO SEDUNO IMP &amp; EXP CO.LTD</td>\n",
       "      <td>11</td>\n",
       "      <td>6.032740</td>\n",
       "    </tr>\n",
       "    <tr>\n",
       "      <th>119</th>\n",
       "      <td>NINGBO SEDUNO IMP &amp; EXP CO.LTD</td>\n",
       "      <td>12</td>\n",
       "      <td>5.986574</td>\n",
       "    </tr>\n",
       "  </tbody>\n",
       "</table>\n",
       "<p>120 rows × 3 columns</p>\n",
       "</div>"
      ],
      "text/plain": [
       "                           supplier  month       avg\n",
       "0                          BIGSO AB      1  5.986611\n",
       "1                          BIGSO AB      2  6.048519\n",
       "2                          BIGSO AB      3  6.004367\n",
       "3                          BIGSO AB      4  5.987105\n",
       "4                          BIGSO AB      5  5.971595\n",
       "..                              ...    ...       ...\n",
       "115  NINGBO SEDUNO IMP & EXP CO.LTD      8  5.961424\n",
       "116  NINGBO SEDUNO IMP & EXP CO.LTD      9  5.967771\n",
       "117  NINGBO SEDUNO IMP & EXP CO.LTD     10  5.990773\n",
       "118  NINGBO SEDUNO IMP & EXP CO.LTD     11  6.032740\n",
       "119  NINGBO SEDUNO IMP & EXP CO.LTD     12  5.986574\n",
       "\n",
       "[120 rows x 3 columns]"
      ]
     },
     "execution_count": 15,
     "metadata": {},
     "output_type": "execute_result"
    }
   ],
   "source": [
    "avg_sales_prod"
   ]
  }
 ],
 "metadata": {
  "kernelspec": {
   "display_name": "Python 3 (ipykernel)",
   "language": "python",
   "name": "python3"
  },
  "language_info": {
   "codemirror_mode": {
    "name": "ipython",
    "version": 3
   },
   "file_extension": ".py",
   "mimetype": "text/x-python",
   "name": "python",
   "nbconvert_exporter": "python",
   "pygments_lexer": "ipython3",
   "version": "3.9.12"
  }
 },
 "nbformat": 4,
 "nbformat_minor": 5
}
